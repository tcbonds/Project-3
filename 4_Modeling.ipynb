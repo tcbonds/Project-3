{
 "cells": [
  {
   "cell_type": "code",
   "execution_count": 146,
   "metadata": {},
   "outputs": [],
   "source": [
    "import pickle\n",
    "import math\n",
    "import pandas as pd\n",
    "import numpy as np\n",
    "import matplotlib.pyplot as plt\n",
    "import seaborn as sns\n",
    "import patsy\n",
    "from collections import defaultdict, Counter\n",
    "pd.set_option('display.max_columns', 999)\n",
    "pd.set_option('display.max_rows', 50)\n",
    "\n",
    "# Model imports\n",
    "import patsy\n",
    "from sklearn.preprocessing import StandardScaler\n",
    "from sklearn import metrics\n",
    "from sklearn.model_selection import train_test_split\n",
    "from sklearn.model_selection import cross_val_score\n",
    "from sklearn.model_selection import KFold\n",
    "from sklearn.model_selection import GridSearchCV\n",
    "from sklearn.neighbors import KNeighborsClassifier\n",
    "from sklearn.linear_model import LogisticRegression\n",
    "from sklearn.naive_bayes import GaussianNB\n",
    "from sklearn.ensemble import RandomForestClassifier\n",
    "from sklearn.tree import DecisionTreeClassifier\n",
    "from sklearn.svm import LinearSVC\n",
    "from sklearn.svm import SVC\n",
    "from imblearn.over_sampling import RandomOverSampler, SMOTE, ADASYN\n",
    "from imblearn.under_sampling import RandomUnderSampler\n",
    "from imblearn.pipeline import Pipeline"
   ]
  },
  {
   "cell_type": "code",
   "execution_count": 147,
   "metadata": {},
   "outputs": [],
   "source": [
    "with open('final_df.pickle','rb') as f:\n",
    "    df = pickle.load(f)"
   ]
  },
  {
   "cell_type": "code",
   "execution_count": 148,
   "metadata": {},
   "outputs": [
    {
     "data": {
      "text/html": [
       "<div>\n",
       "<style scoped>\n",
       "    .dataframe tbody tr th:only-of-type {\n",
       "        vertical-align: middle;\n",
       "    }\n",
       "\n",
       "    .dataframe tbody tr th {\n",
       "        vertical-align: top;\n",
       "    }\n",
       "\n",
       "    .dataframe thead th {\n",
       "        text-align: right;\n",
       "    }\n",
       "</style>\n",
       "<table border=\"1\" class=\"dataframe\">\n",
       "  <thead>\n",
       "    <tr style=\"text-align: right;\">\n",
       "      <th></th>\n",
       "      <th>ELEVATION</th>\n",
       "      <th>precip_num_days_over_0.01</th>\n",
       "      <th>precip_num_days_over_0.1</th>\n",
       "      <th>precip_num_days_over_1</th>\n",
       "      <th>snow_depth_num_days_over_1</th>\n",
       "      <th>snowfall_num_days_over_1</th>\n",
       "      <th>max_temp_num_days_under_0</th>\n",
       "      <th>min_temp_num_days_under_32</th>\n",
       "      <th>max_temp_num_days_under_32</th>\n",
       "      <th>max_temp_num_days_over_70</th>\n",
       "      <th>max_temp_num_days_over_90</th>\n",
       "      <th>min_temp_year</th>\n",
       "      <th>max_snow_depth_year</th>\n",
       "      <th>max_snowfall_year</th>\n",
       "      <th>max_precip_day</th>\n",
       "      <th>max_temp_year</th>\n",
       "      <th>first_min_temp_under_32</th>\n",
       "      <th>first_min_temp_under_28</th>\n",
       "      <th>first_min_temp_under_24</th>\n",
       "      <th>first_min_temp_under_20</th>\n",
       "      <th>first_min_temp_under_16</th>\n",
       "      <th>last_min_temp_under_32</th>\n",
       "      <th>last_min_temp_under_28</th>\n",
       "      <th>last_min_temp_under_24</th>\n",
       "      <th>last_min_temp_under_20</th>\n",
       "      <th>last_min_temp_under_16</th>\n",
       "      <th>total_precip_year</th>\n",
       "      <th>total_snowfall_year</th>\n",
       "      <th>avg_daily_temp_year</th>\n",
       "      <th>avg_daily_max_temp</th>\n",
       "      <th>avg_daily_min_temp</th>\n",
       "      <th>high_incidence</th>\n",
       "    </tr>\n",
       "  </thead>\n",
       "  <tbody>\n",
       "    <tr>\n",
       "      <th>0</th>\n",
       "      <td>100.300000</td>\n",
       "      <td>120.000000</td>\n",
       "      <td>62.000000</td>\n",
       "      <td>14.0</td>\n",
       "      <td>0.673203</td>\n",
       "      <td>0.476935</td>\n",
       "      <td>0.015794</td>\n",
       "      <td>52.925390</td>\n",
       "      <td>1.673243</td>\n",
       "      <td>242.547207</td>\n",
       "      <td>68.697973</td>\n",
       "      <td>-9.781671</td>\n",
       "      <td>22.512255</td>\n",
       "      <td>25.230208</td>\n",
       "      <td>102.100000</td>\n",
       "      <td>36.947149</td>\n",
       "      <td>-0.971309</td>\n",
       "      <td>-3.093829</td>\n",
       "      <td>-5.256631</td>\n",
       "      <td>-7.443868</td>\n",
       "      <td>-9.526784</td>\n",
       "      <td>-1.460569</td>\n",
       "      <td>-3.589605</td>\n",
       "      <td>-5.620019</td>\n",
       "      <td>-8.046689</td>\n",
       "      <td>-10.532082</td>\n",
       "      <td>1141.700000</td>\n",
       "      <td>35.05744</td>\n",
       "      <td>17.552706</td>\n",
       "      <td>23.943332</td>\n",
       "      <td>11.181082</td>\n",
       "      <td>0</td>\n",
       "    </tr>\n",
       "    <tr>\n",
       "      <th>1</th>\n",
       "      <td>107.300000</td>\n",
       "      <td>91.000000</td>\n",
       "      <td>74.000000</td>\n",
       "      <td>20.0</td>\n",
       "      <td>0.673203</td>\n",
       "      <td>0.476935</td>\n",
       "      <td>0.015794</td>\n",
       "      <td>52.925390</td>\n",
       "      <td>1.673243</td>\n",
       "      <td>242.547207</td>\n",
       "      <td>68.697973</td>\n",
       "      <td>-9.781671</td>\n",
       "      <td>22.512255</td>\n",
       "      <td>25.230208</td>\n",
       "      <td>84.800000</td>\n",
       "      <td>36.947149</td>\n",
       "      <td>-0.971309</td>\n",
       "      <td>-3.093829</td>\n",
       "      <td>-5.256631</td>\n",
       "      <td>-7.443868</td>\n",
       "      <td>-9.526784</td>\n",
       "      <td>-1.460569</td>\n",
       "      <td>-3.589605</td>\n",
       "      <td>-5.620019</td>\n",
       "      <td>-8.046689</td>\n",
       "      <td>-10.532082</td>\n",
       "      <td>1590.100000</td>\n",
       "      <td>35.05744</td>\n",
       "      <td>17.552706</td>\n",
       "      <td>23.943332</td>\n",
       "      <td>11.181082</td>\n",
       "      <td>0</td>\n",
       "    </tr>\n",
       "    <tr>\n",
       "      <th>2</th>\n",
       "      <td>103.800000</td>\n",
       "      <td>106.000000</td>\n",
       "      <td>74.500000</td>\n",
       "      <td>16.5</td>\n",
       "      <td>0.673203</td>\n",
       "      <td>0.476935</td>\n",
       "      <td>0.015794</td>\n",
       "      <td>52.925390</td>\n",
       "      <td>1.673243</td>\n",
       "      <td>242.547207</td>\n",
       "      <td>68.697973</td>\n",
       "      <td>-9.781671</td>\n",
       "      <td>22.512255</td>\n",
       "      <td>25.230208</td>\n",
       "      <td>96.500000</td>\n",
       "      <td>36.947149</td>\n",
       "      <td>-0.971309</td>\n",
       "      <td>-3.093829</td>\n",
       "      <td>-5.256631</td>\n",
       "      <td>-7.443868</td>\n",
       "      <td>-9.526784</td>\n",
       "      <td>-1.460569</td>\n",
       "      <td>-3.589605</td>\n",
       "      <td>-5.620019</td>\n",
       "      <td>-8.046689</td>\n",
       "      <td>-10.532082</td>\n",
       "      <td>1342.300000</td>\n",
       "      <td>35.05744</td>\n",
       "      <td>17.552706</td>\n",
       "      <td>23.943332</td>\n",
       "      <td>11.181082</td>\n",
       "      <td>0</td>\n",
       "    </tr>\n",
       "    <tr>\n",
       "      <th>3</th>\n",
       "      <td>31.723077</td>\n",
       "      <td>111.090909</td>\n",
       "      <td>75.909091</td>\n",
       "      <td>21.0</td>\n",
       "      <td>0.000000</td>\n",
       "      <td>0.000000</td>\n",
       "      <td>0.000000</td>\n",
       "      <td>47.200000</td>\n",
       "      <td>0.000000</td>\n",
       "      <td>253.000000</td>\n",
       "      <td>95.000000</td>\n",
       "      <td>-8.840000</td>\n",
       "      <td>0.000000</td>\n",
       "      <td>0.000000</td>\n",
       "      <td>91.172727</td>\n",
       "      <td>38.700000</td>\n",
       "      <td>-0.660000</td>\n",
       "      <td>-2.900000</td>\n",
       "      <td>-4.850000</td>\n",
       "      <td>-6.700000</td>\n",
       "      <td>-9.526784</td>\n",
       "      <td>-1.200000</td>\n",
       "      <td>-2.720000</td>\n",
       "      <td>-5.080000</td>\n",
       "      <td>-9.400000</td>\n",
       "      <td>-9.766667</td>\n",
       "      <td>1497.054545</td>\n",
       "      <td>0.00000</td>\n",
       "      <td>18.848000</td>\n",
       "      <td>24.846000</td>\n",
       "      <td>12.854000</td>\n",
       "      <td>0</td>\n",
       "    </tr>\n",
       "    <tr>\n",
       "      <th>4</th>\n",
       "      <td>29.991667</td>\n",
       "      <td>95.300000</td>\n",
       "      <td>64.500000</td>\n",
       "      <td>14.1</td>\n",
       "      <td>0.673203</td>\n",
       "      <td>0.476935</td>\n",
       "      <td>0.000000</td>\n",
       "      <td>21.666667</td>\n",
       "      <td>0.000000</td>\n",
       "      <td>280.000000</td>\n",
       "      <td>97.250000</td>\n",
       "      <td>-5.933333</td>\n",
       "      <td>22.512255</td>\n",
       "      <td>25.230208</td>\n",
       "      <td>95.080000</td>\n",
       "      <td>38.600000</td>\n",
       "      <td>-1.400000</td>\n",
       "      <td>-2.500000</td>\n",
       "      <td>-5.256631</td>\n",
       "      <td>-7.443868</td>\n",
       "      <td>-9.526784</td>\n",
       "      <td>-2.033333</td>\n",
       "      <td>-2.766667</td>\n",
       "      <td>-4.600000</td>\n",
       "      <td>-6.700000</td>\n",
       "      <td>-10.532082</td>\n",
       "      <td>1218.360000</td>\n",
       "      <td>35.05744</td>\n",
       "      <td>20.060000</td>\n",
       "      <td>26.047500</td>\n",
       "      <td>14.013333</td>\n",
       "      <td>0</td>\n",
       "    </tr>\n",
       "  </tbody>\n",
       "</table>\n",
       "</div>"
      ],
      "text/plain": [
       "    ELEVATION  precip_num_days_over_0.01  precip_num_days_over_0.1  \\\n",
       "0  100.300000                 120.000000                 62.000000   \n",
       "1  107.300000                  91.000000                 74.000000   \n",
       "2  103.800000                 106.000000                 74.500000   \n",
       "3   31.723077                 111.090909                 75.909091   \n",
       "4   29.991667                  95.300000                 64.500000   \n",
       "\n",
       "   precip_num_days_over_1  snow_depth_num_days_over_1  \\\n",
       "0                    14.0                    0.673203   \n",
       "1                    20.0                    0.673203   \n",
       "2                    16.5                    0.673203   \n",
       "3                    21.0                    0.000000   \n",
       "4                    14.1                    0.673203   \n",
       "\n",
       "   snowfall_num_days_over_1  max_temp_num_days_under_0  \\\n",
       "0                  0.476935                   0.015794   \n",
       "1                  0.476935                   0.015794   \n",
       "2                  0.476935                   0.015794   \n",
       "3                  0.000000                   0.000000   \n",
       "4                  0.476935                   0.000000   \n",
       "\n",
       "   min_temp_num_days_under_32  max_temp_num_days_under_32  \\\n",
       "0                   52.925390                    1.673243   \n",
       "1                   52.925390                    1.673243   \n",
       "2                   52.925390                    1.673243   \n",
       "3                   47.200000                    0.000000   \n",
       "4                   21.666667                    0.000000   \n",
       "\n",
       "   max_temp_num_days_over_70  max_temp_num_days_over_90  min_temp_year  \\\n",
       "0                 242.547207                  68.697973      -9.781671   \n",
       "1                 242.547207                  68.697973      -9.781671   \n",
       "2                 242.547207                  68.697973      -9.781671   \n",
       "3                 253.000000                  95.000000      -8.840000   \n",
       "4                 280.000000                  97.250000      -5.933333   \n",
       "\n",
       "   max_snow_depth_year  max_snowfall_year  max_precip_day  max_temp_year  \\\n",
       "0            22.512255          25.230208      102.100000      36.947149   \n",
       "1            22.512255          25.230208       84.800000      36.947149   \n",
       "2            22.512255          25.230208       96.500000      36.947149   \n",
       "3             0.000000           0.000000       91.172727      38.700000   \n",
       "4            22.512255          25.230208       95.080000      38.600000   \n",
       "\n",
       "   first_min_temp_under_32  first_min_temp_under_28  first_min_temp_under_24  \\\n",
       "0                -0.971309                -3.093829                -5.256631   \n",
       "1                -0.971309                -3.093829                -5.256631   \n",
       "2                -0.971309                -3.093829                -5.256631   \n",
       "3                -0.660000                -2.900000                -4.850000   \n",
       "4                -1.400000                -2.500000                -5.256631   \n",
       "\n",
       "   first_min_temp_under_20  first_min_temp_under_16  last_min_temp_under_32  \\\n",
       "0                -7.443868                -9.526784               -1.460569   \n",
       "1                -7.443868                -9.526784               -1.460569   \n",
       "2                -7.443868                -9.526784               -1.460569   \n",
       "3                -6.700000                -9.526784               -1.200000   \n",
       "4                -7.443868                -9.526784               -2.033333   \n",
       "\n",
       "   last_min_temp_under_28  last_min_temp_under_24  last_min_temp_under_20  \\\n",
       "0               -3.589605               -5.620019               -8.046689   \n",
       "1               -3.589605               -5.620019               -8.046689   \n",
       "2               -3.589605               -5.620019               -8.046689   \n",
       "3               -2.720000               -5.080000               -9.400000   \n",
       "4               -2.766667               -4.600000               -6.700000   \n",
       "\n",
       "   last_min_temp_under_16  total_precip_year  total_snowfall_year  \\\n",
       "0              -10.532082        1141.700000             35.05744   \n",
       "1              -10.532082        1590.100000             35.05744   \n",
       "2              -10.532082        1342.300000             35.05744   \n",
       "3               -9.766667        1497.054545              0.00000   \n",
       "4              -10.532082        1218.360000             35.05744   \n",
       "\n",
       "   avg_daily_temp_year  avg_daily_max_temp  avg_daily_min_temp  high_incidence  \n",
       "0            17.552706           23.943332           11.181082               0  \n",
       "1            17.552706           23.943332           11.181082               0  \n",
       "2            17.552706           23.943332           11.181082               0  \n",
       "3            18.848000           24.846000           12.854000               0  \n",
       "4            20.060000           26.047500           14.013333               0  "
      ]
     },
     "execution_count": 148,
     "metadata": {},
     "output_type": "execute_result"
    }
   ],
   "source": [
    "df.head()"
   ]
  },
  {
   "cell_type": "markdown",
   "metadata": {},
   "source": [
    "## Detecting Class Imbalance\n",
    "- There is a large class imbalance issue with this data\n",
    "- I will experiment with undersampling and oversampling to see if they will improve model performance"
   ]
  },
  {
   "cell_type": "code",
   "execution_count": 149,
   "metadata": {},
   "outputs": [
    {
     "data": {
      "text/plain": [
       "0    0.857209\n",
       "1    0.142791\n",
       "Name: high_incidence, dtype: float64"
      ]
     },
     "execution_count": 149,
     "metadata": {},
     "output_type": "execute_result"
    }
   ],
   "source": [
    "# Observing Large Class Imbalance\n",
    "df.high_incidence.value_counts()/len(df)"
   ]
  },
  {
   "cell_type": "code",
   "execution_count": 150,
   "metadata": {},
   "outputs": [
    {
     "data": {
      "image/png": "[encoded data removed]",
      "text/plain": [
       "<Figure size 1800x1200 with 1 Axes>"
      ]
     },
     "metadata": {
      "needs_background": "light"
     },
     "output_type": "display_data"
    }
   ],
   "source": [
    "# Plotting Class Imbalance \n",
    "plt.figure(dpi=300)\n",
    "sns.barplot(['Low', 'High'], df.high_incidence.value_counts()/ len(df), color='#990000ff')\n",
    "plt.xlabel('Class')\n",
    "plt.ylabel('Percentage')\n",
    "plt.title('Class Imbalance')\n",
    "\n",
    "sns.despine()"
   ]
  },
  {
   "cell_type": "markdown",
   "metadata": {},
   "source": [
    "## Modeling"
   ]
  },
  {
   "cell_type": "markdown",
   "metadata": {},
   "source": [
    "### Test-Validation-Train Splits"
   ]
  },
  {
   "cell_type": "code",
   "execution_count": 151,
   "metadata": {},
   "outputs": [],
   "source": [
    "# Splitting data into feature variables\n",
    "X = df.iloc[:,:-1]\n",
    "# and target variable\n",
    "y = df.iloc[:,-1]"
   ]
  },
  {
   "cell_type": "code",
   "execution_count": 152,
   "metadata": {},
   "outputs": [],
   "source": [
    "# Test-Validation-Train Split (60-20-20)\n",
    "X_train, X_test, y_train, y_test = train_test_split(X, y, test_size=0.4, random_state=42, stratify=y)\n",
    "X_val, X_test, y_val, y_test = train_test_split(X_test, y_test, test_size=.5, random_state=42,stratify=y_test)"
   ]
  },
  {
   "cell_type": "code",
   "execution_count": 153,
   "metadata": {},
   "outputs": [
    {
     "name": "stdout",
     "output_type": "stream",
     "text": [
      "Training Set: 0.5999816168022427\n",
      "Validation Set: 0.20000919159887862\n",
      "Test Set: 0.20000919159887862\n"
     ]
    }
   ],
   "source": [
    "# Verifying Correct Percentages\n",
    "print('Training Set:',len(X_train)/len(X))\n",
    "print('Validation Set:',len(X_val)/len(X))\n",
    "print('Test Set:',len(X_test)/len(X))"
   ]
  },
  {
   "cell_type": "markdown",
   "metadata": {},
   "source": [
    "### Standardized Splits for Linear Models"
   ]
  },
  {
   "cell_type": "code",
   "execution_count": 37,
   "metadata": {},
   "outputs": [],
   "source": [
    "scaler = StandardScaler()\n",
    "X_scaled_train = scaler.fit_transform(X_train)\n",
    "X_scaled_test = scaler.transform(X_test)\n",
    "X_scaled_val = scaler.transform(X_val)"
   ]
  },
  {
   "cell_type": "markdown",
   "metadata": {},
   "source": [
    "### Oversampling/ Undersampling Splits"
   ]
  },
  {
   "cell_type": "code",
   "execution_count": 44,
   "metadata": {},
   "outputs": [
    {
     "data": {
      "text/plain": [
       "Counter({0: 11191, 1: 1864})"
      ]
     },
     "execution_count": 44,
     "metadata": {},
     "output_type": "execute_result"
    }
   ],
   "source": [
    "# Ratio of zeros(low incidence counties) to \n",
    "# ones(high incidence counties) before resampling\n",
    "Counter(y_train)"
   ]
  },
  {
   "cell_type": "code",
   "execution_count": 38,
   "metadata": {},
   "outputs": [
    {
     "data": {
      "text/plain": [
       "Counter({0: 11191, 1: 11191})"
      ]
     },
     "execution_count": 38,
     "metadata": {},
     "output_type": "execute_result"
    }
   ],
   "source": [
    "# Random Oversampling of high incidence rows\n",
    "# and resulting ratio\n",
    "ros = RandomOverSampler(random_state=42)\n",
    "X_resampled, y_resampled = ros.fit_sample(X_train,y_train)\n",
    "X_scaled_resampled, y_scaled_resampled = ros.fit_sample(X_scaled_train,y_train) # \n",
    "Counter(y_resampled)"
   ]
  },
  {
   "cell_type": "code",
   "execution_count": 39,
   "metadata": {},
   "outputs": [
    {
     "data": {
      "text/plain": [
       "Counter({0: 11191, 1: 11191})"
      ]
     },
     "execution_count": 39,
     "metadata": {},
     "output_type": "execute_result"
    }
   ],
   "source": [
    "# SMOTE Oversampling of high incidence rows\n",
    "# and resulting ratio\n",
    "smo = SMOTE(random_state=42)\n",
    "X_smoted, y_smoted = smo.fit_sample(X_train,y_train)\n",
    "X_scaled_smoted, y_scaled_smoted = smo.fit_sample(X_scaled_train,y_train)\n",
    "Counter(y_smoted)"
   ]
  },
  {
   "cell_type": "code",
   "execution_count": 57,
   "metadata": {},
   "outputs": [
    {
     "name": "stdout",
     "output_type": "stream",
     "text": [
      "Counter({0: 11191, 1: 11082})\n",
      "Counter({0: 11191, 1: 11173})\n"
     ]
    }
   ],
   "source": [
    "# ADASYN Oversampling of high incidence rows\n",
    "# and resulting ratio\n",
    "ada = ADASYN(random_state=42)\n",
    "X_adasyn, y_adasyn = ada.fit_sample(X_train,y_train)\n",
    "X_scaled_adasyn, y_scaled_adasyn = ada.fit_sample(X_scaled_train,y_train)\n",
    "print(Counter(y_adasyn))\n",
    "print(Counter(y_scaled_adasyn))"
   ]
  },
  {
   "cell_type": "code",
   "execution_count": 41,
   "metadata": {},
   "outputs": [
    {
     "data": {
      "text/plain": [
       "Counter({0: 1864, 1: 1864})"
      ]
     },
     "execution_count": 41,
     "metadata": {},
     "output_type": "execute_result"
    }
   ],
   "source": [
    "# Random Undersampling of high incidence rows\n",
    "# and resulting ratio\n",
    "rus = RandomUnderSampler(random_state=42)\n",
    "X_under, y_under = rus.fit_sample(X_train,y_train)\n",
    "X_scaled_under, y_scaled_under = rus.fit_sample(X_scaled_train,y_train)\n",
    "Counter(y_under)"
   ]
  },
  {
   "cell_type": "code",
   "execution_count": 42,
   "metadata": {},
   "outputs": [],
   "source": [
    "# Creating lists of different splits for grid searching\n",
    "train_sets = [(X_train, y_train),(X_resampled, y_resampled),\n",
    "              (X_smoted, y_smoted),(X_adasyn, y_adasyn),(X_under, y_under)]\n",
    "\n",
    "scaled_train_sets = [(X_scaled_train, y_train),(X_scaled_resampled, y_scaled_resampled),\n",
    "              (X_scaled_smoted, y_scaled_smoted),(X_scaled_adasyn, y_scaled_adasyn),(X_scaled_under, y_scaled_under)]"
   ]
  },
  {
   "cell_type": "markdown",
   "metadata": {},
   "source": [
    "### K-Nearest Neighbors"
   ]
  },
  {
   "cell_type": "code",
   "execution_count": 62,
   "metadata": {
    "scrolled": true
   },
   "outputs": [
    {
     "name": "stdout",
     "output_type": "stream",
     "text": [
      "1\n",
      "2\n",
      "3\n",
      "4\n",
      "5\n",
      "6\n",
      "7\n",
      "8\n",
      "9\n",
      "10\n",
      "11\n",
      "12\n",
      "13\n",
      "14\n",
      "15\n",
      "16\n",
      "17\n",
      "18\n",
      "19\n",
      "20\n",
      "21\n",
      "22\n",
      "23\n",
      "24\n",
      "25\n",
      "26\n",
      "27\n",
      "28\n",
      "29\n",
      "30\n",
      "31\n",
      "32\n",
      "33\n",
      "34\n",
      "35\n",
      "36\n",
      "37\n",
      "38\n",
      "39\n",
      "The best hyper parameters are: 15\n",
      "The best score is: 0.9199238920716623\n",
      "1\n",
      "2\n",
      "3\n",
      "4\n",
      "5\n",
      "6\n",
      "7\n",
      "8\n",
      "9\n",
      "10\n",
      "11\n",
      "12\n",
      "13\n",
      "14\n",
      "15\n",
      "16\n",
      "17\n",
      "18\n",
      "19\n",
      "20\n",
      "21\n",
      "22\n",
      "23\n",
      "24\n",
      "25\n",
      "26\n",
      "27\n",
      "28\n",
      "29\n",
      "30\n",
      "31\n",
      "32\n",
      "33\n",
      "34\n",
      "35\n",
      "36\n",
      "37\n",
      "38\n",
      "39\n",
      "The best hyper parameters are: 2\n",
      "The best score is: 0.9594359808959055\n",
      "1\n",
      "2\n",
      "3\n",
      "4\n",
      "5\n",
      "6\n",
      "7\n",
      "8\n",
      "9\n",
      "10\n",
      "11\n",
      "12\n",
      "13\n",
      "14\n",
      "15\n",
      "16\n",
      "17\n",
      "18\n",
      "19\n",
      "20\n",
      "21\n",
      "22\n",
      "23\n",
      "24\n",
      "25\n",
      "26\n",
      "27\n",
      "28\n",
      "29\n",
      "30\n",
      "31\n",
      "32\n",
      "33\n",
      "34\n",
      "35\n",
      "36\n",
      "37\n",
      "38\n",
      "39\n",
      "The best hyper parameters are: 9\n",
      "The best score is: 0.9694474232728503\n",
      "1\n",
      "2\n",
      "3\n",
      "4\n",
      "5\n",
      "6\n",
      "7\n",
      "8\n",
      "9\n",
      "10\n",
      "11\n",
      "12\n",
      "13\n",
      "14\n",
      "15\n",
      "16\n",
      "17\n",
      "18\n",
      "19\n",
      "20\n",
      "21\n",
      "22\n",
      "23\n",
      "24\n",
      "25\n",
      "26\n",
      "27\n",
      "28\n",
      "29\n",
      "30\n",
      "31\n",
      "32\n",
      "33\n",
      "34\n",
      "35\n",
      "36\n",
      "37\n",
      "38\n",
      "39\n",
      "The best hyper parameters are: 8\n",
      "The best score is: 0.9470770403987231\n",
      "1\n",
      "2\n",
      "3\n",
      "4\n",
      "5\n",
      "6\n",
      "7\n",
      "8\n",
      "9\n",
      "10\n",
      "11\n",
      "12\n",
      "13\n",
      "14\n",
      "15\n",
      "16\n",
      "17\n",
      "18\n",
      "19\n",
      "20\n",
      "21\n",
      "22\n",
      "23\n",
      "24\n",
      "25\n",
      "26\n",
      "27\n",
      "28\n",
      "29\n",
      "30\n",
      "31\n",
      "32\n",
      "33\n",
      "34\n",
      "35\n",
      "36\n",
      "37\n",
      "38\n",
      "39\n",
      "The best hyper parameters are: 11\n",
      "The best score is: 0.9116374246437928\n"
     ]
    }
   ],
   "source": [
    "### Manual Cross Fold Validation for Hyper Parameter Tuning- KNN\n",
    "knn_train_set_results = []\n",
    "for features, target in scaled_train_sets:\n",
    "    k_range = range(1,40)\n",
    "    all_scores = []\n",
    "    for x in k_range:\n",
    "        print(x)\n",
    "        knn = KNeighborsClassifier(n_neighbors=x)\n",
    "        scores = cross_val_score(knn, features, target, cv=5, scoring='roc_auc', n_jobs=-1)\n",
    "        all_scores.append(np.mean(scores))\n",
    "    best_index = np.argmax(all_scores)\n",
    "    print(f'The best hyper parameters are: {k_range[best_index]}')\n",
    "    print(f'The best score is: {all_scores[best_index]}')\n",
    "    knn_train_set_results.append({(k_range[best_index],all_scores[best_index], best_index):all_scores})"
   ]
  },
  {
   "cell_type": "code",
   "execution_count": 69,
   "metadata": {},
   "outputs": [],
   "source": [
    "knn = KNeighborsClassifier(n_neighbors=9)\n",
    "knn.fit(X_scaled_smoted, y_scaled_smoted)\n",
    "y_pred = knn.predict_proba(X_scaled_val)[:,1]\n",
    "# knn_fpr, knn_tpr, _ = metrics.roc_curve(y_val,y_pred)\n",
    "# plt.plot(knn_fpr,knn_tpr)"
   ]
  },
  {
   "cell_type": "code",
   "execution_count": 70,
   "metadata": {},
   "outputs": [
    {
     "data": {
      "text/plain": [
       "0.9004676603191297"
      ]
     },
     "execution_count": 70,
     "metadata": {},
     "output_type": "execute_result"
    }
   ],
   "source": [
    "metrics.roc_auc_score(y_val,y_pred)"
   ]
  },
  {
   "cell_type": "code",
   "execution_count": 73,
   "metadata": {},
   "outputs": [
    {
     "data": {
      "text/plain": [
       "0.9184986595174263"
      ]
     },
     "execution_count": 73,
     "metadata": {},
     "output_type": "execute_result"
    }
   ],
   "source": [
    "grid.best_score_"
   ]
  },
  {
   "cell_type": "code",
   "execution_count": 78,
   "metadata": {},
   "outputs": [
    {
     "name": "stdout",
     "output_type": "stream",
     "text": [
      "Fitting 5 folds for each of 39 candidates, totalling 195 fits\n"
     ]
    },
    {
     "name": "stderr",
     "output_type": "stream",
     "text": [
      "[Parallel(n_jobs=-1)]: Using backend LokyBackend with 12 concurrent workers.\n",
      "[Parallel(n_jobs=-1)]: Done  26 tasks      | elapsed:   44.2s\n",
      "[Parallel(n_jobs=-1)]: Done 195 out of 195 | elapsed:  6.1min finished\n"
     ]
    },
    {
     "name": "stdout",
     "output_type": "stream",
     "text": [
      "score = 0.9034926470588235\n",
      "{'KNN__n_neighbors': 9}\n"
     ]
    }
   ],
   "source": [
    "# Correct steps for KNN\n",
    "knn_steps = [('scaler', StandardScaler()), ('KNN', KNeighborsClassifier(random_state=42))]\n",
    "\n",
    "from sklearn.pipeline import Pipeline\n",
    "pipeline = Pipeline(knn_steps) # define the pipeline object.\n",
    "\n",
    "knn_parameters = {'KNN__n_neighbors':[x for x in range(1,40)]}\n",
    "\n",
    "knn_grid = GridSearchCV(pipeline, param_grid=knn_parameters, cv=5, n_jobs=-1, verbose=1)\n",
    "\n",
    "knn_grid.fit(X_train, y_train)\n",
    "print(f'score = {knn_grid.score(X_val,y_val)}')\n",
    "print(knn_grid.best_params_)"
   ]
  },
  {
   "cell_type": "code",
   "execution_count": 79,
   "metadata": {},
   "outputs": [
    {
     "data": {
      "text/plain": [
       "0.9085407889697434"
      ]
     },
     "execution_count": 79,
     "metadata": {},
     "output_type": "execute_result"
    }
   ],
   "source": [
    "knn_grid.best_score_"
   ]
  },
  {
   "cell_type": "code",
   "execution_count": null,
   "metadata": {},
   "outputs": [],
   "source": [
    "kf = KFold(n_splits=5, shuffle=True, random_state = 71)"
   ]
  },
  {
   "cell_type": "code",
   "execution_count": null,
   "metadata": {},
   "outputs": [],
   "source": [
    "#run the CV\n",
    "\n",
    "kf = KFold(n_splits=5, shuffle=True, random_state = 71)\n",
    "cv_lm_r2s, cv_lm_reg_r2s = [], [] #collect the validation results for both models\n",
    "\n",
    "for train_ind, val_ind in kf.split(X,y):\n",
    "    \n",
    "    X_train, y_train = X[train_ind], y[train_ind]\n",
    "    X_val, y_val = X[val_ind], y[val_ind] \n",
    "    \n",
    "    #simple linear regression\n",
    "    lm = LinearRegression()\n",
    "    lm_reg = Ridge(alpha=1)\n",
    "\n",
    "    lm.fit(X_train, y_train)\n",
    "    cv_lm_r2s.append(lm.score(X_val, y_val))\n",
    "    \n",
    "    #ridge with feature scaling\n",
    "    scaler = StandardScaler()\n",
    "    X_train_scaled = scaler.fit_transform(X_train)\n",
    "    X_val_scaled = scaler.transform(X_val)\n",
    "    \n",
    "    lm_reg.fit(X_train_scaled, y_train)\n",
    "    cv_lm_reg_r2s.append(lm_reg.score(X_val_scaled, y_val))\n",
    "\n",
    "print('Simple regression scores: ', cv_lm_r2s)\n",
    "print('Ridge scores: ', cv_lm_reg_r2s, '\\n')\n",
    "\n",
    "print(f'Simple mean cv r^2: {np.mean(cv_lm_r2s):.3f} +- {np.std(cv_lm_r2s):.3f}')\n",
    "print(f'Ridge mean cv r^2: {np.mean(cv_lm_reg_r2s):.3f} +- {np.std(cv_lm_reg_r2s):.3f}')"
   ]
  },
  {
   "cell_type": "markdown",
   "metadata": {},
   "source": [
    "### SVM"
   ]
  },
  {
   "cell_type": "code",
   "execution_count": null,
   "metadata": {},
   "outputs": [],
   "source": [
    "# Example parameters for SVC\n",
    "parameters = {'SVM__C':[0.001,0.1,10,100,10e5], 'SVM__gamma':[0.1,0.01]}"
   ]
  },
  {
   "cell_type": "code",
   "execution_count": 72,
   "metadata": {},
   "outputs": [
    {
     "name": "stdout",
     "output_type": "stream",
     "text": [
      "Fitting 5 folds for each of 10 candidates, totalling 50 fits\n"
     ]
    },
    {
     "name": "stderr",
     "output_type": "stream",
     "text": [
      "[Parallel(n_jobs=-1)]: Using backend LokyBackend with 12 concurrent workers.\n",
      "[Parallel(n_jobs=-1)]: Done  26 tasks      | elapsed:   26.3s\n",
      "[Parallel(n_jobs=-1)]: Done  50 out of  50 | elapsed:  2.9min finished\n"
     ]
    },
    {
     "name": "stdout",
     "output_type": "stream",
     "text": [
      "score = 0.92\n",
      "{'SVM__C': 100, 'SVM__gamma': 0.01}\n"
     ]
    }
   ],
   "source": [
    "# Correct steps for SVC\n",
    "\n",
    "svm_steps = [('scaler', StandardScaler()), ('SVM', SVC(random_state=42))]\n",
    "\n",
    "from sklearn.pipeline import Pipeline\n",
    "svm_pipeline = Pipeline(svm_steps) # define the pipeline object.\n",
    "\n",
    "svm_parameters = {'SVM__C':[0.001,0.1,10,100,10e5], 'SVM__gamma':[0.1,0.01]}\n",
    "\n",
    "svm_grid = GridSearchCV(svm_pipeline, param_grid=svm_parameters, cv=5, n_jobs=-1, verbose=1)\n",
    "\n",
    "svm_grid.fit(X_train, y_train)\n",
    "print(\"score = %3.2f\"svm_grid.score(X_val,y_val)))\n",
    "print(svm_grid.best_params_)"
   ]
  },
  {
   "cell_type": "markdown",
   "metadata": {},
   "source": [
    "### Logistic Regression"
   ]
  },
  {
   "cell_type": "code",
   "execution_count": 125,
   "metadata": {
    "scrolled": true
   },
   "outputs": [
    {
     "name": "stdout",
     "output_type": "stream",
     "text": [
      "Fitting 5 folds for each of 14 candidates, totalling 70 fits\n"
     ]
    },
    {
     "name": "stderr",
     "output_type": "stream",
     "text": [
      "[Parallel(n_jobs=-1)]: Using backend LokyBackend with 12 concurrent workers.\n",
      "[Parallel(n_jobs=-1)]: Done   1 tasks      | elapsed:    2.3s\n",
      "[Parallel(n_jobs=-1)]: Done   8 tasks      | elapsed:    2.4s\n",
      "[Parallel(n_jobs=-1)]: Done  17 tasks      | elapsed:    2.7s\n",
      "[Parallel(n_jobs=-1)]: Done  26 tasks      | elapsed:    3.2s\n",
      "[Parallel(n_jobs=-1)]: Done  37 tasks      | elapsed:    4.4s\n",
      "[Parallel(n_jobs=-1)]: Done  55 out of  70 | elapsed:   11.0s remaining:    3.0s\n",
      "[Parallel(n_jobs=-1)]: Done  63 out of  70 | elapsed:   15.1s remaining:    1.7s\n",
      "[Parallel(n_jobs=-1)]: Done  70 out of  70 | elapsed:   16.6s finished\n",
      "/anaconda3/lib/python3.7/site-packages/sklearn/linear_model/logistic.py:433: FutureWarning: Default solver will be changed to 'lbfgs' in 0.22. Specify a solver to silence this warning.\n",
      "  FutureWarning)\n"
     ]
    },
    {
     "name": "stdout",
     "output_type": "stream",
     "text": [
      "0.9076847092923175\n",
      "{'LR__C': 1.0, 'LR__penalty': 'l1'}\n",
      "Fitting 5 folds for each of 14 candidates, totalling 70 fits\n"
     ]
    },
    {
     "name": "stderr",
     "output_type": "stream",
     "text": [
      "[Parallel(n_jobs=-1)]: Using backend LokyBackend with 12 concurrent workers.\n",
      "[Parallel(n_jobs=-1)]: Done   1 tasks      | elapsed:    0.2s\n",
      "[Parallel(n_jobs=-1)]: Batch computation too fast (0.1926s.) Setting batch_size=2.\n",
      "[Parallel(n_jobs=-1)]: Done   8 tasks      | elapsed:    0.4s\n",
      "[Parallel(n_jobs=-1)]: Done  17 tasks      | elapsed:    0.8s\n",
      "[Parallel(n_jobs=-1)]: Done  31 out of  70 | elapsed:    2.5s remaining:    3.2s\n",
      "[Parallel(n_jobs=-1)]: Done  70 out of  70 | elapsed:   19.2s finished\n",
      "/anaconda3/lib/python3.7/site-packages/sklearn/linear_model/logistic.py:433: FutureWarning: Default solver will be changed to 'lbfgs' in 0.22. Specify a solver to silence this warning.\n",
      "  FutureWarning)\n"
     ]
    },
    {
     "name": "stdout",
     "output_type": "stream",
     "text": [
      "0.9060601064165223\n",
      "{'LR__C': 1.0, 'LR__penalty': 'l1'}\n",
      "Fitting 5 folds for each of 14 candidates, totalling 70 fits\n"
     ]
    },
    {
     "name": "stderr",
     "output_type": "stream",
     "text": [
      "[Parallel(n_jobs=-1)]: Using backend LokyBackend with 12 concurrent workers.\n",
      "[Parallel(n_jobs=-1)]: Done   1 tasks      | elapsed:    0.5s\n",
      "[Parallel(n_jobs=-1)]: Done   8 tasks      | elapsed:    0.6s\n",
      "[Parallel(n_jobs=-1)]: Done  17 tasks      | elapsed:    1.2s\n",
      "[Parallel(n_jobs=-1)]: Done  26 tasks      | elapsed:    2.2s\n",
      "[Parallel(n_jobs=-1)]: Done  37 tasks      | elapsed:    5.1s\n",
      "[Parallel(n_jobs=-1)]: Done  55 out of  70 | elapsed:   10.1s remaining:    2.8s\n",
      "[Parallel(n_jobs=-1)]: Done  63 out of  70 | elapsed:   13.3s remaining:    1.5s\n",
      "[Parallel(n_jobs=-1)]: Done  70 out of  70 | elapsed:   15.2s finished\n",
      "/anaconda3/lib/python3.7/site-packages/sklearn/linear_model/logistic.py:433: FutureWarning: Default solver will be changed to 'lbfgs' in 0.22. Specify a solver to silence this warning.\n",
      "  FutureWarning)\n"
     ]
    },
    {
     "name": "stdout",
     "output_type": "stream",
     "text": [
      "0.9057847097864862\n",
      "{'LR__C': 1.0, 'LR__penalty': 'l1'}\n",
      "Fitting 5 folds for each of 14 candidates, totalling 70 fits\n"
     ]
    },
    {
     "name": "stderr",
     "output_type": "stream",
     "text": [
      "[Parallel(n_jobs=-1)]: Using backend LokyBackend with 12 concurrent workers.\n",
      "[Parallel(n_jobs=-1)]: Done   1 tasks      | elapsed:    3.0s\n",
      "[Parallel(n_jobs=-1)]: Done   8 tasks      | elapsed:    3.3s\n",
      "[Parallel(n_jobs=-1)]: Done  17 tasks      | elapsed:    6.5s\n",
      "[Parallel(n_jobs=-1)]: Done  26 tasks      | elapsed:    9.9s\n",
      "[Parallel(n_jobs=-1)]: Done  37 tasks      | elapsed:   15.4s\n",
      "[Parallel(n_jobs=-1)]: Done  55 out of  70 | elapsed:   27.4s remaining:    7.5s\n",
      "[Parallel(n_jobs=-1)]: Done  63 out of  70 | elapsed:   34.3s remaining:    3.8s\n",
      "[Parallel(n_jobs=-1)]: Done  70 out of  70 | elapsed:   37.3s finished\n",
      "/anaconda3/lib/python3.7/site-packages/sklearn/linear_model/logistic.py:433: FutureWarning: Default solver will be changed to 'lbfgs' in 0.22. Specify a solver to silence this warning.\n",
      "  FutureWarning)\n"
     ]
    },
    {
     "name": "stdout",
     "output_type": "stream",
     "text": [
      "0.9035160215033012\n",
      "{'LR__C': 0.1, 'LR__penalty': 'l1'}\n",
      "Fitting 5 folds for each of 14 candidates, totalling 70 fits\n"
     ]
    },
    {
     "name": "stderr",
     "output_type": "stream",
     "text": [
      "[Parallel(n_jobs=-1)]: Using backend LokyBackend with 12 concurrent workers.\n",
      "[Parallel(n_jobs=-1)]: Done   1 tasks      | elapsed:    0.2s\n",
      "[Parallel(n_jobs=-1)]: Batch computation too fast (0.1838s.) Setting batch_size=2.\n",
      "[Parallel(n_jobs=-1)]: Done   8 tasks      | elapsed:    0.2s\n",
      "[Parallel(n_jobs=-1)]: Done  17 tasks      | elapsed:    0.3s\n",
      "[Parallel(n_jobs=-1)]: Done  70 out of  70 | elapsed:    2.0s finished\n",
      "/anaconda3/lib/python3.7/site-packages/sklearn/linear_model/logistic.py:433: FutureWarning: Default solver will be changed to 'lbfgs' in 0.22. Specify a solver to silence this warning.\n",
      "  FutureWarning)\n"
     ]
    },
    {
     "name": "stdout",
     "output_type": "stream",
     "text": [
      "0.9037410466992241\n",
      "{'LR__C': 10.0, 'LR__penalty': 'l1'}\n"
     ]
    }
   ],
   "source": [
    "# Generalizable logistic regression code\n",
    "lr_steps_list = [[('scaler', StandardScaler()),('LR', LogisticRegression(random_state=42))],\n",
    "                 [('scaler', StandardScaler()), ('ros', RandomOverSampler(random_state=42)),\n",
    "                  ('LR', LogisticRegression(random_state=42))],\n",
    "                 [('scaler', StandardScaler()), ('smote',SMOTE(random_state=42)),\n",
    "                  ('LR', LogisticRegression(random_state=42))],\n",
    "                 [('scaler', StandardScaler()), ('adasyn',ADASYN(random_state=42)),\n",
    "                  ('LR', LogisticRegression(random_state=42))],\n",
    "                 [('scaler', StandardScaler()), ('rus',RandomUnderSampler(random_state=42)),\n",
    "                  ('LR', LogisticRegression(random_state=42))]\n",
    "                ]\n",
    "lr_grid_search_results = []\n",
    "for lr_steps in lr_steps_list:\n",
    "    lr_pipeline = Pipeline(lr_steps) # define the pipeline object.\n",
    "\n",
    "    lr_parameters = {'LR__C':[x for x in np.logspace(-3,3,7)], 'LR__penalty':['l1','l2']}\n",
    "\n",
    "    lr_grid = GridSearchCV(lr_pipeline, param_grid=lr_parameters, cv=5, n_jobs=-1, verbose=10, scoring='roc_auc')\n",
    "\n",
    "    lr_grid.fit(X_train, y_train)\n",
    "    print(lr_grid.best_score_)\n",
    "    print(lr_grid.best_params_)\n",
    "    \n",
    "    lr_grid_search_results.append(lr_grid)"
   ]
  },
  {
   "cell_type": "code",
   "execution_count": 144,
   "metadata": {},
   "outputs": [
    {
     "name": "stdout",
     "output_type": "stream",
     "text": [
      "Hyperparameters: {'LR__C': 1.0, 'LR__penalty': 'l1'}\n",
      "Tranformations/Resampling: [('scaler', StandardScaler(copy=True, with_mean=True, with_std=True)), ('LR', LogisticRegression(C=1.0, class_weight=None, dual=False, fit_intercept=True,\n",
      "          intercept_scaling=1, max_iter=100, multi_class='warn',\n",
      "          n_jobs=None, penalty='l2', random_state=42, solver='warn',\n",
      "          tol=0.0001, verbose=0, warm_start=False))]\n"
     ]
    }
   ],
   "source": [
    "# Returning hyperparameters and resampling used in best lr model\n",
    "lr_score_list = [x.best_score_ for x in lr_grid_search_results]\n",
    "best_lr_model = lr_grid_search_results[best_lr_model_ix]\n",
    "print('Hyperparameters:',best_lr_model.best_params_)\n",
    "best_lr_model_ix = lr_score_list.index(max(lr_score_list))\n",
    "print('Tranformations/Resampling:',lr_steps_list[best_lr_model_ix])"
   ]
  },
  {
   "cell_type": "code",
   "execution_count": 143,
   "metadata": {},
   "outputs": [
    {
     "name": "stdout",
     "output_type": "stream",
     "text": [
      "Out of Sample R2 score = 0.9071174883408188\n"
     ]
    },
    {
     "data": {
      "image/png": "[encoded data removed]",
      "text/plain": [
       "<Figure size 432x288 with 1 Axes>"
      ]
     },
     "metadata": {
      "needs_background": "light"
     },
     "output_type": "display_data"
    }
   ],
   "source": [
    "# Finding True Positive Rate and \n",
    "# False Positive Rate of Best LR Model\n",
    "\n",
    "y_pred = best_lr_model.predict_proba(X_val)\n",
    "print(f'Out of Sample R2 score = {lr_grid.score(X_val,y_val)}') metric\n",
    "lr_fpr, lr_tpr, lr_thresholds = metrics.roc_curve(y_val,[x[1] for x in y_pred])\n",
    "plt.plot(lr_fpr, lr_tpr);"
   ]
  },
  {
   "cell_type": "markdown",
   "metadata": {},
   "source": [
    "### Generalizable Function for all model grid searches"
   ]
  },
  {
   "cell_type": "code",
   "execution_count": 162,
   "metadata": {},
   "outputs": [],
   "source": [
    "np.random.seed(42) "
   ]
  },
  {
   "cell_type": "code",
   "execution_count": 156,
   "metadata": {},
   "outputs": [],
   "source": [
    "def complete_grid_search(X_train, y_train, steps_list, param_grid):\n",
    "    ''' This function does a grid search with cross validation for\n",
    "    every combination of hyperparameters and resampling techniques.\n",
    "    \n",
    "    Input:\n",
    "    X_train = DataFrame of features in training split\n",
    "    \n",
    "    y_train = Series of target variable in training split\n",
    "    \n",
    "    steps_list = List of lists of Imblearn pipeline steps\n",
    "                 Ex: [[('scaler', StandardScaler()),('LR', LogisticRegression())],\n",
    "                      [('scaler', StandardScaler()), ('ros', RandomOverSampler()),\n",
    "                       ('LR', LogisticRegression())]\n",
    "                 \n",
    "    param_grid = Dictionary of hyperparameters to grid search. Keys are labels for \n",
    "                 each hyperparameter and Values are ranges for each hyperparameter.\n",
    "                 Ex: {'LR__C':[x for x in np.logspace(-3,3,7)], 'LR__penalty':['l1','l2']}\n",
    "    Output:\n",
    "    Returns a list of the best model for each set of pipeline steps in steps_list.\n",
    "    '''\n",
    "    \n",
    "    grid_search_results = []\n",
    "    for steps in steps_list:\n",
    "        pipeline = Pipeline(steps)\n",
    "\n",
    "        grid = GridSearchCV(pipeline, param_grid=param_grid, cv=5, n_jobs=-1, verbose=10, scoring='roc_auc')\n",
    "\n",
    "        grid.fit(X_train, y_train)\n",
    "        \n",
    "        print(grid.best_score_)\n",
    "        print(grid.best_params_)\n",
    "\n",
    "        grid_search_results.append(grid)\n",
    "\n",
    "    return grid_search_results"
   ]
  },
  {
   "cell_type": "code",
   "execution_count": 192,
   "metadata": {},
   "outputs": [],
   "source": [
    "def best_model_finder(grid_search_results, steps_list):\n",
    "    ''' This function finds the best model out of all \n",
    "    the grid searches from the complete_grid_search function.\n",
    "    \n",
    "    Input:\n",
    "    grid_search_results = Output of complete_grid_search function(list of models)\n",
    "    \n",
    "    steps_list = List of lists of Imblearn pipeline steps\n",
    "                 Ex: [[('scaler', StandardScaler()),('LR', LogisticRegression())],\n",
    "                      [('scaler', StandardScaler()), ('ros', RandomOverSampler()),\n",
    "                       ('LR', LogisticRegression())]\n",
    "                       \n",
    "    Output:                   \n",
    "    Returns the best model and prints the hyperparameters\n",
    "    and resampling techniques for that best model.\n",
    "    '''\n",
    "    \n",
    "    # Finds best scores for each grid search\n",
    "    score_list = [x.best_score_ for x in grid_search_results]\n",
    "    \n",
    "    # finds best model out of all grid searches\n",
    "    best_model_ix = score_list.index(max(score_list))\n",
    "    best_model = grid_search_results[best_model_ix]\n",
    "\n",
    "    print('Hyperparameters:',best_model.best_params_)\n",
    "    print('Tranformations/Resampling:',steps_list[best_model_ix])\n",
    "    \n",
    "    return best_model"
   ]
  },
  {
   "cell_type": "code",
   "execution_count": 216,
   "metadata": {},
   "outputs": [],
   "source": [
    "def roc_curve_calculator(model, X, y):\n",
    "    ''' Calculates the roc curve for a given model and data inputs.\n",
    "    \n",
    "    Inputs:\n",
    "    model = any kind of model\n",
    "    X = features DataFrame\n",
    "    y = target Series\n",
    "    \n",
    "    Output:\n",
    "    Returns the false positive rate and true positive rate\n",
    "    for all thresholds and the ROC AUC score.   \n",
    "    '''\n",
    "    # Determining model predictions\n",
    "    y_predictions = [pred[1] for pred in model.predict_proba(X)]\n",
    "    \n",
    "    # Calculating fpr and tpr for all thresholds\n",
    "    fpr, tpr, _ = metrics.roc_curve(y,y_predictions)\n",
    "    \n",
    "    # Finding ROC AUC Score\n",
    "    roc_auc = metrics.roc_auc_score(y,y_predictions)\n",
    "    print('ROC AUC Score on Unseen Data:',roc_auc)\n",
    "          \n",
    "    return fpr, tpr, roc_auc"
   ]
  },
  {
   "cell_type": "code",
   "execution_count": 187,
   "metadata": {},
   "outputs": [],
   "source": [
    "lr_steps_list = [[('scaler', StandardScaler()),('LR', LogisticRegression())],\n",
    "                 [('scaler', StandardScaler()), ('ros', RandomOverSampler()),\n",
    "                  ('LR', LogisticRegression())],\n",
    "                 [('scaler', StandardScaler()), ('smote',SMOTE()),\n",
    "                  ('LR', LogisticRegression())],\n",
    "                 [('scaler', StandardScaler()), ('adasyn',ADASYN()),\n",
    "                  ('LR', LogisticRegression())],\n",
    "                 [('scaler', StandardScaler()), ('rus',RandomUnderSampler()),\n",
    "                  ('LR', LogisticRegression())]]\n",
    "\n",
    "lr_parameters = {'LR__C':[x for x in np.logspace(-3,3,7)], 'LR__penalty':['l1','l2']}"
   ]
  },
  {
   "cell_type": "code",
   "execution_count": 188,
   "metadata": {
    "scrolled": true
   },
   "outputs": [
    {
     "name": "stdout",
     "output_type": "stream",
     "text": [
      "Fitting 5 folds for each of 14 candidates, totalling 70 fits\n"
     ]
    },
    {
     "name": "stderr",
     "output_type": "stream",
     "text": [
      "[Parallel(n_jobs=-1)]: Using backend LokyBackend with 12 concurrent workers.\n",
      "[Parallel(n_jobs=-1)]: Done   1 tasks      | elapsed:    2.8s\n",
      "[Parallel(n_jobs=-1)]: Done   8 tasks      | elapsed:    2.9s\n",
      "[Parallel(n_jobs=-1)]: Done  17 tasks      | elapsed:    3.2s\n",
      "[Parallel(n_jobs=-1)]: Done  26 tasks      | elapsed:    3.5s\n",
      "[Parallel(n_jobs=-1)]: Done  37 tasks      | elapsed:    4.9s\n",
      "[Parallel(n_jobs=-1)]: Done  55 out of  70 | elapsed:   10.9s remaining:    3.0s\n",
      "[Parallel(n_jobs=-1)]: Done  63 out of  70 | elapsed:   14.8s remaining:    1.6s\n",
      "[Parallel(n_jobs=-1)]: Done  70 out of  70 | elapsed:   16.7s finished\n",
      "/anaconda3/lib/python3.7/site-packages/sklearn/linear_model/logistic.py:433: FutureWarning: Default solver will be changed to 'lbfgs' in 0.22. Specify a solver to silence this warning.\n",
      "  FutureWarning)\n"
     ]
    },
    {
     "name": "stdout",
     "output_type": "stream",
     "text": [
      "0.907686697638803\n",
      "{'LR__C': 10.0, 'LR__penalty': 'l1'}\n",
      "Fitting 5 folds for each of 14 candidates, totalling 70 fits\n"
     ]
    },
    {
     "name": "stderr",
     "output_type": "stream",
     "text": [
      "[Parallel(n_jobs=-1)]: Using backend LokyBackend with 12 concurrent workers.\n",
      "[Parallel(n_jobs=-1)]: Done   1 tasks      | elapsed:    0.2s\n",
      "[Parallel(n_jobs=-1)]: Done   8 tasks      | elapsed:    0.4s\n",
      "[Parallel(n_jobs=-1)]: Done  17 tasks      | elapsed:    0.8s\n",
      "[Parallel(n_jobs=-1)]: Done  26 tasks      | elapsed:    1.8s\n",
      "[Parallel(n_jobs=-1)]: Done  37 tasks      | elapsed:    4.2s\n",
      "[Parallel(n_jobs=-1)]: Done  55 out of  70 | elapsed:   10.5s remaining:    2.9s\n",
      "[Parallel(n_jobs=-1)]: Done  63 out of  70 | elapsed:   13.5s remaining:    1.5s\n",
      "[Parallel(n_jobs=-1)]: Done  70 out of  70 | elapsed:   16.1s finished\n",
      "/anaconda3/lib/python3.7/site-packages/sklearn/linear_model/logistic.py:433: FutureWarning: Default solver will be changed to 'lbfgs' in 0.22. Specify a solver to silence this warning.\n",
      "  FutureWarning)\n"
     ]
    },
    {
     "name": "stdout",
     "output_type": "stream",
     "text": [
      "0.9062298456759007\n",
      "{'LR__C': 100.0, 'LR__penalty': 'l1'}\n",
      "Fitting 5 folds for each of 14 candidates, totalling 70 fits\n"
     ]
    },
    {
     "name": "stderr",
     "output_type": "stream",
     "text": [
      "[Parallel(n_jobs=-1)]: Using backend LokyBackend with 12 concurrent workers.\n",
      "[Parallel(n_jobs=-1)]: Done   1 tasks      | elapsed:    0.4s\n",
      "[Parallel(n_jobs=-1)]: Done   8 tasks      | elapsed:    0.6s\n",
      "[Parallel(n_jobs=-1)]: Done  17 tasks      | elapsed:    1.2s\n",
      "[Parallel(n_jobs=-1)]: Done  26 tasks      | elapsed:    2.3s\n",
      "[Parallel(n_jobs=-1)]: Done  37 tasks      | elapsed:    5.2s\n",
      "[Parallel(n_jobs=-1)]: Done  55 out of  70 | elapsed:   11.0s remaining:    3.0s\n",
      "[Parallel(n_jobs=-1)]: Done  63 out of  70 | elapsed:   13.8s remaining:    1.5s\n",
      "[Parallel(n_jobs=-1)]: Done  70 out of  70 | elapsed:   16.4s finished\n",
      "/anaconda3/lib/python3.7/site-packages/sklearn/linear_model/logistic.py:433: FutureWarning: Default solver will be changed to 'lbfgs' in 0.22. Specify a solver to silence this warning.\n",
      "  FutureWarning)\n"
     ]
    },
    {
     "name": "stdout",
     "output_type": "stream",
     "text": [
      "0.9061375714549996\n",
      "{'LR__C': 1.0, 'LR__penalty': 'l2'}\n",
      "Fitting 5 folds for each of 14 candidates, totalling 70 fits\n"
     ]
    },
    {
     "name": "stderr",
     "output_type": "stream",
     "text": [
      "[Parallel(n_jobs=-1)]: Using backend LokyBackend with 12 concurrent workers.\n",
      "[Parallel(n_jobs=-1)]: Done   1 tasks      | elapsed:    3.1s\n",
      "[Parallel(n_jobs=-1)]: Done   8 tasks      | elapsed:    3.4s\n",
      "[Parallel(n_jobs=-1)]: Done  17 tasks      | elapsed:    6.5s\n",
      "[Parallel(n_jobs=-1)]: Done  26 tasks      | elapsed:   10.2s\n",
      "[Parallel(n_jobs=-1)]: Done  37 tasks      | elapsed:   14.6s\n",
      "[Parallel(n_jobs=-1)]: Done  55 out of  70 | elapsed:   25.5s remaining:    7.0s\n",
      "[Parallel(n_jobs=-1)]: Done  63 out of  70 | elapsed:   31.8s remaining:    3.5s\n",
      "[Parallel(n_jobs=-1)]: Done  70 out of  70 | elapsed:   36.2s finished\n",
      "/anaconda3/lib/python3.7/site-packages/sklearn/linear_model/logistic.py:433: FutureWarning: Default solver will be changed to 'lbfgs' in 0.22. Specify a solver to silence this warning.\n",
      "  FutureWarning)\n"
     ]
    },
    {
     "name": "stdout",
     "output_type": "stream",
     "text": [
      "0.9036816092248297\n",
      "{'LR__C': 0.1, 'LR__penalty': 'l1'}\n",
      "Fitting 5 folds for each of 14 candidates, totalling 70 fits\n"
     ]
    },
    {
     "name": "stderr",
     "output_type": "stream",
     "text": [
      "[Parallel(n_jobs=-1)]: Using backend LokyBackend with 12 concurrent workers.\n",
      "[Parallel(n_jobs=-1)]: Done   1 tasks      | elapsed:    0.2s\n",
      "[Parallel(n_jobs=-1)]: Batch computation too fast (0.1570s.) Setting batch_size=2.\n",
      "[Parallel(n_jobs=-1)]: Done   8 tasks      | elapsed:    0.2s\n",
      "[Parallel(n_jobs=-1)]: Done  17 tasks      | elapsed:    0.3s\n"
     ]
    },
    {
     "name": "stdout",
     "output_type": "stream",
     "text": [
      "0.905660991689342\n",
      "{'LR__C': 100.0, 'LR__penalty': 'l2'}\n"
     ]
    },
    {
     "name": "stderr",
     "output_type": "stream",
     "text": [
      "[Parallel(n_jobs=-1)]: Done  70 out of  70 | elapsed:    2.3s finished\n",
      "/anaconda3/lib/python3.7/site-packages/sklearn/linear_model/logistic.py:433: FutureWarning: Default solver will be changed to 'lbfgs' in 0.22. Specify a solver to silence this warning.\n",
      "  FutureWarning)\n"
     ]
    }
   ],
   "source": [
    "lr_grid_search_results = complete_grid_search(X_train, y_train, lr_steps_list, lr_parameters)"
   ]
  },
  {
   "cell_type": "code",
   "execution_count": 193,
   "metadata": {},
   "outputs": [
    {
     "name": "stdout",
     "output_type": "stream",
     "text": [
      "Hyperparameters: {'LR__C': 10.0, 'LR__penalty': 'l1'}\n",
      "Tranformations/Resampling: [('scaler', StandardScaler(copy=True, with_mean=True, with_std=True)), ('LR', LogisticRegression(C=1.0, class_weight=None, dual=False, fit_intercept=True,\n",
      "          intercept_scaling=1, max_iter=100, multi_class='warn',\n",
      "          n_jobs=None, penalty='l2', random_state=None, solver='warn',\n",
      "          tol=0.0001, verbose=0, warm_start=False))]\n"
     ]
    }
   ],
   "source": [
    "lr_best_model = best_model_finder(lr_grid_search_results, lr_steps_list)"
   ]
  },
  {
   "cell_type": "code",
   "execution_count": 218,
   "metadata": {},
   "outputs": [
    {
     "name": "stdout",
     "output_type": "stream",
     "text": [
      "ROC AUC Score on Unseen Data: 0.9082325457100249\n"
     ]
    }
   ],
   "source": [
    "lr_fpr, lr_tpr, lr_val_score = roc_curve_calculator(lr_best_model, X_val, y_val)"
   ]
  },
  {
   "cell_type": "code",
   "execution_count": null,
   "metadata": {},
   "outputs": [],
   "source": []
  }
 ],
 "metadata": {
  "kernelspec": {
   "display_name": "Python 3",
   "language": "python",
   "name": "python3"
  },
  "language_info": {
   "codemirror_mode": {
    "name": "ipython",
    "version": 3
   },
   "file_extension": ".py",
   "mimetype": "text/x-python",
   "name": "python",
   "nbconvert_exporter": "python",
   "pygments_lexer": "ipython3",
   "version": "3.7.2"
  }
 },
 "nbformat": 4,
 "nbformat_minor": 2
}
