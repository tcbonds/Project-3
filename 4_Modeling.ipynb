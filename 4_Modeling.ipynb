{
 "cells": [
  {
   "cell_type": "code",
   "execution_count": 54,
   "metadata": {},
   "outputs": [],
   "source": [
    "import pickle\n",
    "import math\n",
    "import pandas as pd\n",
    "import numpy as np\n",
    "np.random.seed(42) \n",
    "import matplotlib.pyplot as plt\n",
    "import seaborn as sns\n",
    "import patsy\n",
    "from collections import defaultdict, Counter\n",
    "pd.set_option('display.max_columns', 999)\n",
    "pd.set_option('display.max_rows', 50)\n",
    "\n",
    "# Model imports\n",
    "import patsy\n",
    "from sklearn.preprocessing import StandardScaler\n",
    "from sklearn import metrics\n",
    "from sklearn.model_selection import train_test_split\n",
    "from sklearn.model_selection import cross_val_score\n",
    "from sklearn.model_selection import KFold\n",
    "from sklearn.model_selection import GridSearchCV\n",
    "from sklearn.neighbors import KNeighborsClassifier\n",
    "from sklearn.linear_model import LogisticRegression\n",
    "from sklearn.naive_bayes import GaussianNB\n",
    "from sklearn.ensemble import RandomForestClassifier\n",
    "from sklearn.tree import DecisionTreeClassifier\n",
    "from sklearn.svm import LinearSVC\n",
    "from sklearn.svm import SVC\n",
    "from imblearn.over_sampling import RandomOverSampler, SMOTE, ADASYN\n",
    "from imblearn.under_sampling import RandomUnderSampler\n",
    "from imblearn.pipeline import Pipeline"
   ]
  },
  {
   "cell_type": "code",
   "execution_count": 2,
   "metadata": {},
   "outputs": [],
   "source": [
    "with open('final_df.pickle','rb') as f:\n",
    "    df = pickle.load(f)"
   ]
  },
  {
   "cell_type": "code",
   "execution_count": 3,
   "metadata": {},
   "outputs": [
    {
     "data": {
      "text/html": [
       "<div>\n",
       "<style scoped>\n",
       "    .dataframe tbody tr th:only-of-type {\n",
       "        vertical-align: middle;\n",
       "    }\n",
       "\n",
       "    .dataframe tbody tr th {\n",
       "        vertical-align: top;\n",
       "    }\n",
       "\n",
       "    .dataframe thead th {\n",
       "        text-align: right;\n",
       "    }\n",
       "</style>\n",
       "<table border=\"1\" class=\"dataframe\">\n",
       "  <thead>\n",
       "    <tr style=\"text-align: right;\">\n",
       "      <th></th>\n",
       "      <th>ELEVATION</th>\n",
       "      <th>precip_num_days_over_0.01</th>\n",
       "      <th>precip_num_days_over_0.1</th>\n",
       "      <th>precip_num_days_over_1</th>\n",
       "      <th>snow_depth_num_days_over_1</th>\n",
       "      <th>snowfall_num_days_over_1</th>\n",
       "      <th>max_temp_num_days_under_0</th>\n",
       "      <th>min_temp_num_days_under_32</th>\n",
       "      <th>max_temp_num_days_under_32</th>\n",
       "      <th>max_temp_num_days_over_70</th>\n",
       "      <th>max_temp_num_days_over_90</th>\n",
       "      <th>min_temp_year</th>\n",
       "      <th>max_snow_depth_year</th>\n",
       "      <th>max_snowfall_year</th>\n",
       "      <th>max_precip_day</th>\n",
       "      <th>max_temp_year</th>\n",
       "      <th>first_min_temp_under_32</th>\n",
       "      <th>first_min_temp_under_28</th>\n",
       "      <th>first_min_temp_under_24</th>\n",
       "      <th>first_min_temp_under_20</th>\n",
       "      <th>first_min_temp_under_16</th>\n",
       "      <th>last_min_temp_under_32</th>\n",
       "      <th>last_min_temp_under_28</th>\n",
       "      <th>last_min_temp_under_24</th>\n",
       "      <th>last_min_temp_under_20</th>\n",
       "      <th>last_min_temp_under_16</th>\n",
       "      <th>total_precip_year</th>\n",
       "      <th>total_snowfall_year</th>\n",
       "      <th>avg_daily_temp_year</th>\n",
       "      <th>avg_daily_max_temp</th>\n",
       "      <th>avg_daily_min_temp</th>\n",
       "      <th>high_incidence</th>\n",
       "    </tr>\n",
       "  </thead>\n",
       "  <tbody>\n",
       "    <tr>\n",
       "      <th>0</th>\n",
       "      <td>100.300000</td>\n",
       "      <td>120.000000</td>\n",
       "      <td>62.000000</td>\n",
       "      <td>14.0</td>\n",
       "      <td>0.673203</td>\n",
       "      <td>0.476935</td>\n",
       "      <td>0.015794</td>\n",
       "      <td>52.925390</td>\n",
       "      <td>1.673243</td>\n",
       "      <td>242.547207</td>\n",
       "      <td>68.697973</td>\n",
       "      <td>-9.781671</td>\n",
       "      <td>22.512255</td>\n",
       "      <td>25.230208</td>\n",
       "      <td>102.100000</td>\n",
       "      <td>36.947149</td>\n",
       "      <td>-0.971309</td>\n",
       "      <td>-3.093829</td>\n",
       "      <td>-5.256631</td>\n",
       "      <td>-7.443868</td>\n",
       "      <td>-9.526784</td>\n",
       "      <td>-1.460569</td>\n",
       "      <td>-3.589605</td>\n",
       "      <td>-5.620019</td>\n",
       "      <td>-8.046689</td>\n",
       "      <td>-10.532082</td>\n",
       "      <td>1141.700000</td>\n",
       "      <td>35.05744</td>\n",
       "      <td>17.552706</td>\n",
       "      <td>23.943332</td>\n",
       "      <td>11.181082</td>\n",
       "      <td>0</td>\n",
       "    </tr>\n",
       "    <tr>\n",
       "      <th>1</th>\n",
       "      <td>107.300000</td>\n",
       "      <td>91.000000</td>\n",
       "      <td>74.000000</td>\n",
       "      <td>20.0</td>\n",
       "      <td>0.673203</td>\n",
       "      <td>0.476935</td>\n",
       "      <td>0.015794</td>\n",
       "      <td>52.925390</td>\n",
       "      <td>1.673243</td>\n",
       "      <td>242.547207</td>\n",
       "      <td>68.697973</td>\n",
       "      <td>-9.781671</td>\n",
       "      <td>22.512255</td>\n",
       "      <td>25.230208</td>\n",
       "      <td>84.800000</td>\n",
       "      <td>36.947149</td>\n",
       "      <td>-0.971309</td>\n",
       "      <td>-3.093829</td>\n",
       "      <td>-5.256631</td>\n",
       "      <td>-7.443868</td>\n",
       "      <td>-9.526784</td>\n",
       "      <td>-1.460569</td>\n",
       "      <td>-3.589605</td>\n",
       "      <td>-5.620019</td>\n",
       "      <td>-8.046689</td>\n",
       "      <td>-10.532082</td>\n",
       "      <td>1590.100000</td>\n",
       "      <td>35.05744</td>\n",
       "      <td>17.552706</td>\n",
       "      <td>23.943332</td>\n",
       "      <td>11.181082</td>\n",
       "      <td>0</td>\n",
       "    </tr>\n",
       "    <tr>\n",
       "      <th>2</th>\n",
       "      <td>103.800000</td>\n",
       "      <td>106.000000</td>\n",
       "      <td>74.500000</td>\n",
       "      <td>16.5</td>\n",
       "      <td>0.673203</td>\n",
       "      <td>0.476935</td>\n",
       "      <td>0.015794</td>\n",
       "      <td>52.925390</td>\n",
       "      <td>1.673243</td>\n",
       "      <td>242.547207</td>\n",
       "      <td>68.697973</td>\n",
       "      <td>-9.781671</td>\n",
       "      <td>22.512255</td>\n",
       "      <td>25.230208</td>\n",
       "      <td>96.500000</td>\n",
       "      <td>36.947149</td>\n",
       "      <td>-0.971309</td>\n",
       "      <td>-3.093829</td>\n",
       "      <td>-5.256631</td>\n",
       "      <td>-7.443868</td>\n",
       "      <td>-9.526784</td>\n",
       "      <td>-1.460569</td>\n",
       "      <td>-3.589605</td>\n",
       "      <td>-5.620019</td>\n",
       "      <td>-8.046689</td>\n",
       "      <td>-10.532082</td>\n",
       "      <td>1342.300000</td>\n",
       "      <td>35.05744</td>\n",
       "      <td>17.552706</td>\n",
       "      <td>23.943332</td>\n",
       "      <td>11.181082</td>\n",
       "      <td>0</td>\n",
       "    </tr>\n",
       "    <tr>\n",
       "      <th>3</th>\n",
       "      <td>31.723077</td>\n",
       "      <td>111.090909</td>\n",
       "      <td>75.909091</td>\n",
       "      <td>21.0</td>\n",
       "      <td>0.000000</td>\n",
       "      <td>0.000000</td>\n",
       "      <td>0.000000</td>\n",
       "      <td>47.200000</td>\n",
       "      <td>0.000000</td>\n",
       "      <td>253.000000</td>\n",
       "      <td>95.000000</td>\n",
       "      <td>-8.840000</td>\n",
       "      <td>0.000000</td>\n",
       "      <td>0.000000</td>\n",
       "      <td>91.172727</td>\n",
       "      <td>38.700000</td>\n",
       "      <td>-0.660000</td>\n",
       "      <td>-2.900000</td>\n",
       "      <td>-4.850000</td>\n",
       "      <td>-6.700000</td>\n",
       "      <td>-9.526784</td>\n",
       "      <td>-1.200000</td>\n",
       "      <td>-2.720000</td>\n",
       "      <td>-5.080000</td>\n",
       "      <td>-9.400000</td>\n",
       "      <td>-9.766667</td>\n",
       "      <td>1497.054545</td>\n",
       "      <td>0.00000</td>\n",
       "      <td>18.848000</td>\n",
       "      <td>24.846000</td>\n",
       "      <td>12.854000</td>\n",
       "      <td>0</td>\n",
       "    </tr>\n",
       "    <tr>\n",
       "      <th>4</th>\n",
       "      <td>29.991667</td>\n",
       "      <td>95.300000</td>\n",
       "      <td>64.500000</td>\n",
       "      <td>14.1</td>\n",
       "      <td>0.673203</td>\n",
       "      <td>0.476935</td>\n",
       "      <td>0.000000</td>\n",
       "      <td>21.666667</td>\n",
       "      <td>0.000000</td>\n",
       "      <td>280.000000</td>\n",
       "      <td>97.250000</td>\n",
       "      <td>-5.933333</td>\n",
       "      <td>22.512255</td>\n",
       "      <td>25.230208</td>\n",
       "      <td>95.080000</td>\n",
       "      <td>38.600000</td>\n",
       "      <td>-1.400000</td>\n",
       "      <td>-2.500000</td>\n",
       "      <td>-5.256631</td>\n",
       "      <td>-7.443868</td>\n",
       "      <td>-9.526784</td>\n",
       "      <td>-2.033333</td>\n",
       "      <td>-2.766667</td>\n",
       "      <td>-4.600000</td>\n",
       "      <td>-6.700000</td>\n",
       "      <td>-10.532082</td>\n",
       "      <td>1218.360000</td>\n",
       "      <td>35.05744</td>\n",
       "      <td>20.060000</td>\n",
       "      <td>26.047500</td>\n",
       "      <td>14.013333</td>\n",
       "      <td>0</td>\n",
       "    </tr>\n",
       "  </tbody>\n",
       "</table>\n",
       "</div>"
      ],
      "text/plain": [
       "    ELEVATION  precip_num_days_over_0.01  precip_num_days_over_0.1  \\\n",
       "0  100.300000                 120.000000                 62.000000   \n",
       "1  107.300000                  91.000000                 74.000000   \n",
       "2  103.800000                 106.000000                 74.500000   \n",
       "3   31.723077                 111.090909                 75.909091   \n",
       "4   29.991667                  95.300000                 64.500000   \n",
       "\n",
       "   precip_num_days_over_1  snow_depth_num_days_over_1  \\\n",
       "0                    14.0                    0.673203   \n",
       "1                    20.0                    0.673203   \n",
       "2                    16.5                    0.673203   \n",
       "3                    21.0                    0.000000   \n",
       "4                    14.1                    0.673203   \n",
       "\n",
       "   snowfall_num_days_over_1  max_temp_num_days_under_0  \\\n",
       "0                  0.476935                   0.015794   \n",
       "1                  0.476935                   0.015794   \n",
       "2                  0.476935                   0.015794   \n",
       "3                  0.000000                   0.000000   \n",
       "4                  0.476935                   0.000000   \n",
       "\n",
       "   min_temp_num_days_under_32  max_temp_num_days_under_32  \\\n",
       "0                   52.925390                    1.673243   \n",
       "1                   52.925390                    1.673243   \n",
       "2                   52.925390                    1.673243   \n",
       "3                   47.200000                    0.000000   \n",
       "4                   21.666667                    0.000000   \n",
       "\n",
       "   max_temp_num_days_over_70  max_temp_num_days_over_90  min_temp_year  \\\n",
       "0                 242.547207                  68.697973      -9.781671   \n",
       "1                 242.547207                  68.697973      -9.781671   \n",
       "2                 242.547207                  68.697973      -9.781671   \n",
       "3                 253.000000                  95.000000      -8.840000   \n",
       "4                 280.000000                  97.250000      -5.933333   \n",
       "\n",
       "   max_snow_depth_year  max_snowfall_year  max_precip_day  max_temp_year  \\\n",
       "0            22.512255          25.230208      102.100000      36.947149   \n",
       "1            22.512255          25.230208       84.800000      36.947149   \n",
       "2            22.512255          25.230208       96.500000      36.947149   \n",
       "3             0.000000           0.000000       91.172727      38.700000   \n",
       "4            22.512255          25.230208       95.080000      38.600000   \n",
       "\n",
       "   first_min_temp_under_32  first_min_temp_under_28  first_min_temp_under_24  \\\n",
       "0                -0.971309                -3.093829                -5.256631   \n",
       "1                -0.971309                -3.093829                -5.256631   \n",
       "2                -0.971309                -3.093829                -5.256631   \n",
       "3                -0.660000                -2.900000                -4.850000   \n",
       "4                -1.400000                -2.500000                -5.256631   \n",
       "\n",
       "   first_min_temp_under_20  first_min_temp_under_16  last_min_temp_under_32  \\\n",
       "0                -7.443868                -9.526784               -1.460569   \n",
       "1                -7.443868                -9.526784               -1.460569   \n",
       "2                -7.443868                -9.526784               -1.460569   \n",
       "3                -6.700000                -9.526784               -1.200000   \n",
       "4                -7.443868                -9.526784               -2.033333   \n",
       "\n",
       "   last_min_temp_under_28  last_min_temp_under_24  last_min_temp_under_20  \\\n",
       "0               -3.589605               -5.620019               -8.046689   \n",
       "1               -3.589605               -5.620019               -8.046689   \n",
       "2               -3.589605               -5.620019               -8.046689   \n",
       "3               -2.720000               -5.080000               -9.400000   \n",
       "4               -2.766667               -4.600000               -6.700000   \n",
       "\n",
       "   last_min_temp_under_16  total_precip_year  total_snowfall_year  \\\n",
       "0              -10.532082        1141.700000             35.05744   \n",
       "1              -10.532082        1590.100000             35.05744   \n",
       "2              -10.532082        1342.300000             35.05744   \n",
       "3               -9.766667        1497.054545              0.00000   \n",
       "4              -10.532082        1218.360000             35.05744   \n",
       "\n",
       "   avg_daily_temp_year  avg_daily_max_temp  avg_daily_min_temp  high_incidence  \n",
       "0            17.552706           23.943332           11.181082               0  \n",
       "1            17.552706           23.943332           11.181082               0  \n",
       "2            17.552706           23.943332           11.181082               0  \n",
       "3            18.848000           24.846000           12.854000               0  \n",
       "4            20.060000           26.047500           14.013333               0  "
      ]
     },
     "execution_count": 3,
     "metadata": {},
     "output_type": "execute_result"
    }
   ],
   "source": [
    "df.head()"
   ]
  },
  {
   "cell_type": "markdown",
   "metadata": {},
   "source": [
    "## Detecting Class Imbalance\n",
    "- There is a large class imbalance issue with this data\n",
    "- I will experiment with undersampling and oversampling to see if they will improve model performance"
   ]
  },
  {
   "cell_type": "code",
   "execution_count": 4,
   "metadata": {},
   "outputs": [
    {
     "data": {
      "text/plain": [
       "0    0.857209\n",
       "1    0.142791\n",
       "Name: high_incidence, dtype: float64"
      ]
     },
     "execution_count": 4,
     "metadata": {},
     "output_type": "execute_result"
    }
   ],
   "source": [
    "# Observing Large Class Imbalance\n",
    "df.high_incidence.value_counts()/len(df)"
   ]
  },
  {
   "cell_type": "code",
   "execution_count": 5,
   "metadata": {},
   "outputs": [
    {
     "data": {
      "image/png": "[encoded data removed]",
      "text/plain": [
       "<Figure size 1800x1200 with 1 Axes>"
      ]
     },
     "metadata": {
      "needs_background": "light"
     },
     "output_type": "display_data"
    }
   ],
   "source": [
    "# Plotting Class Imbalance \n",
    "plt.figure(dpi=300)\n",
    "sns.barplot(['Low', 'High'], df.high_incidence.value_counts()/ len(df), color='#990000ff')\n",
    "plt.xlabel('Class')\n",
    "plt.ylabel('Percentage')\n",
    "plt.title('Class Imbalance')\n",
    "\n",
    "sns.despine()"
   ]
  },
  {
   "cell_type": "markdown",
   "metadata": {},
   "source": [
    "## Train-Validation-Test Splits"
   ]
  },
  {
   "cell_type": "code",
   "execution_count": 6,
   "metadata": {},
   "outputs": [],
   "source": [
    "# Splitting data into feature variables\n",
    "X = df.iloc[:,:-1]\n",
    "# and target variable\n",
    "y = df.iloc[:,-1]"
   ]
  },
  {
   "cell_type": "code",
   "execution_count": 7,
   "metadata": {},
   "outputs": [],
   "source": [
    "# Test-Validation-Train Split (60-20-20)\n",
    "X_train, X_test, y_train, y_test = train_test_split(X, y, test_size=0.4, random_state=42, stratify=y)\n",
    "X_val, X_test, y_val, y_test = train_test_split(X_test, y_test, test_size=.5, random_state=42,stratify=y_test)"
   ]
  },
  {
   "cell_type": "code",
   "execution_count": 8,
   "metadata": {},
   "outputs": [
    {
     "name": "stdout",
     "output_type": "stream",
     "text": [
      "Training Set: 0.5999816168022427\n",
      "Validation Set: 0.20000919159887862\n",
      "Test Set: 0.20000919159887862\n"
     ]
    }
   ],
   "source": [
    "# Verifying Correct Percentages\n",
    "print('Training Set:',len(X_train)/len(X))\n",
    "print('Validation Set:',len(X_val)/len(X))\n",
    "print('Test Set:',len(X_test)/len(X))"
   ]
  },
  {
   "cell_type": "markdown",
   "metadata": {},
   "source": [
    "## Modeling"
   ]
  },
  {
   "cell_type": "code",
   "execution_count": 53,
   "metadata": {},
   "outputs": [],
   "source": [
    "def complete_grid_search(X_train, y_train, steps_list, param_grid):\n",
    "    ''' This function does a grid search with cross validation for\n",
    "    every combination of hyperparameters and resampling techniques.\n",
    "    \n",
    "    Input:\n",
    "    X_train = DataFrame of features in training split\n",
    "    \n",
    "    y_train = Series of target variable in training split\n",
    "    \n",
    "    steps_list = List of lists of Imblearn pipeline steps\n",
    "                 Ex: [[('scaler', StandardScaler()),('LR', LogisticRegression())],\n",
    "                      [('scaler', StandardScaler()), ('ros', RandomOverSampler()),\n",
    "                       ('LR', LogisticRegression())]\n",
    "                 \n",
    "    param_grid = Dictionary of hyperparameters to grid search. Keys are labels for \n",
    "                 each hyperparameter and Values are ranges for each hyperparameter.\n",
    "                 Ex: {'LR__C':[x for x in np.logspace(-3,3,7)], 'LR__penalty':['l1','l2']}\n",
    "    Output:\n",
    "    Returns a list of the best model for each set of pipeline steps in steps_list.\n",
    "    '''\n",
    "    \n",
    "    grid_search_results = []\n",
    "    for steps in steps_list:\n",
    "        pipeline = Pipeline(steps)\n",
    "\n",
    "        grid = GridSearchCV(pipeline, param_grid=param_grid, cv=5, verbose=10, scoring='roc_auc')\n",
    "\n",
    "        grid.fit(X_train, y_train)\n",
    "        \n",
    "        print(grid.best_score_)\n",
    "        print(grid.best_params_)\n",
    "\n",
    "        grid_search_results.append(grid)\n",
    "\n",
    "    return grid_search_results"
   ]
  },
  {
   "cell_type": "code",
   "execution_count": 10,
   "metadata": {},
   "outputs": [],
   "source": [
    "def best_model_finder(grid_search_results, steps_list):\n",
    "    ''' This function finds the best model out of all \n",
    "    the grid searches from the complete_grid_search function.\n",
    "    \n",
    "    Input:\n",
    "    grid_search_results = Output of complete_grid_search function(list of models)\n",
    "    \n",
    "    steps_list = List of lists of Imblearn pipeline steps\n",
    "                 Ex: [[('scaler', StandardScaler()),('LR', LogisticRegression())],\n",
    "                      [('scaler', StandardScaler()), ('ros', RandomOverSampler()),\n",
    "                       ('LR', LogisticRegression())]\n",
    "                       \n",
    "    Output:                   \n",
    "    Returns the best model and prints the hyperparameters\n",
    "    and resampling techniques for that best model.\n",
    "    '''\n",
    "    \n",
    "    # Finds best scores for each grid search\n",
    "    score_list = [x.best_score_ for x in grid_search_results]\n",
    "    \n",
    "    # finds best model out of all grid searches\n",
    "    best_model_ix = score_list.index(max(score_list))\n",
    "    best_model = grid_search_results[best_model_ix]\n",
    "\n",
    "    print('Hyperparameters:',best_model.best_params_)\n",
    "    print('Tranformations/Resampling:',steps_list[best_model_ix])\n",
    "    \n",
    "    return best_model"
   ]
  },
  {
   "cell_type": "code",
   "execution_count": 11,
   "metadata": {},
   "outputs": [],
   "source": [
    "def roc_curve_calculator(model, X, y):\n",
    "    ''' Calculates the roc curve for a given model and data inputs.\n",
    "    \n",
    "    Inputs:\n",
    "    model = any kind of model\n",
    "    X = features DataFrame\n",
    "    y = target Series\n",
    "    \n",
    "    Output:\n",
    "    Returns the false positive rate and true positive rate\n",
    "    for all thresholds and the ROC AUC score.   \n",
    "    '''\n",
    "    # Determining model predictions\n",
    "    y_predictions = [pred[1] for pred in model.predict_proba(X)]\n",
    "    \n",
    "    # Calculating fpr and tpr for all thresholds\n",
    "    fpr, tpr, _ = metrics.roc_curve(y,y_predictions)\n",
    "    \n",
    "    # Finding ROC AUC Score\n",
    "    roc_auc = metrics.roc_auc_score(y,y_predictions)\n",
    "    print('ROC AUC Score on Unseen Data:',roc_auc)\n",
    "          \n",
    "    return fpr, tpr, roc_auc"
   ]
  },
  {
   "cell_type": "markdown",
   "metadata": {},
   "source": [
    "### K-Nearest Neighbors"
   ]
  },
  {
   "cell_type": "code",
   "execution_count": 12,
   "metadata": {},
   "outputs": [],
   "source": [
    "knn_steps_list = [[('scaler', StandardScaler()),('KNN', KNeighborsClassifier())],\n",
    "                 [('scaler', StandardScaler()), ('ros', RandomOverSampler()),\n",
    "                  ('KNN', KNeighborsClassifier())],\n",
    "                 [('scaler', StandardScaler()), ('smote',SMOTE()),\n",
    "                  ('KNN', KNeighborsClassifier())],\n",
    "                 [('scaler', StandardScaler()), ('adasyn',ADASYN()),\n",
    "                  ('KNN', KNeighborsClassifier())],\n",
    "                 [('scaler', StandardScaler()), ('rus',RandomUnderSampler()),\n",
    "                  ('KNN', KNeighborsClassifier())]]\n",
    "\n",
    "knn_parameters = {'KNN__n_neighbors':[x for x in range(1,40)]}"
   ]
  },
  {
   "cell_type": "code",
   "execution_count": 13,
   "metadata": {
    "scrolled": true
   },
   "outputs": [
    {
     "name": "stdout",
     "output_type": "stream",
     "text": [
      "Fitting 5 folds for each of 39 candidates, totalling 195 fits\n"
     ]
    },
    {
     "name": "stderr",
     "output_type": "stream",
     "text": [
      "[Parallel(n_jobs=-1)]: Using backend LokyBackend with 12 concurrent workers.\n",
      "[Parallel(n_jobs=-1)]: Done   1 tasks      | elapsed:    5.6s\n",
      "[Parallel(n_jobs=-1)]: Done   8 tasks      | elapsed:   19.0s\n",
      "[Parallel(n_jobs=-1)]: Done  17 tasks      | elapsed:   25.4s\n",
      "[Parallel(n_jobs=-1)]: Done  26 tasks      | elapsed:   43.5s\n",
      "[Parallel(n_jobs=-1)]: Done  37 tasks      | elapsed:  1.1min\n",
      "[Parallel(n_jobs=-1)]: Done  48 tasks      | elapsed:  1.4min\n",
      "[Parallel(n_jobs=-1)]: Done  61 tasks      | elapsed:  1.8min\n",
      "[Parallel(n_jobs=-1)]: Done  74 tasks      | elapsed:  2.2min\n",
      "[Parallel(n_jobs=-1)]: Done  89 tasks      | elapsed:  2.6min\n",
      "[Parallel(n_jobs=-1)]: Done 104 tasks      | elapsed:  3.2min\n",
      "[Parallel(n_jobs=-1)]: Done 121 tasks      | elapsed:  3.7min\n",
      "[Parallel(n_jobs=-1)]: Done 138 tasks      | elapsed:  4.4min\n",
      "[Parallel(n_jobs=-1)]: Done 157 tasks      | elapsed:  5.0min\n",
      "[Parallel(n_jobs=-1)]: Done 192 out of 195 | elapsed:  6.1min remaining:    5.7s\n",
      "[Parallel(n_jobs=-1)]: Done 195 out of 195 | elapsed:  6.1min finished\n",
      "[Parallel(n_jobs=-1)]: Using backend LokyBackend with 12 concurrent workers.\n"
     ]
    },
    {
     "name": "stdout",
     "output_type": "stream",
     "text": [
      "0.9199442935665101\n",
      "{'KNN__n_neighbors': 15}\n",
      "Fitting 5 folds for each of 39 candidates, totalling 195 fits\n"
     ]
    },
    {
     "name": "stderr",
     "output_type": "stream",
     "text": [
      "[Parallel(n_jobs=-1)]: Done   1 tasks      | elapsed:    5.1s\n",
      "[Parallel(n_jobs=-1)]: Done   8 tasks      | elapsed:   20.5s\n",
      "[Parallel(n_jobs=-1)]: Done  17 tasks      | elapsed:   30.3s\n",
      "[Parallel(n_jobs=-1)]: Done  26 tasks      | elapsed:   55.0s\n",
      "[Parallel(n_jobs=-1)]: Done  37 tasks      | elapsed:  1.4min\n",
      "[Parallel(n_jobs=-1)]: Done  48 tasks      | elapsed:  1.8min\n",
      "[Parallel(n_jobs=-1)]: Done  61 tasks      | elapsed:  2.5min\n",
      "[Parallel(n_jobs=-1)]: Done  74 tasks      | elapsed:  3.0min\n",
      "[Parallel(n_jobs=-1)]: Done  89 tasks      | elapsed:  3.7min\n",
      "[Parallel(n_jobs=-1)]: Done 104 tasks      | elapsed:  4.6min\n",
      "[Parallel(n_jobs=-1)]: Done 121 tasks      | elapsed:  5.4min\n",
      "[Parallel(n_jobs=-1)]: Done 138 tasks      | elapsed:  6.3min\n",
      "[Parallel(n_jobs=-1)]: Done 157 tasks      | elapsed:  7.2min\n",
      "[Parallel(n_jobs=-1)]: Done 192 out of 195 | elapsed:  9.0min remaining:    8.4s\n",
      "[Parallel(n_jobs=-1)]: Done 195 out of 195 | elapsed:  9.0min finished\n",
      "[Parallel(n_jobs=-1)]: Using backend LokyBackend with 12 concurrent workers.\n"
     ]
    },
    {
     "name": "stdout",
     "output_type": "stream",
     "text": [
      "0.923257948782807\n",
      "{'KNN__n_neighbors': 37}\n",
      "Fitting 5 folds for each of 39 candidates, totalling 195 fits\n"
     ]
    },
    {
     "name": "stderr",
     "output_type": "stream",
     "text": [
      "[Parallel(n_jobs=-1)]: Done   1 tasks      | elapsed:    5.3s\n",
      "[Parallel(n_jobs=-1)]: Done   8 tasks      | elapsed:   21.5s\n",
      "[Parallel(n_jobs=-1)]: Done  17 tasks      | elapsed:   32.2s\n",
      "[Parallel(n_jobs=-1)]: Done  26 tasks      | elapsed:   58.0s\n",
      "[Parallel(n_jobs=-1)]: Done  37 tasks      | elapsed:  1.5min\n",
      "[Parallel(n_jobs=-1)]: Done  48 tasks      | elapsed:  1.9min\n",
      "[Parallel(n_jobs=-1)]: Done  61 tasks      | elapsed:  2.6min\n",
      "[Parallel(n_jobs=-1)]: Done  74 tasks      | elapsed:  3.2min\n",
      "[Parallel(n_jobs=-1)]: Done  89 tasks      | elapsed:  3.9min\n",
      "[Parallel(n_jobs=-1)]: Done 104 tasks      | elapsed:  4.8min\n",
      "[Parallel(n_jobs=-1)]: Done 121 tasks      | elapsed:  5.6min\n",
      "[Parallel(n_jobs=-1)]: Done 138 tasks      | elapsed:  6.6min\n",
      "[Parallel(n_jobs=-1)]: Done 157 tasks      | elapsed:  7.5min\n",
      "[Parallel(n_jobs=-1)]: Done 192 out of 195 | elapsed:  9.3min remaining:    8.7s\n",
      "[Parallel(n_jobs=-1)]: Done 195 out of 195 | elapsed:  9.4min finished\n"
     ]
    },
    {
     "name": "stdout",
     "output_type": "stream",
     "text": [
      "0.9272696940862727\n",
      "{'KNN__n_neighbors': 33}\n",
      "Fitting 5 folds for each of 39 candidates, totalling 195 fits\n"
     ]
    },
    {
     "name": "stderr",
     "output_type": "stream",
     "text": [
      "[Parallel(n_jobs=-1)]: Using backend LokyBackend with 12 concurrent workers.\n",
      "[Parallel(n_jobs=-1)]: Done   1 tasks      | elapsed:    7.7s\n",
      "[Parallel(n_jobs=-1)]: Done   8 tasks      | elapsed:   23.8s\n",
      "[Parallel(n_jobs=-1)]: Done  17 tasks      | elapsed:   37.0s\n",
      "[Parallel(n_jobs=-1)]: Done  26 tasks      | elapsed:  1.1min\n",
      "[Parallel(n_jobs=-1)]: Done  37 tasks      | elapsed:  1.6min\n",
      "[Parallel(n_jobs=-1)]: Done  48 tasks      | elapsed:  2.0min\n",
      "[Parallel(n_jobs=-1)]: Done  61 tasks      | elapsed:  2.7min\n",
      "[Parallel(n_jobs=-1)]: Done  74 tasks      | elapsed:  3.4min\n",
      "[Parallel(n_jobs=-1)]: Done  89 tasks      | elapsed:  4.0min\n",
      "[Parallel(n_jobs=-1)]: Done 104 tasks      | elapsed:  5.0min\n",
      "[Parallel(n_jobs=-1)]: Done 121 tasks      | elapsed:  5.8min\n",
      "[Parallel(n_jobs=-1)]: Done 138 tasks      | elapsed:  6.8min\n",
      "[Parallel(n_jobs=-1)]: Done 157 tasks      | elapsed:  7.8min\n",
      "[Parallel(n_jobs=-1)]: Done 192 out of 195 | elapsed:  9.6min remaining:    9.0s\n",
      "[Parallel(n_jobs=-1)]: Done 195 out of 195 | elapsed:  9.6min finished\n"
     ]
    },
    {
     "name": "stdout",
     "output_type": "stream",
     "text": [
      "0.9256634052362662\n",
      "{'KNN__n_neighbors': 39}\n",
      "Fitting 5 folds for each of 39 candidates, totalling 195 fits\n"
     ]
    },
    {
     "name": "stderr",
     "output_type": "stream",
     "text": [
      "[Parallel(n_jobs=-1)]: Using backend LokyBackend with 12 concurrent workers.\n",
      "[Parallel(n_jobs=-1)]: Done   1 tasks      | elapsed:    2.4s\n",
      "[Parallel(n_jobs=-1)]: Done   8 tasks      | elapsed:    3.3s\n",
      "[Parallel(n_jobs=-1)]: Done  17 tasks      | elapsed:    6.0s\n",
      "[Parallel(n_jobs=-1)]: Done  26 tasks      | elapsed:    9.6s\n",
      "[Parallel(n_jobs=-1)]: Done  37 tasks      | elapsed:   13.1s\n",
      "[Parallel(n_jobs=-1)]: Done  48 tasks      | elapsed:   14.7s\n",
      "[Parallel(n_jobs=-1)]: Done  61 tasks      | elapsed:   21.1s\n",
      "[Parallel(n_jobs=-1)]: Done  74 tasks      | elapsed:   25.6s\n",
      "[Parallel(n_jobs=-1)]: Done  89 tasks      | elapsed:   30.3s\n",
      "[Parallel(n_jobs=-1)]: Done 104 tasks      | elapsed:   35.1s\n",
      "[Parallel(n_jobs=-1)]: Done 121 tasks      | elapsed:   43.1s\n",
      "[Parallel(n_jobs=-1)]: Done 138 tasks      | elapsed:   48.3s\n",
      "[Parallel(n_jobs=-1)]: Done 157 tasks      | elapsed:   57.0s\n",
      "[Parallel(n_jobs=-1)]: Done 192 out of 195 | elapsed:  1.1min remaining:    1.1s\n"
     ]
    },
    {
     "name": "stdout",
     "output_type": "stream",
     "text": [
      "0.9136307498411382\n",
      "{'KNN__n_neighbors': 18}\n"
     ]
    },
    {
     "name": "stderr",
     "output_type": "stream",
     "text": [
      "[Parallel(n_jobs=-1)]: Done 195 out of 195 | elapsed:  1.2min finished\n"
     ]
    }
   ],
   "source": [
    "knn_grid_search_results = complete_grid_search(X_train, y_train, knn_steps_list, knn_parameters)"
   ]
  },
  {
   "cell_type": "code",
   "execution_count": 14,
   "metadata": {},
   "outputs": [
    {
     "name": "stdout",
     "output_type": "stream",
     "text": [
      "Hyperparameters: {'KNN__n_neighbors': 33}\n",
      "Tranformations/Resampling: [('scaler', StandardScaler(copy=True, with_mean=True, with_std=True)), ('smote', SMOTE(k_neighbors=5, kind='deprecated', m_neighbors='deprecated', n_jobs=1,\n",
      "   out_step='deprecated', random_state=None, ratio=None,\n",
      "   sampling_strategy='auto', svm_estimator='deprecated')), ('KNN', KNeighborsClassifier(algorithm='auto', leaf_size=30, metric='minkowski',\n",
      "           metric_params=None, n_jobs=None, n_neighbors=5, p=2,\n",
      "           weights='uniform'))]\n"
     ]
    }
   ],
   "source": [
    "knn_best_model = best_model_finder(knn_grid_search_results, knn_steps_list)"
   ]
  },
  {
   "cell_type": "code",
   "execution_count": 15,
   "metadata": {},
   "outputs": [
    {
     "name": "stdout",
     "output_type": "stream",
     "text": [
      "ROC AUC Score on Unseen Data: 0.9172394248424609\n"
     ]
    }
   ],
   "source": [
    "knn_fpr, knn_tpr, knn_val_score = roc_curve_calculator(knn_best_model, X_val, y_val)"
   ]
  },
  {
   "cell_type": "markdown",
   "metadata": {},
   "source": [
    "### Gaussian Naive Bayes"
   ]
  },
  {
   "cell_type": "code",
   "execution_count": 27,
   "metadata": {},
   "outputs": [],
   "source": [
    "gnb_steps_list = [[('GNB', GaussianNB())],\n",
    "                 [('scaler', StandardScaler()), ('GNB', GaussianNB())],\n",
    "                 [('scaler', StandardScaler()), ('ros', RandomOverSampler()), ('GNB', GaussianNB())],\n",
    "                 [('scaler', StandardScaler()), ('smote',SMOTE()), ('GNB', GaussianNB())],\n",
    "                 [('scaler', StandardScaler()), ('adasyn',ADASYN()), ('GNB', GaussianNB())],\n",
    "                 [('scaler', StandardScaler()), ('rus',RandomUnderSampler()), ('GNB', GaussianNB())]]\n",
    "\n",
    "gnb_parameters = {'GNB__priors':[None]}"
   ]
  },
  {
   "cell_type": "code",
   "execution_count": 28,
   "metadata": {
    "scrolled": true
   },
   "outputs": [
    {
     "name": "stdout",
     "output_type": "stream",
     "text": [
      "Fitting 5 folds for each of 1 candidates, totalling 5 fits\n"
     ]
    },
    {
     "name": "stderr",
     "output_type": "stream",
     "text": [
      "[Parallel(n_jobs=-1)]: Using backend LokyBackend with 12 concurrent workers.\n",
      "[Parallel(n_jobs=-1)]: Done   2 out of   5 | elapsed:    1.4s remaining:    2.1s\n",
      "[Parallel(n_jobs=-1)]: Done   3 out of   5 | elapsed:    1.4s remaining:    0.9s\n",
      "[Parallel(n_jobs=-1)]: Done   5 out of   5 | elapsed:    1.4s remaining:    0.0s\n",
      "[Parallel(n_jobs=-1)]: Done   5 out of   5 | elapsed:    1.4s finished\n",
      "[Parallel(n_jobs=-1)]: Using backend LokyBackend with 12 concurrent workers.\n",
      "[Parallel(n_jobs=-1)]: Batch computation too fast (0.0656s.) Setting batch_size=6.\n",
      "[Parallel(n_jobs=-1)]: Done   2 out of   5 | elapsed:    0.1s remaining:    0.1s\n"
     ]
    },
    {
     "name": "stdout",
     "output_type": "stream",
     "text": [
      "0.8686869517140642\n",
      "{'GNB__priors': None}\n",
      "Fitting 5 folds for each of 1 candidates, totalling 5 fits\n"
     ]
    },
    {
     "name": "stderr",
     "output_type": "stream",
     "text": [
      "[Parallel(n_jobs=-1)]: Done   3 out of   5 | elapsed:    0.8s remaining:    0.5s\n",
      "[Parallel(n_jobs=-1)]: Done   5 out of   5 | elapsed:    0.8s remaining:    0.0s\n",
      "[Parallel(n_jobs=-1)]: Done   5 out of   5 | elapsed:    0.8s finished\n",
      "[Parallel(n_jobs=-1)]: Using backend LokyBackend with 12 concurrent workers.\n",
      "[Parallel(n_jobs=-1)]: Batch computation too fast (0.1234s.) Setting batch_size=2.\n",
      "[Parallel(n_jobs=-1)]: Done   2 out of   5 | elapsed:    0.1s remaining:    0.2s\n",
      "[Parallel(n_jobs=-1)]: Done   3 out of   5 | elapsed:    0.1s remaining:    0.1s\n"
     ]
    },
    {
     "name": "stdout",
     "output_type": "stream",
     "text": [
      "0.8686847921601546\n",
      "{'GNB__priors': None}\n",
      "Fitting 5 folds for each of 1 candidates, totalling 5 fits\n"
     ]
    },
    {
     "name": "stderr",
     "output_type": "stream",
     "text": [
      "[Parallel(n_jobs=-1)]: Done   5 out of   5 | elapsed:    0.8s remaining:    0.0s\n",
      "[Parallel(n_jobs=-1)]: Done   5 out of   5 | elapsed:    0.8s finished\n",
      "[Parallel(n_jobs=-1)]: Using backend LokyBackend with 12 concurrent workers.\n"
     ]
    },
    {
     "name": "stdout",
     "output_type": "stream",
     "text": [
      "0.8691131375095634\n",
      "{'GNB__priors': None}\n",
      "Fitting 5 folds for each of 1 candidates, totalling 5 fits\n"
     ]
    },
    {
     "name": "stderr",
     "output_type": "stream",
     "text": [
      "[Parallel(n_jobs=-1)]: Done   2 out of   5 | elapsed:    0.2s remaining:    0.4s\n",
      "[Parallel(n_jobs=-1)]: Done   3 out of   5 | elapsed:    0.2s remaining:    0.2s\n",
      "[Parallel(n_jobs=-1)]: Done   5 out of   5 | elapsed:    0.9s remaining:    0.0s\n",
      "[Parallel(n_jobs=-1)]: Done   5 out of   5 | elapsed:    0.9s finished\n"
     ]
    },
    {
     "name": "stdout",
     "output_type": "stream",
     "text": [
      "0.8737054123403748\n",
      "{'GNB__priors': None}\n",
      "Fitting 5 folds for each of 1 candidates, totalling 5 fits\n"
     ]
    },
    {
     "name": "stderr",
     "output_type": "stream",
     "text": [
      "[Parallel(n_jobs=-1)]: Using backend LokyBackend with 12 concurrent workers.\n",
      "[Parallel(n_jobs=-1)]: Done   2 out of   5 | elapsed:    1.8s remaining:    2.8s\n",
      "[Parallel(n_jobs=-1)]: Done   3 out of   5 | elapsed:    1.9s remaining:    1.2s\n",
      "[Parallel(n_jobs=-1)]: Done   5 out of   5 | elapsed:    2.3s remaining:    0.0s\n",
      "[Parallel(n_jobs=-1)]: Done   5 out of   5 | elapsed:    2.3s finished\n"
     ]
    },
    {
     "name": "stdout",
     "output_type": "stream",
     "text": [
      "0.8674606342538704\n",
      "{'GNB__priors': None}\n",
      "Fitting 5 folds for each of 1 candidates, totalling 5 fits\n"
     ]
    },
    {
     "name": "stderr",
     "output_type": "stream",
     "text": [
      "[Parallel(n_jobs=-1)]: Using backend LokyBackend with 12 concurrent workers.\n",
      "[Parallel(n_jobs=-1)]: Batch computation too fast (0.1978s.) Setting batch_size=2.\n",
      "[Parallel(n_jobs=-1)]: Done   2 out of   5 | elapsed:    0.2s remaining:    0.3s\n",
      "[Parallel(n_jobs=-1)]: Done   3 out of   5 | elapsed:    0.2s remaining:    0.1s\n"
     ]
    },
    {
     "name": "stdout",
     "output_type": "stream",
     "text": [
      "0.8684157844228023\n",
      "{'GNB__priors': None}\n"
     ]
    },
    {
     "name": "stderr",
     "output_type": "stream",
     "text": [
      "[Parallel(n_jobs=-1)]: Done   5 out of   5 | elapsed:    0.8s remaining:    0.0s\n",
      "[Parallel(n_jobs=-1)]: Done   5 out of   5 | elapsed:    0.8s finished\n"
     ]
    }
   ],
   "source": [
    "gnb_grid_search_results = complete_grid_search(X_train, y_train, gnb_steps_list, gnb_parameters)"
   ]
  },
  {
   "cell_type": "code",
   "execution_count": 29,
   "metadata": {},
   "outputs": [
    {
     "name": "stdout",
     "output_type": "stream",
     "text": [
      "Hyperparameters: {'GNB__priors': None}\n",
      "Tranformations/Resampling: [('scaler', StandardScaler(copy=True, with_mean=True, with_std=True)), ('smote', SMOTE(k_neighbors=5, kind='deprecated', m_neighbors='deprecated', n_jobs=1,\n",
      "   out_step='deprecated', random_state=None, ratio=None,\n",
      "   sampling_strategy='auto', svm_estimator='deprecated')), ('GNB', GaussianNB(priors=None, var_smoothing=1e-09))]\n"
     ]
    }
   ],
   "source": [
    "gnb_best_model = best_model_finder(gnb_grid_search_results, gnb_steps_list)"
   ]
  },
  {
   "cell_type": "code",
   "execution_count": 30,
   "metadata": {},
   "outputs": [
    {
     "name": "stdout",
     "output_type": "stream",
     "text": [
      "ROC AUC Score on Unseen Data: 0.8792376059239847\n"
     ]
    }
   ],
   "source": [
    "gnb_fpr, gnb_tpr, gnb_val_score = roc_curve_calculator(gnb_best_model, X_val, y_val)"
   ]
  },
  {
   "cell_type": "markdown",
   "metadata": {},
   "source": [
    "### SVM"
   ]
  },
  {
   "cell_type": "code",
   "execution_count": 60,
   "metadata": {},
   "outputs": [],
   "source": [
    "svm_steps_list = [[('scaler', StandardScaler()), ('SVM', SVC(probability=True))],\n",
    "                 [('scaler', StandardScaler()), ('ros', RandomOverSampler()), ('SVM', SVC(probability=True))],\n",
    "                 [('scaler', StandardScaler()), ('smote',SMOTE()), ('SVM', SVC(probability=True))],\n",
    "                 [('scaler', StandardScaler()), ('adasyn',ADASYN()), ('SVM', SVC(probability=True))],\n",
    "                 [('scaler', StandardScaler()), ('rus',RandomUnderSampler()), ('SVM', SVC(probability=True))]]\n",
    "\n",
    "svm_parameters = {'SVM__C':[0.1,10,100], 'SVM__gamma':[0.1,0.01]}"
   ]
  },
  {
   "cell_type": "code",
   "execution_count": 61,
   "metadata": {
    "scrolled": true
   },
   "outputs": [
    {
     "name": "stdout",
     "output_type": "stream",
     "text": [
      "Fitting 5 folds for each of 6 candidates, totalling 30 fits\n",
      "[CV] SVM__C=0.1, SVM__gamma=0.1 ......................................\n"
     ]
    },
    {
     "name": "stderr",
     "output_type": "stream",
     "text": [
      "[Parallel(n_jobs=1)]: Using backend SequentialBackend with 1 concurrent workers.\n"
     ]
    },
    {
     "name": "stdout",
     "output_type": "stream",
     "text": [
      "[CV]  SVM__C=0.1, SVM__gamma=0.1, score=0.9005432576540418, total=  10.6s\n",
      "[CV] SVM__C=0.1, SVM__gamma=0.1 ......................................\n"
     ]
    },
    {
     "name": "stderr",
     "output_type": "stream",
     "text": [
      "[Parallel(n_jobs=1)]: Done   1 out of   1 | elapsed:   11.9s remaining:    0.0s\n"
     ]
    },
    {
     "name": "stdout",
     "output_type": "stream",
     "text": [
      "[CV]  SVM__C=0.1, SVM__gamma=0.1, score=0.894247425051571, total=  11.1s\n",
      "[CV] SVM__C=0.1, SVM__gamma=0.1 ......................................\n"
     ]
    },
    {
     "name": "stderr",
     "output_type": "stream",
     "text": [
      "[Parallel(n_jobs=1)]: Done   2 out of   2 | elapsed:   24.4s remaining:    0.0s\n"
     ]
    },
    {
     "name": "stdout",
     "output_type": "stream",
     "text": [
      "[CV]  SVM__C=0.1, SVM__gamma=0.1, score=0.9102631370886013, total=  12.0s\n",
      "[CV] SVM__C=0.1, SVM__gamma=0.1 ......................................\n"
     ]
    },
    {
     "name": "stderr",
     "output_type": "stream",
     "text": [
      "[Parallel(n_jobs=1)]: Done   3 out of   3 | elapsed:   37.8s remaining:    0.0s\n"
     ]
    },
    {
     "name": "stdout",
     "output_type": "stream",
     "text": [
      "[CV]  SVM__C=0.1, SVM__gamma=0.1, score=0.8968942492219452, total=  10.8s\n",
      "[CV] SVM__C=0.1, SVM__gamma=0.1 ......................................\n"
     ]
    },
    {
     "name": "stderr",
     "output_type": "stream",
     "text": [
      "[Parallel(n_jobs=1)]: Done   4 out of   4 | elapsed:   50.0s remaining:    0.0s\n"
     ]
    },
    {
     "name": "stdout",
     "output_type": "stream",
     "text": [
      "[CV]  SVM__C=0.1, SVM__gamma=0.1, score=0.9224129647246484, total=  11.0s\n",
      "[CV] SVM__C=0.1, SVM__gamma=0.01 .....................................\n"
     ]
    },
    {
     "name": "stderr",
     "output_type": "stream",
     "text": [
      "[Parallel(n_jobs=1)]: Done   5 out of   5 | elapsed:  1.0min remaining:    0.0s\n"
     ]
    },
    {
     "name": "stdout",
     "output_type": "stream",
     "text": [
      "[CV]  SVM__C=0.1, SVM__gamma=0.01, score=0.9092411276098699, total=   8.6s\n",
      "[CV] SVM__C=0.1, SVM__gamma=0.01 .....................................\n"
     ]
    },
    {
     "name": "stderr",
     "output_type": "stream",
     "text": [
      "[Parallel(n_jobs=1)]: Done   6 out of   6 | elapsed:  1.2min remaining:    0.0s\n"
     ]
    },
    {
     "name": "stdout",
     "output_type": "stream",
     "text": [
      "[CV]  SVM__C=0.1, SVM__gamma=0.01, score=0.89699068250808, total=   8.6s\n",
      "[CV] SVM__C=0.1, SVM__gamma=0.01 .....................................\n"
     ]
    },
    {
     "name": "stderr",
     "output_type": "stream",
     "text": [
      "[Parallel(n_jobs=1)]: Done   7 out of   7 | elapsed:  1.4min remaining:    0.0s\n"
     ]
    },
    {
     "name": "stdout",
     "output_type": "stream",
     "text": [
      "[CV]  SVM__C=0.1, SVM__gamma=0.01, score=0.9116695057584449, total=   8.1s\n",
      "[CV] SVM__C=0.1, SVM__gamma=0.01 .....................................\n"
     ]
    },
    {
     "name": "stderr",
     "output_type": "stream",
     "text": [
      "[Parallel(n_jobs=1)]: Done   8 out of   8 | elapsed:  1.5min remaining:    0.0s\n"
     ]
    },
    {
     "name": "stdout",
     "output_type": "stream",
     "text": [
      "[CV]  SVM__C=0.1, SVM__gamma=0.01, score=0.9060500207241721, total=   8.3s\n",
      "[CV] SVM__C=0.1, SVM__gamma=0.01 .....................................\n"
     ]
    },
    {
     "name": "stderr",
     "output_type": "stream",
     "text": [
      "[Parallel(n_jobs=1)]: Done   9 out of   9 | elapsed:  1.7min remaining:    0.0s\n"
     ]
    },
    {
     "name": "stdout",
     "output_type": "stream",
     "text": [
      "[CV]  SVM__C=0.1, SVM__gamma=0.01, score=0.9073217254268884, total=   8.1s\n",
      "[CV] SVM__C=10, SVM__gamma=0.1 .......................................\n",
      "[CV]  SVM__C=10, SVM__gamma=0.1, score=0.9058513052193207, total=  12.5s\n",
      "[CV] SVM__C=10, SVM__gamma=0.1 .......................................\n",
      "[CV]  SVM__C=10, SVM__gamma=0.1, score=0.9084872073159921, total=  13.8s\n",
      "[CV] SVM__C=10, SVM__gamma=0.1 .......................................\n",
      "[CV]  SVM__C=10, SVM__gamma=0.1, score=0.9128458720563889, total=  12.7s\n",
      "[CV] SVM__C=10, SVM__gamma=0.1 .......................................\n",
      "[CV]  SVM__C=10, SVM__gamma=0.1, score=0.9061853867034672, total=  12.9s\n",
      "[CV] SVM__C=10, SVM__gamma=0.1 .......................................\n",
      "[CV]  SVM__C=10, SVM__gamma=0.1, score=0.924338406987806, total=  13.1s\n",
      "[CV] SVM__C=10, SVM__gamma=0.01 ......................................\n",
      "[CV]  SVM__C=10, SVM__gamma=0.01, score=0.926857188016002, total=   7.7s\n",
      "[CV] SVM__C=10, SVM__gamma=0.01 ......................................\n",
      "[CV]  SVM__C=10, SVM__gamma=0.01, score=0.9316815090072283, total=   7.8s\n",
      "[CV] SVM__C=10, SVM__gamma=0.01 ......................................\n",
      "[CV]  SVM__C=10, SVM__gamma=0.01, score=0.9312436659503052, total=   7.8s\n",
      "[CV] SVM__C=10, SVM__gamma=0.01 ......................................\n",
      "[CV]  SVM__C=10, SVM__gamma=0.01, score=0.9225574826240396, total=   7.9s\n",
      "[CV] SVM__C=10, SVM__gamma=0.01 ......................................\n",
      "[CV]  SVM__C=10, SVM__gamma=0.01, score=0.9353121066236174, total=   7.9s\n",
      "[CV] SVM__C=100, SVM__gamma=0.1 ......................................\n",
      "[CV]  SVM__C=100, SVM__gamma=0.1, score=0.8936402812917965, total=  12.5s\n",
      "[CV] SVM__C=100, SVM__gamma=0.1 ......................................\n",
      "[CV]  SVM__C=100, SVM__gamma=0.1, score=0.900568896491745, total=  12.8s\n",
      "[CV] SVM__C=100, SVM__gamma=0.1 ......................................\n",
      "[CV]  SVM__C=100, SVM__gamma=0.1, score=0.9016691942968995, total=  12.5s\n",
      "[CV] SVM__C=100, SVM__gamma=0.1 ......................................\n",
      "[CV]  SVM__C=100, SVM__gamma=0.1, score=0.8954962660552438, total=  12.8s\n",
      "[CV] SVM__C=100, SVM__gamma=0.1 ......................................\n",
      "[CV]  SVM__C=100, SVM__gamma=0.1, score=0.914117827937771, total=  12.9s\n",
      "[CV] SVM__C=100, SVM__gamma=0.01 .....................................\n",
      "[CV]  SVM__C=100, SVM__gamma=0.01, score=0.9235188535670966, total=  14.1s\n",
      "[CV] SVM__C=100, SVM__gamma=0.01 .....................................\n",
      "[CV]  SVM__C=100, SVM__gamma=0.01, score=0.9274564133525961, total=  14.5s\n",
      "[CV] SVM__C=100, SVM__gamma=0.01 .....................................\n",
      "[CV]  SVM__C=100, SVM__gamma=0.01, score=0.9207438180872907, total=  15.1s\n",
      "[CV] SVM__C=100, SVM__gamma=0.01 .....................................\n",
      "[CV]  SVM__C=100, SVM__gamma=0.01, score=0.9137311416023978, total=  15.7s\n",
      "[CV] SVM__C=100, SVM__gamma=0.01 .....................................\n",
      "[CV]  SVM__C=100, SVM__gamma=0.01, score=0.9302348487032394, total=  14.7s\n"
     ]
    },
    {
     "name": "stderr",
     "output_type": "stream",
     "text": [
      "[Parallel(n_jobs=1)]: Done  30 out of  30 | elapsed:  6.2min finished\n"
     ]
    },
    {
     "name": "stdout",
     "output_type": "stream",
     "text": [
      "0.9295297428058925\n",
      "{'SVM__C': 10, 'SVM__gamma': 0.01}\n",
      "Fitting 5 folds for each of 6 candidates, totalling 30 fits\n",
      "[CV] SVM__C=0.1, SVM__gamma=0.1 ......................................\n"
     ]
    },
    {
     "name": "stderr",
     "output_type": "stream",
     "text": [
      "[Parallel(n_jobs=1)]: Using backend SequentialBackend with 1 concurrent workers.\n"
     ]
    },
    {
     "name": "stdout",
     "output_type": "stream",
     "text": [
      "[CV]  SVM__C=0.1, SVM__gamma=0.1, score=0.9170325703139687, total=  51.3s\n",
      "[CV] SVM__C=0.1, SVM__gamma=0.1 ......................................\n"
     ]
    },
    {
     "name": "stderr",
     "output_type": "stream",
     "text": [
      "[Parallel(n_jobs=1)]: Done   1 out of   1 | elapsed:   54.6s remaining:    0.0s\n"
     ]
    },
    {
     "name": "stdout",
     "output_type": "stream",
     "text": [
      "[CV]  SVM__C=0.1, SVM__gamma=0.1, score=0.9206857185298056, total=  50.0s\n",
      "[CV] SVM__C=0.1, SVM__gamma=0.1 ......................................\n"
     ]
    },
    {
     "name": "stderr",
     "output_type": "stream",
     "text": [
      "[Parallel(n_jobs=1)]: Done   2 out of   2 | elapsed:  1.8min remaining:    0.0s\n"
     ]
    },
    {
     "name": "stdout",
     "output_type": "stream",
     "text": [
      "[CV]  SVM__C=0.1, SVM__gamma=0.1, score=0.9244238560376821, total=  49.0s\n",
      "[CV] SVM__C=0.1, SVM__gamma=0.1 ......................................\n"
     ]
    },
    {
     "name": "stderr",
     "output_type": "stream",
     "text": [
      "[Parallel(n_jobs=1)]: Done   3 out of   3 | elapsed:  2.7min remaining:    0.0s\n"
     ]
    },
    {
     "name": "stdout",
     "output_type": "stream",
     "text": [
      "[CV]  SVM__C=0.1, SVM__gamma=0.1, score=0.9189253618344606, total=  47.5s\n",
      "[CV] SVM__C=0.1, SVM__gamma=0.1 ......................................\n"
     ]
    },
    {
     "name": "stderr",
     "output_type": "stream",
     "text": [
      "[Parallel(n_jobs=1)]: Done   4 out of   4 | elapsed:  3.5min remaining:    0.0s\n"
     ]
    },
    {
     "name": "stdout",
     "output_type": "stream",
     "text": [
      "[CV]  SVM__C=0.1, SVM__gamma=0.1, score=0.9298648947312789, total=  46.8s\n",
      "[CV] SVM__C=0.1, SVM__gamma=0.01 .....................................\n"
     ]
    },
    {
     "name": "stderr",
     "output_type": "stream",
     "text": [
      "[Parallel(n_jobs=1)]: Done   5 out of   5 | elapsed:  4.3min remaining:    0.0s\n"
     ]
    },
    {
     "name": "stdout",
     "output_type": "stream",
     "text": [
      "[CV]  SVM__C=0.1, SVM__gamma=0.01, score=0.9162997651910383, total=  42.1s\n",
      "[CV] SVM__C=0.1, SVM__gamma=0.01 .....................................\n"
     ]
    },
    {
     "name": "stderr",
     "output_type": "stream",
     "text": [
      "[Parallel(n_jobs=1)]: Done   6 out of   6 | elapsed:  5.1min remaining:    0.0s\n"
     ]
    },
    {
     "name": "stdout",
     "output_type": "stream",
     "text": [
      "[CV]  SVM__C=0.1, SVM__gamma=0.01, score=0.9121516721891195, total=  42.4s\n",
      "[CV] SVM__C=0.1, SVM__gamma=0.01 .....................................\n"
     ]
    },
    {
     "name": "stderr",
     "output_type": "stream",
     "text": [
      "[Parallel(n_jobs=1)]: Done   7 out of   7 | elapsed:  5.8min remaining:    0.0s\n"
     ]
    },
    {
     "name": "stdout",
     "output_type": "stream",
     "text": [
      "[CV]  SVM__C=0.1, SVM__gamma=0.01, score=0.9113736172904282, total=  42.2s\n",
      "[CV] SVM__C=0.1, SVM__gamma=0.01 .....................................\n"
     ]
    },
    {
     "name": "stderr",
     "output_type": "stream",
     "text": [
      "[Parallel(n_jobs=1)]: Done   8 out of   8 | elapsed:  6.6min remaining:    0.0s\n"
     ]
    },
    {
     "name": "stdout",
     "output_type": "stream",
     "text": [
      "[CV]  SVM__C=0.1, SVM__gamma=0.01, score=0.9148356321591232, total=  43.0s\n",
      "[CV] SVM__C=0.1, SVM__gamma=0.01 .....................................\n"
     ]
    },
    {
     "name": "stderr",
     "output_type": "stream",
     "text": [
      "[Parallel(n_jobs=1)]: Done   9 out of   9 | elapsed:  7.4min remaining:    0.0s\n"
     ]
    },
    {
     "name": "stdout",
     "output_type": "stream",
     "text": [
      "[CV]  SVM__C=0.1, SVM__gamma=0.01, score=0.9127737419162657, total=  42.3s\n",
      "[CV] SVM__C=10, SVM__gamma=0.1 .......................................\n",
      "[CV]  SVM__C=10, SVM__gamma=0.1, score=0.9051663958560588, total=  36.0s\n",
      "[CV] SVM__C=10, SVM__gamma=0.1 .......................................\n",
      "[CV]  SVM__C=10, SVM__gamma=0.1, score=0.914656541770587, total=  36.8s\n",
      "[CV] SVM__C=10, SVM__gamma=0.1 .......................................\n",
      "[CV]  SVM__C=10, SVM__gamma=0.1, score=0.9120420616837611, total=  36.0s\n",
      "[CV] SVM__C=10, SVM__gamma=0.1 .......................................\n",
      "[CV]  SVM__C=10, SVM__gamma=0.1, score=0.9069748219278511, total=  36.4s\n",
      "[CV] SVM__C=10, SVM__gamma=0.1 .......................................\n",
      "[CV]  SVM__C=10, SVM__gamma=0.1, score=0.9224550049487349, total=  37.1s\n",
      "[CV] SVM__C=10, SVM__gamma=0.01 ......................................\n",
      "[CV]  SVM__C=10, SVM__gamma=0.01, score=0.9286736347014356, total=  37.3s\n",
      "[CV] SVM__C=10, SVM__gamma=0.01 ......................................\n",
      "[CV]  SVM__C=10, SVM__gamma=0.01, score=0.9325943309207043, total=  38.1s\n",
      "[CV] SVM__C=10, SVM__gamma=0.01 ......................................\n",
      "[CV]  SVM__C=10, SVM__gamma=0.01, score=0.933211863330674, total=  37.7s\n",
      "[CV] SVM__C=10, SVM__gamma=0.01 ......................................\n",
      "[CV]  SVM__C=10, SVM__gamma=0.01, score=0.926036268499019, total=  37.3s\n",
      "[CV] SVM__C=10, SVM__gamma=0.01 ......................................\n",
      "[CV]  SVM__C=10, SVM__gamma=0.01, score=0.937459761499803, total=  37.3s\n",
      "[CV] SVM__C=100, SVM__gamma=0.1 ......................................\n",
      "[CV]  SVM__C=100, SVM__gamma=0.1, score=0.8941036727665908, total=  34.6s\n",
      "[CV] SVM__C=100, SVM__gamma=0.1 ......................................\n",
      "[CV]  SVM__C=100, SVM__gamma=0.1, score=0.9057259809241783, total=  34.6s\n",
      "[CV] SVM__C=100, SVM__gamma=0.1 ......................................\n",
      "[CV]  SVM__C=100, SVM__gamma=0.1, score=0.8981820229187779, total=  35.0s\n",
      "[CV] SVM__C=100, SVM__gamma=0.1 ......................................\n",
      "[CV]  SVM__C=100, SVM__gamma=0.1, score=0.8945798503547067, total=  35.1s\n",
      "[CV] SVM__C=100, SVM__gamma=0.1 ......................................\n",
      "[CV]  SVM__C=100, SVM__gamma=0.1, score=0.914773655433519, total=  35.6s\n",
      "[CV] SVM__C=100, SVM__gamma=0.01 .....................................\n",
      "[CV]  SVM__C=100, SVM__gamma=0.01, score=0.9140055583029095, total= 1.1min\n",
      "[CV] SVM__C=100, SVM__gamma=0.01 .....................................\n",
      "[CV]  SVM__C=100, SVM__gamma=0.01, score=0.9221004727027914, total= 1.1min\n",
      "[CV] SVM__C=100, SVM__gamma=0.01 .....................................\n",
      "[CV]  SVM__C=100, SVM__gamma=0.01, score=0.9196429213176261, total= 1.1min\n",
      "[CV] SVM__C=100, SVM__gamma=0.01 .....................................\n",
      "[CV]  SVM__C=100, SVM__gamma=0.01, score=0.9117162249902369, total= 1.1min\n",
      "[CV] SVM__C=100, SVM__gamma=0.01 .....................................\n",
      "[CV]  SVM__C=100, SVM__gamma=0.01, score=0.9311068830657172, total= 1.1min\n"
     ]
    },
    {
     "name": "stderr",
     "output_type": "stream",
     "text": [
      "[Parallel(n_jobs=1)]: Done  30 out of  30 | elapsed: 23.2min finished\n"
     ]
    },
    {
     "name": "stdout",
     "output_type": "stream",
     "text": [
      "0.9315944987817635\n",
      "{'SVM__C': 10, 'SVM__gamma': 0.01}\n",
      "Fitting 5 folds for each of 6 candidates, totalling 30 fits\n",
      "[CV] SVM__C=0.1, SVM__gamma=0.1 ......................................\n"
     ]
    },
    {
     "name": "stderr",
     "output_type": "stream",
     "text": [
      "[Parallel(n_jobs=1)]: Using backend SequentialBackend with 1 concurrent workers.\n"
     ]
    },
    {
     "name": "stdout",
     "output_type": "stream",
     "text": [
      "[CV]  SVM__C=0.1, SVM__gamma=0.1, score=0.9125962255746594, total=  56.5s\n",
      "[CV] SVM__C=0.1, SVM__gamma=0.1 ......................................\n"
     ]
    },
    {
     "name": "stderr",
     "output_type": "stream",
     "text": [
      "[Parallel(n_jobs=1)]: Done   1 out of   1 | elapsed:   59.7s remaining:    0.0s\n"
     ]
    },
    {
     "name": "stdout",
     "output_type": "stream",
     "text": [
      "[CV]  SVM__C=0.1, SVM__gamma=0.1, score=0.920535977402267, total=  53.4s\n",
      "[CV] SVM__C=0.1, SVM__gamma=0.1 ......................................\n"
     ]
    },
    {
     "name": "stderr",
     "output_type": "stream",
     "text": [
      "[Parallel(n_jobs=1)]: Done   2 out of   2 | elapsed:  1.9min remaining:    0.0s\n"
     ]
    },
    {
     "name": "stdout",
     "output_type": "stream",
     "text": [
      "[CV]  SVM__C=0.1, SVM__gamma=0.1, score=0.9209127260791543, total=  48.1s\n",
      "[CV] SVM__C=0.1, SVM__gamma=0.1 ......................................\n"
     ]
    },
    {
     "name": "stderr",
     "output_type": "stream",
     "text": [
      "[Parallel(n_jobs=1)]: Done   3 out of   3 | elapsed:  2.8min remaining:    0.0s\n"
     ]
    },
    {
     "name": "stdout",
     "output_type": "stream",
     "text": [
      "[CV]  SVM__C=0.1, SVM__gamma=0.1, score=0.9174363360622155, total=  49.5s\n",
      "[CV] SVM__C=0.1, SVM__gamma=0.1 ......................................\n"
     ]
    },
    {
     "name": "stderr",
     "output_type": "stream",
     "text": [
      "[Parallel(n_jobs=1)]: Done   4 out of   4 | elapsed:  3.7min remaining:    0.0s\n"
     ]
    },
    {
     "name": "stdout",
     "output_type": "stream",
     "text": [
      "[CV]  SVM__C=0.1, SVM__gamma=0.1, score=0.9241702460914604, total=  46.6s\n",
      "[CV] SVM__C=0.1, SVM__gamma=0.01 .....................................\n"
     ]
    },
    {
     "name": "stderr",
     "output_type": "stream",
     "text": [
      "[Parallel(n_jobs=1)]: Done   5 out of   5 | elapsed:  4.5min remaining:    0.0s\n"
     ]
    },
    {
     "name": "stdout",
     "output_type": "stream",
     "text": [
      "[CV]  SVM__C=0.1, SVM__gamma=0.01, score=0.9137912247783923, total=  42.9s\n",
      "[CV] SVM__C=0.1, SVM__gamma=0.01 .....................................\n"
     ]
    },
    {
     "name": "stderr",
     "output_type": "stream",
     "text": [
      "[Parallel(n_jobs=1)]: Done   6 out of   6 | elapsed:  5.2min remaining:    0.0s\n"
     ]
    },
    {
     "name": "stdout",
     "output_type": "stream",
     "text": [
      "[CV]  SVM__C=0.1, SVM__gamma=0.01, score=0.9131100154053671, total=  48.5s\n",
      "[CV] SVM__C=0.1, SVM__gamma=0.01 .....................................\n"
     ]
    },
    {
     "name": "stderr",
     "output_type": "stream",
     "text": [
      "[Parallel(n_jobs=1)]: Done   7 out of   7 | elapsed:  6.1min remaining:    0.0s\n"
     ]
    },
    {
     "name": "stdout",
     "output_type": "stream",
     "text": [
      "[CV]  SVM__C=0.1, SVM__gamma=0.01, score=0.9100427181488643, total=  44.6s\n",
      "[CV] SVM__C=0.1, SVM__gamma=0.01 .....................................\n"
     ]
    },
    {
     "name": "stderr",
     "output_type": "stream",
     "text": [
      "[Parallel(n_jobs=1)]: Done   8 out of   8 | elapsed:  6.9min remaining:    0.0s\n"
     ]
    },
    {
     "name": "stdout",
     "output_type": "stream",
     "text": [
      "[CV]  SVM__C=0.1, SVM__gamma=0.01, score=0.9135358791720873, total=  50.1s\n",
      "[CV] SVM__C=0.1, SVM__gamma=0.01 .....................................\n"
     ]
    },
    {
     "name": "stderr",
     "output_type": "stream",
     "text": [
      "[Parallel(n_jobs=1)]: Done   9 out of   9 | elapsed:  7.8min remaining:    0.0s\n"
     ]
    },
    {
     "name": "stdout",
     "output_type": "stream",
     "text": [
      "[CV]  SVM__C=0.1, SVM__gamma=0.01, score=0.9127905580059, total=  50.0s\n",
      "[CV] SVM__C=10, SVM__gamma=0.1 .......................................\n",
      "[CV]  SVM__C=10, SVM__gamma=0.1, score=0.9050682095487381, total=  37.6s\n",
      "[CV] SVM__C=10, SVM__gamma=0.1 .......................................\n",
      "[CV]  SVM__C=10, SVM__gamma=0.1, score=0.9130489210253314, total=  40.8s\n",
      "[CV] SVM__C=10, SVM__gamma=0.1 .......................................\n",
      "[CV]  SVM__C=10, SVM__gamma=0.1, score=0.9099492796852802, total=  39.8s\n",
      "[CV] SVM__C=10, SVM__gamma=0.1 .......................................\n",
      "[CV]  SVM__C=10, SVM__gamma=0.1, score=0.905291731654316, total=  40.1s\n",
      "[CV] SVM__C=10, SVM__gamma=0.1 .......................................\n",
      "[CV]  SVM__C=10, SVM__gamma=0.1, score=0.9203902293714626, total=  39.1s\n",
      "[CV] SVM__C=10, SVM__gamma=0.01 ......................................\n",
      "[CV]  SVM__C=10, SVM__gamma=0.01, score=0.9244827557304283, total=  35.2s\n",
      "[CV] SVM__C=10, SVM__gamma=0.01 ......................................\n",
      "[CV]  SVM__C=10, SVM__gamma=0.01, score=0.9347482072992211, total=  36.0s\n",
      "[CV] SVM__C=10, SVM__gamma=0.01 ......................................\n",
      "[CV]  SVM__C=10, SVM__gamma=0.01, score=0.9310567890231367, total=  36.9s\n",
      "[CV] SVM__C=10, SVM__gamma=0.01 ......................................\n",
      "[CV]  SVM__C=10, SVM__gamma=0.01, score=0.9226077956428926, total=  36.1s\n",
      "[CV] SVM__C=10, SVM__gamma=0.01 ......................................\n",
      "[CV]  SVM__C=10, SVM__gamma=0.01, score=0.9341505952895731, total=  38.1s\n",
      "[CV] SVM__C=100, SVM__gamma=0.1 ......................................\n",
      "[CV]  SVM__C=100, SVM__gamma=0.1, score=0.8911520965770098, total=  31.5s\n",
      "[CV] SVM__C=100, SVM__gamma=0.1 ......................................\n",
      "[CV]  SVM__C=100, SVM__gamma=0.1, score=0.9013523420710275, total=  33.4s\n",
      "[CV] SVM__C=100, SVM__gamma=0.1 ......................................\n",
      "[CV]  SVM__C=100, SVM__gamma=0.1, score=0.8933136393802393, total=  30.7s\n",
      "[CV] SVM__C=100, SVM__gamma=0.1 ......................................\n",
      "[CV]  SVM__C=100, SVM__gamma=0.1, score=0.8920426366896909, total=  30.7s\n",
      "[CV] SVM__C=100, SVM__gamma=0.1 ......................................\n",
      "[CV]  SVM__C=100, SVM__gamma=0.1, score=0.9095762825871794, total=  31.6s\n",
      "[CV] SVM__C=100, SVM__gamma=0.01 .....................................\n",
      "[CV]  SVM__C=100, SVM__gamma=0.01, score=0.9098206663018606, total=  55.7s\n",
      "[CV] SVM__C=100, SVM__gamma=0.01 .....................................\n",
      "[CV]  SVM__C=100, SVM__gamma=0.01, score=0.9216835934037235, total=  56.0s\n",
      "[CV] SVM__C=100, SVM__gamma=0.01 .....................................\n",
      "[CV]  SVM__C=100, SVM__gamma=0.01, score=0.9172686259993721, total=  52.1s\n",
      "[CV] SVM__C=100, SVM__gamma=0.01 .....................................\n",
      "[CV]  SVM__C=100, SVM__gamma=0.01, score=0.914702662037869, total=  52.2s\n",
      "[CV] SVM__C=100, SVM__gamma=0.01 .....................................\n",
      "[CV]  SVM__C=100, SVM__gamma=0.01, score=0.9263263090124632, total=  55.5s\n"
     ]
    },
    {
     "name": "stderr",
     "output_type": "stream",
     "text": [
      "[Parallel(n_jobs=1)]: Done  30 out of  30 | elapsed: 22.7min finished\n"
     ]
    },
    {
     "name": "stdout",
     "output_type": "stream",
     "text": [
      "0.9294084880501672\n",
      "{'SVM__C': 10, 'SVM__gamma': 0.01}\n",
      "Fitting 5 folds for each of 6 candidates, totalling 30 fits\n",
      "[CV] SVM__C=0.1, SVM__gamma=0.1 ......................................\n"
     ]
    },
    {
     "name": "stderr",
     "output_type": "stream",
     "text": [
      "[Parallel(n_jobs=1)]: Using backend SequentialBackend with 1 concurrent workers.\n"
     ]
    },
    {
     "name": "stdout",
     "output_type": "stream",
     "text": [
      "[CV]  SVM__C=0.1, SVM__gamma=0.1, score=0.9078449662155286, total=  48.2s\n",
      "[CV] SVM__C=0.1, SVM__gamma=0.1 ......................................\n"
     ]
    },
    {
     "name": "stderr",
     "output_type": "stream",
     "text": [
      "[Parallel(n_jobs=1)]: Done   1 out of   1 | elapsed:   51.4s remaining:    0.0s\n"
     ]
    },
    {
     "name": "stdout",
     "output_type": "stream",
     "text": [
      "[CV]  SVM__C=0.1, SVM__gamma=0.1, score=0.9207719694192679, total=  48.6s\n",
      "[CV] SVM__C=0.1, SVM__gamma=0.1 ......................................\n"
     ]
    },
    {
     "name": "stderr",
     "output_type": "stream",
     "text": [
      "[Parallel(n_jobs=1)]: Done   2 out of   2 | elapsed:  1.7min remaining:    0.0s\n"
     ]
    },
    {
     "name": "stdout",
     "output_type": "stream",
     "text": [
      "[CV]  SVM__C=0.1, SVM__gamma=0.1, score=0.9129932173258869, total=  49.1s\n",
      "[CV] SVM__C=0.1, SVM__gamma=0.1 ......................................\n"
     ]
    },
    {
     "name": "stderr",
     "output_type": "stream",
     "text": [
      "[Parallel(n_jobs=1)]: Done   3 out of   3 | elapsed:  2.6min remaining:    0.0s\n"
     ]
    },
    {
     "name": "stdout",
     "output_type": "stream",
     "text": [
      "[CV]  SVM__C=0.1, SVM__gamma=0.1, score=0.915964081296255, total=  47.6s\n",
      "[CV] SVM__C=0.1, SVM__gamma=0.1 ......................................\n"
     ]
    },
    {
     "name": "stderr",
     "output_type": "stream",
     "text": [
      "[Parallel(n_jobs=1)]: Done   4 out of   4 | elapsed:  3.4min remaining:    0.0s\n"
     ]
    },
    {
     "name": "stdout",
     "output_type": "stream",
     "text": [
      "[CV]  SVM__C=0.1, SVM__gamma=0.1, score=0.9183903158542092, total=  48.4s\n",
      "[CV] SVM__C=0.1, SVM__gamma=0.01 .....................................\n"
     ]
    },
    {
     "name": "stderr",
     "output_type": "stream",
     "text": [
      "[Parallel(n_jobs=1)]: Done   5 out of   5 | elapsed:  4.3min remaining:    0.0s\n"
     ]
    },
    {
     "name": "stdout",
     "output_type": "stream",
     "text": [
      "[CV]  SVM__C=0.1, SVM__gamma=0.01, score=0.9118873683315633, total=  46.1s\n",
      "[CV] SVM__C=0.1, SVM__gamma=0.01 .....................................\n"
     ]
    },
    {
     "name": "stderr",
     "output_type": "stream",
     "text": [
      "[Parallel(n_jobs=1)]: Done   6 out of   6 | elapsed:  5.1min remaining:    0.0s\n"
     ]
    },
    {
     "name": "stdout",
     "output_type": "stream",
     "text": [
      "[CV]  SVM__C=0.1, SVM__gamma=0.01, score=0.913832366604614, total=  45.9s\n",
      "[CV] SVM__C=0.1, SVM__gamma=0.01 .....................................\n"
     ]
    },
    {
     "name": "stderr",
     "output_type": "stream",
     "text": [
      "[Parallel(n_jobs=1)]: Done   7 out of   7 | elapsed:  5.9min remaining:    0.0s\n"
     ]
    },
    {
     "name": "stdout",
     "output_type": "stream",
     "text": [
      "[CV]  SVM__C=0.1, SVM__gamma=0.01, score=0.9058990816676129, total=  46.3s\n",
      "[CV] SVM__C=0.1, SVM__gamma=0.01 .....................................\n"
     ]
    },
    {
     "name": "stderr",
     "output_type": "stream",
     "text": [
      "[Parallel(n_jobs=1)]: Done   8 out of   8 | elapsed:  6.8min remaining:    0.0s\n"
     ]
    },
    {
     "name": "stdout",
     "output_type": "stream",
     "text": [
      "[CV]  SVM__C=0.1, SVM__gamma=0.01, score=0.9130567075639634, total=  45.7s\n",
      "[CV] SVM__C=0.1, SVM__gamma=0.01 .....................................\n"
     ]
    },
    {
     "name": "stderr",
     "output_type": "stream",
     "text": [
      "[Parallel(n_jobs=1)]: Done   9 out of   9 | elapsed:  7.6min remaining:    0.0s\n"
     ]
    },
    {
     "name": "stdout",
     "output_type": "stream",
     "text": [
      "[CV]  SVM__C=0.1, SVM__gamma=0.01, score=0.9114032306110487, total=  50.4s\n",
      "[CV] SVM__C=10, SVM__gamma=0.1 .......................................\n",
      "[CV]  SVM__C=10, SVM__gamma=0.1, score=0.9015993591547357, total=  36.3s\n",
      "[CV] SVM__C=10, SVM__gamma=0.1 .......................................\n",
      "[CV]  SVM__C=10, SVM__gamma=0.1, score=0.9141007027051632, total=  40.1s\n",
      "[CV] SVM__C=10, SVM__gamma=0.1 .......................................\n",
      "[CV]  SVM__C=10, SVM__gamma=0.1, score=0.9054354831367531, total=  42.9s\n",
      "[CV] SVM__C=10, SVM__gamma=0.1 .......................................\n",
      "[CV]  SVM__C=10, SVM__gamma=0.1, score=0.9069508633474449, total=  36.9s\n",
      "[CV] SVM__C=10, SVM__gamma=0.1 .......................................\n",
      "[CV]  SVM__C=10, SVM__gamma=0.1, score=0.9158102472445636, total=  38.9s\n",
      "[CV] SVM__C=10, SVM__gamma=0.01 ......................................\n",
      "[CV]  SVM__C=10, SVM__gamma=0.01, score=0.9207301229603889, total=  41.9s\n",
      "[CV] SVM__C=10, SVM__gamma=0.01 ......................................\n",
      "[CV]  SVM__C=10, SVM__gamma=0.01, score=0.9322349522146113, total=  45.2s\n",
      "[CV] SVM__C=10, SVM__gamma=0.01 ......................................\n",
      "[CV]  SVM__C=10, SVM__gamma=0.01, score=0.9258469957138099, total=  49.6s\n",
      "[CV] SVM__C=10, SVM__gamma=0.01 ......................................\n",
      "[CV]  SVM__C=10, SVM__gamma=0.01, score=0.9223166988909574, total=  42.8s\n",
      "[CV] SVM__C=10, SVM__gamma=0.01 ......................................\n",
      "[CV]  SVM__C=10, SVM__gamma=0.01, score=0.9288607339502437, total=  43.1s\n",
      "[CV] SVM__C=100, SVM__gamma=0.1 ......................................\n",
      "[CV]  SVM__C=100, SVM__gamma=0.1, score=0.8903606191484853, total=  33.6s\n",
      "[CV] SVM__C=100, SVM__gamma=0.1 ......................................\n",
      "[CV]  SVM__C=100, SVM__gamma=0.1, score=0.9036200217064739, total=  34.7s\n",
      "[CV] SVM__C=100, SVM__gamma=0.1 ......................................\n",
      "[CV]  SVM__C=100, SVM__gamma=0.1, score=0.8909836674357372, total=  38.7s\n",
      "[CV] SVM__C=100, SVM__gamma=0.1 ......................................\n",
      "[CV]  SVM__C=100, SVM__gamma=0.1, score=0.8948613636744795, total=  38.8s\n",
      "[CV] SVM__C=100, SVM__gamma=0.1 ......................................\n",
      "[CV]  SVM__C=100, SVM__gamma=0.1, score=0.9067752025137653, total=  38.5s\n",
      "[CV] SVM__C=100, SVM__gamma=0.01 .....................................\n",
      "[CV]  SVM__C=100, SVM__gamma=0.01, score=0.9062632087524711, total= 1.2min\n",
      "[CV] SVM__C=100, SVM__gamma=0.01 .....................................\n",
      "[CV]  SVM__C=100, SVM__gamma=0.01, score=0.917700479411194, total= 1.3min\n",
      "[CV] SVM__C=100, SVM__gamma=0.01 .....................................\n",
      "[CV]  SVM__C=100, SVM__gamma=0.01, score=0.9064465352298945, total= 1.2min\n",
      "[CV] SVM__C=100, SVM__gamma=0.01 .....................................\n",
      "[CV]  SVM__C=100, SVM__gamma=0.01, score=0.9106668391684456, total= 1.1min\n",
      "[CV] SVM__C=100, SVM__gamma=0.01 .....................................\n",
      "[CV]  SVM__C=100, SVM__gamma=0.01, score=0.9199818386231947, total= 1.2min\n"
     ]
    },
    {
     "name": "stderr",
     "output_type": "stream",
     "text": [
      "[Parallel(n_jobs=1)]: Done  30 out of  30 | elapsed: 25.1min finished\n"
     ]
    },
    {
     "name": "stdout",
     "output_type": "stream",
     "text": [
      "0.9259972779492968\n",
      "{'SVM__C': 10, 'SVM__gamma': 0.01}\n",
      "Fitting 5 folds for each of 6 candidates, totalling 30 fits\n",
      "[CV] SVM__C=0.1, SVM__gamma=0.1 ......................................\n"
     ]
    },
    {
     "name": "stderr",
     "output_type": "stream",
     "text": [
      "[Parallel(n_jobs=1)]: Using backend SequentialBackend with 1 concurrent workers.\n"
     ]
    },
    {
     "name": "stdout",
     "output_type": "stream",
     "text": [
      "[CV]  SVM__C=0.1, SVM__gamma=0.1, score=0.894516773693733, total=   1.7s\n",
      "[CV] SVM__C=0.1, SVM__gamma=0.1 ......................................\n"
     ]
    },
    {
     "name": "stderr",
     "output_type": "stream",
     "text": [
      "[Parallel(n_jobs=1)]: Done   1 out of   1 | elapsed:    2.4s remaining:    0.0s\n"
     ]
    },
    {
     "name": "stdout",
     "output_type": "stream",
     "text": [
      "[CV]  SVM__C=0.1, SVM__gamma=0.1, score=0.9021214125020665, total=   1.6s\n",
      "[CV] SVM__C=0.1, SVM__gamma=0.1 ......................................\n"
     ]
    },
    {
     "name": "stderr",
     "output_type": "stream",
     "text": [
      "[Parallel(n_jobs=1)]: Done   2 out of   2 | elapsed:    4.8s remaining:    0.0s\n"
     ]
    },
    {
     "name": "stdout",
     "output_type": "stream",
     "text": [
      "[CV]  SVM__C=0.1, SVM__gamma=0.1, score=0.8998411546119068, total=   1.6s\n",
      "[CV] SVM__C=0.1, SVM__gamma=0.1 ......................................\n"
     ]
    },
    {
     "name": "stderr",
     "output_type": "stream",
     "text": [
      "[Parallel(n_jobs=1)]: Done   3 out of   3 | elapsed:    7.2s remaining:    0.0s\n"
     ]
    },
    {
     "name": "stdout",
     "output_type": "stream",
     "text": [
      "[CV]  SVM__C=0.1, SVM__gamma=0.1, score=0.8980993658163767, total=   1.8s\n",
      "[CV] SVM__C=0.1, SVM__gamma=0.1 ......................................\n"
     ]
    },
    {
     "name": "stderr",
     "output_type": "stream",
     "text": [
      "[Parallel(n_jobs=1)]: Done   4 out of   4 | elapsed:    9.8s remaining:    0.0s\n"
     ]
    },
    {
     "name": "stdout",
     "output_type": "stream",
     "text": [
      "[CV]  SVM__C=0.1, SVM__gamma=0.1, score=0.9032234041530938, total=   1.8s\n",
      "[CV] SVM__C=0.1, SVM__gamma=0.01 .....................................\n"
     ]
    },
    {
     "name": "stderr",
     "output_type": "stream",
     "text": [
      "[Parallel(n_jobs=1)]: Done   5 out of   5 | elapsed:   12.4s remaining:    0.0s\n"
     ]
    },
    {
     "name": "stdout",
     "output_type": "stream",
     "text": [
      "[CV]  SVM__C=0.1, SVM__gamma=0.01, score=0.8982071419762031, total=   1.3s\n",
      "[CV] SVM__C=0.1, SVM__gamma=0.01 .....................................\n"
     ]
    },
    {
     "name": "stderr",
     "output_type": "stream",
     "text": [
      "[Parallel(n_jobs=1)]: Done   6 out of   6 | elapsed:   14.2s remaining:    0.0s\n"
     ]
    },
    {
     "name": "stdout",
     "output_type": "stream",
     "text": [
      "[CV]  SVM__C=0.1, SVM__gamma=0.01, score=0.8979514215823683, total=   1.3s\n",
      "[CV] SVM__C=0.1, SVM__gamma=0.01 .....................................\n"
     ]
    },
    {
     "name": "stderr",
     "output_type": "stream",
     "text": [
      "[Parallel(n_jobs=1)]: Done   7 out of   7 | elapsed:   16.1s remaining:    0.0s\n"
     ]
    },
    {
     "name": "stdout",
     "output_type": "stream",
     "text": [
      "[CV]  SVM__C=0.1, SVM__gamma=0.01, score=0.8948493843842763, total=   1.3s\n",
      "[CV] SVM__C=0.1, SVM__gamma=0.01 .....................................\n"
     ]
    },
    {
     "name": "stderr",
     "output_type": "stream",
     "text": [
      "[Parallel(n_jobs=1)]: Done   8 out of   8 | elapsed:   18.0s remaining:    0.0s\n"
     ]
    },
    {
     "name": "stdout",
     "output_type": "stream",
     "text": [
      "[CV]  SVM__C=0.1, SVM__gamma=0.01, score=0.89830540960787, total=   1.5s\n",
      "[CV] SVM__C=0.1, SVM__gamma=0.01 .....................................\n"
     ]
    },
    {
     "name": "stderr",
     "output_type": "stream",
     "text": [
      "[Parallel(n_jobs=1)]: Done   9 out of   9 | elapsed:   20.2s remaining:    0.0s\n"
     ]
    },
    {
     "name": "stdout",
     "output_type": "stream",
     "text": [
      "[CV]  SVM__C=0.1, SVM__gamma=0.01, score=0.8985088933091182, total=   1.3s\n",
      "[CV] SVM__C=10, SVM__gamma=0.1 .......................................\n",
      "[CV]  SVM__C=10, SVM__gamma=0.1, score=0.9067349819852074, total=   2.1s\n",
      "[CV] SVM__C=10, SVM__gamma=0.1 .......................................\n",
      "[CV]  SVM__C=10, SVM__gamma=0.1, score=0.9179987637372511, total=   2.3s\n",
      "[CV] SVM__C=10, SVM__gamma=0.1 .......................................\n",
      "[CV]  SVM__C=10, SVM__gamma=0.1, score=0.9111160625510617, total=   2.3s\n",
      "[CV] SVM__C=10, SVM__gamma=0.1 .......................................\n",
      "[CV]  SVM__C=10, SVM__gamma=0.1, score=0.9151506874914646, total=   2.1s\n",
      "[CV] SVM__C=10, SVM__gamma=0.1 .......................................\n",
      "[CV]  SVM__C=10, SVM__gamma=0.1, score=0.9270121652397014, total=   2.4s\n",
      "[CV] SVM__C=10, SVM__gamma=0.01 ......................................\n",
      "[CV]  SVM__C=10, SVM__gamma=0.01, score=0.9232769799807697, total=   1.1s\n",
      "[CV] SVM__C=10, SVM__gamma=0.01 ......................................\n",
      "[CV]  SVM__C=10, SVM__gamma=0.01, score=0.92851658053557, total=   1.1s\n",
      "[CV] SVM__C=10, SVM__gamma=0.01 ......................................\n",
      "[CV]  SVM__C=10, SVM__gamma=0.01, score=0.931734816848632, total=   1.0s\n",
      "[CV] SVM__C=10, SVM__gamma=0.01 ......................................\n",
      "[CV]  SVM__C=10, SVM__gamma=0.01, score=0.9286657226985986, total=   1.2s\n",
      "[CV] SVM__C=10, SVM__gamma=0.01 ......................................\n",
      "[CV]  SVM__C=10, SVM__gamma=0.01, score=0.9290324982943682, total=   1.2s\n",
      "[CV] SVM__C=100, SVM__gamma=0.1 ......................................\n",
      "[CV]  SVM__C=100, SVM__gamma=0.1, score=0.8928009081036035, total=   2.1s\n",
      "[CV] SVM__C=100, SVM__gamma=0.1 ......................................\n",
      "[CV]  SVM__C=100, SVM__gamma=0.1, score=0.9062087463193631, total=   2.3s\n",
      "[CV] SVM__C=100, SVM__gamma=0.1 ......................................\n",
      "[CV]  SVM__C=100, SVM__gamma=0.1, score=0.8901175647540533, total=   2.3s\n",
      "[CV] SVM__C=100, SVM__gamma=0.1 ......................................\n",
      "[CV]  SVM__C=100, SVM__gamma=0.1, score=0.8941473979783751, total=   2.2s\n",
      "[CV] SVM__C=100, SVM__gamma=0.1 ......................................\n",
      "[CV]  SVM__C=100, SVM__gamma=0.1, score=0.9078874667281654, total=   2.1s\n",
      "[CV] SVM__C=100, SVM__gamma=0.01 .....................................\n",
      "[CV]  SVM__C=100, SVM__gamma=0.01, score=0.9162937782210795, total=   1.9s\n",
      "[CV] SVM__C=100, SVM__gamma=0.01 .....................................\n",
      "[CV]  SVM__C=100, SVM__gamma=0.01, score=0.9215626025726722, total=   2.0s\n",
      "[CV] SVM__C=100, SVM__gamma=0.01 .....................................\n",
      "[CV]  SVM__C=100, SVM__gamma=0.01, score=0.9216183062721168, total=   2.0s\n",
      "[CV] SVM__C=100, SVM__gamma=0.01 .....................................\n",
      "[CV]  SVM__C=100, SVM__gamma=0.01, score=0.9130039986870696, total=   2.2s\n",
      "[CV] SVM__C=100, SVM__gamma=0.01 .....................................\n",
      "[CV]  SVM__C=100, SVM__gamma=0.01, score=0.9263779584306265, total=   2.3s\n"
     ]
    },
    {
     "name": "stderr",
     "output_type": "stream",
     "text": [
      "[Parallel(n_jobs=1)]: Done  30 out of  30 | elapsed:  1.2min finished\n"
     ]
    },
    {
     "name": "stdout",
     "output_type": "stream",
     "text": [
      "0.9282448788046161\n",
      "{'SVM__C': 10, 'SVM__gamma': 0.01}\n"
     ]
    }
   ],
   "source": [
    "svm_grid_search_results = complete_grid_search(X_train, y_train, svm_steps_list, svm_parameters)"
   ]
  },
  {
   "cell_type": "code",
   "execution_count": 62,
   "metadata": {},
   "outputs": [
    {
     "name": "stdout",
     "output_type": "stream",
     "text": [
      "Hyperparameters: {'SVM__C': 10, 'SVM__gamma': 0.01}\n",
      "Tranformations/Resampling: [('scaler', StandardScaler(copy=True, with_mean=True, with_std=True)), ('ros', RandomOverSampler(random_state=None, ratio=None, return_indices=False,\n",
      "         sampling_strategy='auto')), ('SVM', SVC(C=1.0, cache_size=200, class_weight=None, coef0=0.0,\n",
      "  decision_function_shape='ovr', degree=3, gamma='auto_deprecated',\n",
      "  kernel='rbf', max_iter=-1, probability=True, random_state=None,\n",
      "  shrinking=True, tol=0.001, verbose=False))]\n"
     ]
    }
   ],
   "source": [
    "svm_best_model = best_model_finder(svm_grid_search_results, svm_steps_list)"
   ]
  },
  {
   "cell_type": "code",
   "execution_count": 63,
   "metadata": {},
   "outputs": [
    {
     "name": "stdout",
     "output_type": "stream",
     "text": [
      "ROC AUC Score on Unseen Data: 0.9310651448669431\n"
     ]
    }
   ],
   "source": [
    "svm_fpr, svm_tpr, svm_val_score = roc_curve_calculator(svm_best_model, X_val, y_val)"
   ]
  },
  {
   "cell_type": "markdown",
   "metadata": {},
   "source": [
    "### Logistic Regression"
   ]
  },
  {
   "cell_type": "code",
   "execution_count": 31,
   "metadata": {},
   "outputs": [],
   "source": [
    "lr_steps_list = [[('scaler', StandardScaler()),('LR', LogisticRegression())],\n",
    "                 [('scaler', StandardScaler()), ('ros', RandomOverSampler()),\n",
    "                  ('LR', LogisticRegression())],\n",
    "                 [('scaler', StandardScaler()), ('smote',SMOTE()),\n",
    "                  ('LR', LogisticRegression())],\n",
    "                 [('scaler', StandardScaler()), ('adasyn',ADASYN()),\n",
    "                  ('LR', LogisticRegression())],\n",
    "                 [('scaler', StandardScaler()), ('rus',RandomUnderSampler()),\n",
    "                  ('LR', LogisticRegression())]]\n",
    "\n",
    "lr_parameters = {'LR__C':[x for x in np.logspace(-3,3,7)], 'LR__penalty':['l1','l2']}"
   ]
  },
  {
   "cell_type": "code",
   "execution_count": 32,
   "metadata": {
    "scrolled": true
   },
   "outputs": [
    {
     "name": "stdout",
     "output_type": "stream",
     "text": [
      "Fitting 5 folds for each of 14 candidates, totalling 70 fits\n"
     ]
    },
    {
     "name": "stderr",
     "output_type": "stream",
     "text": [
      "[Parallel(n_jobs=-1)]: Using backend LokyBackend with 12 concurrent workers.\n",
      "[Parallel(n_jobs=-1)]: Done   1 tasks      | elapsed:    0.1s\n",
      "[Parallel(n_jobs=-1)]: Batch computation too fast (0.0865s.) Setting batch_size=4.\n",
      "[Parallel(n_jobs=-1)]: Done   8 tasks      | elapsed:    0.3s\n",
      "[Parallel(n_jobs=-1)]: Done  15 out of  70 | elapsed:    0.3s remaining:    1.2s\n",
      "[Parallel(n_jobs=-1)]: Done  23 out of  70 | elapsed:    0.9s remaining:    1.8s\n",
      "[Parallel(n_jobs=-1)]: Done  70 out of  70 | elapsed:   16.0s finished\n",
      "/anaconda3/lib/python3.7/site-packages/sklearn/linear_model/logistic.py:433: FutureWarning: Default solver will be changed to 'lbfgs' in 0.22. Specify a solver to silence this warning.\n",
      "  FutureWarning)\n"
     ]
    },
    {
     "name": "stdout",
     "output_type": "stream",
     "text": [
      "0.9076898150450341\n",
      "{'LR__C': 10.0, 'LR__penalty': 'l1'}\n",
      "Fitting 5 folds for each of 14 candidates, totalling 70 fits\n"
     ]
    },
    {
     "name": "stderr",
     "output_type": "stream",
     "text": [
      "[Parallel(n_jobs=-1)]: Using backend LokyBackend with 12 concurrent workers.\n",
      "[Parallel(n_jobs=-1)]: Done   1 tasks      | elapsed:    0.2s\n",
      "[Parallel(n_jobs=-1)]: Done   8 tasks      | elapsed:    0.4s\n",
      "[Parallel(n_jobs=-1)]: Done  17 tasks      | elapsed:    0.9s\n",
      "[Parallel(n_jobs=-1)]: Done  26 tasks      | elapsed:    1.6s\n",
      "[Parallel(n_jobs=-1)]: Done  37 tasks      | elapsed:    4.1s\n",
      "[Parallel(n_jobs=-1)]: Done  55 out of  70 | elapsed:    9.4s remaining:    2.6s\n",
      "[Parallel(n_jobs=-1)]: Done  63 out of  70 | elapsed:   10.9s remaining:    1.2s\n",
      "[Parallel(n_jobs=-1)]: Done  70 out of  70 | elapsed:   13.0s finished\n",
      "/anaconda3/lib/python3.7/site-packages/sklearn/linear_model/logistic.py:433: FutureWarning: Default solver will be changed to 'lbfgs' in 0.22. Specify a solver to silence this warning.\n",
      "  FutureWarning)\n"
     ]
    },
    {
     "name": "stdout",
     "output_type": "stream",
     "text": [
      "0.906119410881329\n",
      "{'LR__C': 100.0, 'LR__penalty': 'l1'}\n",
      "Fitting 5 folds for each of 14 candidates, totalling 70 fits\n"
     ]
    },
    {
     "name": "stderr",
     "output_type": "stream",
     "text": [
      "[Parallel(n_jobs=-1)]: Using backend LokyBackend with 12 concurrent workers.\n",
      "[Parallel(n_jobs=-1)]: Done   1 tasks      | elapsed:    0.5s\n",
      "[Parallel(n_jobs=-1)]: Done   8 tasks      | elapsed:    0.6s\n",
      "[Parallel(n_jobs=-1)]: Done  17 tasks      | elapsed:    1.2s\n",
      "[Parallel(n_jobs=-1)]: Done  26 tasks      | elapsed:    2.1s\n",
      "[Parallel(n_jobs=-1)]: Done  37 tasks      | elapsed:    5.0s\n",
      "[Parallel(n_jobs=-1)]: Done  55 out of  70 | elapsed:   12.1s remaining:    3.3s\n",
      "[Parallel(n_jobs=-1)]: Done  63 out of  70 | elapsed:   13.5s remaining:    1.5s\n",
      "[Parallel(n_jobs=-1)]: Done  70 out of  70 | elapsed:   15.9s finished\n",
      "/anaconda3/lib/python3.7/site-packages/sklearn/linear_model/logistic.py:433: FutureWarning: Default solver will be changed to 'lbfgs' in 0.22. Specify a solver to silence this warning.\n",
      "  FutureWarning)\n"
     ]
    },
    {
     "name": "stdout",
     "output_type": "stream",
     "text": [
      "0.9060368417965554\n",
      "{'LR__C': 0.1, 'LR__penalty': 'l1'}\n",
      "Fitting 5 folds for each of 14 candidates, totalling 70 fits\n"
     ]
    },
    {
     "name": "stderr",
     "output_type": "stream",
     "text": [
      "[Parallel(n_jobs=-1)]: Using backend LokyBackend with 12 concurrent workers.\n",
      "[Parallel(n_jobs=-1)]: Done   1 tasks      | elapsed:    3.0s\n",
      "[Parallel(n_jobs=-1)]: Done   8 tasks      | elapsed:    3.3s\n",
      "[Parallel(n_jobs=-1)]: Done  17 tasks      | elapsed:    6.4s\n",
      "[Parallel(n_jobs=-1)]: Done  26 tasks      | elapsed:    9.7s\n",
      "[Parallel(n_jobs=-1)]: Done  37 tasks      | elapsed:   15.3s\n",
      "[Parallel(n_jobs=-1)]: Done  55 out of  70 | elapsed:   26.5s remaining:    7.2s\n",
      "[Parallel(n_jobs=-1)]: Done  63 out of  70 | elapsed:   31.2s remaining:    3.5s\n",
      "[Parallel(n_jobs=-1)]: Done  70 out of  70 | elapsed:   33.9s finished\n",
      "/anaconda3/lib/python3.7/site-packages/sklearn/linear_model/logistic.py:433: FutureWarning: Default solver will be changed to 'lbfgs' in 0.22. Specify a solver to silence this warning.\n",
      "  FutureWarning)\n"
     ]
    },
    {
     "name": "stdout",
     "output_type": "stream",
     "text": [
      "0.9034745731759642\n",
      "{'LR__C': 0.1, 'LR__penalty': 'l1'}\n",
      "Fitting 5 folds for each of 14 candidates, totalling 70 fits\n"
     ]
    },
    {
     "name": "stderr",
     "output_type": "stream",
     "text": [
      "[Parallel(n_jobs=-1)]: Using backend LokyBackend with 12 concurrent workers.\n",
      "[Parallel(n_jobs=-1)]: Done   1 tasks      | elapsed:    0.1s\n",
      "[Parallel(n_jobs=-1)]: Batch computation too fast (0.0594s.) Setting batch_size=6.\n",
      "[Parallel(n_jobs=-1)]: Done   8 tasks      | elapsed:    0.2s\n",
      "[Parallel(n_jobs=-1)]: Done  15 out of  70 | elapsed:    0.2s remaining:    0.8s\n",
      "[Parallel(n_jobs=-1)]: Done  23 out of  70 | elapsed:    0.3s remaining:    0.7s\n"
     ]
    },
    {
     "name": "stdout",
     "output_type": "stream",
     "text": [
      "0.9054127769118289\n",
      "{'LR__C': 100.0, 'LR__penalty': 'l1'}\n"
     ]
    },
    {
     "name": "stderr",
     "output_type": "stream",
     "text": [
      "[Parallel(n_jobs=-1)]: Done  70 out of  70 | elapsed:    2.6s finished\n",
      "/anaconda3/lib/python3.7/site-packages/sklearn/linear_model/logistic.py:433: FutureWarning: Default solver will be changed to 'lbfgs' in 0.22. Specify a solver to silence this warning.\n",
      "  FutureWarning)\n"
     ]
    }
   ],
   "source": [
    "lr_grid_search_results = complete_grid_search(X_train, y_train, lr_steps_list, lr_parameters)"
   ]
  },
  {
   "cell_type": "code",
   "execution_count": 33,
   "metadata": {},
   "outputs": [
    {
     "name": "stdout",
     "output_type": "stream",
     "text": [
      "Hyperparameters: {'LR__C': 10.0, 'LR__penalty': 'l1'}\n",
      "Tranformations/Resampling: [('scaler', StandardScaler(copy=True, with_mean=True, with_std=True)), ('LR', LogisticRegression(C=1.0, class_weight=None, dual=False, fit_intercept=True,\n",
      "          intercept_scaling=1, max_iter=100, multi_class='warn',\n",
      "          n_jobs=None, penalty='l2', random_state=None, solver='warn',\n",
      "          tol=0.0001, verbose=0, warm_start=False))]\n"
     ]
    }
   ],
   "source": [
    "lr_best_model = best_model_finder(lr_grid_search_results, lr_steps_list)"
   ]
  },
  {
   "cell_type": "code",
   "execution_count": 34,
   "metadata": {},
   "outputs": [
    {
     "name": "stdout",
     "output_type": "stream",
     "text": [
      "ROC AUC Score on Unseen Data: 0.908220477056628\n"
     ]
    }
   ],
   "source": [
    "lr_fpr, lr_tpr, lr_val_score = roc_curve_calculator(lr_best_model, X_val, y_val)"
   ]
  },
  {
   "cell_type": "markdown",
   "metadata": {},
   "source": [
    "### Random Forest"
   ]
  },
  {
   "cell_type": "code",
   "execution_count": 48,
   "metadata": {},
   "outputs": [],
   "source": [
    "rf_steps_list = [[('RF', RandomForestClassifier(n_jobs=-1))],\n",
    "                 [('scaler', StandardScaler()),('RF', RandomForestClassifier(n_jobs=-1))],\n",
    "                 [('scaler', StandardScaler()), ('ros', RandomOverSampler()),\n",
    "                  ('RF', RandomForestClassifier(n_jobs=-1))],\n",
    "                 [('scaler', StandardScaler()), ('smote',SMOTE()),\n",
    "                  ('RF', RandomForestClassifier(n_jobs=-1))],\n",
    "                 [('scaler', StandardScaler()), ('adasyn',ADASYN()),\n",
    "                  ('RF', RandomForestClassifier(n_jobs=-1))],\n",
    "                 [('scaler', StandardScaler()), ('rus',RandomUnderSampler()),\n",
    "                  ('RF', RandomForestClassifier(n_jobs=-1))]]\n",
    "\n",
    "rf_parameters = {'RF__min_samples_leaf': [10,50,100,500],\n",
    "                 'RF__max_features': [.25,.5,.75, None],\n",
    "                 'RF__n_estimators':[150, 500, 1000, 1500]}"
   ]
  },
  {
   "cell_type": "code",
   "execution_count": 49,
   "metadata": {
    "scrolled": true
   },
   "outputs": [
    {
     "name": "stdout",
     "output_type": "stream",
     "text": [
      "Fitting 5 folds for each of 64 candidates, totalling 320 fits\n",
      "[CV] RF__max_features=0.25, RF__min_samples_leaf=10, RF__n_estimators=150 \n"
     ]
    },
    {
     "name": "stderr",
     "output_type": "stream",
     "text": [
      "[Parallel(n_jobs=1)]: Using backend SequentialBackend with 1 concurrent workers.\n"
     ]
    },
    {
     "name": "stdout",
     "output_type": "stream",
     "text": [
      "[CV]  RF__max_features=0.25, RF__min_samples_leaf=10, RF__n_estimators=150, score=0.9424029542104564, total=   2.1s\n",
      "[CV] RF__max_features=0.25, RF__min_samples_leaf=10, RF__n_estimators=150 \n"
     ]
    },
    {
     "name": "stderr",
     "output_type": "stream",
     "text": [
      "[Parallel(n_jobs=1)]: Done   1 out of   1 | elapsed:    2.2s remaining:    0.0s\n"
     ]
    },
    {
     "name": "stdout",
     "output_type": "stream",
     "text": [
      "[CV]  RF__max_features=0.25, RF__min_samples_leaf=10, RF__n_estimators=150, score=0.9447724773411725, total=   0.7s\n",
      "[CV] RF__max_features=0.25, RF__min_samples_leaf=10, RF__n_estimators=150 \n"
     ]
    },
    {
     "name": "stderr",
     "output_type": "stream",
     "text": [
      "[Parallel(n_jobs=1)]: Done   2 out of   2 | elapsed:    3.0s remaining:    0.0s\n"
     ]
    },
    {
     "name": "stdout",
     "output_type": "stream",
     "text": [
      "[CV]  RF__max_features=0.25, RF__min_samples_leaf=10, RF__n_estimators=150, score=0.9440950484801874, total=   0.7s\n",
      "[CV] RF__max_features=0.25, RF__min_samples_leaf=10, RF__n_estimators=150 \n"
     ]
    },
    {
     "name": "stderr",
     "output_type": "stream",
     "text": [
      "[Parallel(n_jobs=1)]: Done   3 out of   3 | elapsed:    3.9s remaining:    0.0s\n"
     ]
    },
    {
     "name": "stdout",
     "output_type": "stream",
     "text": [
      "[CV]  RF__max_features=0.25, RF__min_samples_leaf=10, RF__n_estimators=150, score=0.9434272030513646, total=   0.7s\n",
      "[CV] RF__max_features=0.25, RF__min_samples_leaf=10, RF__n_estimators=150 \n"
     ]
    },
    {
     "name": "stderr",
     "output_type": "stream",
     "text": [
      "[Parallel(n_jobs=1)]: Done   4 out of   4 | elapsed:    4.7s remaining:    0.0s\n"
     ]
    },
    {
     "name": "stdout",
     "output_type": "stream",
     "text": [
      "[CV]  RF__max_features=0.25, RF__min_samples_leaf=10, RF__n_estimators=150, score=0.9466065131117452, total=   0.7s\n",
      "[CV] RF__max_features=0.25, RF__min_samples_leaf=10, RF__n_estimators=500 \n"
     ]
    },
    {
     "name": "stderr",
     "output_type": "stream",
     "text": [
      "[Parallel(n_jobs=1)]: Done   5 out of   5 | elapsed:    5.6s remaining:    0.0s\n"
     ]
    },
    {
     "name": "stdout",
     "output_type": "stream",
     "text": [
      "[CV]  RF__max_features=0.25, RF__min_samples_leaf=10, RF__n_estimators=500, score=0.9434566609231668, total=   1.9s\n",
      "[CV] RF__max_features=0.25, RF__min_samples_leaf=10, RF__n_estimators=500 \n"
     ]
    },
    {
     "name": "stderr",
     "output_type": "stream",
     "text": [
      "[Parallel(n_jobs=1)]: Done   6 out of   6 | elapsed:    7.7s remaining:    0.0s\n"
     ]
    },
    {
     "name": "stdout",
     "output_type": "stream",
     "text": [
      "[CV]  RF__max_features=0.25, RF__min_samples_leaf=10, RF__n_estimators=500, score=0.9444280727478335, total=   2.0s\n",
      "[CV] RF__max_features=0.25, RF__min_samples_leaf=10, RF__n_estimators=500 \n"
     ]
    },
    {
     "name": "stderr",
     "output_type": "stream",
     "text": [
      "[Parallel(n_jobs=1)]: Done   7 out of   7 | elapsed:    9.9s remaining:    0.0s\n"
     ]
    },
    {
     "name": "stdout",
     "output_type": "stream",
     "text": [
      "[CV]  RF__max_features=0.25, RF__min_samples_leaf=10, RF__n_estimators=500, score=0.9446616689067939, total=   2.1s\n",
      "[CV] RF__max_features=0.25, RF__min_samples_leaf=10, RF__n_estimators=500 \n"
     ]
    },
    {
     "name": "stderr",
     "output_type": "stream",
     "text": [
      "[Parallel(n_jobs=1)]: Done   8 out of   8 | elapsed:   12.2s remaining:    0.0s\n"
     ]
    },
    {
     "name": "stdout",
     "output_type": "stream",
     "text": [
      "[CV]  RF__max_features=0.25, RF__min_samples_leaf=10, RF__n_estimators=500, score=0.9437644200705818, total=   2.0s\n",
      "[CV] RF__max_features=0.25, RF__min_samples_leaf=10, RF__n_estimators=500 \n"
     ]
    },
    {
     "name": "stderr",
     "output_type": "stream",
     "text": [
      "[Parallel(n_jobs=1)]: Done   9 out of   9 | elapsed:   14.3s remaining:    0.0s\n"
     ]
    },
    {
     "name": "stdout",
     "output_type": "stream",
     "text": [
      "[CV]  RF__max_features=0.25, RF__min_samples_leaf=10, RF__n_estimators=500, score=0.9469710619120374, total=   2.0s\n",
      "[CV] RF__max_features=0.25, RF__min_samples_leaf=10, RF__n_estimators=1000 \n",
      "[CV]  RF__max_features=0.25, RF__min_samples_leaf=10, RF__n_estimators=1000, score=0.9426232747049322, total=   4.1s\n",
      "[CV] RF__max_features=0.25, RF__min_samples_leaf=10, RF__n_estimators=1000 \n",
      "[CV]  RF__max_features=0.25, RF__min_samples_leaf=10, RF__n_estimators=1000, score=0.9452145131496669, total=   4.2s\n",
      "[CV] RF__max_features=0.25, RF__min_samples_leaf=10, RF__n_estimators=1000 \n",
      "[CV]  RF__max_features=0.25, RF__min_samples_leaf=10, RF__n_estimators=1000, score=0.9450521937674148, total=   4.2s\n",
      "[CV] RF__max_features=0.25, RF__min_samples_leaf=10, RF__n_estimators=1000 \n",
      "[CV]  RF__max_features=0.25, RF__min_samples_leaf=10, RF__n_estimators=1000, score=0.9434601460994232, total=   4.2s\n",
      "[CV] RF__max_features=0.25, RF__min_samples_leaf=10, RF__n_estimators=1000 \n",
      "[CV]  RF__max_features=0.25, RF__min_samples_leaf=10, RF__n_estimators=1000, score=0.9468869814638646, total=   4.2s\n",
      "[CV] RF__max_features=0.25, RF__min_samples_leaf=10, RF__n_estimators=1500 \n",
      "[CV]  RF__max_features=0.25, RF__min_samples_leaf=10, RF__n_estimators=1500, score=0.9425915437641517, total=   6.2s\n",
      "[CV] RF__max_features=0.25, RF__min_samples_leaf=10, RF__n_estimators=1500 \n",
      "[CV]  RF__max_features=0.25, RF__min_samples_leaf=10, RF__n_estimators=1500, score=0.9448551344435739, total=   6.4s\n",
      "[CV] RF__max_features=0.25, RF__min_samples_leaf=10, RF__n_estimators=1500 \n",
      "[CV]  RF__max_features=0.25, RF__min_samples_leaf=10, RF__n_estimators=1500, score=0.945168392882385, total=   6.9s\n",
      "[CV] RF__max_features=0.25, RF__min_samples_leaf=10, RF__n_estimators=1500 \n",
      "[CV]  RF__max_features=0.25, RF__min_samples_leaf=10, RF__n_estimators=1500, score=0.9436757733230792, total=   6.5s\n",
      "[CV] RF__max_features=0.25, RF__min_samples_leaf=10, RF__n_estimators=1500 \n",
      "[CV]  RF__max_features=0.25, RF__min_samples_leaf=10, RF__n_estimators=1500, score=0.9469920820240807, total=   6.3s\n",
      "[CV] RF__max_features=0.25, RF__min_samples_leaf=50, RF__n_estimators=150 \n",
      "[CV]  RF__max_features=0.25, RF__min_samples_leaf=50, RF__n_estimators=150, score=0.9315078662798285, total=   0.7s\n",
      "[CV] RF__max_features=0.25, RF__min_samples_leaf=50, RF__n_estimators=150 \n",
      "[CV]  RF__max_features=0.25, RF__min_samples_leaf=50, RF__n_estimators=150, score=0.9355400383816458, total=   0.7s\n",
      "[CV] RF__max_features=0.25, RF__min_samples_leaf=50, RF__n_estimators=150 \n",
      "[CV]  RF__max_features=0.25, RF__min_samples_leaf=50, RF__n_estimators=150, score=0.9330645180611759, total=   0.6s\n",
      "[CV] RF__max_features=0.25, RF__min_samples_leaf=50, RF__n_estimators=150 \n",
      "[CV]  RF__max_features=0.25, RF__min_samples_leaf=50, RF__n_estimators=150, score=0.933869526362824, total=   0.7s\n",
      "[CV] RF__max_features=0.25, RF__min_samples_leaf=50, RF__n_estimators=150 \n",
      "[CV]  RF__max_features=0.25, RF__min_samples_leaf=50, RF__n_estimators=150, score=0.9342989372231352, total=   0.7s\n",
      "[CV] RF__max_features=0.25, RF__min_samples_leaf=50, RF__n_estimators=500 \n",
      "[CV]  RF__max_features=0.25, RF__min_samples_leaf=50, RF__n_estimators=500, score=0.9324256687744793, total=   1.6s\n",
      "[CV] RF__max_features=0.25, RF__min_samples_leaf=50, RF__n_estimators=500 \n",
      "[CV]  RF__max_features=0.25, RF__min_samples_leaf=50, RF__n_estimators=500, score=0.9358011869080735, total=   1.6s\n",
      "[CV] RF__max_features=0.25, RF__min_samples_leaf=50, RF__n_estimators=500 \n",
      "[CV]  RF__max_features=0.25, RF__min_samples_leaf=50, RF__n_estimators=500, score=0.9337006183709603, total=   1.7s\n",
      "[CV] RF__max_features=0.25, RF__min_samples_leaf=50, RF__n_estimators=500 \n",
      "[CV]  RF__max_features=0.25, RF__min_samples_leaf=50, RF__n_estimators=500, score=0.9335233248759545, total=   1.8s\n",
      "[CV] RF__max_features=0.25, RF__min_samples_leaf=50, RF__n_estimators=500 \n",
      "[CV]  RF__max_features=0.25, RF__min_samples_leaf=50, RF__n_estimators=500, score=0.9353421353551077, total=   1.7s\n",
      "[CV] RF__max_features=0.25, RF__min_samples_leaf=50, RF__n_estimators=1000 \n",
      "[CV]  RF__max_features=0.25, RF__min_samples_leaf=50, RF__n_estimators=1000, score=0.9323196994062123, total=   3.3s\n",
      "[CV] RF__max_features=0.25, RF__min_samples_leaf=50, RF__n_estimators=1000 \n",
      "[CV]  RF__max_features=0.25, RF__min_samples_leaf=50, RF__n_estimators=1000, score=0.9359269694552059, total=   3.4s\n",
      "[CV] RF__max_features=0.25, RF__min_samples_leaf=50, RF__n_estimators=1000 \n",
      "[CV]  RF__max_features=0.25, RF__min_samples_leaf=50, RF__n_estimators=1000, score=0.9336538991391682, total=   3.5s\n",
      "[CV] RF__max_features=0.25, RF__min_samples_leaf=50, RF__n_estimators=1000 \n",
      "[CV]  RF__max_features=0.25, RF__min_samples_leaf=50, RF__n_estimators=1000, score=0.9337952547635647, total=   3.5s\n",
      "[CV] RF__max_features=0.25, RF__min_samples_leaf=50, RF__n_estimators=1000 \n",
      "[CV]  RF__max_features=0.25, RF__min_samples_leaf=50, RF__n_estimators=1000, score=0.9349661756368493, total=   3.4s\n",
      "[CV] RF__max_features=0.25, RF__min_samples_leaf=50, RF__n_estimators=1500 \n",
      "[CV]  RF__max_features=0.25, RF__min_samples_leaf=50, RF__n_estimators=1500, score=0.932396931318678, total=   5.0s\n",
      "[CV] RF__max_features=0.25, RF__min_samples_leaf=50, RF__n_estimators=1500 \n",
      "[CV]  RF__max_features=0.25, RF__min_samples_leaf=50, RF__n_estimators=1500, score=0.9353890993250868, total=   5.1s\n",
      "[CV] RF__max_features=0.25, RF__min_samples_leaf=50, RF__n_estimators=1500 \n",
      "[CV]  RF__max_features=0.25, RF__min_samples_leaf=50, RF__n_estimators=1500, score=0.9339306207428598, total=   5.0s\n",
      "[CV] RF__max_features=0.25, RF__min_samples_leaf=50, RF__n_estimators=1500 \n",
      "[CV]  RF__max_features=0.25, RF__min_samples_leaf=50, RF__n_estimators=1500, score=0.9338491615694787, total=   5.1s\n",
      "[CV] RF__max_features=0.25, RF__min_samples_leaf=50, RF__n_estimators=1500 \n",
      "[CV]  RF__max_features=0.25, RF__min_samples_leaf=50, RF__n_estimators=1500, score=0.9351823825035794, total=   4.9s\n",
      "[CV] RF__max_features=0.25, RF__min_samples_leaf=100, RF__n_estimators=150 \n",
      "[CV]  RF__max_features=0.25, RF__min_samples_leaf=100, RF__n_estimators=150, score=0.9255717855658943, total=   0.6s\n",
      "[CV] RF__max_features=0.25, RF__min_samples_leaf=100, RF__n_estimators=150 \n",
      "[CV]  RF__max_features=0.25, RF__min_samples_leaf=100, RF__n_estimators=150, score=0.9286327796505401, total=   0.6s\n",
      "[CV] RF__max_features=0.25, RF__min_samples_leaf=100, RF__n_estimators=150 \n",
      "[CV]  RF__max_features=0.25, RF__min_samples_leaf=100, RF__n_estimators=150, score=0.9266807543119454, total=   0.6s\n",
      "[CV] RF__max_features=0.25, RF__min_samples_leaf=100, RF__n_estimators=150 \n",
      "[CV]  RF__max_features=0.25, RF__min_samples_leaf=100, RF__n_estimators=150, score=0.9269251318320887, total=   0.6s\n",
      "[CV] RF__max_features=0.25, RF__min_samples_leaf=100, RF__n_estimators=150 \n",
      "[CV]  RF__max_features=0.25, RF__min_samples_leaf=100, RF__n_estimators=150, score=0.9281376420959574, total=   0.6s\n",
      "[CV] RF__max_features=0.25, RF__min_samples_leaf=100, RF__n_estimators=500 \n",
      "[CV]  RF__max_features=0.25, RF__min_samples_leaf=100, RF__n_estimators=500, score=0.924863527019794, total=   1.5s\n",
      "[CV] RF__max_features=0.25, RF__min_samples_leaf=100, RF__n_estimators=500 \n",
      "[CV]  RF__max_features=0.25, RF__min_samples_leaf=100, RF__n_estimators=500, score=0.9295839352926659, total=   1.5s\n",
      "[CV] RF__max_features=0.25, RF__min_samples_leaf=100, RF__n_estimators=500 \n",
      "[CV]  RF__max_features=0.25, RF__min_samples_leaf=100, RF__n_estimators=500, score=0.9265597634808943, total=   1.6s\n",
      "[CV] RF__max_features=0.25, RF__min_samples_leaf=100, RF__n_estimators=500 \n",
      "[CV]  RF__max_features=0.25, RF__min_samples_leaf=100, RF__n_estimators=500, score=0.9269047670387435, total=   1.6s\n",
      "[CV] RF__max_features=0.25, RF__min_samples_leaf=100, RF__n_estimators=500 \n",
      "[CV]  RF__max_features=0.25, RF__min_samples_leaf=100, RF__n_estimators=500, score=0.9283538489626875, total=   1.7s\n",
      "[CV] RF__max_features=0.25, RF__min_samples_leaf=100, RF__n_estimators=1000 \n",
      "[CV]  RF__max_features=0.25, RF__min_samples_leaf=100, RF__n_estimators=1000, score=0.9254825797135116, total=   3.0s\n",
      "[CV] RF__max_features=0.25, RF__min_samples_leaf=100, RF__n_estimators=1000 \n",
      "[CV]  RF__max_features=0.25, RF__min_samples_leaf=100, RF__n_estimators=1000, score=0.9290676278849127, total=   3.0s\n",
      "[CV] RF__max_features=0.25, RF__min_samples_leaf=100, RF__n_estimators=1000 \n"
     ]
    },
    {
     "name": "stdout",
     "output_type": "stream",
     "text": [
      "[CV]  RF__max_features=0.25, RF__min_samples_leaf=100, RF__n_estimators=1000, score=0.9269466945544542, total=   3.1s\n",
      "[CV] RF__max_features=0.25, RF__min_samples_leaf=100, RF__n_estimators=1000 \n",
      "[CV]  RF__max_features=0.25, RF__min_samples_leaf=100, RF__n_estimators=1000, score=0.9273300318409534, total=   3.0s\n",
      "[CV] RF__max_features=0.25, RF__min_samples_leaf=100, RF__n_estimators=1000 \n",
      "[CV]  RF__max_features=0.25, RF__min_samples_leaf=100, RF__n_estimators=1000, score=0.9284331248138219, total=   3.0s\n",
      "[CV] RF__max_features=0.25, RF__min_samples_leaf=100, RF__n_estimators=1500 \n",
      "[CV]  RF__max_features=0.25, RF__min_samples_leaf=100, RF__n_estimators=1500, score=0.9254358813478346, total=   4.4s\n",
      "[CV] RF__max_features=0.25, RF__min_samples_leaf=100, RF__n_estimators=1500 \n",
      "[CV]  RF__max_features=0.25, RF__min_samples_leaf=100, RF__n_estimators=1500, score=0.9289047095381504, total=   4.5s\n",
      "[CV] RF__max_features=0.25, RF__min_samples_leaf=100, RF__n_estimators=1500 \n",
      "[CV]  RF__max_features=0.25, RF__min_samples_leaf=100, RF__n_estimators=1500, score=0.9267586196982657, total=   4.5s\n",
      "[CV] RF__max_features=0.25, RF__min_samples_leaf=100, RF__n_estimators=1500 \n",
      "[CV]  RF__max_features=0.25, RF__min_samples_leaf=100, RF__n_estimators=1500, score=0.9270940398239524, total=   4.5s\n",
      "[CV] RF__max_features=0.25, RF__min_samples_leaf=100, RF__n_estimators=1500 \n",
      "[CV]  RF__max_features=0.25, RF__min_samples_leaf=100, RF__n_estimators=1500, score=0.9282001018574573, total=   4.4s\n",
      "[CV] RF__max_features=0.25, RF__min_samples_leaf=500, RF__n_estimators=150 \n",
      "[CV]  RF__max_features=0.25, RF__min_samples_leaf=500, RF__n_estimators=150, score=0.8979479061769965, total=   0.5s\n",
      "[CV] RF__max_features=0.25, RF__min_samples_leaf=500, RF__n_estimators=150 \n",
      "[CV]  RF__max_features=0.25, RF__min_samples_leaf=500, RF__n_estimators=150, score=0.9008216595150303, total=   0.4s\n",
      "[CV] RF__max_features=0.25, RF__min_samples_leaf=500, RF__n_estimators=150 \n",
      "[CV]  RF__max_features=0.25, RF__min_samples_leaf=500, RF__n_estimators=150, score=0.8996464911461067, total=   0.5s\n",
      "[CV] RF__max_features=0.25, RF__min_samples_leaf=500, RF__n_estimators=150 \n",
      "[CV]  RF__max_features=0.25, RF__min_samples_leaf=500, RF__n_estimators=150, score=0.901798570631093, total=   0.4s\n",
      "[CV] RF__max_features=0.25, RF__min_samples_leaf=500, RF__n_estimators=150 \n",
      "[CV]  RF__max_features=0.25, RF__min_samples_leaf=500, RF__n_estimators=150, score=0.9013862463605178, total=   0.5s\n",
      "[CV] RF__max_features=0.25, RF__min_samples_leaf=500, RF__n_estimators=500 \n",
      "[CV]  RF__max_features=0.25, RF__min_samples_leaf=500, RF__n_estimators=500, score=0.8988237998819368, total=   1.1s\n",
      "[CV] RF__max_features=0.25, RF__min_samples_leaf=500, RF__n_estimators=500 \n",
      "[CV]  RF__max_features=0.25, RF__min_samples_leaf=500, RF__n_estimators=500, score=0.901342758638865, total=   1.1s\n",
      "[CV] RF__max_features=0.25, RF__min_samples_leaf=500, RF__n_estimators=500 \n",
      "[CV]  RF__max_features=0.25, RF__min_samples_leaf=500, RF__n_estimators=500, score=0.9010887976865594, total=   1.0s\n",
      "[CV] RF__max_features=0.25, RF__min_samples_leaf=500, RF__n_estimators=500 \n",
      "[CV]  RF__max_features=0.25, RF__min_samples_leaf=500, RF__n_estimators=500, score=0.8998112063863992, total=   1.1s\n",
      "[CV] RF__max_features=0.25, RF__min_samples_leaf=500, RF__n_estimators=500 \n",
      "[CV]  RF__max_features=0.25, RF__min_samples_leaf=500, RF__n_estimators=500, score=0.9038798322234716, total=   1.0s\n",
      "[CV] RF__max_features=0.25, RF__min_samples_leaf=500, RF__n_estimators=1000 \n",
      "[CV]  RF__max_features=0.25, RF__min_samples_leaf=500, RF__n_estimators=1000, score=0.897391716667844, total=   2.0s\n",
      "[CV] RF__max_features=0.25, RF__min_samples_leaf=500, RF__n_estimators=1000 \n",
      "[CV]  RF__max_features=0.25, RF__min_samples_leaf=500, RF__n_estimators=1000, score=0.9005712923497857, total=   2.2s\n",
      "[CV] RF__max_features=0.25, RF__min_samples_leaf=500, RF__n_estimators=1000 \n",
      "[CV]  RF__max_features=0.25, RF__min_samples_leaf=500, RF__n_estimators=1000, score=0.9006569442747379, total=   2.1s\n",
      "[CV] RF__max_features=0.25, RF__min_samples_leaf=500, RF__n_estimators=1000 \n",
      "[CV]  RF__max_features=0.25, RF__min_samples_leaf=500, RF__n_estimators=1000, score=0.8997632892255868, total=   2.1s\n",
      "[CV] RF__max_features=0.25, RF__min_samples_leaf=500, RF__n_estimators=1000 \n",
      "[CV]  RF__max_features=0.25, RF__min_samples_leaf=500, RF__n_estimators=1000, score=0.9034876569902083, total=   2.0s\n",
      "[CV] RF__max_features=0.25, RF__min_samples_leaf=500, RF__n_estimators=1500 \n",
      "[CV]  RF__max_features=0.25, RF__min_samples_leaf=500, RF__n_estimators=1500, score=0.898472963442364, total=   3.1s\n",
      "[CV] RF__max_features=0.25, RF__min_samples_leaf=500, RF__n_estimators=1500 \n",
      "[CV]  RF__max_features=0.25, RF__min_samples_leaf=500, RF__n_estimators=1500, score=0.9006371784459027, total=   3.0s\n",
      "[CV] RF__max_features=0.25, RF__min_samples_leaf=500, RF__n_estimators=1500 \n",
      "[CV]  RF__max_features=0.25, RF__min_samples_leaf=500, RF__n_estimators=1500, score=0.9011714547889608, total=   3.1s\n",
      "[CV] RF__max_features=0.25, RF__min_samples_leaf=500, RF__n_estimators=1500 \n",
      "[CV]  RF__max_features=0.25, RF__min_samples_leaf=500, RF__n_estimators=1500, score=0.8997453202902822, total=   3.1s\n",
      "[CV] RF__max_features=0.25, RF__min_samples_leaf=500, RF__n_estimators=1500 \n",
      "[CV]  RF__max_features=0.25, RF__min_samples_leaf=500, RF__n_estimators=1500, score=0.9034023753927758, total=   3.0s\n",
      "[CV] RF__max_features=0.5, RF__min_samples_leaf=10, RF__n_estimators=150 \n",
      "[CV]  RF__max_features=0.5, RF__min_samples_leaf=10, RF__n_estimators=150, score=0.9433021970982354, total=   1.3s\n",
      "[CV] RF__max_features=0.5, RF__min_samples_leaf=10, RF__n_estimators=150 \n",
      "[CV]  RF__max_features=0.5, RF__min_samples_leaf=10, RF__n_estimators=150, score=0.9442370030690942, total=   1.4s\n",
      "[CV] RF__max_features=0.5, RF__min_samples_leaf=10, RF__n_estimators=150 \n",
      "[CV]  RF__max_features=0.5, RF__min_samples_leaf=10, RF__n_estimators=150, score=0.9456978775093617, total=   1.5s\n",
      "[CV] RF__max_features=0.5, RF__min_samples_leaf=10, RF__n_estimators=150 \n",
      "[CV]  RF__max_features=0.5, RF__min_samples_leaf=10, RF__n_estimators=150, score=0.9425299542151528, total=   1.4s\n",
      "[CV] RF__max_features=0.5, RF__min_samples_leaf=10, RF__n_estimators=150 \n",
      "[CV]  RF__max_features=0.5, RF__min_samples_leaf=10, RF__n_estimators=150, score=0.9471788607339502, total=   1.4s\n",
      "[CV] RF__max_features=0.5, RF__min_samples_leaf=10, RF__n_estimators=500 \n",
      "[CV]  RF__max_features=0.5, RF__min_samples_leaf=10, RF__n_estimators=500, score=0.9436326778399492, total=   4.2s\n",
      "[CV] RF__max_features=0.5, RF__min_samples_leaf=10, RF__n_estimators=500 \n",
      "[CV]  RF__max_features=0.5, RF__min_samples_leaf=10, RF__n_estimators=500, score=0.9449551615167697, total=   4.3s\n",
      "[CV] RF__max_features=0.5, RF__min_samples_leaf=10, RF__n_estimators=500 \n",
      "[CV]  RF__max_features=0.5, RF__min_samples_leaf=10, RF__n_estimators=500, score=0.9456511582775697, total=   4.5s\n",
      "[CV] RF__max_features=0.5, RF__min_samples_leaf=10, RF__n_estimators=500 \n",
      "[CV]  RF__max_features=0.5, RF__min_samples_leaf=10, RF__n_estimators=500, score=0.9438183268764958, total=   4.4s\n",
      "[CV] RF__max_features=0.5, RF__min_samples_leaf=10, RF__n_estimators=500 \n",
      "[CV]  RF__max_features=0.5, RF__min_samples_leaf=10, RF__n_estimators=500, score=0.9465644728876589, total=   4.3s\n",
      "[CV] RF__max_features=0.5, RF__min_samples_leaf=10, RF__n_estimators=1000 \n",
      "[CV]  RF__max_features=0.5, RF__min_samples_leaf=10, RF__n_estimators=1000, score=0.9436159143240649, total=   8.4s\n",
      "[CV] RF__max_features=0.5, RF__min_samples_leaf=10, RF__n_estimators=1000 \n",
      "[CV]  RF__max_features=0.5, RF__min_samples_leaf=10, RF__n_estimators=1000, score=0.9444813805892371, total=   8.4s\n",
      "[CV] RF__max_features=0.5, RF__min_samples_leaf=10, RF__n_estimators=1000 \n",
      "[CV]  RF__max_features=0.5, RF__min_samples_leaf=10, RF__n_estimators=1000, score=0.9451935493918114, total=   8.4s\n",
      "[CV] RF__max_features=0.5, RF__min_samples_leaf=10, RF__n_estimators=1000 \n",
      "[CV]  RF__max_features=0.5, RF__min_samples_leaf=10, RF__n_estimators=1000, score=0.9436134810140229, total=   8.2s\n",
      "[CV] RF__max_features=0.5, RF__min_samples_leaf=10, RF__n_estimators=1000 \n",
      "[CV]  RF__max_features=0.5, RF__min_samples_leaf=10, RF__n_estimators=1000, score=0.9467098119480717, total=   8.1s\n",
      "[CV] RF__max_features=0.5, RF__min_samples_leaf=10, RF__n_estimators=1500 \n"
     ]
    },
    {
     "name": "stdout",
     "output_type": "stream",
     "text": [
      "[CV]  RF__max_features=0.5, RF__min_samples_leaf=10, RF__n_estimators=1500, score=0.9439906986434724, total=  12.2s\n",
      "[CV] RF__max_features=0.5, RF__min_samples_leaf=10, RF__n_estimators=1500 \n",
      "[CV]  RF__max_features=0.5, RF__min_samples_leaf=10, RF__n_estimators=1500, score=0.9449126350365488, total=  12.4s\n",
      "[CV] RF__max_features=0.5, RF__min_samples_leaf=10, RF__n_estimators=1500 \n",
      "[CV]  RF__max_features=0.5, RF__min_samples_leaf=10, RF__n_estimators=1500, score=0.9459242860942002, total=  12.4s\n",
      "[CV] RF__max_features=0.5, RF__min_samples_leaf=10, RF__n_estimators=1500 \n",
      "[CV]  RF__max_features=0.5, RF__min_samples_leaf=10, RF__n_estimators=1500, score=0.9438818171145724, total=  12.5s\n",
      "[CV] RF__max_features=0.5, RF__min_samples_leaf=10, RF__n_estimators=1500 \n",
      "[CV]  RF__max_features=0.5, RF__min_samples_leaf=10, RF__n_estimators=1500, score=0.9469632544418499, total=  12.2s\n",
      "[CV] RF__max_features=0.5, RF__min_samples_leaf=50, RF__n_estimators=150 \n",
      "[CV]  RF__max_features=0.5, RF__min_samples_leaf=50, RF__n_estimators=150, score=0.9332386992948545, total=   1.0s\n",
      "[CV] RF__max_features=0.5, RF__min_samples_leaf=50, RF__n_estimators=150 \n",
      "[CV]  RF__max_features=0.5, RF__min_samples_leaf=50, RF__n_estimators=150, score=0.9362144724200803, total=   1.1s\n",
      "[CV] RF__max_features=0.5, RF__min_samples_leaf=50, RF__n_estimators=150 \n",
      "[CV]  RF__max_features=0.5, RF__min_samples_leaf=50, RF__n_estimators=150, score=0.9348829743140059, total=   1.1s\n",
      "[CV] RF__max_features=0.5, RF__min_samples_leaf=50, RF__n_estimators=150 \n",
      "[CV]  RF__max_features=0.5, RF__min_samples_leaf=50, RF__n_estimators=150, score=0.9326464408330877, total=   1.0s\n",
      "[CV] RF__max_features=0.5, RF__min_samples_leaf=50, RF__n_estimators=150 \n",
      "[CV]  RF__max_features=0.5, RF__min_samples_leaf=50, RF__n_estimators=150, score=0.9354081985643865, total=   1.0s\n",
      "[CV] RF__max_features=0.5, RF__min_samples_leaf=50, RF__n_estimators=500 \n",
      "[CV]  RF__max_features=0.5, RF__min_samples_leaf=50, RF__n_estimators=500, score=0.9332524693257593, total=   3.4s\n",
      "[CV] RF__max_features=0.5, RF__min_samples_leaf=50, RF__n_estimators=500 \n",
      "[CV]  RF__max_features=0.5, RF__min_samples_leaf=50, RF__n_estimators=500, score=0.9359401466744293, total=   3.4s\n",
      "[CV] RF__max_features=0.5, RF__min_samples_leaf=50, RF__n_estimators=500 \n",
      "[CV]  RF__max_features=0.5, RF__min_samples_leaf=50, RF__n_estimators=500, score=0.934004892342119, total=   3.3s\n",
      "[CV] RF__max_features=0.5, RF__min_samples_leaf=50, RF__n_estimators=500 \n",
      "[CV]  RF__max_features=0.5, RF__min_samples_leaf=50, RF__n_estimators=500, score=0.9341953630563482, total=   3.3s\n",
      "[CV] RF__max_features=0.5, RF__min_samples_leaf=50, RF__n_estimators=500 \n",
      "[CV]  RF__max_features=0.5, RF__min_samples_leaf=50, RF__n_estimators=500, score=0.936012376641971, total=   3.3s\n",
      "[CV] RF__max_features=0.5, RF__min_samples_leaf=50, RF__n_estimators=1000 \n",
      "[CV]  RF__max_features=0.5, RF__min_samples_leaf=50, RF__n_estimators=1000, score=0.9331752374132937, total=   6.3s\n",
      "[CV] RF__max_features=0.5, RF__min_samples_leaf=50, RF__n_estimators=1000 \n",
      "[CV]  RF__max_features=0.5, RF__min_samples_leaf=50, RF__n_estimators=1000, score=0.9359209798101042, total=   6.4s\n",
      "[CV] RF__max_features=0.5, RF__min_samples_leaf=50, RF__n_estimators=1000 \n",
      "[CV]  RF__max_features=0.5, RF__min_samples_leaf=50, RF__n_estimators=1000, score=0.9343534896870291, total=   6.4s\n",
      "[CV] RF__max_features=0.5, RF__min_samples_leaf=50, RF__n_estimators=1000 \n",
      "[CV]  RF__max_features=0.5, RF__min_samples_leaf=50, RF__n_estimators=1000, score=0.933641919848965, total=   6.3s\n",
      "[CV] RF__max_features=0.5, RF__min_samples_leaf=50, RF__n_estimators=1000 \n",
      "[CV]  RF__max_features=0.5, RF__min_samples_leaf=50, RF__n_estimators=1000, score=0.9355078939529341, total=   6.1s\n",
      "[CV] RF__max_features=0.5, RF__min_samples_leaf=50, RF__n_estimators=1500 \n",
      "[CV]  RF__max_features=0.5, RF__min_samples_leaf=50, RF__n_estimators=1500, score=0.9332464823558008, total=   9.3s\n",
      "[CV] RF__max_features=0.5, RF__min_samples_leaf=50, RF__n_estimators=1500 \n",
      "[CV]  RF__max_features=0.5, RF__min_samples_leaf=50, RF__n_estimators=1500, score=0.9363103067417049, total=   9.5s\n",
      "[CV] RF__max_features=0.5, RF__min_samples_leaf=50, RF__n_estimators=1500 \n",
      "[CV]  RF__max_features=0.5, RF__min_samples_leaf=50, RF__n_estimators=1500, score=0.9343007808101353, total=   9.5s\n",
      "[CV] RF__max_features=0.5, RF__min_samples_leaf=50, RF__n_estimators=1500 \n",
      "[CV]  RF__max_features=0.5, RF__min_samples_leaf=50, RF__n_estimators=1500, score=0.9336191591975792, total=   9.7s\n",
      "[CV] RF__max_features=0.5, RF__min_samples_leaf=50, RF__n_estimators=1500 \n",
      "[CV]  RF__max_features=0.5, RF__min_samples_leaf=50, RF__n_estimators=1500, score=0.9354118020121652, total=   9.4s\n",
      "[CV] RF__max_features=0.5, RF__min_samples_leaf=100, RF__n_estimators=150 \n",
      "[CV]  RF__max_features=0.5, RF__min_samples_leaf=100, RF__n_estimators=150, score=0.9247114579828463, total=   0.9s\n",
      "[CV] RF__max_features=0.5, RF__min_samples_leaf=100, RF__n_estimators=150 \n",
      "[CV]  RF__max_features=0.5, RF__min_samples_leaf=100, RF__n_estimators=150, score=0.927947564250923, total=   1.0s\n",
      "[CV] RF__max_features=0.5, RF__min_samples_leaf=100, RF__n_estimators=150 \n",
      "[CV]  RF__max_features=0.5, RF__min_samples_leaf=100, RF__n_estimators=150, score=0.9267460414435523, total=   0.9s\n",
      "[CV] RF__max_features=0.5, RF__min_samples_leaf=100, RF__n_estimators=150 \n",
      "[CV]  RF__max_features=0.5, RF__min_samples_leaf=100, RF__n_estimators=150, score=0.9268736208842153, total=   1.0s\n",
      "[CV] RF__max_features=0.5, RF__min_samples_leaf=100, RF__n_estimators=150 \n",
      "[CV]  RF__max_features=0.5, RF__min_samples_leaf=100, RF__n_estimators=150, score=0.9267959583729714, total=   1.0s\n",
      "[CV] RF__max_features=0.5, RF__min_samples_leaf=100, RF__n_estimators=500 \n",
      "[CV]  RF__max_features=0.5, RF__min_samples_leaf=100, RF__n_estimators=500, score=0.924809045593171, total=   2.6s\n",
      "[CV] RF__max_features=0.5, RF__min_samples_leaf=100, RF__n_estimators=500 \n",
      "[CV]  RF__max_features=0.5, RF__min_samples_leaf=100, RF__n_estimators=500, score=0.9291622642775171, total=   2.8s\n",
      "[CV] RF__max_features=0.5, RF__min_samples_leaf=100, RF__n_estimators=500 \n",
      "[CV]  RF__max_features=0.5, RF__min_samples_leaf=100, RF__n_estimators=500, score=0.92658252413228, total=   2.8s\n",
      "[CV] RF__max_features=0.5, RF__min_samples_leaf=100, RF__n_estimators=500 \n",
      "[CV]  RF__max_features=0.5, RF__min_samples_leaf=100, RF__n_estimators=500, score=0.9265154401071426, total=   2.8s\n",
      "[CV] RF__max_features=0.5, RF__min_samples_leaf=100, RF__n_estimators=500 \n",
      "[CV]  RF__max_features=0.5, RF__min_samples_leaf=100, RF__n_estimators=500, score=0.9281016076181692, total=   2.7s\n",
      "[CV] RF__max_features=0.5, RF__min_samples_leaf=100, RF__n_estimators=1000 \n",
      "[CV]  RF__max_features=0.5, RF__min_samples_leaf=100, RF__n_estimators=1000, score=0.9254382761358179, total=   5.4s\n",
      "[CV] RF__max_features=0.5, RF__min_samples_leaf=100, RF__n_estimators=1000 \n",
      "[CV]  RF__max_features=0.5, RF__min_samples_leaf=100, RF__n_estimators=1000, score=0.9291490870582936, total=   5.4s\n",
      "[CV] RF__max_features=0.5, RF__min_samples_leaf=100, RF__n_estimators=1000 \n",
      "[CV]  RF__max_features=0.5, RF__min_samples_leaf=100, RF__n_estimators=1000, score=0.927120394262399, total=   5.3s\n",
      "[CV] RF__max_features=0.5, RF__min_samples_leaf=100, RF__n_estimators=1000 \n",
      "[CV]  RF__max_features=0.5, RF__min_samples_leaf=100, RF__n_estimators=1000, score=0.9266747646668438, total=   5.5s\n",
      "[CV] RF__max_features=0.5, RF__min_samples_leaf=100, RF__n_estimators=1000 \n",
      "[CV]  RF__max_features=0.5, RF__min_samples_leaf=100, RF__n_estimators=1000, score=0.9282301305889474, total=   5.4s\n",
      "[CV] RF__max_features=0.5, RF__min_samples_leaf=100, RF__n_estimators=1500 \n",
      "[CV]  RF__max_features=0.5, RF__min_samples_leaf=100, RF__n_estimators=1500, score=0.9257843229994239, total=   8.1s\n",
      "[CV] RF__max_features=0.5, RF__min_samples_leaf=100, RF__n_estimators=1500 \n",
      "[CV]  RF__max_features=0.5, RF__min_samples_leaf=100, RF__n_estimators=1500, score=0.9291538787743749, total=   8.2s\n",
      "[CV] RF__max_features=0.5, RF__min_samples_leaf=100, RF__n_estimators=1500 \n",
      "[CV]  RF__max_features=0.5, RF__min_samples_leaf=100, RF__n_estimators=1500, score=0.9268820063873576, total=   7.9s\n",
      "[CV] RF__max_features=0.5, RF__min_samples_leaf=100, RF__n_estimators=1500 \n"
     ]
    },
    {
     "name": "stdout",
     "output_type": "stream",
     "text": [
      "[CV]  RF__max_features=0.5, RF__min_samples_leaf=100, RF__n_estimators=1500, score=0.9266304412930926, total=   8.2s\n",
      "[CV] RF__max_features=0.5, RF__min_samples_leaf=100, RF__n_estimators=1500 \n",
      "[CV]  RF__max_features=0.5, RF__min_samples_leaf=100, RF__n_estimators=1500, score=0.9283202167834185, total=   8.2s\n",
      "[CV] RF__max_features=0.5, RF__min_samples_leaf=500, RF__n_estimators=150 \n",
      "[CV]  RF__max_features=0.5, RF__min_samples_leaf=500, RF__n_estimators=150, score=0.8981191335178119, total=   0.7s\n",
      "[CV] RF__max_features=0.5, RF__min_samples_leaf=500, RF__n_estimators=150 \n",
      "[CV]  RF__max_features=0.5, RF__min_samples_leaf=500, RF__n_estimators=150, score=0.9009432493105918, total=   0.7s\n",
      "[CV] RF__max_features=0.5, RF__min_samples_leaf=500, RF__n_estimators=150 \n",
      "[CV]  RF__max_features=0.5, RF__min_samples_leaf=500, RF__n_estimators=150, score=0.9023298521516003, total=   0.7s\n",
      "[CV] RF__max_features=0.5, RF__min_samples_leaf=500, RF__n_estimators=150 \n",
      "[CV]  RF__max_features=0.5, RF__min_samples_leaf=500, RF__n_estimators=150, score=0.9009851768263026, total=   0.6s\n",
      "[CV] RF__max_features=0.5, RF__min_samples_leaf=500, RF__n_estimators=150 \n",
      "[CV]  RF__max_features=0.5, RF__min_samples_leaf=500, RF__n_estimators=150, score=0.9035825477817175, total=   0.6s\n",
      "[CV] RF__max_features=0.5, RF__min_samples_leaf=500, RF__n_estimators=500 \n",
      "[CV]  RF__max_features=0.5, RF__min_samples_leaf=500, RF__n_estimators=500, score=0.8995134988211656, total=   1.6s\n",
      "[CV] RF__max_features=0.5, RF__min_samples_leaf=500, RF__n_estimators=500 \n",
      "[CV]  RF__max_features=0.5, RF__min_samples_leaf=500, RF__n_estimators=500, score=0.9004383222285313, total=   1.6s\n",
      "[CV] RF__max_features=0.5, RF__min_samples_leaf=500, RF__n_estimators=500 \n",
      "[CV]  RF__max_features=0.5, RF__min_samples_leaf=500, RF__n_estimators=500, score=0.9023226645774785, total=   1.8s\n",
      "[CV] RF__max_features=0.5, RF__min_samples_leaf=500, RF__n_estimators=500 \n",
      "[CV]  RF__max_features=0.5, RF__min_samples_leaf=500, RF__n_estimators=500, score=0.8987091116877143, total=   1.8s\n",
      "[CV] RF__max_features=0.5, RF__min_samples_leaf=500, RF__n_estimators=500 \n",
      "[CV]  RF__max_features=0.5, RF__min_samples_leaf=500, RF__n_estimators=500, score=0.9040269730077738, total=   1.8s\n",
      "[CV] RF__max_features=0.5, RF__min_samples_leaf=500, RF__n_estimators=1000 \n",
      "[CV]  RF__max_features=0.5, RF__min_samples_leaf=500, RF__n_estimators=1000, score=0.899296770508665, total=   3.5s\n",
      "[CV] RF__max_features=0.5, RF__min_samples_leaf=500, RF__n_estimators=1000 \n",
      "[CV]  RF__max_features=0.5, RF__min_samples_leaf=500, RF__n_estimators=1000, score=0.8997015958810408, total=   3.4s\n",
      "[CV] RF__max_features=0.5, RF__min_samples_leaf=500, RF__n_estimators=1000 \n",
      "[CV]  RF__max_features=0.5, RF__min_samples_leaf=500, RF__n_estimators=1000, score=0.9026413136968807, total=   3.3s\n",
      "[CV] RF__max_features=0.5, RF__min_samples_leaf=500, RF__n_estimators=1000 \n",
      "[CV]  RF__max_features=0.5, RF__min_samples_leaf=500, RF__n_estimators=1000, score=0.9003095448588481, total=   3.5s\n",
      "[CV] RF__max_features=0.5, RF__min_samples_leaf=500, RF__n_estimators=1000 \n",
      "[CV]  RF__max_features=0.5, RF__min_samples_leaf=500, RF__n_estimators=1000, score=0.9044461740993782, total=   3.4s\n",
      "[CV] RF__max_features=0.5, RF__min_samples_leaf=500, RF__n_estimators=1500 \n",
      "[CV]  RF__max_features=0.5, RF__min_samples_leaf=500, RF__n_estimators=1500, score=0.899305152266607, total=   5.0s\n",
      "[CV] RF__max_features=0.5, RF__min_samples_leaf=500, RF__n_estimators=1500 \n",
      "[CV]  RF__max_features=0.5, RF__min_samples_leaf=500, RF__n_estimators=1500, score=0.9002179032887944, total=   4.9s\n",
      "[CV] RF__max_features=0.5, RF__min_samples_leaf=500, RF__n_estimators=1500 \n",
      "[CV]  RF__max_features=0.5, RF__min_samples_leaf=500, RF__n_estimators=1500, score=0.9028150134048258, total=   4.9s\n",
      "[CV] RF__max_features=0.5, RF__min_samples_leaf=500, RF__n_estimators=1500 \n",
      "[CV]  RF__max_features=0.5, RF__min_samples_leaf=500, RF__n_estimators=1500, score=0.8997249554969369, total=   5.0s\n",
      "[CV] RF__max_features=0.5, RF__min_samples_leaf=500, RF__n_estimators=1500 \n",
      "[CV]  RF__max_features=0.5, RF__min_samples_leaf=500, RF__n_estimators=1500, score=0.9040461913959278, total=   4.9s\n",
      "[CV] RF__max_features=0.75, RF__min_samples_leaf=10, RF__n_estimators=150 \n",
      "[CV]  RF__max_features=0.75, RF__min_samples_leaf=10, RF__n_estimators=150, score=0.9417228344231614, total=   1.9s\n",
      "[CV] RF__max_features=0.75, RF__min_samples_leaf=10, RF__n_estimators=150 \n",
      "[CV]  RF__max_features=0.75, RF__min_samples_leaf=10, RF__n_estimators=150, score=0.9431259239027568, total=   1.9s\n",
      "[CV] RF__max_features=0.75, RF__min_samples_leaf=10, RF__n_estimators=150 \n",
      "[CV]  RF__max_features=0.75, RF__min_samples_leaf=10, RF__n_estimators=150, score=0.9455691001396785, total=   1.9s\n",
      "[CV] RF__max_features=0.75, RF__min_samples_leaf=10, RF__n_estimators=150 \n",
      "[CV]  RF__max_features=0.75, RF__min_samples_leaf=10, RF__n_estimators=150, score=0.9426701119105291, total=   2.0s\n",
      "[CV] RF__max_features=0.75, RF__min_samples_leaf=10, RF__n_estimators=150 \n",
      "[CV]  RF__max_features=0.75, RF__min_samples_leaf=10, RF__n_estimators=150, score=0.9460792085867757, total=   1.9s\n",
      "[CV] RF__max_features=0.75, RF__min_samples_leaf=10, RF__n_estimators=500 \n",
      "[CV]  RF__max_features=0.75, RF__min_samples_leaf=10, RF__n_estimators=500, score=0.9423766115426385, total=   6.2s\n",
      "[CV] RF__max_features=0.75, RF__min_samples_leaf=10, RF__n_estimators=500 \n",
      "[CV]  RF__max_features=0.75, RF__min_samples_leaf=10, RF__n_estimators=500, score=0.9437135080872188, total=   6.1s\n",
      "[CV] RF__max_features=0.75, RF__min_samples_leaf=10, RF__n_estimators=500 \n",
      "[CV]  RF__max_features=0.75, RF__min_samples_leaf=10, RF__n_estimators=500, score=0.9448102121053122, total=   6.1s\n",
      "[CV] RF__max_features=0.75, RF__min_samples_leaf=10, RF__n_estimators=500 \n",
      "[CV]  RF__max_features=0.75, RF__min_samples_leaf=10, RF__n_estimators=500, score=0.942197528912017, total=   6.3s\n",
      "[CV] RF__max_features=0.75, RF__min_samples_leaf=10, RF__n_estimators=500 \n",
      "[CV]  RF__max_features=0.75, RF__min_samples_leaf=10, RF__n_estimators=500, score=0.9458581971230073, total=   5.9s\n",
      "[CV] RF__max_features=0.75, RF__min_samples_leaf=10, RF__n_estimators=1000 \n",
      "[CV]  RF__max_features=0.75, RF__min_samples_leaf=10, RF__n_estimators=1000, score=0.9428292264715075, total=  12.2s\n",
      "[CV] RF__max_features=0.75, RF__min_samples_leaf=10, RF__n_estimators=1000 \n",
      "[CV]  RF__max_features=0.75, RF__min_samples_leaf=10, RF__n_estimators=1000, score=0.9440812722964538, total=  12.5s\n",
      "[CV] RF__max_features=0.75, RF__min_samples_leaf=10, RF__n_estimators=1000 \n",
      "[CV]  RF__max_features=0.75, RF__min_samples_leaf=10, RF__n_estimators=1000, score=0.9453516760224921, total=  12.5s\n",
      "[CV] RF__max_features=0.75, RF__min_samples_leaf=10, RF__n_estimators=1000 \n",
      "[CV]  RF__max_features=0.75, RF__min_samples_leaf=10, RF__n_estimators=1000, score=0.9425988351338206, total=  12.0s\n",
      "[CV] RF__max_features=0.75, RF__min_samples_leaf=10, RF__n_estimators=1000 \n",
      "[CV]  RF__max_features=0.75, RF__min_samples_leaf=10, RF__n_estimators=1000, score=0.9457404844955655, total=  12.3s\n",
      "[CV] RF__max_features=0.75, RF__min_samples_leaf=10, RF__n_estimators=1500 \n",
      "[CV]  RF__max_features=0.75, RF__min_samples_leaf=10, RF__n_estimators=1500, score=0.94302978996512, total=  18.4s\n",
      "[CV] RF__max_features=0.75, RF__min_samples_leaf=10, RF__n_estimators=1500 \n",
      "[CV]  RF__max_features=0.75, RF__min_samples_leaf=10, RF__n_estimators=1500, score=0.9437470500997875, total=  19.1s\n",
      "[CV] RF__max_features=0.75, RF__min_samples_leaf=10, RF__n_estimators=1500 \n",
      "[CV]  RF__max_features=0.75, RF__min_samples_leaf=10, RF__n_estimators=1500, score=0.9451072985023491, total=  18.4s\n",
      "[CV] RF__max_features=0.75, RF__min_samples_leaf=10, RF__n_estimators=1500 \n",
      "[CV]  RF__max_features=0.75, RF__min_samples_leaf=10, RF__n_estimators=1500, score=0.942046589855458, total=  18.6s\n",
      "[CV] RF__max_features=0.75, RF__min_samples_leaf=10, RF__n_estimators=1500 \n",
      "[CV]  RF__max_features=0.75, RF__min_samples_leaf=10, RF__n_estimators=1500, score=0.9459843177952665, total=  17.8s\n",
      "[CV] RF__max_features=0.75, RF__min_samples_leaf=50, RF__n_estimators=150 \n",
      "[CV]  RF__max_features=0.75, RF__min_samples_leaf=50, RF__n_estimators=150, score=0.9317407594112175, total=   1.5s\n",
      "[CV] RF__max_features=0.75, RF__min_samples_leaf=50, RF__n_estimators=150 \n"
     ]
    },
    {
     "name": "stdout",
     "output_type": "stream",
     "text": [
      "[CV]  RF__max_features=0.75, RF__min_samples_leaf=50, RF__n_estimators=150, score=0.9344523188312047, total=   1.5s\n",
      "[CV] RF__max_features=0.75, RF__min_samples_leaf=50, RF__n_estimators=150 \n",
      "[CV]  RF__max_features=0.75, RF__min_samples_leaf=50, RF__n_estimators=150, score=0.9332921245750346, total=   1.5s\n",
      "[CV] RF__max_features=0.75, RF__min_samples_leaf=50, RF__n_estimators=150 \n",
      "[CV]  RF__max_features=0.75, RF__min_samples_leaf=50, RF__n_estimators=150, score=0.9321241437802328, total=   1.5s\n",
      "[CV] RF__max_features=0.75, RF__min_samples_leaf=50, RF__n_estimators=150 \n",
      "[CV]  RF__max_features=0.75, RF__min_samples_leaf=50, RF__n_estimators=150, score=0.9345517791422834, total=   1.4s\n",
      "[CV] RF__max_features=0.75, RF__min_samples_leaf=50, RF__n_estimators=500 \n",
      "[CV]  RF__max_features=0.75, RF__min_samples_leaf=50, RF__n_estimators=500, score=0.9316862779845942, total=   4.5s\n",
      "[CV] RF__max_features=0.75, RF__min_samples_leaf=50, RF__n_estimators=500 \n",
      "[CV]  RF__max_features=0.75, RF__min_samples_leaf=50, RF__n_estimators=500, score=0.9352046182559589, total=   4.6s\n",
      "[CV] RF__max_features=0.75, RF__min_samples_leaf=50, RF__n_estimators=500 \n",
      "[CV]  RF__max_features=0.75, RF__min_samples_leaf=50, RF__n_estimators=500, score=0.9332190509047958, total=   4.6s\n",
      "[CV] RF__max_features=0.75, RF__min_samples_leaf=50, RF__n_estimators=500 \n",
      "[CV]  RF__max_features=0.75, RF__min_samples_leaf=50, RF__n_estimators=500, score=0.9321361230704359, total=   4.7s\n",
      "[CV] RF__max_features=0.75, RF__min_samples_leaf=50, RF__n_estimators=500 \n",
      "[CV]  RF__max_features=0.75, RF__min_samples_leaf=50, RF__n_estimators=500, score=0.9344400722611395, total=   4.6s\n",
      "[CV] RF__max_features=0.75, RF__min_samples_leaf=50, RF__n_estimators=1000 \n",
      "[CV]  RF__max_features=0.75, RF__min_samples_leaf=50, RF__n_estimators=1000, score=0.932198762613049, total=   9.1s\n",
      "[CV] RF__max_features=0.75, RF__min_samples_leaf=50, RF__n_estimators=1000 \n",
      "[CV]  RF__max_features=0.75, RF__min_samples_leaf=50, RF__n_estimators=1000, score=0.9353339945901527, total=   9.5s\n",
      "[CV] RF__max_features=0.75, RF__min_samples_leaf=50, RF__n_estimators=1000 \n",
      "[CV]  RF__max_features=0.75, RF__min_samples_leaf=50, RF__n_estimators=1000, score=0.9337916609765039, total=   9.8s\n",
      "[CV] RF__max_features=0.75, RF__min_samples_leaf=50, RF__n_estimators=1000 \n",
      "[CV]  RF__max_features=0.75, RF__min_samples_leaf=50, RF__n_estimators=1000, score=0.9321612795798624, total=   9.8s\n",
      "[CV] RF__max_features=0.75, RF__min_samples_leaf=50, RF__n_estimators=1000 \n",
      "[CV]  RF__max_features=0.75, RF__min_samples_leaf=50, RF__n_estimators=1000, score=0.9343788136488992, total=   9.4s\n",
      "[CV] RF__max_features=0.75, RF__min_samples_leaf=50, RF__n_estimators=1500 \n",
      "[CV]  RF__max_features=0.75, RF__min_samples_leaf=50, RF__n_estimators=1500, score=0.9316317965579712, total=  13.7s\n",
      "[CV] RF__max_features=0.75, RF__min_samples_leaf=50, RF__n_estimators=1500 \n",
      "[CV]  RF__max_features=0.75, RF__min_samples_leaf=50, RF__n_estimators=1500, score=0.9354705584984678, total=  14.1s\n",
      "[CV] RF__max_features=0.75, RF__min_samples_leaf=50, RF__n_estimators=1500 \n",
      "[CV]  RF__max_features=0.75, RF__min_samples_leaf=50, RF__n_estimators=1500, score=0.9337018162999805, total=  13.9s\n",
      "[CV] RF__max_features=0.75, RF__min_samples_leaf=50, RF__n_estimators=1500 \n",
      "[CV]  RF__max_features=0.75, RF__min_samples_leaf=50, RF__n_estimators=1500, score=0.9321924257343904, total=  13.5s\n",
      "[CV] RF__max_features=0.75, RF__min_samples_leaf=50, RF__n_estimators=1500 \n",
      "[CV]  RF__max_features=0.75, RF__min_samples_leaf=50, RF__n_estimators=1500, score=0.9341409860954962, total=  13.4s\n",
      "[CV] RF__max_features=0.75, RF__min_samples_leaf=100, RF__n_estimators=150 \n",
      "[CV]  RF__max_features=0.75, RF__min_samples_leaf=100, RF__n_estimators=150, score=0.9228716621145738, total=   1.2s\n",
      "[CV] RF__max_features=0.75, RF__min_samples_leaf=100, RF__n_estimators=150 \n",
      "[CV]  RF__max_features=0.75, RF__min_samples_leaf=100, RF__n_estimators=150, score=0.927924803599537, total=   1.3s\n",
      "[CV] RF__max_features=0.75, RF__min_samples_leaf=100, RF__n_estimators=150 \n",
      "[CV]  RF__max_features=0.75, RF__min_samples_leaf=100, RF__n_estimators=150, score=0.924972507528984, total=   1.3s\n",
      "[CV] RF__max_features=0.75, RF__min_samples_leaf=100, RF__n_estimators=150 \n",
      "[CV]  RF__max_features=0.75, RF__min_samples_leaf=100, RF__n_estimators=150, score=0.9263453341862588, total=   1.3s\n",
      "[CV] RF__max_features=0.75, RF__min_samples_leaf=100, RF__n_estimators=150 \n",
      "[CV]  RF__max_features=0.75, RF__min_samples_leaf=100, RF__n_estimators=150, score=0.9265689411629047, total=   1.2s\n",
      "[CV] RF__max_features=0.75, RF__min_samples_leaf=100, RF__n_estimators=500 \n",
      "[CV]  RF__max_features=0.75, RF__min_samples_leaf=100, RF__n_estimators=500, score=0.9232961382846373, total=   3.9s\n",
      "[CV] RF__max_features=0.75, RF__min_samples_leaf=100, RF__n_estimators=500 \n",
      "[CV]  RF__max_features=0.75, RF__min_samples_leaf=100, RF__n_estimators=500, score=0.9280218358501823, total=   4.0s\n",
      "[CV] RF__max_features=0.75, RF__min_samples_leaf=100, RF__n_estimators=500 \n",
      "[CV]  RF__max_features=0.75, RF__min_samples_leaf=100, RF__n_estimators=500, score=0.9252677970324902, total=   4.0s\n",
      "[CV] RF__max_features=0.75, RF__min_samples_leaf=100, RF__n_estimators=500 \n",
      "[CV]  RF__max_features=0.75, RF__min_samples_leaf=100, RF__n_estimators=500, score=0.9249413613744559, total=   4.0s\n",
      "[CV] RF__max_features=0.75, RF__min_samples_leaf=100, RF__n_estimators=500 \n",
      "[CV]  RF__max_features=0.75, RF__min_samples_leaf=100, RF__n_estimators=500, score=0.9264944699088088, total=   3.9s\n",
      "[CV] RF__max_features=0.75, RF__min_samples_leaf=100, RF__n_estimators=1000 \n",
      "[CV]  RF__max_features=0.75, RF__min_samples_leaf=100, RF__n_estimators=1000, score=0.9239110000993838, total=   7.9s\n",
      "[CV] RF__max_features=0.75, RF__min_samples_leaf=100, RF__n_estimators=1000 \n",
      "[CV]  RF__max_features=0.75, RF__min_samples_leaf=100, RF__n_estimators=1000, score=0.9276253213444597, total=   8.0s\n",
      "[CV] RF__max_features=0.75, RF__min_samples_leaf=100, RF__n_estimators=1000 \n",
      "[CV]  RF__max_features=0.75, RF__min_samples_leaf=100, RF__n_estimators=1000, score=0.9248640949526459, total=   7.9s\n",
      "[CV] RF__max_features=0.75, RF__min_samples_leaf=100, RF__n_estimators=1000 \n",
      "[CV]  RF__max_features=0.75, RF__min_samples_leaf=100, RF__n_estimators=1000, score=0.9253666261766658, total=   8.2s\n",
      "[CV] RF__max_features=0.75, RF__min_samples_leaf=100, RF__n_estimators=1000 \n",
      "[CV]  RF__max_features=0.75, RF__min_samples_leaf=100, RF__n_estimators=1000, score=0.9266554239095967, total=   8.0s\n",
      "[CV] RF__max_features=0.75, RF__min_samples_leaf=100, RF__n_estimators=1500 \n",
      "[CV]  RF__max_features=0.75, RF__min_samples_leaf=100, RF__n_estimators=1500, score=0.9238433473388518, total=  11.8s\n",
      "[CV] RF__max_features=0.75, RF__min_samples_leaf=100, RF__n_estimators=1500 \n",
      "[CV]  RF__max_features=0.75, RF__min_samples_leaf=100, RF__n_estimators=1500, score=0.9275103201585099, total=  12.0s\n",
      "[CV] RF__max_features=0.75, RF__min_samples_leaf=100, RF__n_estimators=1500 \n",
      "[CV]  RF__max_features=0.75, RF__min_samples_leaf=100, RF__n_estimators=1500, score=0.9247736513116125, total=  11.9s\n",
      "[CV] RF__max_features=0.75, RF__min_samples_leaf=100, RF__n_estimators=1500 \n",
      "[CV]  RF__max_features=0.75, RF__min_samples_leaf=100, RF__n_estimators=1500, score=0.9252096974750051, total=  12.1s\n",
      "[CV] RF__max_features=0.75, RF__min_samples_leaf=100, RF__n_estimators=1500 \n",
      "[CV]  RF__max_features=0.75, RF__min_samples_leaf=100, RF__n_estimators=1500, score=0.9268476077911346, total=  11.6s\n",
      "[CV] RF__max_features=0.75, RF__min_samples_leaf=500, RF__n_estimators=150 \n",
      "[CV]  RF__max_features=0.75, RF__min_samples_leaf=500, RF__n_estimators=150, score=0.8972773655416352, total=   0.9s\n",
      "[CV] RF__max_features=0.75, RF__min_samples_leaf=500, RF__n_estimators=150 \n",
      "[CV]  RF__max_features=0.75, RF__min_samples_leaf=500, RF__n_estimators=150, score=0.8956927264145744, total=   0.9s\n",
      "[CV] RF__max_features=0.75, RF__min_samples_leaf=500, RF__n_estimators=150 \n",
      "[CV]  RF__max_features=0.75, RF__min_samples_leaf=500, RF__n_estimators=150, score=0.9002023302115303, total=   0.9s\n",
      "[CV] RF__max_features=0.75, RF__min_samples_leaf=500, RF__n_estimators=150 \n",
      "[CV]  RF__max_features=0.75, RF__min_samples_leaf=500, RF__n_estimators=150, score=0.8945654752064631, total=   0.9s\n",
      "[CV] RF__max_features=0.75, RF__min_samples_leaf=500, RF__n_estimators=150 \n"
     ]
    },
    {
     "name": "stdout",
     "output_type": "stream",
     "text": [
      "[CV]  RF__max_features=0.75, RF__min_samples_leaf=500, RF__n_estimators=150, score=0.8994740167392161, total=   0.9s\n",
      "[CV] RF__max_features=0.75, RF__min_samples_leaf=500, RF__n_estimators=500 \n",
      "[CV]  RF__max_features=0.75, RF__min_samples_leaf=500, RF__n_estimators=500, score=0.8967499134882841, total=   2.4s\n",
      "[CV] RF__max_features=0.75, RF__min_samples_leaf=500, RF__n_estimators=500 \n",
      "[CV]  RF__max_features=0.75, RF__min_samples_leaf=500, RF__n_estimators=500, score=0.8958556447613367, total=   2.6s\n",
      "[CV] RF__max_features=0.75, RF__min_samples_leaf=500, RF__n_estimators=500 \n",
      "[CV]  RF__max_features=0.75, RF__min_samples_leaf=500, RF__n_estimators=500, score=0.899616542920599, total=   2.5s\n",
      "[CV] RF__max_features=0.75, RF__min_samples_leaf=500, RF__n_estimators=500 \n",
      "[CV]  RF__max_features=0.75, RF__min_samples_leaf=500, RF__n_estimators=500, score=0.89621741932547, total=   2.6s\n",
      "[CV] RF__max_features=0.75, RF__min_samples_leaf=500, RF__n_estimators=500 \n",
      "[CV]  RF__max_features=0.75, RF__min_samples_leaf=500, RF__n_estimators=500, score=0.8993088587160195, total=   2.4s\n",
      "[CV] RF__max_features=0.75, RF__min_samples_leaf=500, RF__n_estimators=1000 \n",
      "[CV]  RF__max_features=0.75, RF__min_samples_leaf=500, RF__n_estimators=1000, score=0.8969091668891823, total=   5.0s\n",
      "[CV] RF__max_features=0.75, RF__min_samples_leaf=500, RF__n_estimators=1000 \n",
      "[CV]  RF__max_features=0.75, RF__min_samples_leaf=500, RF__n_estimators=1000, score=0.8959832242019996, total=   4.9s\n",
      "[CV] RF__max_features=0.75, RF__min_samples_leaf=500, RF__n_estimators=1000 \n",
      "[CV]  RF__max_features=0.75, RF__min_samples_leaf=500, RF__n_estimators=1000, score=0.9001029021028448, total=   5.0s\n",
      "[CV] RF__max_features=0.75, RF__min_samples_leaf=500, RF__n_estimators=1000 \n",
      "[CV]  RF__max_features=0.75, RF__min_samples_leaf=500, RF__n_estimators=1000, score=0.8951620438585772, total=   5.0s\n",
      "[CV] RF__max_features=0.75, RF__min_samples_leaf=500, RF__n_estimators=1000 \n",
      "[CV]  RF__max_features=0.75, RF__min_samples_leaf=500, RF__n_estimators=1000, score=0.8999202436891618, total=   4.9s\n",
      "[CV] RF__max_features=0.75, RF__min_samples_leaf=500, RF__n_estimators=1500 \n",
      "[CV]  RF__max_features=0.75, RF__min_samples_leaf=500, RF__n_estimators=1500, score=0.8963463917130757, total=   7.2s\n",
      "[CV] RF__max_features=0.75, RF__min_samples_leaf=500, RF__n_estimators=1500 \n",
      "[CV]  RF__max_features=0.75, RF__min_samples_leaf=500, RF__n_estimators=1500, score=0.8957017108822267, total=   7.2s\n",
      "[CV] RF__max_features=0.75, RF__min_samples_leaf=500, RF__n_estimators=1500 \n",
      "[CV]  RF__max_features=0.75, RF__min_samples_leaf=500, RF__n_estimators=1500, score=0.8997267523904673, total=   7.1s\n",
      "[CV] RF__max_features=0.75, RF__min_samples_leaf=500, RF__n_estimators=1500 \n",
      "[CV]  RF__max_features=0.75, RF__min_samples_leaf=500, RF__n_estimators=1500, score=0.895509443274467, total=   7.3s\n",
      "[CV] RF__max_features=0.75, RF__min_samples_leaf=500, RF__n_estimators=1500 \n",
      "[CV]  RF__max_features=0.75, RF__min_samples_leaf=500, RF__n_estimators=1500, score=0.8996295655683357, total=   7.2s\n",
      "[CV] RF__max_features=None, RF__min_samples_leaf=10, RF__n_estimators=150 \n",
      "[CV]  RF__max_features=None, RF__min_samples_leaf=10, RF__n_estimators=150, score=0.9419539314635628, total=   2.5s\n",
      "[CV] RF__max_features=None, RF__min_samples_leaf=10, RF__n_estimators=150 \n",
      "[CV]  RF__max_features=None, RF__min_samples_leaf=10, RF__n_estimators=150, score=0.9428462074765146, total=   2.7s\n",
      "[CV] RF__max_features=None, RF__min_samples_leaf=10, RF__n_estimators=150 \n",
      "[CV]  RF__max_features=None, RF__min_samples_leaf=10, RF__n_estimators=150, score=0.9440052038036642, total=   2.7s\n",
      "[CV] RF__max_features=None, RF__min_samples_leaf=10, RF__n_estimators=150 \n",
      "[CV]  RF__max_features=None, RF__min_samples_leaf=10, RF__n_estimators=150, score=0.9400993562329445, total=   2.6s\n",
      "[CV] RF__max_features=None, RF__min_samples_leaf=10, RF__n_estimators=150 \n",
      "[CV]  RF__max_features=None, RF__min_samples_leaf=10, RF__n_estimators=150, score=0.9440216399050612, total=   2.6s\n",
      "[CV] RF__max_features=None, RF__min_samples_leaf=10, RF__n_estimators=500 \n",
      "[CV]  RF__max_features=None, RF__min_samples_leaf=10, RF__n_estimators=500, score=0.942041341224958, total=   8.3s\n",
      "[CV] RF__max_features=None, RF__min_samples_leaf=10, RF__n_estimators=500 \n",
      "[CV]  RF__max_features=None, RF__min_samples_leaf=10, RF__n_estimators=500, score=0.9424119582066524, total=   8.4s\n",
      "[CV] RF__max_features=None, RF__min_samples_leaf=10, RF__n_estimators=500 \n",
      "[CV]  RF__max_features=None, RF__min_samples_leaf=10, RF__n_estimators=500, score=0.9444592189023616, total=   8.6s\n",
      "[CV] RF__max_features=None, RF__min_samples_leaf=10, RF__n_estimators=500 \n",
      "[CV]  RF__max_features=None, RF__min_samples_leaf=10, RF__n_estimators=500, score=0.9415171052284811, total=   8.4s\n",
      "[CV] RF__max_features=None, RF__min_samples_leaf=10, RF__n_estimators=500 \n",
      "[CV]  RF__max_features=None, RF__min_samples_leaf=10, RF__n_estimators=500, score=0.9443039099810699, total=   8.3s\n",
      "[CV] RF__max_features=None, RF__min_samples_leaf=10, RF__n_estimators=1000 \n",
      "[CV]  RF__max_features=None, RF__min_samples_leaf=10, RF__n_estimators=1000, score=0.9412522585844167, total=  16.5s\n",
      "[CV] RF__max_features=None, RF__min_samples_leaf=10, RF__n_estimators=1000 \n",
      "[CV]  RF__max_features=None, RF__min_samples_leaf=10, RF__n_estimators=1000, score=0.9426030278853917, total=  16.7s\n",
      "[CV] RF__max_features=None, RF__min_samples_leaf=10, RF__n_estimators=1000 \n",
      "[CV]  RF__max_features=None, RF__min_samples_leaf=10, RF__n_estimators=1000, score=0.9445969807396971, total=  16.9s\n",
      "[CV] RF__max_features=None, RF__min_samples_leaf=10, RF__n_estimators=1000 \n",
      "[CV]  RF__max_features=None, RF__min_samples_leaf=10, RF__n_estimators=1000, score=0.9411529348063069, total=  16.5s\n",
      "[CV] RF__max_features=None, RF__min_samples_leaf=10, RF__n_estimators=1000 \n",
      "[CV]  RF__max_features=None, RF__min_samples_leaf=10, RF__n_estimators=1000, score=0.9439838037033834, total=  16.3s\n",
      "[CV] RF__max_features=None, RF__min_samples_leaf=10, RF__n_estimators=1500 \n",
      "[CV]  RF__max_features=None, RF__min_samples_leaf=10, RF__n_estimators=1500, score=0.9411959810668061, total=  24.8s\n",
      "[CV] RF__max_features=None, RF__min_samples_leaf=10, RF__n_estimators=1500 \n",
      "[CV]  RF__max_features=None, RF__min_samples_leaf=10, RF__n_estimators=1500, score=0.9429384480110783, total=  25.5s\n",
      "[CV] RF__max_features=None, RF__min_samples_leaf=10, RF__n_estimators=1500 \n",
      "[CV]  RF__max_features=None, RF__min_samples_leaf=10, RF__n_estimators=1500, score=0.9446017724557785, total=  25.6s\n",
      "[CV] RF__max_features=None, RF__min_samples_leaf=10, RF__n_estimators=1500 \n",
      "[CV]  RF__max_features=None, RF__min_samples_leaf=10, RF__n_estimators=1500, score=0.9412296022636066, total=  25.2s\n",
      "[CV] RF__max_features=None, RF__min_samples_leaf=10, RF__n_estimators=1500 \n",
      "[CV]  RF__max_features=None, RF__min_samples_leaf=10, RF__n_estimators=1500, score=0.9440732893232245, total=  24.0s\n",
      "[CV] RF__max_features=None, RF__min_samples_leaf=50, RF__n_estimators=150 \n",
      "[CV]  RF__max_features=None, RF__min_samples_leaf=50, RF__n_estimators=150, score=0.9295327648904923, total=   1.9s\n",
      "[CV] RF__max_features=None, RF__min_samples_leaf=50, RF__n_estimators=150 \n",
      "[CV]  RF__max_features=None, RF__min_samples_leaf=50, RF__n_estimators=150, score=0.9340498146803806, total=   2.0s\n",
      "[CV] RF__max_features=None, RF__min_samples_leaf=50, RF__n_estimators=150 \n",
      "[CV]  RF__max_features=None, RF__min_samples_leaf=50, RF__n_estimators=150, score=0.9325673775177474, total=   1.9s\n",
      "[CV] RF__max_features=None, RF__min_samples_leaf=50, RF__n_estimators=150 \n",
      "[CV]  RF__max_features=None, RF__min_samples_leaf=50, RF__n_estimators=150, score=0.9305788153440331, total=   2.0s\n",
      "[CV] RF__max_features=None, RF__min_samples_leaf=50, RF__n_estimators=150 \n",
      "[CV]  RF__max_features=None, RF__min_samples_leaf=50, RF__n_estimators=150, score=0.9332599431135711, total=   1.9s\n",
      "[CV] RF__max_features=None, RF__min_samples_leaf=50, RF__n_estimators=500 \n",
      "[CV]  RF__max_features=None, RF__min_samples_leaf=50, RF__n_estimators=500, score=0.9299847811223654, total=   6.3s\n",
      "[CV] RF__max_features=None, RF__min_samples_leaf=50, RF__n_estimators=500 \n",
      "[CV]  RF__max_features=None, RF__min_samples_leaf=50, RF__n_estimators=500, score=0.9341061173443352, total=   6.5s\n",
      "[CV] RF__max_features=None, RF__min_samples_leaf=50, RF__n_estimators=500 \n"
     ]
    },
    {
     "name": "stdout",
     "output_type": "stream",
     "text": [
      "[CV]  RF__max_features=None, RF__min_samples_leaf=50, RF__n_estimators=500, score=0.9330166009003634, total=   6.5s\n",
      "[CV] RF__max_features=None, RF__min_samples_leaf=50, RF__n_estimators=500 \n",
      "[CV]  RF__max_features=None, RF__min_samples_leaf=50, RF__n_estimators=500, score=0.9312760100338534, total=   6.4s\n",
      "[CV] RF__max_features=None, RF__min_samples_leaf=50, RF__n_estimators=500 \n",
      "[CV]  RF__max_features=None, RF__min_samples_leaf=50, RF__n_estimators=500, score=0.9331932793296628, total=   6.1s\n",
      "[CV] RF__max_features=None, RF__min_samples_leaf=50, RF__n_estimators=1000 \n",
      "[CV]  RF__max_features=None, RF__min_samples_leaf=50, RF__n_estimators=1000, score=0.9300823687326901, total=  12.4s\n",
      "[CV] RF__max_features=None, RF__min_samples_leaf=50, RF__n_estimators=1000 \n",
      "[CV]  RF__max_features=None, RF__min_samples_leaf=50, RF__n_estimators=1000, score=0.9341600241502491, total=  12.6s\n",
      "[CV] RF__max_features=None, RF__min_samples_leaf=50, RF__n_estimators=1000 \n",
      "[CV]  RF__max_features=None, RF__min_samples_leaf=50, RF__n_estimators=1000, score=0.9325062831377116, total=  12.5s\n",
      "[CV] RF__max_features=None, RF__min_samples_leaf=50, RF__n_estimators=1000 \n",
      "[CV]  RF__max_features=None, RF__min_samples_leaf=50, RF__n_estimators=1000, score=0.9307932446386686, total=  12.7s\n",
      "[CV] RF__max_features=None, RF__min_samples_leaf=50, RF__n_estimators=1000 \n",
      "[CV]  RF__max_features=None, RF__min_samples_leaf=50, RF__n_estimators=1000, score=0.9330695609559225, total=  12.3s\n",
      "[CV] RF__max_features=None, RF__min_samples_leaf=50, RF__n_estimators=1500 \n",
      "[CV]  RF__max_features=None, RF__min_samples_leaf=50, RF__n_estimators=1500, score=0.9299213192408042, total=  18.4s\n",
      "[CV] RF__max_features=None, RF__min_samples_leaf=50, RF__n_estimators=1500 \n",
      "[CV]  RF__max_features=None, RF__min_samples_leaf=50, RF__n_estimators=1500, score=0.934283410839341, total=  18.7s\n",
      "[CV] RF__max_features=None, RF__min_samples_leaf=50, RF__n_estimators=1500 \n",
      "[CV]  RF__max_features=None, RF__min_samples_leaf=50, RF__n_estimators=1500, score=0.9329363396560028, total=  18.5s\n",
      "[CV] RF__max_features=None, RF__min_samples_leaf=50, RF__n_estimators=1500 \n",
      "[CV]  RF__max_features=None, RF__min_samples_leaf=50, RF__n_estimators=1500, score=0.9309621526305323, total=  18.6s\n",
      "[CV] RF__max_features=None, RF__min_samples_leaf=50, RF__n_estimators=1500 \n",
      "[CV]  RF__max_features=None, RF__min_samples_leaf=50, RF__n_estimators=1500, score=0.9329686644181151, total=  18.3s\n",
      "[CV] RF__max_features=None, RF__min_samples_leaf=100, RF__n_estimators=150 \n",
      "[CV]  RF__max_features=None, RF__min_samples_leaf=100, RF__n_estimators=150, score=0.9213222342892926, total=   1.6s\n",
      "[CV] RF__max_features=None, RF__min_samples_leaf=100, RF__n_estimators=150 \n",
      "[CV]  RF__max_features=None, RF__min_samples_leaf=100, RF__n_estimators=150, score=0.9257134266280456, total=   1.6s\n",
      "[CV] RF__max_features=None, RF__min_samples_leaf=100, RF__n_estimators=150 \n",
      "[CV]  RF__max_features=None, RF__min_samples_leaf=100, RF__n_estimators=150, score=0.924176483694988, total=   1.6s\n",
      "[CV] RF__max_features=None, RF__min_samples_leaf=100, RF__n_estimators=150 \n",
      "[CV]  RF__max_features=None, RF__min_samples_leaf=100, RF__n_estimators=150, score=0.9236547856066432, total=   1.7s\n",
      "[CV] RF__max_features=None, RF__min_samples_leaf=100, RF__n_estimators=150 \n",
      "[CV]  RF__max_features=None, RF__min_samples_leaf=100, RF__n_estimators=150, score=0.9241822575840565, total=   1.6s\n",
      "[CV] RF__max_features=None, RF__min_samples_leaf=100, RF__n_estimators=500 \n",
      "[CV]  RF__max_features=None, RF__min_samples_leaf=100, RF__n_estimators=500, score=0.9211031111888086, total=   5.1s\n",
      "[CV] RF__max_features=None, RF__min_samples_leaf=100, RF__n_estimators=500 \n",
      "[CV]  RF__max_features=None, RF__min_samples_leaf=100, RF__n_estimators=500, score=0.9262992139189768, total=   5.1s\n",
      "[CV] RF__max_features=None, RF__min_samples_leaf=100, RF__n_estimators=500 \n",
      "[CV]  RF__max_features=None, RF__min_samples_leaf=100, RF__n_estimators=500, score=0.9235966860491581, total=   5.3s\n",
      "[CV] RF__max_features=None, RF__min_samples_leaf=100, RF__n_estimators=500 \n",
      "[CV]  RF__max_features=None, RF__min_samples_leaf=100, RF__n_estimators=500, score=0.9235122320532263, total=   5.4s\n",
      "[CV] RF__max_features=None, RF__min_samples_leaf=100, RF__n_estimators=500 \n",
      "[CV]  RF__max_features=None, RF__min_samples_leaf=100, RF__n_estimators=500, score=0.9246050621234398, total=   5.1s\n",
      "[CV] RF__max_features=None, RF__min_samples_leaf=100, RF__n_estimators=1000 \n",
      "[CV]  RF__max_features=None, RF__min_samples_leaf=100, RF__n_estimators=1000, score=0.9212737398326283, total=  10.5s\n",
      "[CV] RF__max_features=None, RF__min_samples_leaf=100, RF__n_estimators=1000 \n",
      "[CV]  RF__max_features=None, RF__min_samples_leaf=100, RF__n_estimators=1000, score=0.9261650458687022, total=  10.6s\n",
      "[CV] RF__max_features=None, RF__min_samples_leaf=100, RF__n_estimators=1000 \n",
      "[CV]  RF__max_features=None, RF__min_samples_leaf=100, RF__n_estimators=1000, score=0.9242399739330645, total=  10.6s\n",
      "[CV] RF__max_features=None, RF__min_samples_leaf=100, RF__n_estimators=1000 \n",
      "[CV]  RF__max_features=None, RF__min_samples_leaf=100, RF__n_estimators=1000, score=0.9237074944835368, total=  10.7s\n",
      "[CV] RF__max_features=None, RF__min_samples_leaf=100, RF__n_estimators=1000 \n",
      "[CV]  RF__max_features=None, RF__min_samples_leaf=100, RF__n_estimators=1000, score=0.9248128609453525, total=  10.4s\n",
      "[CV] RF__max_features=None, RF__min_samples_leaf=100, RF__n_estimators=1500 \n",
      "[CV]  RF__max_features=None, RF__min_samples_leaf=100, RF__n_estimators=1500, score=0.9210833541879453, total=  15.7s\n",
      "[CV] RF__max_features=None, RF__min_samples_leaf=100, RF__n_estimators=1500 \n",
      "[CV]  RF__max_features=None, RF__min_samples_leaf=100, RF__n_estimators=1500, score=0.9261362955722148, total=  15.0s\n",
      "[CV] RF__max_features=None, RF__min_samples_leaf=100, RF__n_estimators=1500 \n",
      "[CV]  RF__max_features=None, RF__min_samples_leaf=100, RF__n_estimators=1500, score=0.9238488501079334, total=  15.4s\n",
      "[CV] RF__max_features=None, RF__min_samples_leaf=100, RF__n_estimators=1500 \n",
      "[CV]  RF__max_features=None, RF__min_samples_leaf=100, RF__n_estimators=1500, score=0.9238871838365832, total=  15.7s\n",
      "[CV] RF__max_features=None, RF__min_samples_leaf=100, RF__n_estimators=1500 \n",
      "[CV]  RF__max_features=None, RF__min_samples_leaf=100, RF__n_estimators=1500, score=0.9251659988276782, total=  14.7s\n",
      "[CV] RF__max_features=None, RF__min_samples_leaf=500, RF__n_estimators=150 \n",
      "[CV]  RF__max_features=None, RF__min_samples_leaf=500, RF__n_estimators=150, score=0.8919639297033934, total=   1.0s\n",
      "[CV] RF__max_features=None, RF__min_samples_leaf=500, RF__n_estimators=150 \n",
      "[CV]  RF__max_features=None, RF__min_samples_leaf=500, RF__n_estimators=150, score=0.8880798874905064, total=   1.0s\n",
      "[CV] RF__max_features=None, RF__min_samples_leaf=500, RF__n_estimators=150 \n",
      "[CV]  RF__max_features=None, RF__min_samples_leaf=500, RF__n_estimators=150, score=0.8945990172190319, total=   1.0s\n",
      "[CV] RF__max_features=None, RF__min_samples_leaf=500, RF__n_estimators=150 \n",
      "[CV]  RF__max_features=None, RF__min_samples_leaf=500, RF__n_estimators=150, score=0.8894796675507382, total=   1.0s\n",
      "[CV] RF__max_features=None, RF__min_samples_leaf=500, RF__n_estimators=150 \n",
      "[CV]  RF__max_features=None, RF__min_samples_leaf=500, RF__n_estimators=150, score=0.8944820404162702, total=   1.0s\n",
      "[CV] RF__max_features=None, RF__min_samples_leaf=500, RF__n_estimators=500 \n",
      "[CV]  RF__max_features=None, RF__min_samples_leaf=500, RF__n_estimators=500, score=0.891443063316997, total=   3.2s\n",
      "[CV] RF__max_features=None, RF__min_samples_leaf=500, RF__n_estimators=500 \n",
      "[CV]  RF__max_features=None, RF__min_samples_leaf=500, RF__n_estimators=500, score=0.8890699758257923, total=   3.2s\n",
      "[CV] RF__max_features=None, RF__min_samples_leaf=500, RF__n_estimators=500 \n",
      "[CV]  RF__max_features=None, RF__min_samples_leaf=500, RF__n_estimators=500, score=0.8956214496378659, total=   3.2s\n",
      "[CV] RF__max_features=None, RF__min_samples_leaf=500, RF__n_estimators=500 \n",
      "[CV]  RF__max_features=None, RF__min_samples_leaf=500, RF__n_estimators=500, score=0.8900157407873269, total=   3.1s\n",
      "[CV] RF__max_features=None, RF__min_samples_leaf=500, RF__n_estimators=500 \n",
      "[CV]  RF__max_features=None, RF__min_samples_leaf=500, RF__n_estimators=500, score=0.8938652502714597, total=   3.1s\n",
      "[CV] RF__max_features=None, RF__min_samples_leaf=500, RF__n_estimators=1000 \n"
     ]
    },
    {
     "name": "stdout",
     "output_type": "stream",
     "text": [
      "[CV]  RF__max_features=None, RF__min_samples_leaf=500, RF__n_estimators=1000, score=0.8912957838560158, total=   6.0s\n",
      "[CV] RF__max_features=None, RF__min_samples_leaf=500, RF__n_estimators=1000 \n",
      "[CV]  RF__max_features=None, RF__min_samples_leaf=500, RF__n_estimators=1000, score=0.8891083095544422, total=   6.0s\n",
      "[CV] RF__max_features=None, RF__min_samples_leaf=500, RF__n_estimators=1000 \n",
      "[CV]  RF__max_features=None, RF__min_samples_leaf=500, RF__n_estimators=1000, score=0.8958346810034813, total=   6.0s\n",
      "[CV] RF__max_features=None, RF__min_samples_leaf=500, RF__n_estimators=1000 \n",
      "[CV]  RF__max_features=None, RF__min_samples_leaf=500, RF__n_estimators=1000, score=0.889451516218761, total=   6.2s\n",
      "[CV] RF__max_features=None, RF__min_samples_leaf=500, RF__n_estimators=1000 \n",
      "[CV]  RF__max_features=None, RF__min_samples_leaf=500, RF__n_estimators=1000, score=0.8939409226748152, total=   6.1s\n",
      "[CV] RF__max_features=None, RF__min_samples_leaf=500, RF__n_estimators=1500 \n",
      "[CV]  RF__max_features=None, RF__min_samples_leaf=500, RF__n_estimators=1500, score=0.8912430985203802, total=   9.1s\n",
      "[CV] RF__max_features=None, RF__min_samples_leaf=500, RF__n_estimators=1500 \n",
      "[CV]  RF__max_features=None, RF__min_samples_leaf=500, RF__n_estimators=1500, score=0.8889453912076801, total=   9.0s\n",
      "[CV] RF__max_features=None, RF__min_samples_leaf=500, RF__n_estimators=1500 \n",
      "[CV]  RF__max_features=None, RF__min_samples_leaf=500, RF__n_estimators=1500, score=0.8953525145728066, total=   9.2s\n",
      "[CV] RF__max_features=None, RF__min_samples_leaf=500, RF__n_estimators=1500 \n",
      "[CV]  RF__max_features=None, RF__min_samples_leaf=500, RF__n_estimators=1500, score=0.8905068916856538, total=   9.2s\n",
      "[CV] RF__max_features=None, RF__min_samples_leaf=500, RF__n_estimators=1500 \n",
      "[CV]  RF__max_features=None, RF__min_samples_leaf=500, RF__n_estimators=1500, score=0.8940442215111418, total=   8.8s\n"
     ]
    },
    {
     "name": "stderr",
     "output_type": "stream",
     "text": [
      "[Parallel(n_jobs=1)]: Done 320 out of 320 | elapsed: 32.1min finished\n"
     ]
    },
    {
     "name": "stdout",
     "output_type": "stream",
     "text": [
      "0.9451343105713146\n",
      "{'RF__max_features': 0.5, 'RF__min_samples_leaf': 10, 'RF__n_estimators': 1500}\n",
      "Fitting 5 folds for each of 64 candidates, totalling 320 fits\n",
      "[CV] RF__max_features=0.25, RF__min_samples_leaf=10, RF__n_estimators=150 \n"
     ]
    },
    {
     "name": "stderr",
     "output_type": "stream",
     "text": [
      "[Parallel(n_jobs=1)]: Using backend SequentialBackend with 1 concurrent workers.\n"
     ]
    },
    {
     "name": "stdout",
     "output_type": "stream",
     "text": [
      "[CV]  RF__max_features=0.25, RF__min_samples_leaf=10, RF__n_estimators=150, score=0.9421077965914981, total=   0.9s\n",
      "[CV] RF__max_features=0.25, RF__min_samples_leaf=10, RF__n_estimators=150 \n"
     ]
    },
    {
     "name": "stderr",
     "output_type": "stream",
     "text": [
      "[Parallel(n_jobs=1)]: Done   1 out of   1 | elapsed:    1.0s remaining:    0.0s\n"
     ]
    },
    {
     "name": "stdout",
     "output_type": "stream",
     "text": [
      "[CV]  RF__max_features=0.25, RF__min_samples_leaf=10, RF__n_estimators=150, score=0.944283123336376, total=   0.9s\n",
      "[CV] RF__max_features=0.25, RF__min_samples_leaf=10, RF__n_estimators=150 \n"
     ]
    },
    {
     "name": "stderr",
     "output_type": "stream",
     "text": [
      "[Parallel(n_jobs=1)]: Done   2 out of   2 | elapsed:    2.0s remaining:    0.0s\n"
     ]
    },
    {
     "name": "stdout",
     "output_type": "stream",
     "text": [
      "[CV]  RF__max_features=0.25, RF__min_samples_leaf=10, RF__n_estimators=150, score=0.9449084422849776, total=   0.8s\n",
      "[CV] RF__max_features=0.25, RF__min_samples_leaf=10, RF__n_estimators=150 \n"
     ]
    },
    {
     "name": "stderr",
     "output_type": "stream",
     "text": [
      "[Parallel(n_jobs=1)]: Done   3 out of   3 | elapsed:    2.9s remaining:    0.0s\n"
     ]
    },
    {
     "name": "stdout",
     "output_type": "stream",
     "text": [
      "[CV]  RF__max_features=0.25, RF__min_samples_leaf=10, RF__n_estimators=150, score=0.9427719358772554, total=   0.8s\n",
      "[CV] RF__max_features=0.25, RF__min_samples_leaf=10, RF__n_estimators=150 \n"
     ]
    },
    {
     "name": "stderr",
     "output_type": "stream",
     "text": [
      "[Parallel(n_jobs=1)]: Done   4 out of   4 | elapsed:    3.8s remaining:    0.0s\n"
     ]
    },
    {
     "name": "stdout",
     "output_type": "stream",
     "text": [
      "[CV]  RF__max_features=0.25, RF__min_samples_leaf=10, RF__n_estimators=150, score=0.9469146078968358, total=   0.8s\n",
      "[CV] RF__max_features=0.25, RF__min_samples_leaf=10, RF__n_estimators=500 \n"
     ]
    },
    {
     "name": "stderr",
     "output_type": "stream",
     "text": [
      "[Parallel(n_jobs=1)]: Done   5 out of   5 | elapsed:    4.7s remaining:    0.0s\n"
     ]
    },
    {
     "name": "stdout",
     "output_type": "stream",
     "text": [
      "[CV]  RF__max_features=0.25, RF__min_samples_leaf=10, RF__n_estimators=500, score=0.9430519417539666, total=   2.1s\n",
      "[CV] RF__max_features=0.25, RF__min_samples_leaf=10, RF__n_estimators=500 \n"
     ]
    },
    {
     "name": "stderr",
     "output_type": "stream",
     "text": [
      "[Parallel(n_jobs=1)]: Done   6 out of   6 | elapsed:    7.1s remaining:    0.0s\n"
     ]
    },
    {
     "name": "stdout",
     "output_type": "stream",
     "text": [
      "[CV]  RF__max_features=0.25, RF__min_samples_leaf=10, RF__n_estimators=500, score=0.9441795024761194, total=   2.2s\n",
      "[CV] RF__max_features=0.25, RF__min_samples_leaf=10, RF__n_estimators=500 \n"
     ]
    },
    {
     "name": "stderr",
     "output_type": "stream",
     "text": [
      "[Parallel(n_jobs=1)]: Done   7 out of   7 | elapsed:    9.5s remaining:    0.0s\n"
     ]
    },
    {
     "name": "stdout",
     "output_type": "stream",
     "text": [
      "[CV]  RF__max_features=0.25, RF__min_samples_leaf=10, RF__n_estimators=500, score=0.9448545354790637, total=   2.2s\n",
      "[CV] RF__max_features=0.25, RF__min_samples_leaf=10, RF__n_estimators=500 \n"
     ]
    },
    {
     "name": "stderr",
     "output_type": "stream",
     "text": [
      "[Parallel(n_jobs=1)]: Done   8 out of   8 | elapsed:   11.9s remaining:    0.0s\n"
     ]
    },
    {
     "name": "stdout",
     "output_type": "stream",
     "text": [
      "[CV]  RF__max_features=0.25, RF__min_samples_leaf=10, RF__n_estimators=500, score=0.9433984527548773, total=   2.2s\n",
      "[CV] RF__max_features=0.25, RF__min_samples_leaf=10, RF__n_estimators=500 \n"
     ]
    },
    {
     "name": "stderr",
     "output_type": "stream",
     "text": [
      "[Parallel(n_jobs=1)]: Done   9 out of   9 | elapsed:   14.4s remaining:    0.0s\n"
     ]
    },
    {
     "name": "stdout",
     "output_type": "stream",
     "text": [
      "[CV]  RF__max_features=0.25, RF__min_samples_leaf=10, RF__n_estimators=500, score=0.947195076248955, total=   2.1s\n",
      "[CV] RF__max_features=0.25, RF__min_samples_leaf=10, RF__n_estimators=1000 \n",
      "[CV]  RF__max_features=0.25, RF__min_samples_leaf=10, RF__n_estimators=1000, score=0.9426340512508576, total=   4.3s\n",
      "[CV] RF__max_features=0.25, RF__min_samples_leaf=10, RF__n_estimators=1000 \n",
      "[CV]  RF__max_features=0.25, RF__min_samples_leaf=10, RF__n_estimators=1000, score=0.9448407592953303, total=   4.3s\n",
      "[CV] RF__max_features=0.25, RF__min_samples_leaf=10, RF__n_estimators=1000 \n",
      "[CV]  RF__max_features=0.25, RF__min_samples_leaf=10, RF__n_estimators=1000, score=0.9454091766154671, total=   4.3s\n",
      "[CV] RF__max_features=0.25, RF__min_samples_leaf=10, RF__n_estimators=1000 \n",
      "[CV]  RF__max_features=0.25, RF__min_samples_leaf=10, RF__n_estimators=1000, score=0.9440998401962687, total=   4.3s\n",
      "[CV] RF__max_features=0.25, RF__min_samples_leaf=10, RF__n_estimators=1000 \n",
      "[CV]  RF__max_features=0.25, RF__min_samples_leaf=10, RF__n_estimators=1000, score=0.9466869901121393, total=   4.2s\n",
      "[CV] RF__max_features=0.25, RF__min_samples_leaf=10, RF__n_estimators=1500 \n",
      "[CV]  RF__max_features=0.25, RF__min_samples_leaf=10, RF__n_estimators=1500, score=0.9429926707513767, total=   6.3s\n",
      "[CV] RF__max_features=0.25, RF__min_samples_leaf=10, RF__n_estimators=1500 \n",
      "[CV]  RF__max_features=0.25, RF__min_samples_leaf=10, RF__n_estimators=1500, score=0.9446730492324869, total=   6.4s\n",
      "[CV] RF__max_features=0.25, RF__min_samples_leaf=10, RF__n_estimators=1500 \n",
      "[CV]  RF__max_features=0.25, RF__min_samples_leaf=10, RF__n_estimators=1500, score=0.9453229257260048, total=   6.3s\n",
      "[CV] RF__max_features=0.25, RF__min_samples_leaf=10, RF__n_estimators=1500 \n",
      "[CV]  RF__max_features=0.25, RF__min_samples_leaf=10, RF__n_estimators=1500, score=0.9434841046798295, total=   6.3s\n",
      "[CV] RF__max_features=0.25, RF__min_samples_leaf=10, RF__n_estimators=1500 \n",
      "[CV]  RF__max_features=0.25, RF__min_samples_leaf=10, RF__n_estimators=1500, score=0.9471830647563588, total=   6.2s\n",
      "[CV] RF__max_features=0.25, RF__min_samples_leaf=50, RF__n_estimators=150 \n",
      "[CV]  RF__max_features=0.25, RF__min_samples_leaf=50, RF__n_estimators=150, score=0.9318281691726126, total=   0.6s\n",
      "[CV] RF__max_features=0.25, RF__min_samples_leaf=50, RF__n_estimators=150 \n",
      "[CV]  RF__max_features=0.25, RF__min_samples_leaf=50, RF__n_estimators=150, score=0.9357784262566874, total=   0.7s\n",
      "[CV] RF__max_features=0.25, RF__min_samples_leaf=50, RF__n_estimators=150 \n",
      "[CV]  RF__max_features=0.25, RF__min_samples_leaf=50, RF__n_estimators=150, score=0.9330345698356681, total=   0.7s\n",
      "[CV] RF__max_features=0.25, RF__min_samples_leaf=50, RF__n_estimators=150 \n",
      "[CV]  RF__max_features=0.25, RF__min_samples_leaf=50, RF__n_estimators=150, score=0.9346362009358221, total=   0.7s\n",
      "[CV] RF__max_features=0.25, RF__min_samples_leaf=50, RF__n_estimators=150 \n",
      "[CV]  RF__max_features=0.25, RF__min_samples_leaf=50, RF__n_estimators=150, score=0.9347355549790038, total=   0.7s\n",
      "[CV] RF__max_features=0.25, RF__min_samples_leaf=50, RF__n_estimators=500 \n",
      "[CV]  RF__max_features=0.25, RF__min_samples_leaf=50, RF__n_estimators=500, score=0.9329279755540042, total=   1.8s\n",
      "[CV] RF__max_features=0.25, RF__min_samples_leaf=50, RF__n_estimators=500 \n",
      "[CV]  RF__max_features=0.25, RF__min_samples_leaf=50, RF__n_estimators=500, score=0.9356430602773925, total=   1.8s\n",
      "[CV] RF__max_features=0.25, RF__min_samples_leaf=50, RF__n_estimators=500 \n",
      "[CV]  RF__max_features=0.25, RF__min_samples_leaf=50, RF__n_estimators=500, score=0.9339402041750222, total=   1.8s\n",
      "[CV] RF__max_features=0.25, RF__min_samples_leaf=50, RF__n_estimators=500 \n",
      "[CV]  RF__max_features=0.25, RF__min_samples_leaf=50, RF__n_estimators=500, score=0.9339545793232659, total=   1.8s\n",
      "[CV] RF__max_features=0.25, RF__min_samples_leaf=50, RF__n_estimators=500 \n",
      "[CV]  RF__max_features=0.25, RF__min_samples_leaf=50, RF__n_estimators=500, score=0.9352928882354636, total=   1.8s\n",
      "[CV] RF__max_features=0.25, RF__min_samples_leaf=50, RF__n_estimators=1000 \n",
      "[CV]  RF__max_features=0.25, RF__min_samples_leaf=50, RF__n_estimators=1000, score=0.9326705358457852, total=   3.5s\n",
      "[CV] RF__max_features=0.25, RF__min_samples_leaf=50, RF__n_estimators=1000 \n",
      "[CV]  RF__max_features=0.25, RF__min_samples_leaf=50, RF__n_estimators=1000, score=0.9359485321775713, total=   3.4s\n",
      "[CV] RF__max_features=0.25, RF__min_samples_leaf=50, RF__n_estimators=1000 \n",
      "[CV]  RF__max_features=0.25, RF__min_samples_leaf=50, RF__n_estimators=1000, score=0.9336479094940666, total=   3.4s\n",
      "[CV] RF__max_features=0.25, RF__min_samples_leaf=50, RF__n_estimators=1000 \n",
      "[CV]  RF__max_features=0.25, RF__min_samples_leaf=50, RF__n_estimators=1000, score=0.933510147656731, total=   3.4s\n",
      "[CV] RF__max_features=0.25, RF__min_samples_leaf=50, RF__n_estimators=1000 \n",
      "[CV]  RF__max_features=0.25, RF__min_samples_leaf=50, RF__n_estimators=1000, score=0.9355259111918285, total=   3.5s\n",
      "[CV] RF__max_features=0.25, RF__min_samples_leaf=50, RF__n_estimators=1500 \n",
      "[CV]  RF__max_features=0.25, RF__min_samples_leaf=50, RF__n_estimators=1500, score=0.9323975300156739, total=   5.0s\n",
      "[CV] RF__max_features=0.25, RF__min_samples_leaf=50, RF__n_estimators=1500 \n",
      "[CV]  RF__max_features=0.25, RF__min_samples_leaf=50, RF__n_estimators=1500, score=0.9359149901650027, total=   5.1s\n",
      "[CV] RF__max_features=0.25, RF__min_samples_leaf=50, RF__n_estimators=1500 \n",
      "[CV]  RF__max_features=0.25, RF__min_samples_leaf=50, RF__n_estimators=1500, score=0.9337808796153211, total=   5.1s\n",
      "[CV] RF__max_features=0.25, RF__min_samples_leaf=50, RF__n_estimators=1500 \n",
      "[CV]  RF__max_features=0.25, RF__min_samples_leaf=50, RF__n_estimators=1500, score=0.9341821858371246, total=   5.2s\n",
      "[CV] RF__max_features=0.25, RF__min_samples_leaf=50, RF__n_estimators=1500 \n",
      "[CV]  RF__max_features=0.25, RF__min_samples_leaf=50, RF__n_estimators=1500, score=0.934967376786109, total=   5.2s\n",
      "[CV] RF__max_features=0.25, RF__min_samples_leaf=100, RF__n_estimators=150 \n",
      "[CV]  RF__max_features=0.25, RF__min_samples_leaf=100, RF__n_estimators=150, score=0.9251784416396156, total=   0.6s\n",
      "[CV] RF__max_features=0.25, RF__min_samples_leaf=100, RF__n_estimators=150 \n",
      "[CV]  RF__max_features=0.25, RF__min_samples_leaf=100, RF__n_estimators=150, score=0.9294545589584726, total=   0.6s\n",
      "[CV] RF__max_features=0.25, RF__min_samples_leaf=100, RF__n_estimators=150 \n",
      "[CV]  RF__max_features=0.25, RF__min_samples_leaf=100, RF__n_estimators=150, score=0.9278427454616458, total=   0.6s\n",
      "[CV] RF__max_features=0.25, RF__min_samples_leaf=100, RF__n_estimators=150 \n",
      "[CV]  RF__max_features=0.25, RF__min_samples_leaf=100, RF__n_estimators=150, score=0.9263968451341321, total=   0.6s\n",
      "[CV] RF__max_features=0.25, RF__min_samples_leaf=100, RF__n_estimators=150 \n",
      "[CV]  RF__max_features=0.25, RF__min_samples_leaf=100, RF__n_estimators=150, score=0.9280283375133327, total=   0.6s\n",
      "[CV] RF__max_features=0.25, RF__min_samples_leaf=100, RF__n_estimators=500 \n",
      "[CV]  RF__max_features=0.25, RF__min_samples_leaf=100, RF__n_estimators=500, score=0.9255723842628901, total=   1.7s\n",
      "[CV] RF__max_features=0.25, RF__min_samples_leaf=100, RF__n_estimators=500 \n",
      "[CV]  RF__max_features=0.25, RF__min_samples_leaf=100, RF__n_estimators=500, score=0.9298882092638246, total=   1.7s\n",
      "[CV] RF__max_features=0.25, RF__min_samples_leaf=100, RF__n_estimators=500 \n",
      "[CV]  RF__max_features=0.25, RF__min_samples_leaf=100, RF__n_estimators=500, score=0.9271479466298662, total=   1.6s\n",
      "[CV] RF__max_features=0.25, RF__min_samples_leaf=100, RF__n_estimators=500 \n",
      "[CV]  RF__max_features=0.25, RF__min_samples_leaf=100, RF__n_estimators=500, score=0.9271335714816226, total=   1.7s\n",
      "[CV] RF__max_features=0.25, RF__min_samples_leaf=100, RF__n_estimators=500 \n",
      "[CV]  RF__max_features=0.25, RF__min_samples_leaf=100, RF__n_estimators=500, score=0.9284691592916102, total=   1.7s\n",
      "[CV] RF__max_features=0.25, RF__min_samples_leaf=100, RF__n_estimators=1000 \n",
      "[CV]  RF__max_features=0.25, RF__min_samples_leaf=100, RF__n_estimators=1000, score=0.9256573992363021, total=   3.1s\n",
      "[CV] RF__max_features=0.25, RF__min_samples_leaf=100, RF__n_estimators=1000 \n",
      "[CV]  RF__max_features=0.25, RF__min_samples_leaf=100, RF__n_estimators=1000, score=0.9291946083610655, total=   3.1s\n",
      "[CV] RF__max_features=0.25, RF__min_samples_leaf=100, RF__n_estimators=1000 \n"
     ]
    },
    {
     "name": "stdout",
     "output_type": "stream",
     "text": [
      "[CV]  RF__max_features=0.25, RF__min_samples_leaf=100, RF__n_estimators=1000, score=0.9265717427710974, total=   3.0s\n",
      "[CV] RF__max_features=0.25, RF__min_samples_leaf=100, RF__n_estimators=1000 \n",
      "[CV]  RF__max_features=0.25, RF__min_samples_leaf=100, RF__n_estimators=1000, score=0.9272425830224709, total=   3.0s\n",
      "[CV] RF__max_features=0.25, RF__min_samples_leaf=100, RF__n_estimators=1000 \n",
      "[CV]  RF__max_features=0.25, RF__min_samples_leaf=100, RF__n_estimators=1000, score=0.9287021822479749, total=   3.1s\n",
      "[CV] RF__max_features=0.25, RF__min_samples_leaf=100, RF__n_estimators=1500 \n",
      "[CV]  RF__max_features=0.25, RF__min_samples_leaf=100, RF__n_estimators=1500, score=0.9252155608533588, total=   4.4s\n",
      "[CV] RF__max_features=0.25, RF__min_samples_leaf=100, RF__n_estimators=1500 \n",
      "[CV]  RF__max_features=0.25, RF__min_samples_leaf=100, RF__n_estimators=1500, score=0.9292497130959996, total=   4.5s\n",
      "[CV] RF__max_features=0.25, RF__min_samples_leaf=100, RF__n_estimators=1500 \n",
      "[CV]  RF__max_features=0.25, RF__min_samples_leaf=100, RF__n_estimators=1500, score=0.9269131525418856, total=   4.4s\n",
      "[CV] RF__max_features=0.25, RF__min_samples_leaf=100, RF__n_estimators=1500 \n",
      "[CV]  RF__max_features=0.25, RF__min_samples_leaf=100, RF__n_estimators=1500, score=0.9275193046261624, total=   4.5s\n",
      "[CV] RF__max_features=0.25, RF__min_samples_leaf=100, RF__n_estimators=1500 \n",
      "[CV]  RF__max_features=0.25, RF__min_samples_leaf=100, RF__n_estimators=1500, score=0.9284103029778892, total=   4.3s\n",
      "[CV] RF__max_features=0.25, RF__min_samples_leaf=500, RF__n_estimators=150 \n",
      "[CV]  RF__max_features=0.25, RF__min_samples_leaf=500, RF__n_estimators=150, score=0.896940299132967, total=   0.5s\n",
      "[CV] RF__max_features=0.25, RF__min_samples_leaf=500, RF__n_estimators=150 \n",
      "[CV]  RF__max_features=0.25, RF__min_samples_leaf=500, RF__n_estimators=150, score=0.9003119407168886, total=   0.4s\n",
      "[CV] RF__max_features=0.25, RF__min_samples_leaf=500, RF__n_estimators=150 \n",
      "[CV]  RF__max_features=0.25, RF__min_samples_leaf=500, RF__n_estimators=150, score=0.90066473081337, total=   0.4s\n",
      "[CV] RF__max_features=0.25, RF__min_samples_leaf=500, RF__n_estimators=150 \n",
      "[CV]  RF__max_features=0.25, RF__min_samples_leaf=500, RF__n_estimators=150, score=0.8988720300344762, total=   0.5s\n",
      "[CV] RF__max_features=0.25, RF__min_samples_leaf=500, RF__n_estimators=150 \n",
      "[CV]  RF__max_features=0.25, RF__min_samples_leaf=500, RF__n_estimators=150, score=0.9027663668598115, total=   0.5s\n",
      "[CV] RF__max_features=0.25, RF__min_samples_leaf=500, RF__n_estimators=500 \n",
      "[CV]  RF__max_features=0.25, RF__min_samples_leaf=500, RF__n_estimators=500, score=0.8976886703777897, total=   1.0s\n",
      "[CV] RF__max_features=0.25, RF__min_samples_leaf=500, RF__n_estimators=500 \n",
      "[CV]  RF__max_features=0.25, RF__min_samples_leaf=500, RF__n_estimators=500, score=0.9012948414780527, total=   1.2s\n",
      "[CV] RF__max_features=0.25, RF__min_samples_leaf=500, RF__n_estimators=500 \n",
      "[CV]  RF__max_features=0.25, RF__min_samples_leaf=500, RF__n_estimators=500, score=0.9006359805168823, total=   1.2s\n",
      "[CV] RF__max_features=0.25, RF__min_samples_leaf=500, RF__n_estimators=500 \n",
      "[CV]  RF__max_features=0.25, RF__min_samples_leaf=500, RF__n_estimators=500, score=0.9002137105372233, total=   1.2s\n",
      "[CV] RF__max_features=0.25, RF__min_samples_leaf=500, RF__n_estimators=500 \n",
      "[CV]  RF__max_features=0.25, RF__min_samples_leaf=500, RF__n_estimators=500, score=0.9027345364044317, total=   1.1s\n",
      "[CV] RF__max_features=0.25, RF__min_samples_leaf=500, RF__n_estimators=1000 \n",
      "[CV]  RF__max_features=0.25, RF__min_samples_leaf=500, RF__n_estimators=1000, score=0.8983376579213, total=   2.1s\n",
      "[CV] RF__max_features=0.25, RF__min_samples_leaf=500, RF__n_estimators=1000 \n",
      "[CV]  RF__max_features=0.25, RF__min_samples_leaf=500, RF__n_estimators=1000, score=0.9003568630551502, total=   2.1s\n",
      "[CV] RF__max_features=0.25, RF__min_samples_leaf=500, RF__n_estimators=1000 \n",
      "[CV]  RF__max_features=0.25, RF__min_samples_leaf=500, RF__n_estimators=1000, score=0.9009043166174319, total=   2.1s\n",
      "[CV] RF__max_features=0.25, RF__min_samples_leaf=500, RF__n_estimators=1000 \n",
      "[CV]  RF__max_features=0.25, RF__min_samples_leaf=500, RF__n_estimators=1000, score=0.8996315170333528, total=   2.0s\n",
      "[CV] RF__max_features=0.25, RF__min_samples_leaf=500, RF__n_estimators=1000 \n",
      "[CV]  RF__max_features=0.25, RF__min_samples_leaf=500, RF__n_estimators=1000, score=0.9032258064516128, total=   2.1s\n",
      "[CV] RF__max_features=0.25, RF__min_samples_leaf=500, RF__n_estimators=1500 \n",
      "[CV]  RF__max_features=0.25, RF__min_samples_leaf=500, RF__n_estimators=1500, score=0.8978838455984397, total=   3.0s\n",
      "[CV] RF__max_features=0.25, RF__min_samples_leaf=500, RF__n_estimators=1500 \n",
      "[CV]  RF__max_features=0.25, RF__min_samples_leaf=500, RF__n_estimators=1500, score=0.901306820768256, total=   3.0s\n",
      "[CV] RF__max_features=0.25, RF__min_samples_leaf=500, RF__n_estimators=1500 \n",
      "[CV]  RF__max_features=0.25, RF__min_samples_leaf=500, RF__n_estimators=1500, score=0.9007929092185428, total=   3.0s\n",
      "[CV] RF__max_features=0.25, RF__min_samples_leaf=500, RF__n_estimators=1500 \n",
      "[CV]  RF__max_features=0.25, RF__min_samples_leaf=500, RF__n_estimators=1500, score=0.8999106344950848, total=   3.0s\n",
      "[CV] RF__max_features=0.25, RF__min_samples_leaf=500, RF__n_estimators=1500 \n",
      "[CV]  RF__max_features=0.25, RF__min_samples_leaf=500, RF__n_estimators=1500, score=0.9037362948869478, total=   3.0s\n",
      "[CV] RF__max_features=0.5, RF__min_samples_leaf=10, RF__n_estimators=150 \n",
      "[CV]  RF__max_features=0.5, RF__min_samples_leaf=10, RF__n_estimators=150, score=0.9432117938518608, total=   1.3s\n",
      "[CV] RF__max_features=0.5, RF__min_samples_leaf=10, RF__n_estimators=150 \n",
      "[CV]  RF__max_features=0.5, RF__min_samples_leaf=10, RF__n_estimators=150, score=0.9446263300006946, total=   1.3s\n",
      "[CV] RF__max_features=0.5, RF__min_samples_leaf=10, RF__n_estimators=150 \n",
      "[CV]  RF__max_features=0.5, RF__min_samples_leaf=10, RF__n_estimators=150, score=0.9460884023699827, total=   1.4s\n",
      "[CV] RF__max_features=0.5, RF__min_samples_leaf=10, RF__n_estimators=150 \n",
      "[CV]  RF__max_features=0.5, RF__min_samples_leaf=10, RF__n_estimators=150, score=0.9428300354347405, total=   1.4s\n",
      "[CV] RF__max_features=0.5, RF__min_samples_leaf=10, RF__n_estimators=150 \n",
      "[CV]  RF__max_features=0.5, RF__min_samples_leaf=10, RF__n_estimators=150, score=0.9465080188724573, total=   1.3s\n",
      "[CV] RF__max_features=0.5, RF__min_samples_leaf=10, RF__n_estimators=500 \n",
      "[CV]  RF__max_features=0.5, RF__min_samples_leaf=10, RF__n_estimators=500, score=0.9438206686966484, total=   4.2s\n",
      "[CV] RF__max_features=0.5, RF__min_samples_leaf=10, RF__n_estimators=500 \n",
      "[CV]  RF__max_features=0.5, RF__min_samples_leaf=10, RF__n_estimators=500, score=0.944599975562248, total=   4.2s\n",
      "[CV] RF__max_features=0.5, RF__min_samples_leaf=10, RF__n_estimators=500 \n",
      "[CV]  RF__max_features=0.5, RF__min_samples_leaf=10, RF__n_estimators=500, score=0.9456703251418946, total=   4.3s\n",
      "[CV] RF__max_features=0.5, RF__min_samples_leaf=10, RF__n_estimators=500 \n",
      "[CV]  RF__max_features=0.5, RF__min_samples_leaf=10, RF__n_estimators=500, score=0.9422921653046213, total=   4.2s\n",
      "[CV] RF__max_features=0.5, RF__min_samples_leaf=10, RF__n_estimators=500 \n",
      "[CV]  RF__max_features=0.5, RF__min_samples_leaf=10, RF__n_estimators=500, score=0.947037725695946, total=   4.1s\n",
      "[CV] RF__max_features=0.5, RF__min_samples_leaf=10, RF__n_estimators=1000 \n",
      "[CV]  RF__max_features=0.5, RF__min_samples_leaf=10, RF__n_estimators=1000, score=0.943463845287117, total=   8.3s\n",
      "[CV] RF__max_features=0.5, RF__min_samples_leaf=10, RF__n_estimators=1000 \n",
      "[CV]  RF__max_features=0.5, RF__min_samples_leaf=10, RF__n_estimators=1000, score=0.9444903650568897, total=   8.3s\n",
      "[CV] RF__max_features=0.5, RF__min_samples_leaf=10, RF__n_estimators=1000 \n",
      "[CV]  RF__max_features=0.5, RF__min_samples_leaf=10, RF__n_estimators=1000, score=0.9456643354967932, total=   8.5s\n",
      "[CV] RF__max_features=0.5, RF__min_samples_leaf=10, RF__n_estimators=1000 \n",
      "[CV]  RF__max_features=0.5, RF__min_samples_leaf=10, RF__n_estimators=1000, score=0.94375723249646, total=   8.4s\n",
      "[CV] RF__max_features=0.5, RF__min_samples_leaf=10, RF__n_estimators=1000 \n",
      "[CV]  RF__max_features=0.5, RF__min_samples_leaf=10, RF__n_estimators=1000, score=0.9469031969788695, total=   8.2s\n",
      "[CV] RF__max_features=0.5, RF__min_samples_leaf=10, RF__n_estimators=1500 \n"
     ]
    },
    {
     "name": "stdout",
     "output_type": "stream",
     "text": [
      "[CV]  RF__max_features=0.5, RF__min_samples_leaf=10, RF__n_estimators=1500, score=0.943629085657974, total=  11.9s\n",
      "[CV] RF__max_features=0.5, RF__min_samples_leaf=10, RF__n_estimators=1500 \n",
      "[CV]  RF__max_features=0.5, RF__min_samples_leaf=10, RF__n_estimators=1500, score=0.9454720678890335, total=  12.6s\n",
      "[CV] RF__max_features=0.5, RF__min_samples_leaf=10, RF__n_estimators=1500 \n",
      "[CV]  RF__max_features=0.5, RF__min_samples_leaf=10, RF__n_estimators=1500, score=0.9457469925991945, total=  12.9s\n",
      "[CV] RF__max_features=0.5, RF__min_samples_leaf=10, RF__n_estimators=1500 \n",
      "[CV]  RF__max_features=0.5, RF__min_samples_leaf=10, RF__n_estimators=1500, score=0.9435260321955404, total=  12.5s\n",
      "[CV] RF__max_features=0.5, RF__min_samples_leaf=10, RF__n_estimators=1500 \n",
      "[CV]  RF__max_features=0.5, RF__min_samples_leaf=10, RF__n_estimators=1500, score=0.9471133980993015, total=  12.1s\n",
      "[CV] RF__max_features=0.5, RF__min_samples_leaf=50, RF__n_estimators=150 \n",
      "[CV]  RF__max_features=0.5, RF__min_samples_leaf=50, RF__n_estimators=150, score=0.933017780103383, total=   1.1s\n",
      "[CV] RF__max_features=0.5, RF__min_samples_leaf=50, RF__n_estimators=150 \n",
      "[CV]  RF__max_features=0.5, RF__min_samples_leaf=50, RF__n_estimators=150, score=0.9358730626492918, total=   1.1s\n",
      "[CV] RF__max_features=0.5, RF__min_samples_leaf=50, RF__n_estimators=150 \n",
      "[CV]  RF__max_features=0.5, RF__min_samples_leaf=50, RF__n_estimators=150, score=0.9330213926164447, total=   1.1s\n",
      "[CV] RF__max_features=0.5, RF__min_samples_leaf=50, RF__n_estimators=150 \n",
      "[CV]  RF__max_features=0.5, RF__min_samples_leaf=50, RF__n_estimators=150, score=0.9324763349122038, total=   1.1s\n",
      "[CV] RF__max_features=0.5, RF__min_samples_leaf=50, RF__n_estimators=150 \n",
      "[CV]  RF__max_features=0.5, RF__min_samples_leaf=50, RF__n_estimators=150, score=0.9344917216793028, total=   1.0s\n",
      "[CV] RF__max_features=0.5, RF__min_samples_leaf=50, RF__n_estimators=500 \n",
      "[CV]  RF__max_features=0.5, RF__min_samples_leaf=50, RF__n_estimators=500, score=0.9332524693257593, total=   3.2s\n",
      "[CV] RF__max_features=0.5, RF__min_samples_leaf=50, RF__n_estimators=500 \n",
      "[CV]  RF__max_features=0.5, RF__min_samples_leaf=50, RF__n_estimators=500, score=0.936268379225994, total=   3.3s\n",
      "[CV] RF__max_features=0.5, RF__min_samples_leaf=50, RF__n_estimators=500 \n",
      "[CV]  RF__max_features=0.5, RF__min_samples_leaf=50, RF__n_estimators=500, score=0.9345619293365629, total=   3.2s\n",
      "[CV] RF__max_features=0.5, RF__min_samples_leaf=50, RF__n_estimators=500 \n",
      "[CV]  RF__max_features=0.5, RF__min_samples_leaf=50, RF__n_estimators=500, score=0.9338204112729913, total=   3.3s\n",
      "[CV] RF__max_features=0.5, RF__min_samples_leaf=50, RF__n_estimators=500 \n",
      "[CV]  RF__max_features=0.5, RF__min_samples_leaf=50, RF__n_estimators=500, score=0.935963129522327, total=   3.2s\n",
      "[CV] RF__max_features=0.5, RF__min_samples_leaf=50, RF__n_estimators=1000 \n",
      "[CV]  RF__max_features=0.5, RF__min_samples_leaf=50, RF__n_estimators=1000, score=0.9333057533583908, total=   6.3s\n",
      "[CV] RF__max_features=0.5, RF__min_samples_leaf=50, RF__n_estimators=1000 \n",
      "[CV]  RF__max_features=0.5, RF__min_samples_leaf=50, RF__n_estimators=1000, score=0.9359988451964244, total=   6.5s\n",
      "[CV] RF__max_features=0.5, RF__min_samples_leaf=50, RF__n_estimators=1000 \n",
      "[CV]  RF__max_features=0.5, RF__min_samples_leaf=50, RF__n_estimators=1000, score=0.9345727106977456, total=   6.4s\n",
      "[CV] RF__max_features=0.5, RF__min_samples_leaf=50, RF__n_estimators=1000 \n",
      "[CV]  RF__max_features=0.5, RF__min_samples_leaf=50, RF__n_estimators=1000, score=0.9334921787214264, total=   6.3s\n",
      "[CV] RF__max_features=0.5, RF__min_samples_leaf=50, RF__n_estimators=1000 \n",
      "[CV]  RF__max_features=0.5, RF__min_samples_leaf=50, RF__n_estimators=1000, score=0.9349541641442534, total=   6.3s\n",
      "[CV] RF__max_features=0.5, RF__min_samples_leaf=50, RF__n_estimators=1500 \n",
      "[CV]  RF__max_features=0.5, RF__min_samples_leaf=50, RF__n_estimators=1500, score=0.9332237318699582, total=   9.5s\n",
      "[CV] RF__max_features=0.5, RF__min_samples_leaf=50, RF__n_estimators=1500 \n",
      "[CV]  RF__max_features=0.5, RF__min_samples_leaf=50, RF__n_estimators=1500, score=0.9360407727121351, total=   9.6s\n",
      "[CV] RF__max_features=0.5, RF__min_samples_leaf=50, RF__n_estimators=1500 \n",
      "[CV]  RF__max_features=0.5, RF__min_samples_leaf=50, RF__n_estimators=1500, score=0.9347332331864672, total=   9.5s\n",
      "[CV] RF__max_features=0.5, RF__min_samples_leaf=50, RF__n_estimators=1500 \n",
      "[CV]  RF__max_features=0.5, RF__min_samples_leaf=50, RF__n_estimators=1500, score=0.9339282248848191, total=   9.6s\n",
      "[CV] RF__max_features=0.5, RF__min_samples_leaf=50, RF__n_estimators=1500 \n",
      "[CV]  RF__max_features=0.5, RF__min_samples_leaf=50, RF__n_estimators=1500, score=0.9352328307724832, total=   9.5s\n",
      "[CV] RF__max_features=0.5, RF__min_samples_leaf=100, RF__n_estimators=150 \n",
      "[CV]  RF__max_features=0.5, RF__min_samples_leaf=100, RF__n_estimators=150, score=0.9263081828708, total=   0.9s\n",
      "[CV] RF__max_features=0.5, RF__min_samples_leaf=100, RF__n_estimators=150 \n",
      "[CV]  RF__max_features=0.5, RF__min_samples_leaf=100, RF__n_estimators=150, score=0.9292832551085682, total=   0.9s\n",
      "[CV] RF__max_features=0.5, RF__min_samples_leaf=100, RF__n_estimators=150 \n",
      "[CV]  RF__max_features=0.5, RF__min_samples_leaf=100, RF__n_estimators=150, score=0.926628644399562, total=   0.9s\n",
      "[CV] RF__max_features=0.5, RF__min_samples_leaf=100, RF__n_estimators=150 \n",
      "[CV]  RF__max_features=0.5, RF__min_samples_leaf=100, RF__n_estimators=150, score=0.9267454424790422, total=   0.9s\n",
      "[CV] RF__max_features=0.5, RF__min_samples_leaf=100, RF__n_estimators=150 \n",
      "[CV]  RF__max_features=0.5, RF__min_samples_leaf=100, RF__n_estimators=150, score=0.928843917860609, total=   0.9s\n",
      "[CV] RF__max_features=0.5, RF__min_samples_leaf=100, RF__n_estimators=500 \n",
      "[CV]  RF__max_features=0.5, RF__min_samples_leaf=100, RF__n_estimators=500, score=0.9252287321872676, total=   2.7s\n",
      "[CV] RF__max_features=0.5, RF__min_samples_leaf=100, RF__n_estimators=500 \n",
      "[CV]  RF__max_features=0.5, RF__min_samples_leaf=100, RF__n_estimators=500, score=0.9286471547987839, total=   2.8s\n",
      "[CV] RF__max_features=0.5, RF__min_samples_leaf=100, RF__n_estimators=500 \n",
      "[CV]  RF__max_features=0.5, RF__min_samples_leaf=100, RF__n_estimators=500, score=0.9271934679326381, total=   2.8s\n",
      "[CV] RF__max_features=0.5, RF__min_samples_leaf=100, RF__n_estimators=500 \n",
      "[CV]  RF__max_features=0.5, RF__min_samples_leaf=100, RF__n_estimators=500, score=0.9271599259200693, total=   2.9s\n",
      "[CV] RF__max_features=0.5, RF__min_samples_leaf=100, RF__n_estimators=500 \n",
      "[CV]  RF__max_features=0.5, RF__min_samples_leaf=100, RF__n_estimators=500, score=0.927783303064372, total=   2.7s\n",
      "[CV] RF__max_features=0.5, RF__min_samples_leaf=100, RF__n_estimators=1000 \n",
      "[CV]  RF__max_features=0.5, RF__min_samples_leaf=100, RF__n_estimators=1000, score=0.9251694611846776, total=   5.5s\n",
      "[CV] RF__max_features=0.5, RF__min_samples_leaf=100, RF__n_estimators=1000 \n",
      "[CV]  RF__max_features=0.5, RF__min_samples_leaf=100, RF__n_estimators=1000, score=0.9292461193089386, total=   5.7s\n",
      "[CV] RF__max_features=0.5, RF__min_samples_leaf=100, RF__n_estimators=1000 \n",
      "[CV]  RF__max_features=0.5, RF__min_samples_leaf=100, RF__n_estimators=1000, score=0.9271419569847648, total=   5.4s\n",
      "[CV] RF__max_features=0.5, RF__min_samples_leaf=100, RF__n_estimators=1000 \n",
      "[CV]  RF__max_features=0.5, RF__min_samples_leaf=100, RF__n_estimators=1000, score=0.9271539362749679, total=   5.5s\n",
      "[CV] RF__max_features=0.5, RF__min_samples_leaf=100, RF__n_estimators=1000 \n",
      "[CV]  RF__max_features=0.5, RF__min_samples_leaf=100, RF__n_estimators=1000, score=0.9283550501119473, total=   5.6s\n",
      "[CV] RF__max_features=0.5, RF__min_samples_leaf=100, RF__n_estimators=1500 \n",
      "[CV]  RF__max_features=0.5, RF__min_samples_leaf=100, RF__n_estimators=1500, score=0.9253664324963151, total=   8.2s\n",
      "[CV] RF__max_features=0.5, RF__min_samples_leaf=100, RF__n_estimators=1500 \n",
      "[CV]  RF__max_features=0.5, RF__min_samples_leaf=100, RF__n_estimators=1500, score=0.9290316900143033, total=   8.2s\n",
      "[CV] RF__max_features=0.5, RF__min_samples_leaf=100, RF__n_estimators=1500 \n",
      "[CV]  RF__max_features=0.5, RF__min_samples_leaf=100, RF__n_estimators=1500, score=0.9269526841995558, total=   8.2s\n",
      "[CV] RF__max_features=0.5, RF__min_samples_leaf=100, RF__n_estimators=1500 \n"
     ]
    },
    {
     "name": "stdout",
     "output_type": "stream",
     "text": [
      "[CV]  RF__max_features=0.5, RF__min_samples_leaf=100, RF__n_estimators=1500, score=0.9270257578697947, total=   8.3s\n",
      "[CV] RF__max_features=0.5, RF__min_samples_leaf=100, RF__n_estimators=1500 \n",
      "[CV]  RF__max_features=0.5, RF__min_samples_leaf=100, RF__n_estimators=1500, score=0.9280631708418615, total=   8.1s\n",
      "[CV] RF__max_features=0.5, RF__min_samples_leaf=500, RF__n_estimators=150 \n",
      "[CV]  RF__max_features=0.5, RF__min_samples_leaf=500, RF__n_estimators=150, score=0.8989932311317648, total=   0.7s\n",
      "[CV] RF__max_features=0.5, RF__min_samples_leaf=500, RF__n_estimators=150 \n",
      "[CV]  RF__max_features=0.5, RF__min_samples_leaf=500, RF__n_estimators=150, score=0.8996620642233708, total=   0.7s\n",
      "[CV] RF__max_features=0.5, RF__min_samples_leaf=500, RF__n_estimators=150 \n",
      "[CV]  RF__max_features=0.5, RF__min_samples_leaf=500, RF__n_estimators=150, score=0.9036110372388216, total=   0.7s\n",
      "[CV] RF__max_features=0.5, RF__min_samples_leaf=500, RF__n_estimators=150 \n",
      "[CV]  RF__max_features=0.5, RF__min_samples_leaf=500, RF__n_estimators=150, score=0.898340748513969, total=   0.7s\n",
      "[CV] RF__max_features=0.5, RF__min_samples_leaf=500, RF__n_estimators=150 \n",
      "[CV]  RF__max_features=0.5, RF__min_samples_leaf=500, RF__n_estimators=150, score=0.9033104874744156, total=   0.6s\n",
      "[CV] RF__max_features=0.5, RF__min_samples_leaf=500, RF__n_estimators=500 \n",
      "[CV]  RF__max_features=0.5, RF__min_samples_leaf=500, RF__n_estimators=500, score=0.8995278675490661, total=   1.7s\n",
      "[CV] RF__max_features=0.5, RF__min_samples_leaf=500, RF__n_estimators=500 \n",
      "[CV]  RF__max_features=0.5, RF__min_samples_leaf=500, RF__n_estimators=500, score=0.8999986822780776, total=   1.9s\n",
      "[CV] RF__max_features=0.5, RF__min_samples_leaf=500, RF__n_estimators=500 \n",
      "[CV]  RF__max_features=0.5, RF__min_samples_leaf=500, RF__n_estimators=500, score=0.9023226645774785, total=   1.8s\n",
      "[CV] RF__max_features=0.5, RF__min_samples_leaf=500, RF__n_estimators=500 \n",
      "[CV]  RF__max_features=0.5, RF__min_samples_leaf=500, RF__n_estimators=500, score=0.8998225867120919, total=   1.8s\n",
      "[CV] RF__max_features=0.5, RF__min_samples_leaf=500, RF__n_estimators=500 \n",
      "[CV]  RF__max_features=0.5, RF__min_samples_leaf=500, RF__n_estimators=500, score=0.9047452602650217, total=   1.8s\n",
      "[CV] RF__max_features=0.5, RF__min_samples_leaf=500, RF__n_estimators=1000 \n",
      "[CV]  RF__max_features=0.5, RF__min_samples_leaf=500, RF__n_estimators=1000, score=0.8994584186975467, total=   3.5s\n",
      "[CV] RF__max_features=0.5, RF__min_samples_leaf=500, RF__n_estimators=1000 \n",
      "[CV]  RF__max_features=0.5, RF__min_samples_leaf=500, RF__n_estimators=1000, score=0.9003520713390689, total=   3.5s\n",
      "[CV] RF__max_features=0.5, RF__min_samples_leaf=500, RF__n_estimators=1000 \n",
      "[CV]  RF__max_features=0.5, RF__min_samples_leaf=500, RF__n_estimators=1000, score=0.9032594450713606, total=   3.5s\n",
      "[CV] RF__max_features=0.5, RF__min_samples_leaf=500, RF__n_estimators=1000 \n",
      "[CV]  RF__max_features=0.5, RF__min_samples_leaf=500, RF__n_estimators=1000, score=0.9006353815523723, total=   3.5s\n",
      "[CV] RF__max_features=0.5, RF__min_samples_leaf=500, RF__n_estimators=1000 \n",
      "[CV]  RF__max_features=0.5, RF__min_samples_leaf=500, RF__n_estimators=1000, score=0.9041422833366964, total=   3.4s\n",
      "[CV] RF__max_features=0.5, RF__min_samples_leaf=500, RF__n_estimators=1500 \n",
      "[CV]  RF__max_features=0.5, RF__min_samples_leaf=500, RF__n_estimators=1500, score=0.8995847437636728, total=   5.1s\n",
      "[CV] RF__max_features=0.5, RF__min_samples_leaf=500, RF__n_estimators=1500 \n",
      "[CV]  RF__max_features=0.5, RF__min_samples_leaf=500, RF__n_estimators=1500, score=0.900556917201542, total=   5.1s\n",
      "[CV] RF__max_features=0.5, RF__min_samples_leaf=500, RF__n_estimators=1500 \n",
      "[CV]  RF__max_features=0.5, RF__min_samples_leaf=500, RF__n_estimators=1500, score=0.9029060560103692, total=   5.1s\n",
      "[CV] RF__max_features=0.5, RF__min_samples_leaf=500, RF__n_estimators=1500 \n",
      "[CV]  RF__max_features=0.5, RF__min_samples_leaf=500, RF__n_estimators=1500, score=0.900271211130198, total=   5.3s\n",
      "[CV] RF__max_features=0.5, RF__min_samples_leaf=500, RF__n_estimators=1500 \n",
      "[CV]  RF__max_features=0.5, RF__min_samples_leaf=500, RF__n_estimators=1500, score=0.9038876396936588, total=   5.0s\n",
      "[CV] RF__max_features=0.75, RF__min_samples_leaf=10, RF__n_estimators=150 \n",
      "[CV]  RF__max_features=0.75, RF__min_samples_leaf=10, RF__n_estimators=150, score=0.9441254054675404, total=   1.9s\n",
      "[CV] RF__max_features=0.75, RF__min_samples_leaf=10, RF__n_estimators=150 \n",
      "[CV]  RF__max_features=0.75, RF__min_samples_leaf=10, RF__n_estimators=150, score=0.9431900131053436, total=   2.0s\n",
      "[CV] RF__max_features=0.75, RF__min_samples_leaf=10, RF__n_estimators=150 \n",
      "[CV]  RF__max_features=0.75, RF__min_samples_leaf=10, RF__n_estimators=150, score=0.9465825480908605, total=   2.0s\n",
      "[CV] RF__max_features=0.75, RF__min_samples_leaf=10, RF__n_estimators=150 \n",
      "[CV]  RF__max_features=0.75, RF__min_samples_leaf=10, RF__n_estimators=150, score=0.9426197988916761, total=   2.0s\n",
      "[CV] RF__max_features=0.75, RF__min_samples_leaf=10, RF__n_estimators=150 \n",
      "[CV]  RF__max_features=0.75, RF__min_samples_leaf=10, RF__n_estimators=150, score=0.945159728828543, total=   1.9s\n",
      "[CV] RF__max_features=0.75, RF__min_samples_leaf=10, RF__n_estimators=500 \n",
      "[CV]  RF__max_features=0.75, RF__min_samples_leaf=10, RF__n_estimators=500, score=0.9424759952439512, total=   6.2s\n",
      "[CV] RF__max_features=0.75, RF__min_samples_leaf=10, RF__n_estimators=500 \n",
      "[CV]  RF__max_features=0.75, RF__min_samples_leaf=10, RF__n_estimators=500, score=0.9436757733230791, total=   6.3s\n",
      "[CV] RF__max_features=0.75, RF__min_samples_leaf=10, RF__n_estimators=500 \n",
      "[CV]  RF__max_features=0.75, RF__min_samples_leaf=10, RF__n_estimators=500, score=0.94534269155484, total=   6.5s\n",
      "[CV] RF__max_features=0.75, RF__min_samples_leaf=10, RF__n_estimators=500 \n",
      "[CV]  RF__max_features=0.75, RF__min_samples_leaf=10, RF__n_estimators=500, score=0.942580866198516, total=   6.4s\n",
      "[CV] RF__max_features=0.75, RF__min_samples_leaf=10, RF__n_estimators=500 \n",
      "[CV]  RF__max_features=0.75, RF__min_samples_leaf=10, RF__n_estimators=500, score=0.9451315018209425, total=   6.3s\n",
      "[CV] RF__max_features=0.75, RF__min_samples_leaf=10, RF__n_estimators=1000 \n",
      "[CV]  RF__max_features=0.75, RF__min_samples_leaf=10, RF__n_estimators=1000, score=0.9428843065951262, total=  12.5s\n",
      "[CV] RF__max_features=0.75, RF__min_samples_leaf=10, RF__n_estimators=1000 \n",
      "[CV]  RF__max_features=0.75, RF__min_samples_leaf=10, RF__n_estimators=1000, score=0.9432942329301106, total=  12.7s\n",
      "[CV] RF__max_features=0.75, RF__min_samples_leaf=10, RF__n_estimators=1000 \n",
      "[CV]  RF__max_features=0.75, RF__min_samples_leaf=10, RF__n_estimators=1000, score=0.9458931399396724, total=  12.8s\n",
      "[CV] RF__max_features=0.75, RF__min_samples_leaf=10, RF__n_estimators=1000 \n",
      "[CV]  RF__max_features=0.75, RF__min_samples_leaf=10, RF__n_estimators=1000, score=0.942256227434012, total=  12.6s\n",
      "[CV] RF__max_features=0.75, RF__min_samples_leaf=10, RF__n_estimators=1000 \n",
      "[CV]  RF__max_features=0.75, RF__min_samples_leaf=10, RF__n_estimators=1000, score=0.9459482833174782, total=  12.4s\n",
      "[CV] RF__max_features=0.75, RF__min_samples_leaf=10, RF__n_estimators=1500 \n",
      "[CV]  RF__max_features=0.75, RF__min_samples_leaf=10, RF__n_estimators=1500, score=0.9431621020012046, total=  17.8s\n",
      "[CV] RF__max_features=0.75, RF__min_samples_leaf=10, RF__n_estimators=1500 \n",
      "[CV]  RF__max_features=0.75, RF__min_samples_leaf=10, RF__n_estimators=1500, score=0.9433960568968368, total=  18.4s\n",
      "[CV] RF__max_features=0.75, RF__min_samples_leaf=10, RF__n_estimators=1500 \n",
      "[CV]  RF__max_features=0.75, RF__min_samples_leaf=10, RF__n_estimators=1500, score=0.9451983411078926, total=  18.1s\n",
      "[CV] RF__max_features=0.75, RF__min_samples_leaf=10, RF__n_estimators=1500 \n",
      "[CV]  RF__max_features=0.75, RF__min_samples_leaf=10, RF__n_estimators=1500, score=0.9421520076092452, total=  18.2s\n",
      "[CV] RF__max_features=0.75, RF__min_samples_leaf=10, RF__n_estimators=1500 \n",
      "[CV]  RF__max_features=0.75, RF__min_samples_leaf=10, RF__n_estimators=1500, score=0.945948283317478, total=  17.7s\n",
      "[CV] RF__max_features=0.75, RF__min_samples_leaf=50, RF__n_estimators=150 \n",
      "[CV]  RF__max_features=0.75, RF__min_samples_leaf=50, RF__n_estimators=150, score=0.932105365881695, total=   1.4s\n",
      "[CV] RF__max_features=0.75, RF__min_samples_leaf=50, RF__n_estimators=150 \n"
     ]
    },
    {
     "name": "stdout",
     "output_type": "stream",
     "text": [
      "[CV]  RF__max_features=0.75, RF__min_samples_leaf=50, RF__n_estimators=150, score=0.9350105537546688, total=   1.5s\n",
      "[CV] RF__max_features=0.75, RF__min_samples_leaf=50, RF__n_estimators=150 \n",
      "[CV]  RF__max_features=0.75, RF__min_samples_leaf=50, RF__n_estimators=150, score=0.9333448334519283, total=   1.6s\n",
      "[CV] RF__max_features=0.75, RF__min_samples_leaf=50, RF__n_estimators=150 \n",
      "[CV]  RF__max_features=0.75, RF__min_samples_leaf=50, RF__n_estimators=150, score=0.9323361772168276, total=   1.5s\n",
      "[CV] RF__max_features=0.75, RF__min_samples_leaf=50, RF__n_estimators=150 \n",
      "[CV]  RF__max_features=0.75, RF__min_samples_leaf=50, RF__n_estimators=150, score=0.9335998683540412, total=   1.5s\n",
      "[CV] RF__max_features=0.75, RF__min_samples_leaf=50, RF__n_estimators=500 \n",
      "[CV]  RF__max_features=0.75, RF__min_samples_leaf=50, RF__n_estimators=500, score=0.9317060349854577, total=   4.5s\n",
      "[CV] RF__max_features=0.75, RF__min_samples_leaf=50, RF__n_estimators=500 \n",
      "[CV]  RF__max_features=0.75, RF__min_samples_leaf=50, RF__n_estimators=500, score=0.934767374163546, total=   4.6s\n",
      "[CV] RF__max_features=0.75, RF__min_samples_leaf=50, RF__n_estimators=500 \n",
      "[CV]  RF__max_features=0.75, RF__min_samples_leaf=50, RF__n_estimators=500, score=0.933541293811259, total=   4.7s\n",
      "[CV] RF__max_features=0.75, RF__min_samples_leaf=50, RF__n_estimators=500 \n",
      "[CV]  RF__max_features=0.75, RF__min_samples_leaf=50, RF__n_estimators=500, score=0.9321145603480703, total=   4.7s\n",
      "[CV] RF__max_features=0.75, RF__min_samples_leaf=50, RF__n_estimators=500 \n",
      "[CV]  RF__max_features=0.75, RF__min_samples_leaf=50, RF__n_estimators=500, score=0.9341205665580827, total=   4.5s\n",
      "[CV] RF__max_features=0.75, RF__min_samples_leaf=50, RF__n_estimators=1000 \n",
      "[CV]  RF__max_features=0.75, RF__min_samples_leaf=50, RF__n_estimators=1000, score=0.93198323169454, total=   9.2s\n",
      "[CV] RF__max_features=0.75, RF__min_samples_leaf=50, RF__n_estimators=1000 \n",
      "[CV]  RF__max_features=0.75, RF__min_samples_leaf=50, RF__n_estimators=1000, score=0.9351195652955171, total=   9.4s\n",
      "[CV] RF__max_features=0.75, RF__min_samples_leaf=50, RF__n_estimators=1000 \n",
      "[CV]  RF__max_features=0.75, RF__min_samples_leaf=50, RF__n_estimators=1000, score=0.9337066080160618, total=   9.3s\n",
      "[CV] RF__max_features=0.75, RF__min_samples_leaf=50, RF__n_estimators=1000 \n",
      "[CV]  RF__max_features=0.75, RF__min_samples_leaf=50, RF__n_estimators=1000, score=0.9326176905366002, total=   9.4s\n",
      "[CV] RF__max_features=0.75, RF__min_samples_leaf=50, RF__n_estimators=1000 \n",
      "[CV]  RF__max_features=0.75, RF__min_samples_leaf=50, RF__n_estimators=1000, score=0.9340941412743714, total=   9.2s\n",
      "[CV] RF__max_features=0.75, RF__min_samples_leaf=50, RF__n_estimators=1500 \n",
      "[CV]  RF__max_features=0.75, RF__min_samples_leaf=50, RF__n_estimators=1500, score=0.9318449326884968, total=  13.6s\n",
      "[CV] RF__max_features=0.75, RF__min_samples_leaf=50, RF__n_estimators=1500 \n",
      "[CV]  RF__max_features=0.75, RF__min_samples_leaf=50, RF__n_estimators=1500, score=0.935374724176843, total=  14.0s\n",
      "[CV] RF__max_features=0.75, RF__min_samples_leaf=50, RF__n_estimators=1500 \n",
      "[CV]  RF__max_features=0.75, RF__min_samples_leaf=50, RF__n_estimators=1500, score=0.9339797358326926, total=  13.6s\n",
      "[CV] RF__max_features=0.75, RF__min_samples_leaf=50, RF__n_estimators=1500 \n",
      "[CV]  RF__max_features=0.75, RF__min_samples_leaf=50, RF__n_estimators=1500, score=0.9325182624279146, total=  13.6s\n",
      "[CV] RF__max_features=0.75, RF__min_samples_leaf=50, RF__n_estimators=1500 \n",
      "[CV]  RF__max_features=0.75, RF__min_samples_leaf=50, RF__n_estimators=1500, score=0.9342623021707169, total=  13.8s\n",
      "[CV] RF__max_features=0.75, RF__min_samples_leaf=100, RF__n_estimators=150 \n",
      "[CV]  RF__max_features=0.75, RF__min_samples_leaf=100, RF__n_estimators=150, score=0.9231440692476893, total=   1.3s\n",
      "[CV] RF__max_features=0.75, RF__min_samples_leaf=100, RF__n_estimators=150 \n",
      "[CV]  RF__max_features=0.75, RF__min_samples_leaf=100, RF__n_estimators=150, score=0.9276684467891909, total=   1.3s\n",
      "[CV] RF__max_features=0.75, RF__min_samples_leaf=100, RF__n_estimators=150 \n",
      "[CV]  RF__max_features=0.75, RF__min_samples_leaf=100, RF__n_estimators=150, score=0.9251216496920125, total=   1.3s\n",
      "[CV] RF__max_features=0.75, RF__min_samples_leaf=100, RF__n_estimators=150 \n",
      "[CV]  RF__max_features=0.75, RF__min_samples_leaf=100, RF__n_estimators=150, score=0.9255211590202858, total=   1.3s\n",
      "[CV] RF__max_features=0.75, RF__min_samples_leaf=100, RF__n_estimators=150 \n",
      "[CV]  RF__max_features=0.75, RF__min_samples_leaf=100, RF__n_estimators=150, score=0.9267238894173946, total=   1.3s\n",
      "[CV] RF__max_features=0.75, RF__min_samples_leaf=100, RF__n_estimators=500 \n",
      "[CV]  RF__max_features=0.75, RF__min_samples_leaf=100, RF__n_estimators=500, score=0.9237619245474149, total=   4.0s\n",
      "[CV] RF__max_features=0.75, RF__min_samples_leaf=100, RF__n_estimators=500 \n",
      "[CV]  RF__max_features=0.75, RF__min_samples_leaf=100, RF__n_estimators=500, score=0.9279870959085932, total=   4.0s\n",
      "[CV] RF__max_features=0.75, RF__min_samples_leaf=100, RF__n_estimators=500 \n",
      "[CV]  RF__max_features=0.75, RF__min_samples_leaf=100, RF__n_estimators=500, score=0.9255301434879379, total=   4.0s\n",
      "[CV] RF__max_features=0.75, RF__min_samples_leaf=100, RF__n_estimators=500 \n",
      "[CV]  RF__max_features=0.75, RF__min_samples_leaf=100, RF__n_estimators=500, score=0.9253917826860923, total=   4.0s\n",
      "[CV] RF__max_features=0.75, RF__min_samples_leaf=100, RF__n_estimators=500 \n",
      "[CV]  RF__max_features=0.75, RF__min_samples_leaf=100, RF__n_estimators=500, score=0.9266458147155198, total=   4.1s\n",
      "[CV] RF__max_features=0.75, RF__min_samples_leaf=100, RF__n_estimators=1000 \n",
      "[CV]  RF__max_features=0.75, RF__min_samples_leaf=100, RF__n_estimators=1000, score=0.9233715741061154, total=   7.9s\n",
      "[CV] RF__max_features=0.75, RF__min_samples_leaf=100, RF__n_estimators=1000 \n",
      "[CV]  RF__max_features=0.75, RF__min_samples_leaf=100, RF__n_estimators=1000, score=0.9277163639500032, total=   7.9s\n",
      "[CV] RF__max_features=0.75, RF__min_samples_leaf=100, RF__n_estimators=1000 \n",
      "[CV]  RF__max_features=0.75, RF__min_samples_leaf=100, RF__n_estimators=1000, score=0.9251030817921976, total=   7.8s\n",
      "[CV] RF__max_features=0.75, RF__min_samples_leaf=100, RF__n_estimators=1000 \n",
      "[CV]  RF__max_features=0.75, RF__min_samples_leaf=100, RF__n_estimators=1000, score=0.9256241809160322, total=   7.9s\n",
      "[CV] RF__max_features=0.75, RF__min_samples_leaf=100, RF__n_estimators=1000 \n",
      "[CV]  RF__max_features=0.75, RF__min_samples_leaf=100, RF__n_estimators=1000, score=0.9266734411484908, total=   7.7s\n",
      "[CV] RF__max_features=0.75, RF__min_samples_leaf=100, RF__n_estimators=1500 \n",
      "[CV]  RF__max_features=0.75, RF__min_samples_leaf=100, RF__n_estimators=1500, score=0.9233488236202729, total=  11.9s\n",
      "[CV] RF__max_features=0.75, RF__min_samples_leaf=100, RF__n_estimators=1500 \n",
      "[CV]  RF__max_features=0.75, RF__min_samples_leaf=100, RF__n_estimators=1500, score=0.9275462580291193, total=  12.1s\n",
      "[CV] RF__max_features=0.75, RF__min_samples_leaf=100, RF__n_estimators=1500 \n",
      "[CV]  RF__max_features=0.75, RF__min_samples_leaf=100, RF__n_estimators=1500, score=0.9252408436295333, total=  11.5s\n",
      "[CV] RF__max_features=0.75, RF__min_samples_leaf=100, RF__n_estimators=1500 \n",
      "[CV]  RF__max_features=0.75, RF__min_samples_leaf=100, RF__n_estimators=1500, score=0.9254684501433921, total=  11.7s\n",
      "[CV] RF__max_features=0.75, RF__min_samples_leaf=100, RF__n_estimators=1500 \n",
      "[CV]  RF__max_features=0.75, RF__min_samples_leaf=100, RF__n_estimators=1500, score=0.9266097802377316, total=  11.3s\n",
      "[CV] RF__max_features=0.75, RF__min_samples_leaf=500, RF__n_estimators=150 \n",
      "[CV]  RF__max_features=0.75, RF__min_samples_leaf=500, RF__n_estimators=150, score=0.8963392073491254, total=   0.9s\n",
      "[CV] RF__max_features=0.75, RF__min_samples_leaf=500, RF__n_estimators=150 \n",
      "[CV]  RF__max_features=0.75, RF__min_samples_leaf=500, RF__n_estimators=150, score=0.8945169590811406, total=   0.9s\n",
      "[CV] RF__max_features=0.75, RF__min_samples_leaf=500, RF__n_estimators=150 \n",
      "[CV]  RF__max_features=0.75, RF__min_samples_leaf=500, RF__n_estimators=150, score=0.900669522529451, total=   1.0s\n",
      "[CV] RF__max_features=0.75, RF__min_samples_leaf=500, RF__n_estimators=150 \n",
      "[CV]  RF__max_features=0.75, RF__min_samples_leaf=500, RF__n_estimators=150, score=0.8938101809591578, total=   0.9s\n",
      "[CV] RF__max_features=0.75, RF__min_samples_leaf=500, RF__n_estimators=150 \n"
     ]
    },
    {
     "name": "stdout",
     "output_type": "stream",
     "text": [
      "[CV]  RF__max_features=0.75, RF__min_samples_leaf=500, RF__n_estimators=150, score=0.9001616746903438, total=   0.9s\n",
      "[CV] RF__max_features=0.75, RF__min_samples_leaf=500, RF__n_estimators=500 \n",
      "[CV]  RF__max_features=0.75, RF__min_samples_leaf=500, RF__n_estimators=500, score=0.8958662367223974, total=   2.4s\n",
      "[CV] RF__max_features=0.75, RF__min_samples_leaf=500, RF__n_estimators=500 \n",
      "[CV]  RF__max_features=0.75, RF__min_samples_leaf=500, RF__n_estimators=500, score=0.8952081641258591, total=   2.4s\n",
      "[CV] RF__max_features=0.75, RF__min_samples_leaf=500, RF__n_estimators=500 \n",
      "[CV]  RF__max_features=0.75, RF__min_samples_leaf=500, RF__n_estimators=500, score=0.9002131115727132, total=   2.5s\n",
      "[CV] RF__max_features=0.75, RF__min_samples_leaf=500, RF__n_estimators=500 \n",
      "[CV]  RF__max_features=0.75, RF__min_samples_leaf=500, RF__n_estimators=500, score=0.8947601386722633, total=   2.5s\n",
      "[CV] RF__max_features=0.75, RF__min_samples_leaf=500, RF__n_estimators=500 \n",
      "[CV]  RF__max_features=0.75, RF__min_samples_leaf=500, RF__n_estimators=500, score=0.899628964993706, total=   2.4s\n",
      "[CV] RF__max_features=0.75, RF__min_samples_leaf=500, RF__n_estimators=1000 \n",
      "[CV]  RF__max_features=0.75, RF__min_samples_leaf=500, RF__n_estimators=1000, score=0.8965936535723651, total=   4.8s\n",
      "[CV] RF__max_features=0.75, RF__min_samples_leaf=500, RF__n_estimators=1000 \n",
      "[CV]  RF__max_features=0.75, RF__min_samples_leaf=500, RF__n_estimators=1000, score=0.8953962389820478, total=   4.8s\n",
      "[CV] RF__max_features=0.75, RF__min_samples_leaf=500, RF__n_estimators=1000 \n",
      "[CV]  RF__max_features=0.75, RF__min_samples_leaf=500, RF__n_estimators=1000, score=0.8998998531339022, total=   4.8s\n",
      "[CV] RF__max_features=0.75, RF__min_samples_leaf=500, RF__n_estimators=1000 \n",
      "[CV]  RF__max_features=0.75, RF__min_samples_leaf=500, RF__n_estimators=1000, score=0.8954279841010859, total=   5.0s\n",
      "[CV] RF__max_features=0.75, RF__min_samples_leaf=500, RF__n_estimators=1000 \n",
      "[CV]  RF__max_features=0.75, RF__min_samples_leaf=500, RF__n_estimators=1000, score=0.8998559822037726, total=   4.8s\n",
      "[CV] RF__max_features=0.75, RF__min_samples_leaf=500, RF__n_estimators=1500 \n",
      "[CV]  RF__max_features=0.75, RF__min_samples_leaf=500, RF__n_estimators=1500, score=0.8970091492874909, total=   7.2s\n",
      "[CV] RF__max_features=0.75, RF__min_samples_leaf=500, RF__n_estimators=1500 \n",
      "[CV]  RF__max_features=0.75, RF__min_samples_leaf=500, RF__n_estimators=1500, score=0.8960509071916472, total=   6.9s\n",
      "[CV] RF__max_features=0.75, RF__min_samples_leaf=500, RF__n_estimators=1500 \n",
      "[CV]  RF__max_features=0.75, RF__min_samples_leaf=500, RF__n_estimators=1500, score=0.8998830821276178, total=   7.0s\n",
      "[CV] RF__max_features=0.75, RF__min_samples_leaf=500, RF__n_estimators=1500 \n",
      "[CV]  RF__max_features=0.75, RF__min_samples_leaf=500, RF__n_estimators=1500, score=0.8956364237506199, total=   7.2s\n",
      "[CV] RF__max_features=0.75, RF__min_samples_leaf=500, RF__n_estimators=1500 \n",
      "[CV]  RF__max_features=0.75, RF__min_samples_leaf=500, RF__n_estimators=1500, score=0.8999106344950849, total=   7.0s\n",
      "[CV] RF__max_features=None, RF__min_samples_leaf=10, RF__n_estimators=150 \n",
      "[CV]  RF__max_features=None, RF__min_samples_leaf=10, RF__n_estimators=150, score=0.9427980942277226, total=   2.5s\n",
      "[CV] RF__max_features=None, RF__min_samples_leaf=10, RF__n_estimators=150 \n",
      "[CV]  RF__max_features=None, RF__min_samples_leaf=10, RF__n_estimators=150, score=0.9433912651807554, total=   2.6s\n",
      "[CV] RF__max_features=None, RF__min_samples_leaf=10, RF__n_estimators=150 \n",
      "[CV]  RF__max_features=None, RF__min_samples_leaf=10, RF__n_estimators=150, score=0.9450905274960648, total=   2.6s\n",
      "[CV] RF__max_features=None, RF__min_samples_leaf=10, RF__n_estimators=150 \n",
      "[CV]  RF__max_features=None, RF__min_samples_leaf=10, RF__n_estimators=150, score=0.9416794246107331, total=   2.7s\n",
      "[CV] RF__max_features=None, RF__min_samples_leaf=10, RF__n_estimators=150 \n",
      "[CV]  RF__max_features=None, RF__min_samples_leaf=10, RF__n_estimators=150, score=0.9436162520299423, total=   2.6s\n",
      "[CV] RF__max_features=None, RF__min_samples_leaf=10, RF__n_estimators=500 \n",
      "[CV]  RF__max_features=None, RF__min_samples_leaf=10, RF__n_estimators=500, score=0.940921777842703, total=   8.2s\n",
      "[CV] RF__max_features=None, RF__min_samples_leaf=10, RF__n_estimators=500 \n",
      "[CV]  RF__max_features=None, RF__min_samples_leaf=10, RF__n_estimators=500, score=0.9424766463737491, total=   8.3s\n",
      "[CV] RF__max_features=None, RF__min_samples_leaf=10, RF__n_estimators=500 \n",
      "[CV]  RF__max_features=None, RF__min_samples_leaf=10, RF__n_estimators=500, score=0.9453528739515126, total=   8.3s\n",
      "[CV] RF__max_features=None, RF__min_samples_leaf=10, RF__n_estimators=500 \n",
      "[CV]  RF__max_features=None, RF__min_samples_leaf=10, RF__n_estimators=500, score=0.9411373617290427, total=   8.1s\n",
      "[CV] RF__max_features=None, RF__min_samples_leaf=10, RF__n_estimators=500 \n",
      "[CV]  RF__max_features=None, RF__min_samples_leaf=10, RF__n_estimators=500, score=0.9439844042780133, total=   8.0s\n",
      "[CV] RF__max_features=None, RF__min_samples_leaf=10, RF__n_estimators=1000 \n",
      "[CV]  RF__max_features=None, RF__min_samples_leaf=10, RF__n_estimators=1000, score=0.9411037817294441, total=  16.0s\n",
      "[CV] RF__max_features=None, RF__min_samples_leaf=10, RF__n_estimators=1000 \n",
      "[CV]  RF__max_features=None, RF__min_samples_leaf=10, RF__n_estimators=1000, score=0.9415853871826385, total=  16.3s\n",
      "[CV] RF__max_features=None, RF__min_samples_leaf=10, RF__n_estimators=1000 \n",
      "[CV]  RF__max_features=None, RF__min_samples_leaf=10, RF__n_estimators=1000, score=0.9446137517459815, total=  16.4s\n",
      "[CV] RF__max_features=None, RF__min_samples_leaf=10, RF__n_estimators=1000 \n",
      "[CV]  RF__max_features=None, RF__min_samples_leaf=10, RF__n_estimators=1000, score=0.9411337679419819, total=  16.6s\n",
      "[CV] RF__max_features=None, RF__min_samples_leaf=10, RF__n_estimators=1000 \n",
      "[CV]  RF__max_features=None, RF__min_samples_leaf=10, RF__n_estimators=1000, score=0.9443711743396079, total=  16.0s\n",
      "[CV] RF__max_features=None, RF__min_samples_leaf=10, RF__n_estimators=1500 \n",
      "[CV]  RF__max_features=None, RF__min_samples_leaf=10, RF__n_estimators=1500, score=0.9411097686994025, total=  24.3s\n",
      "[CV] RF__max_features=None, RF__min_samples_leaf=10, RF__n_estimators=1500 \n",
      "[CV]  RF__max_features=None, RF__min_samples_leaf=10, RF__n_estimators=1500, score=0.9424838339478708, total=  24.5s\n",
      "[CV] RF__max_features=None, RF__min_samples_leaf=10, RF__n_estimators=1500 \n",
      "[CV]  RF__max_features=None, RF__min_samples_leaf=10, RF__n_estimators=1500, score=0.9449707345940339, total=  24.8s\n",
      "[CV] RF__max_features=None, RF__min_samples_leaf=10, RF__n_estimators=1500 \n",
      "[CV]  RF__max_features=None, RF__min_samples_leaf=10, RF__n_estimators=1500, score=0.9413517910236783, total=  24.8s\n",
      "[CV] RF__max_features=None, RF__min_samples_leaf=10, RF__n_estimators=1500 \n",
      "[CV]  RF__max_features=None, RF__min_samples_leaf=10, RF__n_estimators=1500, score=0.9439495709494844, total=  24.0s\n",
      "[CV] RF__max_features=None, RF__min_samples_leaf=50, RF__n_estimators=150 \n",
      "[CV]  RF__max_features=None, RF__min_samples_leaf=50, RF__n_estimators=150, score=0.9292531733934266, total=   1.8s\n",
      "[CV] RF__max_features=None, RF__min_samples_leaf=50, RF__n_estimators=150 \n",
      "[CV]  RF__max_features=None, RF__min_samples_leaf=50, RF__n_estimators=150, score=0.9337862702959123, total=   1.9s\n",
      "[CV] RF__max_features=None, RF__min_samples_leaf=50, RF__n_estimators=150 \n",
      "[CV]  RF__max_features=None, RF__min_samples_leaf=50, RF__n_estimators=150, score=0.9329333448334519, total=   1.9s\n",
      "[CV] RF__max_features=None, RF__min_samples_leaf=50, RF__n_estimators=150 \n",
      "[CV]  RF__max_features=None, RF__min_samples_leaf=50, RF__n_estimators=150, score=0.9302745413728745, total=   1.9s\n",
      "[CV] RF__max_features=None, RF__min_samples_leaf=50, RF__n_estimators=150 \n",
      "[CV]  RF__max_features=None, RF__min_samples_leaf=50, RF__n_estimators=150, score=0.9330413339483219, total=   1.9s\n",
      "[CV] RF__max_features=None, RF__min_samples_leaf=50, RF__n_estimators=500 \n",
      "[CV]  RF__max_features=None, RF__min_samples_leaf=50, RF__n_estimators=500, score=0.9299314970897339, total=   6.0s\n",
      "[CV] RF__max_features=None, RF__min_samples_leaf=50, RF__n_estimators=500 \n",
      "[CV]  RF__max_features=None, RF__min_samples_leaf=50, RF__n_estimators=500, score=0.9344774753406311, total=   6.2s\n",
      "[CV] RF__max_features=None, RF__min_samples_leaf=50, RF__n_estimators=500 \n"
     ]
    },
    {
     "name": "stdout",
     "output_type": "stream",
     "text": [
      "[CV]  RF__max_features=None, RF__min_samples_leaf=50, RF__n_estimators=500, score=0.932515866569874, total=   6.1s\n",
      "[CV] RF__max_features=None, RF__min_samples_leaf=50, RF__n_estimators=500 \n",
      "[CV]  RF__max_features=None, RF__min_samples_leaf=50, RF__n_estimators=500, score=0.9303320419658495, total=   6.2s\n",
      "[CV] RF__max_features=None, RF__min_samples_leaf=50, RF__n_estimators=500 \n",
      "[CV]  RF__max_features=None, RF__min_samples_leaf=50, RF__n_estimators=500, score=0.932508624251684, total=   5.9s\n",
      "[CV] RF__max_features=None, RF__min_samples_leaf=50, RF__n_estimators=1000 \n",
      "[CV]  RF__max_features=None, RF__min_samples_leaf=50, RF__n_estimators=1000, score=0.9295644958312728, total=  12.1s\n",
      "[CV] RF__max_features=None, RF__min_samples_leaf=50, RF__n_estimators=1000 \n",
      "[CV]  RF__max_features=None, RF__min_samples_leaf=50, RF__n_estimators=1000, score=0.9338557501790904, total=  12.3s\n",
      "[CV] RF__max_features=None, RF__min_samples_leaf=50, RF__n_estimators=1000 \n",
      "[CV]  RF__max_features=None, RF__min_samples_leaf=50, RF__n_estimators=1000, score=0.9325194603569349, total=  12.2s\n",
      "[CV] RF__max_features=None, RF__min_samples_leaf=50, RF__n_estimators=1000 \n",
      "[CV]  RF__max_features=None, RF__min_samples_leaf=50, RF__n_estimators=1000, score=0.9311298626933757, total=  12.2s\n",
      "[CV] RF__max_features=None, RF__min_samples_leaf=50, RF__n_estimators=1000 \n",
      "[CV]  RF__max_features=None, RF__min_samples_leaf=50, RF__n_estimators=1000, score=0.9331043942844514, total=  11.8s\n",
      "[CV] RF__max_features=None, RF__min_samples_leaf=50, RF__n_estimators=1500 \n",
      "[CV]  RF__max_features=None, RF__min_samples_leaf=50, RF__n_estimators=1500, score=0.9301111061884914, total=  18.1s\n",
      "[CV] RF__max_features=None, RF__min_samples_leaf=50, RF__n_estimators=1500 \n",
      "[CV]  RF__max_features=None, RF__min_samples_leaf=50, RF__n_estimators=1500, score=0.9342678377620769, total=  18.6s\n",
      "[CV] RF__max_features=None, RF__min_samples_leaf=50, RF__n_estimators=1500 \n",
      "[CV]  RF__max_features=None, RF__min_samples_leaf=50, RF__n_estimators=1500, score=0.9326715973425143, total=  18.4s\n",
      "[CV] RF__max_features=None, RF__min_samples_leaf=50, RF__n_estimators=1500 \n",
      "[CV]  RF__max_features=None, RF__min_samples_leaf=50, RF__n_estimators=1500, score=0.931023247010568, total=  18.2s\n",
      "[CV] RF__max_features=None, RF__min_samples_leaf=50, RF__n_estimators=1500 \n",
      "[CV]  RF__max_features=None, RF__min_samples_leaf=50, RF__n_estimators=1500, score=0.9329566529255192, total=  17.1s\n",
      "[CV] RF__max_features=None, RF__min_samples_leaf=100, RF__n_estimators=150 \n",
      "[CV]  RF__max_features=None, RF__min_samples_leaf=100, RF__n_estimators=150, score=0.9216203853932301, total=   1.6s\n",
      "[CV] RF__max_features=None, RF__min_samples_leaf=100, RF__n_estimators=150 \n",
      "[CV]  RF__max_features=None, RF__min_samples_leaf=100, RF__n_estimators=150, score=0.9255265497008771, total=   1.6s\n",
      "[CV] RF__max_features=None, RF__min_samples_leaf=100, RF__n_estimators=150 \n",
      "[CV]  RF__max_features=None, RF__min_samples_leaf=100, RF__n_estimators=150, score=0.9243184382838948, total=   1.6s\n",
      "[CV] RF__max_features=None, RF__min_samples_leaf=100, RF__n_estimators=150 \n",
      "[CV]  RF__max_features=None, RF__min_samples_leaf=100, RF__n_estimators=150, score=0.9232492866332684, total=   1.7s\n",
      "[CV] RF__max_features=None, RF__min_samples_leaf=100, RF__n_estimators=150 \n",
      "[CV]  RF__max_features=None, RF__min_samples_leaf=100, RF__n_estimators=150, score=0.9252801080073415, total=   1.6s\n",
      "[CV] RF__max_features=None, RF__min_samples_leaf=100, RF__n_estimators=500 \n",
      "[CV]  RF__max_features=None, RF__min_samples_leaf=100, RF__n_estimators=500, score=0.9214413749914685, total=   5.1s\n",
      "[CV] RF__max_features=None, RF__min_samples_leaf=100, RF__n_estimators=500 \n",
      "[CV]  RF__max_features=None, RF__min_samples_leaf=100, RF__n_estimators=500, score=0.9264705177688811, total=   5.2s\n",
      "[CV] RF__max_features=None, RF__min_samples_leaf=100, RF__n_estimators=500 \n",
      "[CV]  RF__max_features=None, RF__min_samples_leaf=100, RF__n_estimators=500, score=0.9236805410805798, total=   5.1s\n",
      "[CV] RF__max_features=None, RF__min_samples_leaf=100, RF__n_estimators=500 \n",
      "[CV]  RF__max_features=None, RF__min_samples_leaf=100, RF__n_estimators=500, score=0.92399020573233, total=   5.3s\n",
      "[CV] RF__max_features=None, RF__min_samples_leaf=100, RF__n_estimators=500 \n",
      "[CV]  RF__max_features=None, RF__min_samples_leaf=100, RF__n_estimators=500, score=0.9249125563339001, total=   5.1s\n",
      "[CV] RF__max_features=None, RF__min_samples_leaf=100, RF__n_estimators=1000 \n",
      "[CV]  RF__max_features=None, RF__min_samples_leaf=100, RF__n_estimators=1000, score=0.921135440826585, total=  10.3s\n",
      "[CV] RF__max_features=None, RF__min_samples_leaf=100, RF__n_estimators=1000 \n",
      "[CV]  RF__max_features=None, RF__min_samples_leaf=100, RF__n_estimators=1000, score=0.9259470227870059, total=  10.4s\n",
      "[CV] RF__max_features=None, RF__min_samples_leaf=100, RF__n_estimators=1000 \n",
      "[CV]  RF__max_features=None, RF__min_samples_leaf=100, RF__n_estimators=1000, score=0.9238823921205022, total=  10.4s\n",
      "[CV] RF__max_features=None, RF__min_samples_leaf=100, RF__n_estimators=1000 \n",
      "[CV]  RF__max_features=None, RF__min_samples_leaf=100, RF__n_estimators=1000, score=0.9235888995105263, total=  10.4s\n",
      "[CV] RF__max_features=None, RF__min_samples_leaf=100, RF__n_estimators=1000 \n",
      "[CV]  RF__max_features=None, RF__min_samples_leaf=100, RF__n_estimators=1000, score=0.9248861310501888, total=  10.2s\n",
      "[CV] RF__max_features=None, RF__min_samples_leaf=100, RF__n_estimators=1500 \n",
      "[CV]  RF__max_features=None, RF__min_samples_leaf=100, RF__n_estimators=1500, score=0.9211647769793819, total=  14.8s\n",
      "[CV] RF__max_features=None, RF__min_samples_leaf=100, RF__n_estimators=1500 \n",
      "[CV]  RF__max_features=None, RF__min_samples_leaf=100, RF__n_estimators=1500, score=0.9262117651004942, total=  15.2s\n",
      "[CV] RF__max_features=None, RF__min_samples_leaf=100, RF__n_estimators=1500 \n",
      "[CV]  RF__max_features=None, RF__min_samples_leaf=100, RF__n_estimators=1500, score=0.92406747215414, total=  15.2s\n",
      "[CV] RF__max_features=None, RF__min_samples_leaf=100, RF__n_estimators=1500 \n",
      "[CV]  RF__max_features=None, RF__min_samples_leaf=100, RF__n_estimators=1500, score=0.9239135382750301, total=  15.2s\n",
      "[CV] RF__max_features=None, RF__min_samples_leaf=100, RF__n_estimators=1500 \n",
      "[CV]  RF__max_features=None, RF__min_samples_leaf=100, RF__n_estimators=1500, score=0.9250626999913518, total=  15.0s\n",
      "[CV] RF__max_features=None, RF__min_samples_leaf=500, RF__n_estimators=150 \n",
      "[CV]  RF__max_features=None, RF__min_samples_leaf=500, RF__n_estimators=150, score=0.8913778053444483, total=   1.1s\n",
      "[CV] RF__max_features=None, RF__min_samples_leaf=500, RF__n_estimators=150 \n",
      "[CV]  RF__max_features=None, RF__min_samples_leaf=500, RF__n_estimators=150, score=0.8879834542043715, total=   1.0s\n",
      "[CV] RF__max_features=None, RF__min_samples_leaf=500, RF__n_estimators=150 \n",
      "[CV]  RF__max_features=None, RF__min_samples_leaf=500, RF__n_estimators=150, score=0.8957478311495087, total=   1.0s\n",
      "[CV] RF__max_features=None, RF__min_samples_leaf=500, RF__n_estimators=150 \n",
      "[CV]  RF__max_features=None, RF__min_samples_leaf=500, RF__n_estimators=150, score=0.8871700603995811, total=   1.1s\n",
      "[CV] RF__max_features=None, RF__min_samples_leaf=500, RF__n_estimators=150 \n",
      "[CV]  RF__max_features=None, RF__min_samples_leaf=500, RF__n_estimators=150, score=0.8931463624395821, total=   1.1s\n",
      "[CV] RF__max_features=None, RF__min_samples_leaf=500, RF__n_estimators=500 \n",
      "[CV]  RF__max_features=None, RF__min_samples_leaf=500, RF__n_estimators=500, score=0.8910569037546683, total=   3.1s\n",
      "[CV] RF__max_features=None, RF__min_samples_leaf=500, RF__n_estimators=500 \n",
      "[CV]  RF__max_features=None, RF__min_samples_leaf=500, RF__n_estimators=500, score=0.8892652382561029, total=   3.2s\n",
      "[CV] RF__max_features=None, RF__min_samples_leaf=500, RF__n_estimators=500 \n",
      "[CV]  RF__max_features=None, RF__min_samples_leaf=500, RF__n_estimators=500, score=0.8956436113247419, total=   3.1s\n",
      "[CV] RF__max_features=None, RF__min_samples_leaf=500, RF__n_estimators=500 \n",
      "[CV]  RF__max_features=None, RF__min_samples_leaf=500, RF__n_estimators=500, score=0.8903032437522013, total=   3.2s\n",
      "[CV] RF__max_features=None, RF__min_samples_leaf=500, RF__n_estimators=500 \n",
      "[CV]  RF__max_features=None, RF__min_samples_leaf=500, RF__n_estimators=500, score=0.8936838767332584, total=   3.1s\n",
      "[CV] RF__max_features=None, RF__min_samples_leaf=500, RF__n_estimators=1000 \n"
     ]
    },
    {
     "name": "stdout",
     "output_type": "stream",
     "text": [
      "[CV]  RF__max_features=None, RF__min_samples_leaf=500, RF__n_estimators=1000, score=0.8915053278045662, total=   6.1s\n",
      "[CV] RF__max_features=None, RF__min_samples_leaf=500, RF__n_estimators=1000 \n",
      "[CV]  RF__max_features=None, RF__min_samples_leaf=500, RF__n_estimators=1000, score=0.8894263597093345, total=   6.0s\n",
      "[CV] RF__max_features=None, RF__min_samples_leaf=500, RF__n_estimators=1000 \n",
      "[CV]  RF__max_features=None, RF__min_samples_leaf=500, RF__n_estimators=1000, score=0.8953171756667074, total=   6.1s\n",
      "[CV] RF__max_features=None, RF__min_samples_leaf=500, RF__n_estimators=1000 \n",
      "[CV]  RF__max_features=None, RF__min_samples_leaf=500, RF__n_estimators=1000, score=0.8903493640194831, total=   6.2s\n",
      "[CV] RF__max_features=None, RF__min_samples_leaf=500, RF__n_estimators=1000 \n",
      "[CV]  RF__max_features=None, RF__min_samples_leaf=500, RF__n_estimators=1000, score=0.8942490174599057, total=   6.0s\n",
      "[CV] RF__max_features=None, RF__min_samples_leaf=500, RF__n_estimators=1500 \n",
      "[CV]  RF__max_features=None, RF__min_samples_leaf=500, RF__n_estimators=1500, score=0.8912993760379909, total=   9.0s\n",
      "[CV] RF__max_features=None, RF__min_samples_leaf=500, RF__n_estimators=1500 \n",
      "[CV]  RF__max_features=None, RF__min_samples_leaf=500, RF__n_estimators=1500, score=0.8895593298305888, total=   9.0s\n",
      "[CV] RF__max_features=None, RF__min_samples_leaf=500, RF__n_estimators=1500 \n",
      "[CV]  RF__max_features=None, RF__min_samples_leaf=500, RF__n_estimators=1500, score=0.8953680876500705, total=   9.0s\n",
      "[CV] RF__max_features=None, RF__min_samples_leaf=500, RF__n_estimators=1500 \n",
      "[CV]  RF__max_features=None, RF__min_samples_leaf=500, RF__n_estimators=1500, score=0.8906662162453551, total=   9.3s\n",
      "[CV] RF__max_features=None, RF__min_samples_leaf=500, RF__n_estimators=1500 \n",
      "[CV]  RF__max_features=None, RF__min_samples_leaf=500, RF__n_estimators=1500, score=0.8940802559889303, total=   8.9s\n"
     ]
    },
    {
     "name": "stderr",
     "output_type": "stream",
     "text": [
      "[Parallel(n_jobs=1)]: Done 320 out of 320 | elapsed: 32.0min finished\n"
     ]
    },
    {
     "name": "stdout",
     "output_type": "stream",
     "text": [
      "0.9450972483933453\n",
      "{'RF__max_features': 0.5, 'RF__min_samples_leaf': 10, 'RF__n_estimators': 1500}\n",
      "Fitting 5 folds for each of 64 candidates, totalling 320 fits\n",
      "[CV] RF__max_features=0.25, RF__min_samples_leaf=10, RF__n_estimators=150 \n"
     ]
    },
    {
     "name": "stderr",
     "output_type": "stream",
     "text": [
      "[Parallel(n_jobs=1)]: Using backend SequentialBackend with 1 concurrent workers.\n"
     ]
    },
    {
     "name": "stdout",
     "output_type": "stream",
     "text": [
      "[CV]  RF__max_features=0.25, RF__min_samples_leaf=10, RF__n_estimators=150, score=0.9410672612126967, total=   1.4s\n",
      "[CV] RF__max_features=0.25, RF__min_samples_leaf=10, RF__n_estimators=150 \n"
     ]
    },
    {
     "name": "stderr",
     "output_type": "stream",
     "text": [
      "[Parallel(n_jobs=1)]: Done   1 out of   1 | elapsed:    1.5s remaining:    0.0s\n"
     ]
    },
    {
     "name": "stdout",
     "output_type": "stream",
     "text": [
      "[CV]  RF__max_features=0.25, RF__min_samples_leaf=10, RF__n_estimators=150, score=0.9455679022106582, total=   1.3s\n",
      "[CV] RF__max_features=0.25, RF__min_samples_leaf=10, RF__n_estimators=150 \n"
     ]
    },
    {
     "name": "stderr",
     "output_type": "stream",
     "text": [
      "[Parallel(n_jobs=1)]: Done   2 out of   2 | elapsed:    2.9s remaining:    0.0s\n"
     ]
    },
    {
     "name": "stdout",
     "output_type": "stream",
     "text": [
      "[CV]  RF__max_features=0.25, RF__min_samples_leaf=10, RF__n_estimators=150, score=0.9482135284520121, total=   1.3s\n",
      "[CV] RF__max_features=0.25, RF__min_samples_leaf=10, RF__n_estimators=150 \n"
     ]
    },
    {
     "name": "stderr",
     "output_type": "stream",
     "text": [
      "[Parallel(n_jobs=1)]: Done   3 out of   3 | elapsed:    4.3s remaining:    0.0s\n"
     ]
    },
    {
     "name": "stdout",
     "output_type": "stream",
     "text": [
      "[CV]  RF__max_features=0.25, RF__min_samples_leaf=10, RF__n_estimators=150, score=0.9473396392316963, total=   1.3s\n",
      "[CV] RF__max_features=0.25, RF__min_samples_leaf=10, RF__n_estimators=150 \n"
     ]
    },
    {
     "name": "stderr",
     "output_type": "stream",
     "text": [
      "[Parallel(n_jobs=1)]: Done   4 out of   4 | elapsed:    5.7s remaining:    0.0s\n"
     ]
    },
    {
     "name": "stdout",
     "output_type": "stream",
     "text": [
      "[CV]  RF__max_features=0.25, RF__min_samples_leaf=10, RF__n_estimators=150, score=0.9486580760471618, total=   1.2s\n",
      "[CV] RF__max_features=0.25, RF__min_samples_leaf=10, RF__n_estimators=500 \n"
     ]
    },
    {
     "name": "stderr",
     "output_type": "stream",
     "text": [
      "[Parallel(n_jobs=1)]: Done   5 out of   5 | elapsed:    7.0s remaining:    0.0s\n"
     ]
    },
    {
     "name": "stdout",
     "output_type": "stream",
     "text": [
      "[CV]  RF__max_features=0.25, RF__min_samples_leaf=10, RF__n_estimators=500, score=0.9421922128679143, total=   3.8s\n",
      "[CV] RF__max_features=0.25, RF__min_samples_leaf=10, RF__n_estimators=500 \n"
     ]
    },
    {
     "name": "stderr",
     "output_type": "stream",
     "text": [
      "[Parallel(n_jobs=1)]: Done   6 out of   6 | elapsed:   11.1s remaining:    0.0s\n"
     ]
    },
    {
     "name": "stdout",
     "output_type": "stream",
     "text": [
      "[CV]  RF__max_features=0.25, RF__min_samples_leaf=10, RF__n_estimators=500, score=0.9458194673049231, total=   3.8s\n",
      "[CV] RF__max_features=0.25, RF__min_samples_leaf=10, RF__n_estimators=500 \n"
     ]
    },
    {
     "name": "stderr",
     "output_type": "stream",
     "text": [
      "[Parallel(n_jobs=1)]: Done   7 out of   7 | elapsed:   15.1s remaining:    0.0s\n"
     ]
    },
    {
     "name": "stdout",
     "output_type": "stream",
     "text": [
      "[CV]  RF__max_features=0.25, RF__min_samples_leaf=10, RF__n_estimators=500, score=0.9454427186280357, total=   3.8s\n",
      "[CV] RF__max_features=0.25, RF__min_samples_leaf=10, RF__n_estimators=500 \n"
     ]
    },
    {
     "name": "stderr",
     "output_type": "stream",
     "text": [
      "[Parallel(n_jobs=1)]: Done   8 out of   8 | elapsed:   19.2s remaining:    0.0s\n"
     ]
    },
    {
     "name": "stdout",
     "output_type": "stream",
     "text": [
      "[CV]  RF__max_features=0.25, RF__min_samples_leaf=10, RF__n_estimators=500, score=0.9474216973695875, total=   3.8s\n",
      "[CV] RF__max_features=0.25, RF__min_samples_leaf=10, RF__n_estimators=500 \n"
     ]
    },
    {
     "name": "stderr",
     "output_type": "stream",
     "text": [
      "[Parallel(n_jobs=1)]: Done   9 out of   9 | elapsed:   23.2s remaining:    0.0s\n"
     ]
    },
    {
     "name": "stdout",
     "output_type": "stream",
     "text": [
      "[CV]  RF__max_features=0.25, RF__min_samples_leaf=10, RF__n_estimators=500, score=0.9475410072357232, total=   3.8s\n",
      "[CV] RF__max_features=0.25, RF__min_samples_leaf=10, RF__n_estimators=1000 \n",
      "[CV]  RF__max_features=0.25, RF__min_samples_leaf=10, RF__n_estimators=1000, score=0.9429645319925714, total=   7.7s\n",
      "[CV] RF__max_features=0.25, RF__min_samples_leaf=10, RF__n_estimators=1000 \n",
      "[CV]  RF__max_features=0.25, RF__min_samples_leaf=10, RF__n_estimators=1000, score=0.9465094744206217, total=   7.5s\n",
      "[CV] RF__max_features=0.25, RF__min_samples_leaf=10, RF__n_estimators=1000 \n",
      "[CV]  RF__max_features=0.25, RF__min_samples_leaf=10, RF__n_estimators=1000, score=0.9471485695529567, total=   7.4s\n",
      "[CV] RF__max_features=0.25, RF__min_samples_leaf=10, RF__n_estimators=1000 \n",
      "[CV]  RF__max_features=0.25, RF__min_samples_leaf=10, RF__n_estimators=1000, score=0.947380967782897, total=   7.6s\n",
      "[CV] RF__max_features=0.25, RF__min_samples_leaf=10, RF__n_estimators=1000 \n",
      "[CV]  RF__max_features=0.25, RF__min_samples_leaf=10, RF__n_estimators=1000, score=0.9485067312404508, total=   7.5s\n",
      "[CV] RF__max_features=0.25, RF__min_samples_leaf=10, RF__n_estimators=1500 \n",
      "[CV]  RF__max_features=0.25, RF__min_samples_leaf=10, RF__n_estimators=1500, score=0.943147733273304, total=  11.4s\n",
      "[CV] RF__max_features=0.25, RF__min_samples_leaf=10, RF__n_estimators=1500 \n",
      "[CV]  RF__max_features=0.25, RF__min_samples_leaf=10, RF__n_estimators=1500, score=0.9468293214690444, total=  11.1s\n",
      "[CV] RF__max_features=0.25, RF__min_samples_leaf=10, RF__n_estimators=1500 \n",
      "[CV]  RF__max_features=0.25, RF__min_samples_leaf=10, RF__n_estimators=1500, score=0.9468454935108185, total=  11.4s\n",
      "[CV] RF__max_features=0.25, RF__min_samples_leaf=10, RF__n_estimators=1500 \n",
      "[CV]  RF__max_features=0.25, RF__min_samples_leaf=10, RF__n_estimators=1500, score=0.9470383600830884, total=  11.2s\n",
      "[CV] RF__max_features=0.25, RF__min_samples_leaf=10, RF__n_estimators=1500 \n",
      "[CV]  RF__max_features=0.25, RF__min_samples_leaf=10, RF__n_estimators=1500, score=0.9482160531196249, total=  11.4s\n",
      "[CV] RF__max_features=0.25, RF__min_samples_leaf=50, RF__n_estimators=150 \n",
      "[CV]  RF__max_features=0.25, RF__min_samples_leaf=50, RF__n_estimators=150, score=0.9356730012800141, total=   1.0s\n",
      "[CV] RF__max_features=0.25, RF__min_samples_leaf=50, RF__n_estimators=150 \n",
      "[CV]  RF__max_features=0.25, RF__min_samples_leaf=50, RF__n_estimators=150, score=0.9415177041929911, total=   1.1s\n",
      "[CV] RF__max_features=0.25, RF__min_samples_leaf=50, RF__n_estimators=150 \n",
      "[CV]  RF__max_features=0.25, RF__min_samples_leaf=50, RF__n_estimators=150, score=0.9411397575870835, total=   1.0s\n",
      "[CV] RF__max_features=0.25, RF__min_samples_leaf=50, RF__n_estimators=150 \n",
      "[CV]  RF__max_features=0.25, RF__min_samples_leaf=50, RF__n_estimators=150, score=0.9418920570118379, total=   1.0s\n",
      "[CV] RF__max_features=0.25, RF__min_samples_leaf=50, RF__n_estimators=150 \n",
      "[CV]  RF__max_features=0.25, RF__min_samples_leaf=50, RF__n_estimators=150, score=0.9413713040637284, total=   1.0s\n",
      "[CV] RF__max_features=0.25, RF__min_samples_leaf=50, RF__n_estimators=500 \n",
      "[CV]  RF__max_features=0.25, RF__min_samples_leaf=50, RF__n_estimators=500, score=0.9373744981422432, total=   3.1s\n",
      "[CV] RF__max_features=0.25, RF__min_samples_leaf=50, RF__n_estimators=500 \n",
      "[CV]  RF__max_features=0.25, RF__min_samples_leaf=50, RF__n_estimators=500, score=0.9416590598173877, total=   3.2s\n",
      "[CV] RF__max_features=0.25, RF__min_samples_leaf=50, RF__n_estimators=500 \n",
      "[CV]  RF__max_features=0.25, RF__min_samples_leaf=50, RF__n_estimators=500, score=0.9407300658621375, total=   3.2s\n",
      "[CV] RF__max_features=0.25, RF__min_samples_leaf=50, RF__n_estimators=500 \n",
      "[CV]  RF__max_features=0.25, RF__min_samples_leaf=50, RF__n_estimators=500, score=0.9398519838902504, total=   3.2s\n",
      "[CV] RF__max_features=0.25, RF__min_samples_leaf=50, RF__n_estimators=500 \n",
      "[CV]  RF__max_features=0.25, RF__min_samples_leaf=50, RF__n_estimators=500, score=0.9406175829033219, total=   3.2s\n",
      "[CV] RF__max_features=0.25, RF__min_samples_leaf=50, RF__n_estimators=1000 \n",
      "[CV]  RF__max_features=0.25, RF__min_samples_leaf=50, RF__n_estimators=1000, score=0.9366608513231802, total=   6.2s\n",
      "[CV] RF__max_features=0.25, RF__min_samples_leaf=50, RF__n_estimators=1000 \n",
      "[CV]  RF__max_features=0.25, RF__min_samples_leaf=50, RF__n_estimators=1000, score=0.9416027571534332, total=   6.2s\n",
      "[CV] RF__max_features=0.25, RF__min_samples_leaf=50, RF__n_estimators=1000 \n",
      "[CV]  RF__max_features=0.25, RF__min_samples_leaf=50, RF__n_estimators=1000, score=0.942492219451013, total=   6.2s\n",
      "[CV] RF__max_features=0.25, RF__min_samples_leaf=50, RF__n_estimators=1000 \n",
      "[CV]  RF__max_features=0.25, RF__min_samples_leaf=50, RF__n_estimators=1000, score=0.9408390774029858, total=   6.2s\n",
      "[CV] RF__max_features=0.25, RF__min_samples_leaf=50, RF__n_estimators=1000 \n",
      "[CV]  RF__max_features=0.25, RF__min_samples_leaf=50, RF__n_estimators=1000, score=0.9416577781621456, total=   6.1s\n",
      "[CV] RF__max_features=0.25, RF__min_samples_leaf=50, RF__n_estimators=1500 \n",
      "[CV]  RF__max_features=0.25, RF__min_samples_leaf=50, RF__n_estimators=1500, score=0.9365009992252861, total=   9.1s\n",
      "[CV] RF__max_features=0.25, RF__min_samples_leaf=50, RF__n_estimators=1500 \n",
      "[CV]  RF__max_features=0.25, RF__min_samples_leaf=50, RF__n_estimators=1500, score=0.9412445763763606, total=   9.2s\n",
      "[CV] RF__max_features=0.25, RF__min_samples_leaf=50, RF__n_estimators=1500 \n",
      "[CV]  RF__max_features=0.25, RF__min_samples_leaf=50, RF__n_estimators=1500, score=0.9410079853948494, total=   9.1s\n",
      "[CV] RF__max_features=0.25, RF__min_samples_leaf=50, RF__n_estimators=1500 \n",
      "[CV]  RF__max_features=0.25, RF__min_samples_leaf=50, RF__n_estimators=1500, score=0.9415722099634152, total=   9.3s\n",
      "[CV] RF__max_features=0.25, RF__min_samples_leaf=50, RF__n_estimators=1500 \n",
      "[CV]  RF__max_features=0.25, RF__min_samples_leaf=50, RF__n_estimators=1500, score=0.9405407093507068, total=   9.1s\n",
      "[CV] RF__max_features=0.25, RF__min_samples_leaf=100, RF__n_estimators=150 \n",
      "[CV]  RF__max_features=0.25, RF__min_samples_leaf=100, RF__n_estimators=150, score=0.931167806386181, total=   0.9s\n",
      "[CV] RF__max_features=0.25, RF__min_samples_leaf=100, RF__n_estimators=150 \n",
      "[CV]  RF__max_features=0.25, RF__min_samples_leaf=100, RF__n_estimators=150, score=0.9371847949265311, total=   0.9s\n",
      "[CV] RF__max_features=0.25, RF__min_samples_leaf=100, RF__n_estimators=150 \n",
      "[CV]  RF__max_features=0.25, RF__min_samples_leaf=100, RF__n_estimators=150, score=0.9357406914925476, total=   0.9s\n",
      "[CV] RF__max_features=0.25, RF__min_samples_leaf=100, RF__n_estimators=150 \n",
      "[CV]  RF__max_features=0.25, RF__min_samples_leaf=100, RF__n_estimators=150, score=0.9350626636670524, total=   1.0s\n",
      "[CV] RF__max_features=0.25, RF__min_samples_leaf=100, RF__n_estimators=150 \n",
      "[CV]  RF__max_features=0.25, RF__min_samples_leaf=100, RF__n_estimators=150, score=0.935527112341088, total=   0.9s\n",
      "[CV] RF__max_features=0.25, RF__min_samples_leaf=100, RF__n_estimators=500 \n",
      "[CV]  RF__max_features=0.25, RF__min_samples_leaf=100, RF__n_estimators=500, score=0.9321305111555211, total=   2.8s\n",
      "[CV] RF__max_features=0.25, RF__min_samples_leaf=100, RF__n_estimators=500 \n",
      "[CV]  RF__max_features=0.25, RF__min_samples_leaf=100, RF__n_estimators=500, score=0.9369619801287534, total=   2.8s\n",
      "[CV] RF__max_features=0.25, RF__min_samples_leaf=100, RF__n_estimators=500 \n",
      "[CV]  RF__max_features=0.25, RF__min_samples_leaf=100, RF__n_estimators=500, score=0.9355106891206483, total=   2.8s\n",
      "[CV] RF__max_features=0.25, RF__min_samples_leaf=100, RF__n_estimators=500 \n",
      "[CV]  RF__max_features=0.25, RF__min_samples_leaf=100, RF__n_estimators=500, score=0.9361731438688796, total=   2.7s\n",
      "[CV] RF__max_features=0.25, RF__min_samples_leaf=100, RF__n_estimators=500 \n",
      "[CV]  RF__max_features=0.25, RF__min_samples_leaf=100, RF__n_estimators=500, score=0.9350502560850221, total=   2.7s\n",
      "[CV] RF__max_features=0.25, RF__min_samples_leaf=100, RF__n_estimators=1000 \n",
      "[CV]  RF__max_features=0.25, RF__min_samples_leaf=100, RF__n_estimators=1000, score=0.931590486465257, total=   5.5s\n",
      "[CV] RF__max_features=0.25, RF__min_samples_leaf=100, RF__n_estimators=1000 \n",
      "[CV]  RF__max_features=0.25, RF__min_samples_leaf=100, RF__n_estimators=1000, score=0.9375429757036036, total=   5.5s\n",
      "[CV] RF__max_features=0.25, RF__min_samples_leaf=100, RF__n_estimators=1000 \n"
     ]
    },
    {
     "name": "stdout",
     "output_type": "stream",
     "text": [
      "[CV]  RF__max_features=0.25, RF__min_samples_leaf=100, RF__n_estimators=1000, score=0.9363432497897634, total=   5.5s\n",
      "[CV] RF__max_features=0.25, RF__min_samples_leaf=100, RF__n_estimators=1000 \n",
      "[CV]  RF__max_features=0.25, RF__min_samples_leaf=100, RF__n_estimators=1000, score=0.9369997148928931, total=   5.4s\n",
      "[CV] RF__max_features=0.25, RF__min_samples_leaf=100, RF__n_estimators=1000 \n",
      "[CV]  RF__max_features=0.25, RF__min_samples_leaf=100, RF__n_estimators=1000, score=0.9356244054311165, total=   5.5s\n",
      "[CV] RF__max_features=0.25, RF__min_samples_leaf=100, RF__n_estimators=1500 \n",
      "[CV]  RF__max_features=0.25, RF__min_samples_leaf=100, RF__n_estimators=1500, score=0.9311366741423964, total=   8.1s\n",
      "[CV] RF__max_features=0.25, RF__min_samples_leaf=100, RF__n_estimators=1500 \n",
      "[CV]  RF__max_features=0.25, RF__min_samples_leaf=100, RF__n_estimators=1500, score=0.9375693301420504, total=   8.2s\n",
      "[CV] RF__max_features=0.25, RF__min_samples_leaf=100, RF__n_estimators=1500 \n",
      "[CV]  RF__max_features=0.25, RF__min_samples_leaf=100, RF__n_estimators=1500, score=0.935552616636359, total=   8.1s\n",
      "[CV] RF__max_features=0.25, RF__min_samples_leaf=100, RF__n_estimators=1500 \n",
      "[CV]  RF__max_features=0.25, RF__min_samples_leaf=100, RF__n_estimators=1500, score=0.9361983003783059, total=   8.1s\n",
      "[CV] RF__max_features=0.25, RF__min_samples_leaf=100, RF__n_estimators=1500 \n",
      "[CV]  RF__max_features=0.25, RF__min_samples_leaf=100, RF__n_estimators=1500, score=0.9351187215928201, total=   8.1s\n",
      "[CV] RF__max_features=0.25, RF__min_samples_leaf=500, RF__n_estimators=150 \n",
      "[CV]  RF__max_features=0.25, RF__min_samples_leaf=500, RF__n_estimators=150, score=0.9115413214679572, total=   0.7s\n",
      "[CV] RF__max_features=0.25, RF__min_samples_leaf=500, RF__n_estimators=150 \n",
      "[CV]  RF__max_features=0.25, RF__min_samples_leaf=500, RF__n_estimators=150, score=0.9195099511963718, total=   0.7s\n",
      "[CV] RF__max_features=0.25, RF__min_samples_leaf=500, RF__n_estimators=150 \n",
      "[CV]  RF__max_features=0.25, RF__min_samples_leaf=500, RF__n_estimators=150, score=0.9143504709058978, total=   0.7s\n",
      "[CV] RF__max_features=0.25, RF__min_samples_leaf=500, RF__n_estimators=150 \n",
      "[CV]  RF__max_features=0.25, RF__min_samples_leaf=500, RF__n_estimators=150, score=0.9188918198218919, total=   0.7s\n",
      "[CV] RF__max_features=0.25, RF__min_samples_leaf=500, RF__n_estimators=150 \n",
      "[CV]  RF__max_features=0.25, RF__min_samples_leaf=500, RF__n_estimators=150, score=0.9147003853286825, total=   0.7s\n",
      "[CV] RF__max_features=0.25, RF__min_samples_leaf=500, RF__n_estimators=500 \n",
      "[CV]  RF__max_features=0.25, RF__min_samples_leaf=500, RF__n_estimators=500, score=0.9129949577739008, total=   1.9s\n",
      "[CV] RF__max_features=0.25, RF__min_samples_leaf=500, RF__n_estimators=500 \n",
      "[CV]  RF__max_features=0.25, RF__min_samples_leaf=500, RF__n_estimators=500, score=0.9201789945542147, total=   1.9s\n",
      "[CV] RF__max_features=0.25, RF__min_samples_leaf=500, RF__n_estimators=500 \n",
      "[CV]  RF__max_features=0.25, RF__min_samples_leaf=500, RF__n_estimators=500, score=0.915399257763179, total=   2.0s\n",
      "[CV] RF__max_features=0.25, RF__min_samples_leaf=500, RF__n_estimators=500 \n",
      "[CV]  RF__max_features=0.25, RF__min_samples_leaf=500, RF__n_estimators=500, score=0.9202430837568012, total=   2.0s\n",
      "[CV] RF__max_features=0.25, RF__min_samples_leaf=500, RF__n_estimators=500 \n",
      "[CV]  RF__max_features=0.25, RF__min_samples_leaf=500, RF__n_estimators=500, score=0.9158781121777317, total=   1.9s\n",
      "[CV] RF__max_features=0.25, RF__min_samples_leaf=500, RF__n_estimators=1000 \n",
      "[CV]  RF__max_features=0.25, RF__min_samples_leaf=500, RF__n_estimators=1000, score=0.912395063384051, total=   3.8s\n",
      "[CV] RF__max_features=0.25, RF__min_samples_leaf=500, RF__n_estimators=1000 \n",
      "[CV]  RF__max_features=0.25, RF__min_samples_leaf=500, RF__n_estimators=1000, score=0.9190601288492454, total=   3.7s\n",
      "[CV] RF__max_features=0.25, RF__min_samples_leaf=500, RF__n_estimators=1000 \n",
      "[CV]  RF__max_features=0.25, RF__min_samples_leaf=500, RF__n_estimators=1000, score=0.9150530562763094, total=   3.8s\n",
      "[CV] RF__max_features=0.25, RF__min_samples_leaf=500, RF__n_estimators=1000 \n",
      "[CV]  RF__max_features=0.25, RF__min_samples_leaf=500, RF__n_estimators=1000, score=0.9190739050329789, total=   3.8s\n",
      "[CV] RF__max_features=0.25, RF__min_samples_leaf=500, RF__n_estimators=1000 \n",
      "[CV]  RF__max_features=0.25, RF__min_samples_leaf=500, RF__n_estimators=1000, score=0.9158006380504867, total=   3.8s\n",
      "[CV] RF__max_features=0.25, RF__min_samples_leaf=500, RF__n_estimators=1500 \n",
      "[CV]  RF__max_features=0.25, RF__min_samples_leaf=500, RF__n_estimators=1500, score=0.911942448455182, total=   5.5s\n",
      "[CV] RF__max_features=0.25, RF__min_samples_leaf=500, RF__n_estimators=1500 \n",
      "[CV]  RF__max_features=0.25, RF__min_samples_leaf=500, RF__n_estimators=1500, score=0.9203982155649314, total=   5.4s\n",
      "[CV] RF__max_features=0.25, RF__min_samples_leaf=500, RF__n_estimators=1500 \n",
      "[CV]  RF__max_features=0.25, RF__min_samples_leaf=500, RF__n_estimators=1500, score=0.9153555333539377, total=   5.3s\n",
      "[CV] RF__max_features=0.25, RF__min_samples_leaf=500, RF__n_estimators=1500 \n",
      "[CV]  RF__max_features=0.25, RF__min_samples_leaf=500, RF__n_estimators=1500, score=0.9193721893590361, total=   5.4s\n",
      "[CV] RF__max_features=0.25, RF__min_samples_leaf=500, RF__n_estimators=1500 \n",
      "[CV]  RF__max_features=0.25, RF__min_samples_leaf=500, RF__n_estimators=1500, score=0.916362775903985, total=   5.5s\n",
      "[CV] RF__max_features=0.5, RF__min_samples_leaf=10, RF__n_estimators=150 \n",
      "[CV]  RF__max_features=0.5, RF__min_samples_leaf=10, RF__n_estimators=150, score=0.9412995556470897, total=   2.3s\n",
      "[CV] RF__max_features=0.5, RF__min_samples_leaf=10, RF__n_estimators=150 \n",
      "[CV]  RF__max_features=0.5, RF__min_samples_leaf=10, RF__n_estimators=150, score=0.9457607687829279, total=   2.4s\n",
      "[CV] RF__max_features=0.5, RF__min_samples_leaf=10, RF__n_estimators=150 \n",
      "[CV]  RF__max_features=0.5, RF__min_samples_leaf=10, RF__n_estimators=150, score=0.9463423633222884, total=   2.4s\n",
      "[CV] RF__max_features=0.5, RF__min_samples_leaf=10, RF__n_estimators=150 \n",
      "[CV]  RF__max_features=0.5, RF__min_samples_leaf=10, RF__n_estimators=150, score=0.9449066453914471, total=   2.4s\n",
      "[CV] RF__max_features=0.5, RF__min_samples_leaf=10, RF__n_estimators=150 \n",
      "[CV]  RF__max_features=0.5, RF__min_samples_leaf=10, RF__n_estimators=150, score=0.9462101338560736, total=   2.3s\n",
      "[CV] RF__max_features=0.5, RF__min_samples_leaf=10, RF__n_estimators=500 \n",
      "[CV]  RF__max_features=0.5, RF__min_samples_leaf=10, RF__n_estimators=500, score=0.941496526958727, total=   7.6s\n",
      "[CV] RF__max_features=0.5, RF__min_samples_leaf=10, RF__n_estimators=500 \n",
      "[CV]  RF__max_features=0.5, RF__min_samples_leaf=10, RF__n_estimators=500, score=0.9454025880058554, total=   7.6s\n",
      "[CV] RF__max_features=0.5, RF__min_samples_leaf=10, RF__n_estimators=500 \n",
      "[CV]  RF__max_features=0.5, RF__min_samples_leaf=10, RF__n_estimators=500, score=0.9466466372934472, total=   7.6s\n",
      "[CV] RF__max_features=0.5, RF__min_samples_leaf=10, RF__n_estimators=500 \n",
      "[CV]  RF__max_features=0.5, RF__min_samples_leaf=10, RF__n_estimators=500, score=0.945725429876829, total=   7.5s\n",
      "[CV] RF__max_features=0.5, RF__min_samples_leaf=10, RF__n_estimators=500 \n",
      "[CV]  RF__max_features=0.5, RF__min_samples_leaf=10, RF__n_estimators=500, score=0.9474461164442138, total=   7.5s\n",
      "[CV] RF__max_features=0.5, RF__min_samples_leaf=10, RF__n_estimators=1000 \n",
      "[CV]  RF__max_features=0.5, RF__min_samples_leaf=10, RF__n_estimators=1000, score=0.9433429084939539, total=  14.9s\n",
      "[CV] RF__max_features=0.5, RF__min_samples_leaf=10, RF__n_estimators=1000 \n",
      "[CV]  RF__max_features=0.5, RF__min_samples_leaf=10, RF__n_estimators=1000, score=0.9456781116805266, total=  15.1s\n",
      "[CV] RF__max_features=0.5, RF__min_samples_leaf=10, RF__n_estimators=1000 \n",
      "[CV]  RF__max_features=0.5, RF__min_samples_leaf=10, RF__n_estimators=1000, score=0.9466957523832797, total=  15.4s\n",
      "[CV] RF__max_features=0.5, RF__min_samples_leaf=10, RF__n_estimators=1000 \n",
      "[CV]  RF__max_features=0.5, RF__min_samples_leaf=10, RF__n_estimators=1000, score=0.9466682000158126, total=  14.9s\n",
      "[CV] RF__max_features=0.5, RF__min_samples_leaf=10, RF__n_estimators=1000 \n",
      "[CV]  RF__max_features=0.5, RF__min_samples_leaf=10, RF__n_estimators=1000, score=0.9453549155832301, total=  14.8s\n",
      "[CV] RF__max_features=0.5, RF__min_samples_leaf=10, RF__n_estimators=1500 \n"
     ]
    },
    {
     "name": "stdout",
     "output_type": "stream",
     "text": [
      "[CV]  RF__max_features=0.5, RF__min_samples_leaf=10, RF__n_estimators=1500, score=0.9419263914017533, total=  22.2s\n",
      "[CV] RF__max_features=0.5, RF__min_samples_leaf=10, RF__n_estimators=1500 \n",
      "[CV]  RF__max_features=0.5, RF__min_samples_leaf=10, RF__n_estimators=1500, score=0.9452756075297025, total=  22.0s\n",
      "[CV] RF__max_features=0.5, RF__min_samples_leaf=10, RF__n_estimators=1500 \n",
      "[CV]  RF__max_features=0.5, RF__min_samples_leaf=10, RF__n_estimators=1500, score=0.9474073222213437, total=  22.6s\n",
      "[CV] RF__max_features=0.5, RF__min_samples_leaf=10, RF__n_estimators=1500 \n",
      "[CV]  RF__max_features=0.5, RF__min_samples_leaf=10, RF__n_estimators=1500, score=0.9440627043966391, total=  22.2s\n",
      "[CV] RF__max_features=0.5, RF__min_samples_leaf=10, RF__n_estimators=1500 \n",
      "[CV]  RF__max_features=0.5, RF__min_samples_leaf=10, RF__n_estimators=1500, score=0.9466035102385965, total=  21.5s\n",
      "[CV] RF__max_features=0.5, RF__min_samples_leaf=50, RF__n_estimators=150 \n",
      "[CV]  RF__max_features=0.5, RF__min_samples_leaf=50, RF__n_estimators=150, score=0.9363429432183795, total=   1.8s\n",
      "[CV] RF__max_features=0.5, RF__min_samples_leaf=50, RF__n_estimators=150 \n",
      "[CV]  RF__max_features=0.5, RF__min_samples_leaf=50, RF__n_estimators=150, score=0.9394608600651194, total=   1.9s\n",
      "[CV] RF__max_features=0.5, RF__min_samples_leaf=50, RF__n_estimators=150 \n",
      "[CV]  RF__max_features=0.5, RF__min_samples_leaf=50, RF__n_estimators=150, score=0.9419675265401174, total=   1.9s\n",
      "[CV] RF__max_features=0.5, RF__min_samples_leaf=50, RF__n_estimators=150 \n",
      "[CV]  RF__max_features=0.5, RF__min_samples_leaf=50, RF__n_estimators=150, score=0.940774389235889, total=   1.9s\n",
      "[CV] RF__max_features=0.5, RF__min_samples_leaf=50, RF__n_estimators=150 \n",
      "[CV]  RF__max_features=0.5, RF__min_samples_leaf=50, RF__n_estimators=150, score=0.9397767784215938, total=   1.9s\n",
      "[CV] RF__max_features=0.5, RF__min_samples_leaf=50, RF__n_estimators=500 \n",
      "[CV]  RF__max_features=0.5, RF__min_samples_leaf=50, RF__n_estimators=500, score=0.9369117053644449, total=   5.8s\n",
      "[CV] RF__max_features=0.5, RF__min_samples_leaf=50, RF__n_estimators=500 \n",
      "[CV]  RF__max_features=0.5, RF__min_samples_leaf=50, RF__n_estimators=500, score=0.9407701964843179, total=   5.9s\n",
      "[CV] RF__max_features=0.5, RF__min_samples_leaf=50, RF__n_estimators=500 \n",
      "[CV]  RF__max_features=0.5, RF__min_samples_leaf=50, RF__n_estimators=500, score=0.9428587857312279, total=   6.0s\n",
      "[CV] RF__max_features=0.5, RF__min_samples_leaf=50, RF__n_estimators=500 \n",
      "[CV]  RF__max_features=0.5, RF__min_samples_leaf=50, RF__n_estimators=500, score=0.9402988114148261, total=   6.0s\n",
      "[CV] RF__max_features=0.5, RF__min_samples_leaf=50, RF__n_estimators=500 \n",
      "[CV]  RF__max_features=0.5, RF__min_samples_leaf=50, RF__n_estimators=500, score=0.9409130656211864, total=   6.2s\n",
      "[CV] RF__max_features=0.5, RF__min_samples_leaf=50, RF__n_estimators=1000 \n",
      "[CV]  RF__max_features=0.5, RF__min_samples_leaf=50, RF__n_estimators=1000, score=0.9371463945868213, total=  11.8s\n",
      "[CV] RF__max_features=0.5, RF__min_samples_leaf=50, RF__n_estimators=1000 \n",
      "[CV]  RF__max_features=0.5, RF__min_samples_leaf=50, RF__n_estimators=1000, score=0.9404479535778545, total=  11.9s\n",
      "[CV] RF__max_features=0.5, RF__min_samples_leaf=50, RF__n_estimators=1000 \n",
      "[CV]  RF__max_features=0.5, RF__min_samples_leaf=50, RF__n_estimators=1000, score=0.9432840505334378, total=  12.2s\n",
      "[CV] RF__max_features=0.5, RF__min_samples_leaf=50, RF__n_estimators=1000 \n",
      "[CV]  RF__max_features=0.5, RF__min_samples_leaf=50, RF__n_estimators=1000, score=0.939845994245149, total=  12.0s\n",
      "[CV] RF__max_features=0.5, RF__min_samples_leaf=50, RF__n_estimators=1000 \n",
      "[CV]  RF__max_features=0.5, RF__min_samples_leaf=50, RF__n_estimators=1000, score=0.9413610942950215, total=  11.3s\n",
      "[CV] RF__max_features=0.5, RF__min_samples_leaf=50, RF__n_estimators=1500 \n",
      "[CV]  RF__max_features=0.5, RF__min_samples_leaf=50, RF__n_estimators=1500, score=0.9363896415840567, total=  17.5s\n",
      "[CV] RF__max_features=0.5, RF__min_samples_leaf=50, RF__n_estimators=1500 \n",
      "[CV]  RF__max_features=0.5, RF__min_samples_leaf=50, RF__n_estimators=1500, score=0.9410852518166594, total=  17.6s\n",
      "[CV] RF__max_features=0.5, RF__min_samples_leaf=50, RF__n_estimators=1500 \n",
      "[CV]  RF__max_features=0.5, RF__min_samples_leaf=50, RF__n_estimators=1500, score=0.943179830708671, total=  17.9s\n",
      "[CV] RF__max_features=0.5, RF__min_samples_leaf=50, RF__n_estimators=1500 \n",
      "[CV]  RF__max_features=0.5, RF__min_samples_leaf=50, RF__n_estimators=1500, score=0.9402724569763792, total=  17.2s\n",
      "[CV] RF__max_features=0.5, RF__min_samples_leaf=50, RF__n_estimators=1500 \n",
      "[CV]  RF__max_features=0.5, RF__min_samples_leaf=50, RF__n_estimators=1500, score=0.941925634447039, total=  16.9s\n",
      "[CV] RF__max_features=0.5, RF__min_samples_leaf=100, RF__n_estimators=150 \n",
      "[CV]  RF__max_features=0.5, RF__min_samples_leaf=100, RF__n_estimators=150, score=0.9312372552377006, total=   1.6s\n",
      "[CV] RF__max_features=0.5, RF__min_samples_leaf=100, RF__n_estimators=150 \n",
      "[CV]  RF__max_features=0.5, RF__min_samples_leaf=100, RF__n_estimators=150, score=0.9364277037856953, total=   1.6s\n",
      "[CV] RF__max_features=0.5, RF__min_samples_leaf=100, RF__n_estimators=150 \n",
      "[CV]  RF__max_features=0.5, RF__min_samples_leaf=100, RF__n_estimators=150, score=0.9370787782082337, total=   1.6s\n",
      "[CV] RF__max_features=0.5, RF__min_samples_leaf=100, RF__n_estimators=150 \n",
      "[CV]  RF__max_features=0.5, RF__min_samples_leaf=100, RF__n_estimators=150, score=0.9356688157513291, total=   1.6s\n",
      "[CV] RF__max_features=0.5, RF__min_samples_leaf=100, RF__n_estimators=150 \n",
      "[CV]  RF__max_features=0.5, RF__min_samples_leaf=100, RF__n_estimators=150, score=0.9363222731509508, total=   1.6s\n",
      "[CV] RF__max_features=0.5, RF__min_samples_leaf=100, RF__n_estimators=500 \n",
      "[CV]  RF__max_features=0.5, RF__min_samples_leaf=100, RF__n_estimators=500, score=0.9313144871501664, total=   5.1s\n",
      "[CV] RF__max_features=0.5, RF__min_samples_leaf=100, RF__n_estimators=500 \n",
      "[CV]  RF__max_features=0.5, RF__min_samples_leaf=100, RF__n_estimators=500, score=0.9374064117952884, total=   5.1s\n",
      "[CV] RF__max_features=0.5, RF__min_samples_leaf=100, RF__n_estimators=500 \n",
      "[CV]  RF__max_features=0.5, RF__min_samples_leaf=100, RF__n_estimators=500, score=0.937277634425605, total=   5.1s\n",
      "[CV] RF__max_features=0.5, RF__min_samples_leaf=100, RF__n_estimators=500 \n",
      "[CV]  RF__max_features=0.5, RF__min_samples_leaf=100, RF__n_estimators=500, score=0.934728441470386, total=   5.0s\n",
      "[CV] RF__max_features=0.5, RF__min_samples_leaf=100, RF__n_estimators=500 \n",
      "[CV]  RF__max_features=0.5, RF__min_samples_leaf=100, RF__n_estimators=500, score=0.9360532157167979, total=   5.2s\n",
      "[CV] RF__max_features=0.5, RF__min_samples_leaf=100, RF__n_estimators=1000 \n",
      "[CV]  RF__max_features=0.5, RF__min_samples_leaf=100, RF__n_estimators=1000, score=0.9319987978164322, total=  10.1s\n",
      "[CV] RF__max_features=0.5, RF__min_samples_leaf=100, RF__n_estimators=1000 \n",
      "[CV]  RF__max_features=0.5, RF__min_samples_leaf=100, RF__n_estimators=1000, score=0.9370110952185863, total=  10.2s\n",
      "[CV] RF__max_features=0.5, RF__min_samples_leaf=100, RF__n_estimators=1000 \n",
      "[CV]  RF__max_features=0.5, RF__min_samples_leaf=100, RF__n_estimators=1000, score=0.9376621696411245, total=  10.1s\n",
      "[CV] RF__max_features=0.5, RF__min_samples_leaf=100, RF__n_estimators=1000 \n",
      "[CV]  RF__max_features=0.5, RF__min_samples_leaf=100, RF__n_estimators=1000, score=0.9348721929528231, total=  10.3s\n",
      "[CV] RF__max_features=0.5, RF__min_samples_leaf=100, RF__n_estimators=1000 \n",
      "[CV]  RF__max_features=0.5, RF__min_samples_leaf=100, RF__n_estimators=1000, score=0.9358201927604333, total=   9.9s\n",
      "[CV] RF__max_features=0.5, RF__min_samples_leaf=100, RF__n_estimators=1500 \n",
      "[CV]  RF__max_features=0.5, RF__min_samples_leaf=100, RF__n_estimators=1500, score=0.932168827763256, total=  14.9s\n",
      "[CV] RF__max_features=0.5, RF__min_samples_leaf=100, RF__n_estimators=1500 \n",
      "[CV]  RF__max_features=0.5, RF__min_samples_leaf=100, RF__n_estimators=1500, score=0.9364959857398528, total=  15.3s\n",
      "[CV] RF__max_features=0.5, RF__min_samples_leaf=100, RF__n_estimators=1500 \n",
      "[CV]  RF__max_features=0.5, RF__min_samples_leaf=100, RF__n_estimators=1500, score=0.9380059752699533, total=  15.1s\n",
      "[CV] RF__max_features=0.5, RF__min_samples_leaf=100, RF__n_estimators=1500 \n"
     ]
    },
    {
     "name": "stdout",
     "output_type": "stream",
     "text": [
      "[CV]  RF__max_features=0.5, RF__min_samples_leaf=100, RF__n_estimators=1500, score=0.9344660950149382, total=  15.0s\n",
      "[CV] RF__max_features=0.5, RF__min_samples_leaf=100, RF__n_estimators=1500 \n",
      "[CV]  RF__max_features=0.5, RF__min_samples_leaf=100, RF__n_estimators=1500, score=0.9357949686259813, total=  14.8s\n",
      "[CV] RF__max_features=0.5, RF__min_samples_leaf=500, RF__n_estimators=150 \n",
      "[CV]  RF__max_features=0.5, RF__min_samples_leaf=500, RF__n_estimators=150, score=0.9111461814506908, total=   1.1s\n",
      "[CV] RF__max_features=0.5, RF__min_samples_leaf=500, RF__n_estimators=150 \n",
      "[CV]  RF__max_features=0.5, RF__min_samples_leaf=500, RF__n_estimators=150, score=0.9178478246806921, total=   1.1s\n",
      "[CV] RF__max_features=0.5, RF__min_samples_leaf=500, RF__n_estimators=150 \n",
      "[CV]  RF__max_features=0.5, RF__min_samples_leaf=500, RF__n_estimators=150, score=0.9142043235654201, total=   1.1s\n",
      "[CV] RF__max_features=0.5, RF__min_samples_leaf=500, RF__n_estimators=150 \n",
      "[CV]  RF__max_features=0.5, RF__min_samples_leaf=500, RF__n_estimators=150, score=0.9162779386995762, total=   1.1s\n",
      "[CV] RF__max_features=0.5, RF__min_samples_leaf=500, RF__n_estimators=150 \n",
      "[CV]  RF__max_features=0.5, RF__min_samples_leaf=500, RF__n_estimators=150, score=0.9166210229948014, total=   1.1s\n",
      "[CV] RF__max_features=0.5, RF__min_samples_leaf=500, RF__n_estimators=500 \n",
      "[CV]  RF__max_features=0.5, RF__min_samples_leaf=500, RF__n_estimators=500, score=0.9117460758405406, total=   3.4s\n",
      "[CV] RF__max_features=0.5, RF__min_samples_leaf=500, RF__n_estimators=500 \n",
      "[CV]  RF__max_features=0.5, RF__min_samples_leaf=500, RF__n_estimators=500, score=0.9192841415760434, total=   3.3s\n",
      "[CV] RF__max_features=0.5, RF__min_samples_leaf=500, RF__n_estimators=500 \n",
      "[CV]  RF__max_features=0.5, RF__min_samples_leaf=500, RF__n_estimators=500, score=0.9133963204412211, total=   3.4s\n",
      "[CV] RF__max_features=0.5, RF__min_samples_leaf=500, RF__n_estimators=500 \n",
      "[CV]  RF__max_features=0.5, RF__min_samples_leaf=500, RF__n_estimators=500, score=0.9162108546744387, total=   3.3s\n",
      "[CV] RF__max_features=0.5, RF__min_samples_leaf=500, RF__n_estimators=500 \n",
      "[CV]  RF__max_features=0.5, RF__min_samples_leaf=500, RF__n_estimators=500, score=0.9146667531494134, total=   3.4s\n",
      "[CV] RF__max_features=0.5, RF__min_samples_leaf=500, RF__n_estimators=1000 \n",
      "[CV]  RF__max_features=0.5, RF__min_samples_leaf=500, RF__n_estimators=1000, score=0.9116035859555265, total=   6.6s\n",
      "[CV] RF__max_features=0.5, RF__min_samples_leaf=500, RF__n_estimators=1000 \n",
      "[CV]  RF__max_features=0.5, RF__min_samples_leaf=500, RF__n_estimators=1000, score=0.9197884696935936, total=   6.5s\n",
      "[CV] RF__max_features=0.5, RF__min_samples_leaf=500, RF__n_estimators=1000 \n",
      "[CV]  RF__max_features=0.5, RF__min_samples_leaf=500, RF__n_estimators=1000, score=0.9151357133787108, total=   6.5s\n",
      "[CV] RF__max_features=0.5, RF__min_samples_leaf=500, RF__n_estimators=1000 \n",
      "[CV]  RF__max_features=0.5, RF__min_samples_leaf=500, RF__n_estimators=1000, score=0.9174758677198859, total=   6.5s\n",
      "[CV] RF__max_features=0.5, RF__min_samples_leaf=500, RF__n_estimators=1000 \n",
      "[CV]  RF__max_features=0.5, RF__min_samples_leaf=500, RF__n_estimators=1000, score=0.914043356683675, total=   6.4s\n",
      "[CV] RF__max_features=0.5, RF__min_samples_leaf=500, RF__n_estimators=1500 \n",
      "[CV]  RF__max_features=0.5, RF__min_samples_leaf=500, RF__n_estimators=1500, score=0.9110324290214776, total=   9.7s\n",
      "[CV] RF__max_features=0.5, RF__min_samples_leaf=500, RF__n_estimators=1500 \n",
      "[CV]  RF__max_features=0.5, RF__min_samples_leaf=500, RF__n_estimators=1500, score=0.9188445016255896, total=   9.6s\n",
      "[CV] RF__max_features=0.5, RF__min_samples_leaf=500, RF__n_estimators=1500 \n",
      "[CV]  RF__max_features=0.5, RF__min_samples_leaf=500, RF__n_estimators=1500, score=0.9151980056877669, total=   9.6s\n",
      "[CV] RF__max_features=0.5, RF__min_samples_leaf=500, RF__n_estimators=1500 \n",
      "[CV]  RF__max_features=0.5, RF__min_samples_leaf=500, RF__n_estimators=1500, score=0.9179730082633144, total=   9.7s\n",
      "[CV] RF__max_features=0.5, RF__min_samples_leaf=500, RF__n_estimators=1500 \n",
      "[CV]  RF__max_features=0.5, RF__min_samples_leaf=500, RF__n_estimators=1500, score=0.9137100377641327, total=   9.8s\n",
      "[CV] RF__max_features=0.75, RF__min_samples_leaf=10, RF__n_estimators=150 \n",
      "[CV]  RF__max_features=0.75, RF__min_samples_leaf=10, RF__n_estimators=150, score=0.9413552344677045, total=   3.2s\n",
      "[CV] RF__max_features=0.75, RF__min_samples_leaf=10, RF__n_estimators=150 \n",
      "[CV]  RF__max_features=0.75, RF__min_samples_leaf=10, RF__n_estimators=150, score=0.9455074067951323, total=   3.4s\n",
      "[CV] RF__max_features=0.75, RF__min_samples_leaf=10, RF__n_estimators=150 \n",
      "[CV]  RF__max_features=0.75, RF__min_samples_leaf=10, RF__n_estimators=150, score=0.9461968149463207, total=   3.4s\n",
      "[CV] RF__max_features=0.75, RF__min_samples_leaf=10, RF__n_estimators=150 \n",
      "[CV]  RF__max_features=0.75, RF__min_samples_leaf=10, RF__n_estimators=150, score=0.9450138600387651, total=   3.4s\n",
      "[CV] RF__max_features=0.75, RF__min_samples_leaf=10, RF__n_estimators=150 \n",
      "[CV]  RF__max_features=0.75, RF__min_samples_leaf=10, RF__n_estimators=150, score=0.9447789645132464, total=   3.3s\n",
      "[CV] RF__max_features=0.75, RF__min_samples_leaf=10, RF__n_estimators=500 \n",
      "[CV]  RF__max_features=0.75, RF__min_samples_leaf=10, RF__n_estimators=500, score=0.9415336461724702, total=  11.0s\n",
      "[CV] RF__max_features=0.75, RF__min_samples_leaf=10, RF__n_estimators=500 \n",
      "[CV]  RF__max_features=0.75, RF__min_samples_leaf=10, RF__n_estimators=500, score=0.9445245060339684, total=  10.7s\n",
      "[CV] RF__max_features=0.75, RF__min_samples_leaf=10, RF__n_estimators=500 \n",
      "[CV]  RF__max_features=0.75, RF__min_samples_leaf=10, RF__n_estimators=500, score=0.9469293485422402, total=  10.7s\n",
      "[CV] RF__max_features=0.75, RF__min_samples_leaf=10, RF__n_estimators=500 \n",
      "[CV]  RF__max_features=0.75, RF__min_samples_leaf=10, RF__n_estimators=500, score=0.9438866088306536, total=  10.6s\n",
      "[CV] RF__max_features=0.75, RF__min_samples_leaf=10, RF__n_estimators=500 \n",
      "[CV]  RF__max_features=0.75, RF__min_samples_leaf=10, RF__n_estimators=500, score=0.9442372461971615, total=  10.5s\n",
      "[CV] RF__max_features=0.75, RF__min_samples_leaf=10, RF__n_estimators=1000 \n",
      "[CV]  RF__max_features=0.75, RF__min_samples_leaf=10, RF__n_estimators=1000, score=0.9418509555802751, total=  21.7s\n",
      "[CV] RF__max_features=0.75, RF__min_samples_leaf=10, RF__n_estimators=1000 \n",
      "[CV]  RF__max_features=0.75, RF__min_samples_leaf=10, RF__n_estimators=1000, score=0.9436763722875892, total=  21.3s\n",
      "[CV] RF__max_features=0.75, RF__min_samples_leaf=10, RF__n_estimators=1000 \n",
      "[CV]  RF__max_features=0.75, RF__min_samples_leaf=10, RF__n_estimators=1000, score=0.9461363195307951, total=  22.0s\n",
      "[CV] RF__max_features=0.75, RF__min_samples_leaf=10, RF__n_estimators=1000 \n",
      "[CV]  RF__max_features=0.75, RF__min_samples_leaf=10, RF__n_estimators=1000, score=0.9454714689245233, total=  21.4s\n",
      "[CV] RF__max_features=0.75, RF__min_samples_leaf=10, RF__n_estimators=1000 \n",
      "[CV]  RF__max_features=0.75, RF__min_samples_leaf=10, RF__n_estimators=1000, score=0.9461644901842083, total=  21.3s\n",
      "[CV] RF__max_features=0.75, RF__min_samples_leaf=10, RF__n_estimators=1500 \n",
      "[CV]  RF__max_features=0.75, RF__min_samples_leaf=10, RF__n_estimators=1500, score=0.9424747978499592, total=  31.7s\n",
      "[CV] RF__max_features=0.75, RF__min_samples_leaf=10, RF__n_estimators=1500 \n",
      "[CV]  RF__max_features=0.75, RF__min_samples_leaf=10, RF__n_estimators=1500, score=0.9433864734646743, total=  32.1s\n",
      "[CV] RF__max_features=0.75, RF__min_samples_leaf=10, RF__n_estimators=1500 \n",
      "[CV]  RF__max_features=0.75, RF__min_samples_leaf=10, RF__n_estimators=1500, score=0.9459566301777487, total=  32.2s\n",
      "[CV] RF__max_features=0.75, RF__min_samples_leaf=10, RF__n_estimators=1500 \n",
      "[CV]  RF__max_features=0.75, RF__min_samples_leaf=10, RF__n_estimators=1500, score=0.9436637940328758, total=  32.1s\n",
      "[CV] RF__max_features=0.75, RF__min_samples_leaf=10, RF__n_estimators=1500 \n",
      "[CV]  RF__max_features=0.75, RF__min_samples_leaf=10, RF__n_estimators=1500, score=0.9455531052110661, total=  31.4s\n",
      "[CV] RF__max_features=0.75, RF__min_samples_leaf=50, RF__n_estimators=150 \n",
      "[CV]  RF__max_features=0.75, RF__min_samples_leaf=50, RF__n_estimators=150, score=0.9354257394207246, total=   2.6s\n",
      "[CV] RF__max_features=0.75, RF__min_samples_leaf=50, RF__n_estimators=150 \n"
     ]
    },
    {
     "name": "stdout",
     "output_type": "stream",
     "text": [
      "[CV]  RF__max_features=0.75, RF__min_samples_leaf=50, RF__n_estimators=150, score=0.9382785041220737, total=   2.8s\n",
      "[CV] RF__max_features=0.75, RF__min_samples_leaf=50, RF__n_estimators=150 \n",
      "[CV]  RF__max_features=0.75, RF__min_samples_leaf=50, RF__n_estimators=150, score=0.9422610191500934, total=   2.7s\n",
      "[CV] RF__max_features=0.75, RF__min_samples_leaf=50, RF__n_estimators=150 \n",
      "[CV]  RF__max_features=0.75, RF__min_samples_leaf=50, RF__n_estimators=150, score=0.937551960171256, total=   2.6s\n",
      "[CV] RF__max_features=0.75, RF__min_samples_leaf=50, RF__n_estimators=150 \n",
      "[CV]  RF__max_features=0.75, RF__min_samples_leaf=50, RF__n_estimators=150, score=0.9401545398637416, total=   2.7s\n",
      "[CV] RF__max_features=0.75, RF__min_samples_leaf=50, RF__n_estimators=500 \n",
      "[CV]  RF__max_features=0.75, RF__min_samples_leaf=50, RF__n_estimators=500, score=0.9349312157021458, total=   8.5s\n",
      "[CV] RF__max_features=0.75, RF__min_samples_leaf=50, RF__n_estimators=500 \n",
      "[CV]  RF__max_features=0.75, RF__min_samples_leaf=50, RF__n_estimators=500, score=0.938179076013388, total=   8.6s\n",
      "[CV] RF__max_features=0.75, RF__min_samples_leaf=50, RF__n_estimators=500 \n",
      "[CV]  RF__max_features=0.75, RF__min_samples_leaf=50, RF__n_estimators=500, score=0.942140028319042, total=   8.6s\n",
      "[CV] RF__max_features=0.75, RF__min_samples_leaf=50, RF__n_estimators=500 \n",
      "[CV]  RF__max_features=0.75, RF__min_samples_leaf=50, RF__n_estimators=500, score=0.9374118024758796, total=   8.5s\n",
      "[CV] RF__max_features=0.75, RF__min_samples_leaf=50, RF__n_estimators=500 \n",
      "[CV]  RF__max_features=0.75, RF__min_samples_leaf=50, RF__n_estimators=500, score=0.9388879279694812, total=   8.6s\n",
      "[CV] RF__max_features=0.75, RF__min_samples_leaf=50, RF__n_estimators=1000 \n",
      "[CV]  RF__max_features=0.75, RF__min_samples_leaf=50, RF__n_estimators=1000, score=0.9365249471051205, total=  17.1s\n",
      "[CV] RF__max_features=0.75, RF__min_samples_leaf=50, RF__n_estimators=1000 \n",
      "[CV]  RF__max_features=0.75, RF__min_samples_leaf=50, RF__n_estimators=1000, score=0.9388235618263147, total=  17.0s\n",
      "[CV] RF__max_features=0.75, RF__min_samples_leaf=50, RF__n_estimators=1000 \n",
      "[CV]  RF__max_features=0.75, RF__min_samples_leaf=50, RF__n_estimators=1000, score=0.9440219748099485, total=  17.0s\n",
      "[CV] RF__max_features=0.75, RF__min_samples_leaf=50, RF__n_estimators=1000 \n",
      "[CV]  RF__max_features=0.75, RF__min_samples_leaf=50, RF__n_estimators=1000, score=0.9386480652248392, total=  17.1s\n",
      "[CV] RF__max_features=0.75, RF__min_samples_leaf=50, RF__n_estimators=1000 \n",
      "[CV]  RF__max_features=0.75, RF__min_samples_leaf=50, RF__n_estimators=1000, score=0.9390885198958363, total=  17.3s\n",
      "[CV] RF__max_features=0.75, RF__min_samples_leaf=50, RF__n_estimators=1500 \n",
      "[CV]  RF__max_features=0.75, RF__min_samples_leaf=50, RF__n_estimators=1500, score=0.9362411647290835, total=  25.2s\n",
      "[CV] RF__max_features=0.75, RF__min_samples_leaf=50, RF__n_estimators=1500 \n",
      "[CV]  RF__max_features=0.75, RF__min_samples_leaf=50, RF__n_estimators=1500, score=0.9376328203801269, total=  25.0s\n",
      "[CV] RF__max_features=0.75, RF__min_samples_leaf=50, RF__n_estimators=1500 \n",
      "[CV]  RF__max_features=0.75, RF__min_samples_leaf=50, RF__n_estimators=1500, score=0.9419291928114675, total=  25.1s\n",
      "[CV] RF__max_features=0.75, RF__min_samples_leaf=50, RF__n_estimators=1500 \n",
      "[CV]  RF__max_features=0.75, RF__min_samples_leaf=50, RF__n_estimators=1500, score=0.9374884699331796, total=  25.7s\n",
      "[CV] RF__max_features=0.75, RF__min_samples_leaf=50, RF__n_estimators=1500 \n",
      "[CV]  RF__max_features=0.75, RF__min_samples_leaf=50, RF__n_estimators=1500, score=0.9388410831483563, total=  24.9s\n",
      "[CV] RF__max_features=0.75, RF__min_samples_leaf=100, RF__n_estimators=150 \n",
      "[CV]  RF__max_features=0.75, RF__min_samples_leaf=100, RF__n_estimators=150, score=0.9305146279637, total=   2.3s\n",
      "[CV] RF__max_features=0.75, RF__min_samples_leaf=100, RF__n_estimators=150 \n",
      "[CV]  RF__max_features=0.75, RF__min_samples_leaf=100, RF__n_estimators=150, score=0.934132471782782, total=   2.3s\n",
      "[CV] RF__max_features=0.75, RF__min_samples_leaf=100, RF__n_estimators=150 \n",
      "[CV]  RF__max_features=0.75, RF__min_samples_leaf=100, RF__n_estimators=150, score=0.9367697125209937, total=   2.3s\n",
      "[CV] RF__max_features=0.75, RF__min_samples_leaf=100, RF__n_estimators=150 \n",
      "[CV]  RF__max_features=0.75, RF__min_samples_leaf=100, RF__n_estimators=150, score=0.9332981142201362, total=   2.3s\n",
      "[CV] RF__max_features=0.75, RF__min_samples_leaf=100, RF__n_estimators=150 \n",
      "[CV]  RF__max_features=0.75, RF__min_samples_leaf=100, RF__n_estimators=150, score=0.9342262676929286, total=   2.3s\n",
      "[CV] RF__max_features=0.75, RF__min_samples_leaf=100, RF__n_estimators=500 \n",
      "[CV]  RF__max_features=0.75, RF__min_samples_leaf=100, RF__n_estimators=500, score=0.9303918950795491, total=   7.2s\n",
      "[CV] RF__max_features=0.75, RF__min_samples_leaf=100, RF__n_estimators=500 \n",
      "[CV]  RF__max_features=0.75, RF__min_samples_leaf=100, RF__n_estimators=500, score=0.9332711608171792, total=   7.5s\n",
      "[CV] RF__max_features=0.75, RF__min_samples_leaf=100, RF__n_estimators=500 \n",
      "[CV]  RF__max_features=0.75, RF__min_samples_leaf=100, RF__n_estimators=500, score=0.9362198631006716, total=   7.3s\n",
      "[CV] RF__max_features=0.75, RF__min_samples_leaf=100, RF__n_estimators=500 \n",
      "[CV]  RF__max_features=0.75, RF__min_samples_leaf=100, RF__n_estimators=500, score=0.9328309219022154, total=   7.6s\n",
      "[CV] RF__max_features=0.75, RF__min_samples_leaf=100, RF__n_estimators=500 \n",
      "[CV]  RF__max_features=0.75, RF__min_samples_leaf=100, RF__n_estimators=500, score=0.9345697963811774, total=   8.0s\n",
      "[CV] RF__max_features=0.75, RF__min_samples_leaf=100, RF__n_estimators=1000 \n",
      "[CV]  RF__max_features=0.75, RF__min_samples_leaf=100, RF__n_estimators=1000, score=0.9304134481713997, total=  15.4s\n",
      "[CV] RF__max_features=0.75, RF__min_samples_leaf=100, RF__n_estimators=1000 \n",
      "[CV]  RF__max_features=0.75, RF__min_samples_leaf=100, RF__n_estimators=1000, score=0.9345828930944184, total=  15.8s\n",
      "[CV] RF__max_features=0.75, RF__min_samples_leaf=100, RF__n_estimators=1000 \n",
      "[CV]  RF__max_features=0.75, RF__min_samples_leaf=100, RF__n_estimators=1000, score=0.9382263942096902, total=  15.2s\n",
      "[CV] RF__max_features=0.75, RF__min_samples_leaf=100, RF__n_estimators=1000 \n",
      "[CV]  RF__max_features=0.75, RF__min_samples_leaf=100, RF__n_estimators=1000, score=0.9333029059362176, total=  15.0s\n",
      "[CV] RF__max_features=0.75, RF__min_samples_leaf=100, RF__n_estimators=1000 \n",
      "[CV]  RF__max_features=0.75, RF__min_samples_leaf=100, RF__n_estimators=1000, score=0.9340376872591695, total=  14.3s\n",
      "[CV] RF__max_features=0.75, RF__min_samples_leaf=100, RF__n_estimators=1500 \n",
      "[CV]  RF__max_features=0.75, RF__min_samples_leaf=100, RF__n_estimators=1500, score=0.9295543179823431, total=  21.6s\n",
      "[CV] RF__max_features=0.75, RF__min_samples_leaf=100, RF__n_estimators=1500 \n",
      "[CV]  RF__max_features=0.75, RF__min_samples_leaf=100, RF__n_estimators=1500, score=0.9340426271062587, total=  22.1s\n",
      "[CV] RF__max_features=0.75, RF__min_samples_leaf=100, RF__n_estimators=1500 \n",
      "[CV]  RF__max_features=0.75, RF__min_samples_leaf=100, RF__n_estimators=1500, score=0.9355849607199075, total=  21.6s\n",
      "[CV] RF__max_features=0.75, RF__min_samples_leaf=100, RF__n_estimators=1500 \n",
      "[CV]  RF__max_features=0.75, RF__min_samples_leaf=100, RF__n_estimators=1500, score=0.9323134165654418, total=  22.3s\n",
      "[CV] RF__max_features=0.75, RF__min_samples_leaf=100, RF__n_estimators=1500 \n",
      "[CV]  RF__max_features=0.75, RF__min_samples_leaf=100, RF__n_estimators=1500, score=0.9322780035938387, total=  21.2s\n",
      "[CV] RF__max_features=0.75, RF__min_samples_leaf=500, RF__n_estimators=150 \n",
      "[CV]  RF__max_features=0.75, RF__min_samples_leaf=500, RF__n_estimators=150, score=0.9057513228210123, total=   1.5s\n",
      "[CV] RF__max_features=0.75, RF__min_samples_leaf=500, RF__n_estimators=150 \n",
      "[CV]  RF__max_features=0.75, RF__min_samples_leaf=500, RF__n_estimators=150, score=0.9138419500367765, total=   1.5s\n",
      "[CV] RF__max_features=0.75, RF__min_samples_leaf=500, RF__n_estimators=150 \n",
      "[CV]  RF__max_features=0.75, RF__min_samples_leaf=500, RF__n_estimators=150, score=0.9091921885444443, total=   1.5s\n",
      "[CV] RF__max_features=0.75, RF__min_samples_leaf=500, RF__n_estimators=150 \n",
      "[CV]  RF__max_features=0.75, RF__min_samples_leaf=500, RF__n_estimators=150, score=0.9099971968460925, total=   1.6s\n",
      "[CV] RF__max_features=0.75, RF__min_samples_leaf=500, RF__n_estimators=150 \n"
     ]
    },
    {
     "name": "stdout",
     "output_type": "stream",
     "text": [
      "[CV]  RF__max_features=0.75, RF__min_samples_leaf=500, RF__n_estimators=150, score=0.9091889119509547, total=   1.5s\n",
      "[CV] RF__max_features=0.75, RF__min_samples_leaf=500, RF__n_estimators=500 \n",
      "[CV]  RF__max_features=0.75, RF__min_samples_leaf=500, RF__n_estimators=500, score=0.9064571865791293, total=   4.8s\n",
      "[CV] RF__max_features=0.75, RF__min_samples_leaf=500, RF__n_estimators=500 \n",
      "[CV]  RF__max_features=0.75, RF__min_samples_leaf=500, RF__n_estimators=500, score=0.9138988516652412, total=   4.7s\n",
      "[CV] RF__max_features=0.75, RF__min_samples_leaf=500, RF__n_estimators=500 \n",
      "[CV]  RF__max_features=0.75, RF__min_samples_leaf=500, RF__n_estimators=500, score=0.9085087700383576, total=   4.8s\n",
      "[CV] RF__max_features=0.75, RF__min_samples_leaf=500, RF__n_estimators=500 \n",
      "[CV]  RF__max_features=0.75, RF__min_samples_leaf=500, RF__n_estimators=500, score=0.9126937350708096, total=   4.7s\n",
      "[CV] RF__max_features=0.75, RF__min_samples_leaf=500, RF__n_estimators=500 \n",
      "[CV]  RF__max_features=0.75, RF__min_samples_leaf=500, RF__n_estimators=500, score=0.9092231447048537, total=   4.7s\n",
      "[CV] RF__max_features=0.75, RF__min_samples_leaf=500, RF__n_estimators=1000 \n",
      "[CV]  RF__max_features=0.75, RF__min_samples_leaf=500, RF__n_estimators=1000, score=0.9052508121324748, total=   9.5s\n",
      "[CV] RF__max_features=0.75, RF__min_samples_leaf=500, RF__n_estimators=1000 \n",
      "[CV]  RF__max_features=0.75, RF__min_samples_leaf=500, RF__n_estimators=1000, score=0.9138946589136702, total=   9.2s\n",
      "[CV] RF__max_features=0.75, RF__min_samples_leaf=500, RF__n_estimators=1000 \n",
      "[CV]  RF__max_features=0.75, RF__min_samples_leaf=500, RF__n_estimators=1000, score=0.9079828791984417, total=   9.3s\n",
      "[CV] RF__max_features=0.75, RF__min_samples_leaf=500, RF__n_estimators=1000 \n",
      "[CV]  RF__max_features=0.75, RF__min_samples_leaf=500, RF__n_estimators=1000, score=0.9130351448415979, total=   9.3s\n",
      "[CV] RF__max_features=0.75, RF__min_samples_leaf=500, RF__n_estimators=1000 \n",
      "[CV]  RF__max_features=0.75, RF__min_samples_leaf=500, RF__n_estimators=1000, score=0.9088543918821529, total=   9.3s\n",
      "[CV] RF__max_features=0.75, RF__min_samples_leaf=500, RF__n_estimators=1500 \n",
      "[CV]  RF__max_features=0.75, RF__min_samples_leaf=500, RF__n_estimators=1500, score=0.9073564294669081, total=  14.1s\n",
      "[CV] RF__max_features=0.75, RF__min_samples_leaf=500, RF__n_estimators=1500 \n",
      "[CV]  RF__max_features=0.75, RF__min_samples_leaf=500, RF__n_estimators=1500, score=0.9151201403014467, total=  14.2s\n",
      "[CV] RF__max_features=0.75, RF__min_samples_leaf=500, RF__n_estimators=1500 \n",
      "[CV]  RF__max_features=0.75, RF__min_samples_leaf=500, RF__n_estimators=1500, score=0.9087016366106275, total=  13.9s\n",
      "[CV] RF__max_features=0.75, RF__min_samples_leaf=500, RF__n_estimators=1500 \n",
      "[CV]  RF__max_features=0.75, RF__min_samples_leaf=500, RF__n_estimators=1500, score=0.9117066415580745, total=  14.0s\n",
      "[CV] RF__max_features=0.75, RF__min_samples_leaf=500, RF__n_estimators=1500 \n",
      "[CV]  RF__max_features=0.75, RF__min_samples_leaf=500, RF__n_estimators=1500, score=0.9087492913219368, total=  13.9s\n",
      "[CV] RF__max_features=None, RF__min_samples_leaf=10, RF__n_estimators=150 \n",
      "[CV]  RF__max_features=None, RF__min_samples_leaf=10, RF__n_estimators=150, score=0.9383803090952849, total=   4.4s\n",
      "[CV] RF__max_features=None, RF__min_samples_leaf=10, RF__n_estimators=150 \n",
      "[CV]  RF__max_features=None, RF__min_samples_leaf=10, RF__n_estimators=150, score=0.9409558754824658, total=   4.4s\n",
      "[CV] RF__max_features=None, RF__min_samples_leaf=10, RF__n_estimators=150 \n",
      "[CV]  RF__max_features=None, RF__min_samples_leaf=10, RF__n_estimators=150, score=0.9445071360631738, total=   4.4s\n",
      "[CV] RF__max_features=None, RF__min_samples_leaf=10, RF__n_estimators=150 \n",
      "[CV]  RF__max_features=None, RF__min_samples_leaf=10, RF__n_estimators=150, score=0.9419872923689525, total=   4.4s\n",
      "[CV] RF__max_features=None, RF__min_samples_leaf=10, RF__n_estimators=150 \n",
      "[CV]  RF__max_features=None, RF__min_samples_leaf=10, RF__n_estimators=150, score=0.9416962149384531, total=   4.3s\n",
      "[CV] RF__max_features=None, RF__min_samples_leaf=10, RF__n_estimators=500 \n",
      "[CV]  RF__max_features=None, RF__min_samples_leaf=10, RF__n_estimators=500, score=0.9383294198506372, total=  14.7s\n",
      "[CV] RF__max_features=None, RF__min_samples_leaf=10, RF__n_estimators=500 \n",
      "[CV]  RF__max_features=None, RF__min_samples_leaf=10, RF__n_estimators=500, score=0.9398148480906209, total=  15.3s\n",
      "[CV] RF__max_features=None, RF__min_samples_leaf=10, RF__n_estimators=500 \n",
      "[CV]  RF__max_features=None, RF__min_samples_leaf=10, RF__n_estimators=500, score=0.9424131561356726, total=  15.3s\n",
      "[CV] RF__max_features=None, RF__min_samples_leaf=10, RF__n_estimators=500 \n",
      "[CV]  RF__max_features=None, RF__min_samples_leaf=10, RF__n_estimators=500, score=0.9399100834477355, total=  14.9s\n",
      "[CV] RF__max_features=None, RF__min_samples_leaf=10, RF__n_estimators=500 \n",
      "[CV]  RF__max_features=None, RF__min_samples_leaf=10, RF__n_estimators=500, score=0.9405575254403413, total=  14.9s\n",
      "[CV] RF__max_features=None, RF__min_samples_leaf=10, RF__n_estimators=1000 \n",
      "[CV]  RF__max_features=None, RF__min_samples_leaf=10, RF__n_estimators=1000, score=0.9360112650826741, total=  28.8s\n",
      "[CV] RF__max_features=None, RF__min_samples_leaf=10, RF__n_estimators=1000 \n",
      "[CV]  RF__max_features=None, RF__min_samples_leaf=10, RF__n_estimators=1000, score=0.9412553577375432, total=  29.1s\n",
      "[CV] RF__max_features=None, RF__min_samples_leaf=10, RF__n_estimators=1000 \n",
      "[CV]  RF__max_features=None, RF__min_samples_leaf=10, RF__n_estimators=1000, score=0.9428336292218013, total=  29.9s\n",
      "[CV] RF__max_features=None, RF__min_samples_leaf=10, RF__n_estimators=1000 \n",
      "[CV]  RF__max_features=None, RF__min_samples_leaf=10, RF__n_estimators=1000, score=0.9397214096270369, total=  29.3s\n",
      "[CV] RF__max_features=None, RF__min_samples_leaf=10, RF__n_estimators=1000 \n",
      "[CV]  RF__max_features=None, RF__min_samples_leaf=10, RF__n_estimators=1000, score=0.9395809910922772, total=  28.0s\n",
      "[CV] RF__max_features=None, RF__min_samples_leaf=10, RF__n_estimators=1500 \n",
      "[CV]  RF__max_features=None, RF__min_samples_leaf=10, RF__n_estimators=1500, score=0.9383509729424878, total=  44.1s\n",
      "[CV] RF__max_features=None, RF__min_samples_leaf=10, RF__n_estimators=1500 \n",
      "[CV]  RF__max_features=None, RF__min_samples_leaf=10, RF__n_estimators=1500, score=0.940295217627765, total=  43.0s\n",
      "[CV] RF__max_features=None, RF__min_samples_leaf=10, RF__n_estimators=1500 \n",
      "[CV]  RF__max_features=None, RF__min_samples_leaf=10, RF__n_estimators=1500, score=0.9440495271774157, total=  43.6s\n",
      "[CV] RF__max_features=None, RF__min_samples_leaf=10, RF__n_estimators=1500 \n",
      "[CV]  RF__max_features=None, RF__min_samples_leaf=10, RF__n_estimators=1500, score=0.9414368439841202, total=  43.0s\n",
      "[CV] RF__max_features=None, RF__min_samples_leaf=10, RF__n_estimators=1500 \n",
      "[CV]  RF__max_features=None, RF__min_samples_leaf=10, RF__n_estimators=1500, score=0.9412517897123969, total=  42.7s\n",
      "[CV] RF__max_features=None, RF__min_samples_leaf=50, RF__n_estimators=150 \n",
      "[CV]  RF__max_features=None, RF__min_samples_leaf=50, RF__n_estimators=150, score=0.9330908211368778, total=   3.3s\n",
      "[CV] RF__max_features=None, RF__min_samples_leaf=50, RF__n_estimators=150 \n",
      "[CV]  RF__max_features=None, RF__min_samples_leaf=50, RF__n_estimators=150, score=0.9347823482763, total=   3.5s\n",
      "[CV] RF__max_features=None, RF__min_samples_leaf=50, RF__n_estimators=150 \n",
      "[CV]  RF__max_features=None, RF__min_samples_leaf=50, RF__n_estimators=150, score=0.9411673099545507, total=   3.5s\n",
      "[CV] RF__max_features=None, RF__min_samples_leaf=50, RF__n_estimators=150 \n",
      "[CV]  RF__max_features=None, RF__min_samples_leaf=50, RF__n_estimators=150, score=0.9351800607110428, total=   3.4s\n",
      "[CV] RF__max_features=None, RF__min_samples_leaf=50, RF__n_estimators=150 \n",
      "[CV]  RF__max_features=None, RF__min_samples_leaf=50, RF__n_estimators=150, score=0.9359018709100868, total=   3.4s\n",
      "[CV] RF__max_features=None, RF__min_samples_leaf=50, RF__n_estimators=500 \n",
      "[CV]  RF__max_features=None, RF__min_samples_leaf=50, RF__n_estimators=500, score=0.9339098386272118, total=  11.3s\n",
      "[CV] RF__max_features=None, RF__min_samples_leaf=50, RF__n_estimators=500 \n",
      "[CV]  RF__max_features=None, RF__min_samples_leaf=50, RF__n_estimators=500, score=0.9345002359920169, total=  11.4s\n",
      "[CV] RF__max_features=None, RF__min_samples_leaf=50, RF__n_estimators=500 \n"
     ]
    },
    {
     "name": "stdout",
     "output_type": "stream",
     "text": [
      "[CV]  RF__max_features=None, RF__min_samples_leaf=50, RF__n_estimators=500, score=0.9410115791819103, total=  11.3s\n",
      "[CV] RF__max_features=None, RF__min_samples_leaf=50, RF__n_estimators=500 \n",
      "[CV]  RF__max_features=None, RF__min_samples_leaf=50, RF__n_estimators=500, score=0.9333651982452736, total=  11.0s\n",
      "[CV] RF__max_features=None, RF__min_samples_leaf=50, RF__n_estimators=500 \n",
      "[CV]  RF__max_features=None, RF__min_samples_leaf=50, RF__n_estimators=500, score=0.9366633995406805, total=  10.9s\n",
      "[CV] RF__max_features=None, RF__min_samples_leaf=50, RF__n_estimators=1000 \n",
      "[CV]  RF__max_features=None, RF__min_samples_leaf=50, RF__n_estimators=1000, score=0.9332572589017263, total=  22.3s\n",
      "[CV] RF__max_features=None, RF__min_samples_leaf=50, RF__n_estimators=1000 \n",
      "[CV]  RF__max_features=None, RF__min_samples_leaf=50, RF__n_estimators=1000, score=0.9364289017147156, total=  22.6s\n",
      "[CV] RF__max_features=None, RF__min_samples_leaf=50, RF__n_estimators=1000 \n",
      "[CV]  RF__max_features=None, RF__min_samples_leaf=50, RF__n_estimators=1000, score=0.9395261471967263, total=  22.4s\n",
      "[CV] RF__max_features=None, RF__min_samples_leaf=50, RF__n_estimators=1000 \n",
      "[CV]  RF__max_features=None, RF__min_samples_leaf=50, RF__n_estimators=1000, score=0.9341031225217843, total=  22.3s\n",
      "[CV] RF__max_features=None, RF__min_samples_leaf=50, RF__n_estimators=1000 \n",
      "[CV]  RF__max_features=None, RF__min_samples_leaf=50, RF__n_estimators=1000, score=0.935709687028549, total=  22.2s\n",
      "[CV] RF__max_features=None, RF__min_samples_leaf=50, RF__n_estimators=1500 \n",
      "[CV]  RF__max_features=None, RF__min_samples_leaf=50, RF__n_estimators=1500, score=0.9328980407042115, total=  33.2s\n",
      "[CV] RF__max_features=None, RF__min_samples_leaf=50, RF__n_estimators=1500 \n",
      "[CV]  RF__max_features=None, RF__min_samples_leaf=50, RF__n_estimators=1500, score=0.9351746700304514, total=  33.8s\n",
      "[CV] RF__max_features=None, RF__min_samples_leaf=50, RF__n_estimators=1500 \n",
      "[CV]  RF__max_features=None, RF__min_samples_leaf=50, RF__n_estimators=1500, score=0.939382395714289, total=  34.0s\n",
      "[CV] RF__max_features=None, RF__min_samples_leaf=50, RF__n_estimators=1500 \n",
      "[CV]  RF__max_features=None, RF__min_samples_leaf=50, RF__n_estimators=1500, score=0.9329938402489776, total=  33.7s\n",
      "[CV] RF__max_features=None, RF__min_samples_leaf=50, RF__n_estimators=1500 \n",
      "[CV]  RF__max_features=None, RF__min_samples_leaf=50, RF__n_estimators=1500, score=0.9372843937078997, total=  32.8s\n",
      "[CV] RF__max_features=None, RF__min_samples_leaf=100, RF__n_estimators=150 \n",
      "[CV]  RF__max_features=None, RF__min_samples_leaf=100, RF__n_estimators=150, score=0.9262261613823672, total=   2.9s\n",
      "[CV] RF__max_features=None, RF__min_samples_leaf=100, RF__n_estimators=150 \n",
      "[CV]  RF__max_features=None, RF__min_samples_leaf=100, RF__n_estimators=150, score=0.9269868251766348, total=   3.0s\n",
      "[CV] RF__max_features=None, RF__min_samples_leaf=100, RF__n_estimators=150 \n",
      "[CV]  RF__max_features=None, RF__min_samples_leaf=100, RF__n_estimators=150, score=0.9325224551794856, total=   3.0s\n",
      "[CV] RF__max_features=None, RF__min_samples_leaf=100, RF__n_estimators=150 \n",
      "[CV]  RF__max_features=None, RF__min_samples_leaf=100, RF__n_estimators=150, score=0.92828358334112, total=   2.9s\n",
      "[CV] RF__max_features=None, RF__min_samples_leaf=100, RF__n_estimators=150 \n",
      "[CV]  RF__max_features=None, RF__min_samples_leaf=100, RF__n_estimators=150, score=0.9293862367513238, total=   2.9s\n",
      "[CV] RF__max_features=None, RF__min_samples_leaf=100, RF__n_estimators=500 \n",
      "[CV]  RF__max_features=None, RF__min_samples_leaf=100, RF__n_estimators=500, score=0.927072718934511, total=   9.6s\n",
      "[CV] RF__max_features=None, RF__min_samples_leaf=100, RF__n_estimators=500 \n",
      "[CV]  RF__max_features=None, RF__min_samples_leaf=100, RF__n_estimators=500, score=0.9254031630117852, total=   9.7s\n",
      "[CV] RF__max_features=None, RF__min_samples_leaf=100, RF__n_estimators=500 \n",
      "[CV]  RF__max_features=None, RF__min_samples_leaf=100, RF__n_estimators=500, score=0.9330609242741149, total=   9.6s\n",
      "[CV] RF__max_features=None, RF__min_samples_leaf=100, RF__n_estimators=500 \n",
      "[CV]  RF__max_features=None, RF__min_samples_leaf=100, RF__n_estimators=500, score=0.9269359131932714, total=   9.5s\n",
      "[CV] RF__max_features=None, RF__min_samples_leaf=100, RF__n_estimators=500 \n",
      "[CV]  RF__max_features=None, RF__min_samples_leaf=100, RF__n_estimators=500, score=0.927767688123997, total=   9.3s\n",
      "[CV] RF__max_features=None, RF__min_samples_leaf=100, RF__n_estimators=1000 \n",
      "[CV]  RF__max_features=None, RF__min_samples_leaf=100, RF__n_estimators=1000, score=0.9245569941579147, total=  19.0s\n",
      "[CV] RF__max_features=None, RF__min_samples_leaf=100, RF__n_estimators=1000 \n",
      "[CV]  RF__max_features=None, RF__min_samples_leaf=100, RF__n_estimators=1000, score=0.9282973595248534, total=  19.3s\n",
      "[CV] RF__max_features=None, RF__min_samples_leaf=100, RF__n_estimators=1000 \n",
      "[CV]  RF__max_features=None, RF__min_samples_leaf=100, RF__n_estimators=1000, score=0.9335616586046044, total=  19.0s\n",
      "[CV] RF__max_features=None, RF__min_samples_leaf=100, RF__n_estimators=1000 \n",
      "[CV]  RF__max_features=None, RF__min_samples_leaf=100, RF__n_estimators=1000, score=0.9275947741544418, total=  18.8s\n",
      "[CV] RF__max_features=None, RF__min_samples_leaf=100, RF__n_estimators=1000 \n",
      "[CV]  RF__max_features=None, RF__min_samples_leaf=100, RF__n_estimators=1000, score=0.9289676362343491, total=  18.5s\n",
      "[CV] RF__max_features=None, RF__min_samples_leaf=100, RF__n_estimators=1500 \n",
      "[CV]  RF__max_features=None, RF__min_samples_leaf=100, RF__n_estimators=1500, score=0.9277875631475657, total=  28.4s\n",
      "[CV] RF__max_features=None, RF__min_samples_leaf=100, RF__n_estimators=1500 \n",
      "[CV]  RF__max_features=None, RF__min_samples_leaf=100, RF__n_estimators=1500, score=0.9288843447448051, total=  28.4s\n",
      "[CV] RF__max_features=None, RF__min_samples_leaf=100, RF__n_estimators=1500 \n",
      "[CV]  RF__max_features=None, RF__min_samples_leaf=100, RF__n_estimators=1500, score=0.9305177209639974, total=  28.0s\n",
      "[CV] RF__max_features=None, RF__min_samples_leaf=100, RF__n_estimators=1500 \n",
      "[CV]  RF__max_features=None, RF__min_samples_leaf=100, RF__n_estimators=1500, score=0.9262375205744309, total=  28.7s\n",
      "[CV] RF__max_features=None, RF__min_samples_leaf=100, RF__n_estimators=1500 \n",
      "[CV]  RF__max_features=None, RF__min_samples_leaf=100, RF__n_estimators=1500, score=0.9301627797476625, total=  28.0s\n",
      "[CV] RF__max_features=None, RF__min_samples_leaf=500, RF__n_estimators=150 \n",
      "[CV]  RF__max_features=None, RF__min_samples_leaf=500, RF__n_estimators=150, score=0.896817566248816, total=   2.0s\n",
      "[CV] RF__max_features=None, RF__min_samples_leaf=500, RF__n_estimators=150 \n",
      "[CV]  RF__max_features=None, RF__min_samples_leaf=500, RF__n_estimators=150, score=0.9070347183788666, total=   2.0s\n",
      "[CV] RF__max_features=None, RF__min_samples_leaf=500, RF__n_estimators=150 \n",
      "[CV]  RF__max_features=None, RF__min_samples_leaf=500, RF__n_estimators=150, score=0.8987887739675648, total=   2.0s\n",
      "[CV] RF__max_features=None, RF__min_samples_leaf=500, RF__n_estimators=150 \n",
      "[CV]  RF__max_features=None, RF__min_samples_leaf=500, RF__n_estimators=150, score=0.9008138729763985, total=   2.0s\n",
      "[CV] RF__max_features=None, RF__min_samples_leaf=500, RF__n_estimators=150 \n",
      "[CV]  RF__max_features=None, RF__min_samples_leaf=500, RF__n_estimators=150, score=0.9018180595193481, total=   2.0s\n",
      "[CV] RF__max_features=None, RF__min_samples_leaf=500, RF__n_estimators=500 \n",
      "[CV]  RF__max_features=None, RF__min_samples_leaf=500, RF__n_estimators=500, score=0.8985310370509623, total=   6.4s\n",
      "[CV] RF__max_features=None, RF__min_samples_leaf=500, RF__n_estimators=500 \n",
      "[CV]  RF__max_features=None, RF__min_samples_leaf=500, RF__n_estimators=500, score=0.9075737864380059, total=   6.2s\n",
      "[CV] RF__max_features=None, RF__min_samples_leaf=500, RF__n_estimators=500 \n",
      "[CV]  RF__max_features=None, RF__min_samples_leaf=500, RF__n_estimators=500, score=0.9004323325834297, total=   6.3s\n",
      "[CV] RF__max_features=None, RF__min_samples_leaf=500, RF__n_estimators=500 \n",
      "[CV]  RF__max_features=None, RF__min_samples_leaf=500, RF__n_estimators=500, score=0.901976463090609, total=   6.3s\n",
      "[CV] RF__max_features=None, RF__min_samples_leaf=500, RF__n_estimators=500 \n",
      "[CV]  RF__max_features=None, RF__min_samples_leaf=500, RF__n_estimators=500, score=0.9011304015682204, total=   6.3s\n",
      "[CV] RF__max_features=None, RF__min_samples_leaf=500, RF__n_estimators=1000 \n"
     ]
    },
    {
     "name": "stdout",
     "output_type": "stream",
     "text": [
      "[CV]  RF__max_features=None, RF__min_samples_leaf=500, RF__n_estimators=1000, score=0.8959207181490205, total=  12.6s\n",
      "[CV] RF__max_features=None, RF__min_samples_leaf=500, RF__n_estimators=1000 \n",
      "[CV]  RF__max_features=None, RF__min_samples_leaf=500, RF__n_estimators=1000, score=0.9060374424694588, total=  12.2s\n",
      "[CV] RF__max_features=None, RF__min_samples_leaf=500, RF__n_estimators=1000 \n",
      "[CV]  RF__max_features=None, RF__min_samples_leaf=500, RF__n_estimators=1000, score=0.8982970241047277, total=  12.3s\n",
      "[CV] RF__max_features=None, RF__min_samples_leaf=500, RF__n_estimators=1000 \n",
      "[CV]  RF__max_features=None, RF__min_samples_leaf=500, RF__n_estimators=1000, score=0.9033313208125793, total=  12.2s\n",
      "[CV] RF__max_features=None, RF__min_samples_leaf=500, RF__n_estimators=1000 \n",
      "[CV]  RF__max_features=None, RF__min_samples_leaf=500, RF__n_estimators=1000, score=0.9015994503540988, total=  12.2s\n",
      "[CV] RF__max_features=None, RF__min_samples_leaf=500, RF__n_estimators=1500 \n",
      "[CV]  RF__max_features=None, RF__min_samples_leaf=500, RF__n_estimators=1500, score=0.8989148018253074, total=  19.2s\n",
      "[CV] RF__max_features=None, RF__min_samples_leaf=500, RF__n_estimators=1500 \n",
      "[CV]  RF__max_features=None, RF__min_samples_leaf=500, RF__n_estimators=1500, score=0.906753804023604, total=  18.8s\n",
      "[CV] RF__max_features=None, RF__min_samples_leaf=500, RF__n_estimators=1500 \n",
      "[CV]  RF__max_features=None, RF__min_samples_leaf=500, RF__n_estimators=1500, score=0.8998399566828866, total=  18.7s\n",
      "[CV] RF__max_features=None, RF__min_samples_leaf=500, RF__n_estimators=1500 \n",
      "[CV]  RF__max_features=None, RF__min_samples_leaf=500, RF__n_estimators=1500, score=0.9034523116436305, total=  18.6s\n",
      "[CV] RF__max_features=None, RF__min_samples_leaf=500, RF__n_estimators=1500 \n",
      "[CV]  RF__max_features=None, RF__min_samples_leaf=500, RF__n_estimators=1500, score=0.9020432750055254, total=  18.2s\n"
     ]
    },
    {
     "name": "stderr",
     "output_type": "stream",
     "text": [
      "[Parallel(n_jobs=1)]: Done 320 out of 320 | elapsed: 57.2min finished\n"
     ]
    },
    {
     "name": "stdout",
     "output_type": "stream",
     "text": [
      "0.946501630470956\n",
      "{'RF__max_features': 0.25, 'RF__min_samples_leaf': 10, 'RF__n_estimators': 1000}\n",
      "Fitting 5 folds for each of 64 candidates, totalling 320 fits\n",
      "[CV] RF__max_features=0.25, RF__min_samples_leaf=10, RF__n_estimators=150 \n"
     ]
    },
    {
     "name": "stderr",
     "output_type": "stream",
     "text": [
      "[Parallel(n_jobs=1)]: Using backend SequentialBackend with 1 concurrent workers.\n"
     ]
    },
    {
     "name": "stdout",
     "output_type": "stream",
     "text": [
      "[CV]  RF__max_features=0.25, RF__min_samples_leaf=10, RF__n_estimators=150, score=0.9374553222366843, total=   2.3s\n",
      "[CV] RF__max_features=0.25, RF__min_samples_leaf=10, RF__n_estimators=150 \n"
     ]
    },
    {
     "name": "stderr",
     "output_type": "stream",
     "text": [
      "[Parallel(n_jobs=1)]: Done   1 out of   1 | elapsed:    2.5s remaining:    0.0s\n"
     ]
    },
    {
     "name": "stdout",
     "output_type": "stream",
     "text": [
      "[CV]  RF__max_features=0.25, RF__min_samples_leaf=10, RF__n_estimators=150, score=0.9433457438779836, total=   2.2s\n",
      "[CV] RF__max_features=0.25, RF__min_samples_leaf=10, RF__n_estimators=150 \n"
     ]
    },
    {
     "name": "stderr",
     "output_type": "stream",
     "text": [
      "[Parallel(n_jobs=1)]: Done   2 out of   2 | elapsed:    4.8s remaining:    0.0s\n"
     ]
    },
    {
     "name": "stdout",
     "output_type": "stream",
     "text": [
      "[CV]  RF__max_features=0.25, RF__min_samples_leaf=10, RF__n_estimators=150, score=0.9416979925105478, total=   2.2s\n",
      "[CV] RF__max_features=0.25, RF__min_samples_leaf=10, RF__n_estimators=150 \n"
     ]
    },
    {
     "name": "stderr",
     "output_type": "stream",
     "text": [
      "[Parallel(n_jobs=1)]: Done   3 out of   3 | elapsed:    7.1s remaining:    0.0s\n"
     ]
    },
    {
     "name": "stdout",
     "output_type": "stream",
     "text": [
      "[CV]  RF__max_features=0.25, RF__min_samples_leaf=10, RF__n_estimators=150, score=0.9458020973341288, total=   2.2s\n",
      "[CV] RF__max_features=0.25, RF__min_samples_leaf=10, RF__n_estimators=150 \n"
     ]
    },
    {
     "name": "stderr",
     "output_type": "stream",
     "text": [
      "[Parallel(n_jobs=1)]: Done   4 out of   4 | elapsed:    9.5s remaining:    0.0s\n"
     ]
    },
    {
     "name": "stdout",
     "output_type": "stream",
     "text": [
      "[CV]  RF__max_features=0.25, RF__min_samples_leaf=10, RF__n_estimators=150, score=0.9417808959612558, total=   2.3s\n",
      "[CV] RF__max_features=0.25, RF__min_samples_leaf=10, RF__n_estimators=500 \n"
     ]
    },
    {
     "name": "stderr",
     "output_type": "stream",
     "text": [
      "[Parallel(n_jobs=1)]: Done   5 out of   5 | elapsed:   11.9s remaining:    0.0s\n"
     ]
    },
    {
     "name": "stdout",
     "output_type": "stream",
     "text": [
      "[CV]  RF__max_features=0.25, RF__min_samples_leaf=10, RF__n_estimators=500, score=0.9374553222366843, total=   6.8s\n",
      "[CV] RF__max_features=0.25, RF__min_samples_leaf=10, RF__n_estimators=500 \n"
     ]
    },
    {
     "name": "stderr",
     "output_type": "stream",
     "text": [
      "[Parallel(n_jobs=1)]: Done   6 out of   6 | elapsed:   18.9s remaining:    0.0s\n"
     ]
    },
    {
     "name": "stdout",
     "output_type": "stream",
     "text": [
      "[CV]  RF__max_features=0.25, RF__min_samples_leaf=10, RF__n_estimators=500, score=0.9427623524450928, total=   6.7s\n",
      "[CV] RF__max_features=0.25, RF__min_samples_leaf=10, RF__n_estimators=500 \n"
     ]
    },
    {
     "name": "stderr",
     "output_type": "stream",
     "text": [
      "[Parallel(n_jobs=1)]: Done   7 out of   7 | elapsed:   25.8s remaining:    0.0s\n"
     ]
    },
    {
     "name": "stdout",
     "output_type": "stream",
     "text": [
      "[CV]  RF__max_features=0.25, RF__min_samples_leaf=10, RF__n_estimators=500, score=0.9413745516750641, total=   7.0s\n",
      "[CV] RF__max_features=0.25, RF__min_samples_leaf=10, RF__n_estimators=500 \n"
     ]
    },
    {
     "name": "stderr",
     "output_type": "stream",
     "text": [
      "[Parallel(n_jobs=1)]: Done   8 out of   8 | elapsed:   33.0s remaining:    0.0s\n"
     ]
    },
    {
     "name": "stdout",
     "output_type": "stream",
     "text": [
      "[CV]  RF__max_features=0.25, RF__min_samples_leaf=10, RF__n_estimators=500, score=0.944777868021764, total=   6.9s\n",
      "[CV] RF__max_features=0.25, RF__min_samples_leaf=10, RF__n_estimators=500 \n"
     ]
    },
    {
     "name": "stderr",
     "output_type": "stream",
     "text": [
      "[Parallel(n_jobs=1)]: Done   9 out of   9 | elapsed:   40.1s remaining:    0.0s\n"
     ]
    },
    {
     "name": "stdout",
     "output_type": "stream",
     "text": [
      "[CV]  RF__max_features=0.25, RF__min_samples_leaf=10, RF__n_estimators=500, score=0.9427730452496947, total=   6.8s\n",
      "[CV] RF__max_features=0.25, RF__min_samples_leaf=10, RF__n_estimators=1000 \n",
      "[CV]  RF__max_features=0.25, RF__min_samples_leaf=10, RF__n_estimators=1000, score=0.9380624009904843, total=  13.7s\n",
      "[CV] RF__max_features=0.25, RF__min_samples_leaf=10, RF__n_estimators=1000 \n",
      "[CV]  RF__max_features=0.25, RF__min_samples_leaf=10, RF__n_estimators=1000, score=0.943803352763742, total=  13.2s\n",
      "[CV] RF__max_features=0.25, RF__min_samples_leaf=10, RF__n_estimators=1000 \n",
      "[CV]  RF__max_features=0.25, RF__min_samples_leaf=10, RF__n_estimators=1000, score=0.9413625723848611, total=  13.1s\n",
      "[CV] RF__max_features=0.25, RF__min_samples_leaf=10, RF__n_estimators=1000 \n",
      "[CV]  RF__max_features=0.25, RF__min_samples_leaf=10, RF__n_estimators=1000, score=0.9439788493652174, total=  13.6s\n",
      "[CV] RF__max_features=0.25, RF__min_samples_leaf=10, RF__n_estimators=1000 \n",
      "[CV]  RF__max_features=0.25, RF__min_samples_leaf=10, RF__n_estimators=1000, score=0.942729203301719, total=  13.4s\n",
      "[CV] RF__max_features=0.25, RF__min_samples_leaf=10, RF__n_estimators=1500 \n",
      "[CV]  RF__max_features=0.25, RF__min_samples_leaf=10, RF__n_estimators=1500, score=0.9372397913181751, total=  20.0s\n",
      "[CV] RF__max_features=0.25, RF__min_samples_leaf=10, RF__n_estimators=1500 \n",
      "[CV]  RF__max_features=0.25, RF__min_samples_leaf=10, RF__n_estimators=1500, score=0.9433373583748416, total=  20.0s\n",
      "[CV] RF__max_features=0.25, RF__min_samples_leaf=10, RF__n_estimators=1500 \n",
      "[CV]  RF__max_features=0.25, RF__min_samples_leaf=10, RF__n_estimators=1500, score=0.9414895528610139, total=  20.4s\n",
      "[CV] RF__max_features=0.25, RF__min_samples_leaf=10, RF__n_estimators=1500 \n",
      "[CV]  RF__max_features=0.25, RF__min_samples_leaf=10, RF__n_estimators=1500, score=0.9444891671278693, total=  19.9s\n",
      "[CV] RF__max_features=0.25, RF__min_samples_leaf=10, RF__n_estimators=1500 \n",
      "[CV]  RF__max_features=0.25, RF__min_samples_leaf=10, RF__n_estimators=1500, score=0.9421190194778365, total=  19.9s\n",
      "[CV] RF__max_features=0.25, RF__min_samples_leaf=50, RF__n_estimators=150 \n",
      "[CV]  RF__max_features=0.25, RF__min_samples_leaf=50, RF__n_estimators=150, score=0.9298602521472268, total=   1.9s\n",
      "[CV] RF__max_features=0.25, RF__min_samples_leaf=50, RF__n_estimators=150 \n",
      "[CV]  RF__max_features=0.25, RF__min_samples_leaf=50, RF__n_estimators=150, score=0.9368014576400319, total=   1.9s\n",
      "[CV] RF__max_features=0.25, RF__min_samples_leaf=50, RF__n_estimators=150 \n",
      "[CV]  RF__max_features=0.25, RF__min_samples_leaf=50, RF__n_estimators=150, score=0.9337245769513666, total=   1.8s\n",
      "[CV] RF__max_features=0.25, RF__min_samples_leaf=50, RF__n_estimators=150 \n",
      "[CV]  RF__max_features=0.25, RF__min_samples_leaf=50, RF__n_estimators=150, score=0.9374788865010171, total=   1.9s\n",
      "[CV] RF__max_features=0.25, RF__min_samples_leaf=50, RF__n_estimators=150 \n",
      "[CV]  RF__max_features=0.25, RF__min_samples_leaf=50, RF__n_estimators=150, score=0.9343043423948034, total=   1.9s\n",
      "[CV] RF__max_features=0.25, RF__min_samples_leaf=50, RF__n_estimators=500 \n",
      "[CV]  RF__max_features=0.25, RF__min_samples_leaf=50, RF__n_estimators=500, score=0.9295297714055131, total=   5.6s\n",
      "[CV] RF__max_features=0.25, RF__min_samples_leaf=50, RF__n_estimators=500 \n",
      "[CV]  RF__max_features=0.25, RF__min_samples_leaf=50, RF__n_estimators=500, score=0.9377669884304015, total=   5.5s\n",
      "[CV] RF__max_features=0.25, RF__min_samples_leaf=50, RF__n_estimators=500 \n",
      "[CV]  RF__max_features=0.25, RF__min_samples_leaf=50, RF__n_estimators=500, score=0.9335317103790964, total=   5.5s\n",
      "[CV] RF__max_features=0.25, RF__min_samples_leaf=50, RF__n_estimators=500 \n",
      "[CV]  RF__max_features=0.25, RF__min_samples_leaf=50, RF__n_estimators=500, score=0.9368667447716388, total=   5.5s\n",
      "[CV] RF__max_features=0.25, RF__min_samples_leaf=50, RF__n_estimators=500 \n",
      "[CV]  RF__max_features=0.25, RF__min_samples_leaf=50, RF__n_estimators=500, score=0.9357685433422699, total=   5.6s\n",
      "[CV] RF__max_features=0.25, RF__min_samples_leaf=50, RF__n_estimators=1000 \n",
      "[CV]  RF__max_features=0.25, RF__min_samples_leaf=50, RF__n_estimators=1000, score=0.930196719858899, total=  11.2s\n",
      "[CV] RF__max_features=0.25, RF__min_samples_leaf=50, RF__n_estimators=1000 \n",
      "[CV]  RF__max_features=0.25, RF__min_samples_leaf=50, RF__n_estimators=1000, score=0.9385588195128263, total=  10.8s\n",
      "[CV] RF__max_features=0.25, RF__min_samples_leaf=50, RF__n_estimators=1000 \n",
      "[CV]  RF__max_features=0.25, RF__min_samples_leaf=50, RF__n_estimators=1000, score=0.9352363633749973, total=  10.9s\n",
      "[CV] RF__max_features=0.25, RF__min_samples_leaf=50, RF__n_estimators=1000 \n",
      "[CV]  RF__max_features=0.25, RF__min_samples_leaf=50, RF__n_estimators=1000, score=0.9365025743494647, total=  10.7s\n",
      "[CV] RF__max_features=0.25, RF__min_samples_leaf=50, RF__n_estimators=1000 \n",
      "[CV]  RF__max_features=0.25, RF__min_samples_leaf=50, RF__n_estimators=1000, score=0.933761422929459, total=  11.1s\n",
      "[CV] RF__max_features=0.25, RF__min_samples_leaf=50, RF__n_estimators=1500 \n",
      "[CV]  RF__max_features=0.25, RF__min_samples_leaf=50, RF__n_estimators=1500, score=0.9297429075360385, total=  16.7s\n",
      "[CV] RF__max_features=0.25, RF__min_samples_leaf=50, RF__n_estimators=1500 \n",
      "[CV]  RF__max_features=0.25, RF__min_samples_leaf=50, RF__n_estimators=1500, score=0.9378077180170921, total=  15.7s\n",
      "[CV] RF__max_features=0.25, RF__min_samples_leaf=50, RF__n_estimators=1500 \n",
      "[CV]  RF__max_features=0.25, RF__min_samples_leaf=50, RF__n_estimators=1500, score=0.9348338592241733, total=  15.9s\n",
      "[CV] RF__max_features=0.25, RF__min_samples_leaf=50, RF__n_estimators=1500 \n",
      "[CV]  RF__max_features=0.25, RF__min_samples_leaf=50, RF__n_estimators=1500, score=0.9365936169550082, total=  15.8s\n",
      "[CV] RF__max_features=0.25, RF__min_samples_leaf=50, RF__n_estimators=1500 \n",
      "[CV]  RF__max_features=0.25, RF__min_samples_leaf=50, RF__n_estimators=1500, score=0.9338575148702278, total=  15.8s\n",
      "[CV] RF__max_features=0.25, RF__min_samples_leaf=100, RF__n_estimators=150 \n",
      "[CV]  RF__max_features=0.25, RF__min_samples_leaf=100, RF__n_estimators=150, score=0.9249437524172391, total=   1.6s\n",
      "[CV] RF__max_features=0.25, RF__min_samples_leaf=100, RF__n_estimators=150 \n",
      "[CV]  RF__max_features=0.25, RF__min_samples_leaf=100, RF__n_estimators=150, score=0.9307926456741584, total=   1.6s\n",
      "[CV] RF__max_features=0.25, RF__min_samples_leaf=100, RF__n_estimators=150 \n",
      "[CV]  RF__max_features=0.25, RF__min_samples_leaf=100, RF__n_estimators=150, score=0.9286561392664361, total=   1.6s\n",
      "[CV] RF__max_features=0.25, RF__min_samples_leaf=100, RF__n_estimators=150 \n",
      "[CV]  RF__max_features=0.25, RF__min_samples_leaf=100, RF__n_estimators=150, score=0.9334382719155123, total=   1.6s\n",
      "[CV] RF__max_features=0.25, RF__min_samples_leaf=100, RF__n_estimators=150 \n",
      "[CV]  RF__max_features=0.25, RF__min_samples_leaf=100, RF__n_estimators=150, score=0.9298961246120288, total=   1.7s\n",
      "[CV] RF__max_features=0.25, RF__min_samples_leaf=100, RF__n_estimators=500 \n",
      "[CV]  RF__max_features=0.25, RF__min_samples_leaf=100, RF__n_estimators=500, score=0.9236445799362268, total=   4.9s\n",
      "[CV] RF__max_features=0.25, RF__min_samples_leaf=100, RF__n_estimators=500 \n",
      "[CV]  RF__max_features=0.25, RF__min_samples_leaf=100, RF__n_estimators=500, score=0.9316060394789487, total=   4.8s\n",
      "[CV] RF__max_features=0.25, RF__min_samples_leaf=100, RF__n_estimators=500 \n",
      "[CV]  RF__max_features=0.25, RF__min_samples_leaf=100, RF__n_estimators=500, score=0.9297163064494103, total=   4.7s\n",
      "[CV] RF__max_features=0.25, RF__min_samples_leaf=100, RF__n_estimators=500 \n",
      "[CV]  RF__max_features=0.25, RF__min_samples_leaf=100, RF__n_estimators=500, score=0.9318234635961351, total=   4.7s\n",
      "[CV] RF__max_features=0.25, RF__min_samples_leaf=100, RF__n_estimators=500 \n",
      "[CV]  RF__max_features=0.25, RF__min_samples_leaf=100, RF__n_estimators=500, score=0.9285003891723602, total=   4.9s\n",
      "[CV] RF__max_features=0.25, RF__min_samples_leaf=100, RF__n_estimators=1000 \n",
      "[CV]  RF__max_features=0.25, RF__min_samples_leaf=100, RF__n_estimators=1000, score=0.9239954163757997, total=   9.4s\n",
      "[CV] RF__max_features=0.25, RF__min_samples_leaf=100, RF__n_estimators=1000 \n",
      "[CV]  RF__max_features=0.25, RF__min_samples_leaf=100, RF__n_estimators=1000, score=0.9330207936519346, total=   9.4s\n",
      "[CV] RF__max_features=0.25, RF__min_samples_leaf=100, RF__n_estimators=1000 \n"
     ]
    },
    {
     "name": "stdout",
     "output_type": "stream",
     "text": [
      "[CV]  RF__max_features=0.25, RF__min_samples_leaf=100, RF__n_estimators=1000, score=0.9280583726853014, total=   9.3s\n",
      "[CV] RF__max_features=0.25, RF__min_samples_leaf=100, RF__n_estimators=1000 \n",
      "[CV]  RF__max_features=0.25, RF__min_samples_leaf=100, RF__n_estimators=1000, score=0.9328884224951903, total=   9.3s\n",
      "[CV] RF__max_features=0.25, RF__min_samples_leaf=100, RF__n_estimators=1000 \n",
      "[CV]  RF__max_features=0.25, RF__min_samples_leaf=100, RF__n_estimators=1000, score=0.9294312798485591, total=   9.3s\n",
      "[CV] RF__max_features=0.25, RF__min_samples_leaf=100, RF__n_estimators=1500 \n",
      "[CV]  RF__max_features=0.25, RF__min_samples_leaf=100, RF__n_estimators=1500, score=0.9237762932753156, total=  14.4s\n",
      "[CV] RF__max_features=0.25, RF__min_samples_leaf=100, RF__n_estimators=1500 \n",
      "[CV]  RF__max_features=0.25, RF__min_samples_leaf=100, RF__n_estimators=1500, score=0.9326733942360448, total=  14.3s\n",
      "[CV] RF__max_features=0.25, RF__min_samples_leaf=100, RF__n_estimators=1500 \n",
      "[CV]  RF__max_features=0.25, RF__min_samples_leaf=100, RF__n_estimators=1500, score=0.9291053626490523, total=  13.7s\n",
      "[CV] RF__max_features=0.25, RF__min_samples_leaf=100, RF__n_estimators=1500 \n",
      "[CV]  RF__max_features=0.25, RF__min_samples_leaf=100, RF__n_estimators=1500, score=0.932415240532168, total=  13.9s\n",
      "[CV] RF__max_features=0.25, RF__min_samples_leaf=100, RF__n_estimators=1500 \n",
      "[CV]  RF__max_features=0.25, RF__min_samples_leaf=100, RF__n_estimators=1500, score=0.928349044365649, total=  13.9s\n",
      "[CV] RF__max_features=0.25, RF__min_samples_leaf=500, RF__n_estimators=150 \n",
      "[CV]  RF__max_features=0.25, RF__min_samples_leaf=500, RF__n_estimators=150, score=0.9100044662795891, total=   1.1s\n",
      "[CV] RF__max_features=0.25, RF__min_samples_leaf=500, RF__n_estimators=150 \n",
      "[CV]  RF__max_features=0.25, RF__min_samples_leaf=500, RF__n_estimators=150, score=0.9173339131309791, total=   1.1s\n",
      "[CV] RF__max_features=0.25, RF__min_samples_leaf=500, RF__n_estimators=150 \n",
      "[CV]  RF__max_features=0.25, RF__min_samples_leaf=500, RF__n_estimators=150, score=0.9098372733218811, total=   1.2s\n",
      "[CV] RF__max_features=0.25, RF__min_samples_leaf=500, RF__n_estimators=150 \n",
      "[CV]  RF__max_features=0.25, RF__min_samples_leaf=500, RF__n_estimators=150, score=0.9172171150514989, total=   1.1s\n",
      "[CV] RF__max_features=0.25, RF__min_samples_leaf=500, RF__n_estimators=150 \n",
      "[CV]  RF__max_features=0.25, RF__min_samples_leaf=500, RF__n_estimators=150, score=0.9148553335831725, total=   1.2s\n",
      "[CV] RF__max_features=0.25, RF__min_samples_leaf=500, RF__n_estimators=500 \n",
      "[CV]  RF__max_features=0.25, RF__min_samples_leaf=500, RF__n_estimators=500, score=0.9094758168322463, total=   2.9s\n",
      "[CV] RF__max_features=0.25, RF__min_samples_leaf=500, RF__n_estimators=500 \n",
      "[CV]  RF__max_features=0.25, RF__min_samples_leaf=500, RF__n_estimators=500, score=0.9172093285128671, total=   2.9s\n",
      "[CV] RF__max_features=0.25, RF__min_samples_leaf=500, RF__n_estimators=500 \n",
      "[CV]  RF__max_features=0.25, RF__min_samples_leaf=500, RF__n_estimators=500, score=0.9109022322209365, total=   3.0s\n",
      "[CV] RF__max_features=0.25, RF__min_samples_leaf=500, RF__n_estimators=500 \n",
      "[CV]  RF__max_features=0.25, RF__min_samples_leaf=500, RF__n_estimators=500, score=0.9199651642240895, total=   3.0s\n",
      "[CV] RF__max_features=0.25, RF__min_samples_leaf=500, RF__n_estimators=500 \n",
      "[CV]  RF__max_features=0.25, RF__min_samples_leaf=500, RF__n_estimators=500, score=0.9150559255095275, total=   3.0s\n",
      "[CV] RF__max_features=0.25, RF__min_samples_leaf=500, RF__n_estimators=1000 \n",
      "[CV]  RF__max_features=0.25, RF__min_samples_leaf=500, RF__n_estimators=1000, score=0.9111497736326659, total=   5.7s\n",
      "[CV] RF__max_features=0.25, RF__min_samples_leaf=500, RF__n_estimators=1000 \n",
      "[CV]  RF__max_features=0.25, RF__min_samples_leaf=500, RF__n_estimators=1000, score=0.9160413477180651, total=   5.6s\n",
      "[CV] RF__max_features=0.25, RF__min_samples_leaf=500, RF__n_estimators=1000 \n",
      "[CV]  RF__max_features=0.25, RF__min_samples_leaf=500, RF__n_estimators=1000, score=0.9101229793932251, total=   5.6s\n",
      "[CV] RF__max_features=0.25, RF__min_samples_leaf=500, RF__n_estimators=1000 \n",
      "[CV]  RF__max_features=0.25, RF__min_samples_leaf=500, RF__n_estimators=1000, score=0.9188067668614499, total=   5.5s\n",
      "[CV] RF__max_features=0.25, RF__min_samples_leaf=500, RF__n_estimators=1000 \n",
      "[CV]  RF__max_features=0.25, RF__min_samples_leaf=500, RF__n_estimators=1000, score=0.9149766496583932, total=   5.5s\n",
      "[CV] RF__max_features=0.25, RF__min_samples_leaf=500, RF__n_estimators=1500 \n",
      "[CV]  RF__max_features=0.25, RF__min_samples_leaf=500, RF__n_estimators=1500, score=0.9103523092341828, total=   8.3s\n",
      "[CV] RF__max_features=0.25, RF__min_samples_leaf=500, RF__n_estimators=1500 \n",
      "[CV]  RF__max_features=0.25, RF__min_samples_leaf=500, RF__n_estimators=1500, score=0.9168763042452209, total=   8.1s\n",
      "[CV] RF__max_features=0.25, RF__min_samples_leaf=500, RF__n_estimators=1500 \n",
      "[CV]  RF__max_features=0.25, RF__min_samples_leaf=500, RF__n_estimators=1500, score=0.9110298116615996, total=   8.2s\n",
      "[CV] RF__max_features=0.25, RF__min_samples_leaf=500, RF__n_estimators=1500 \n",
      "[CV]  RF__max_features=0.25, RF__min_samples_leaf=500, RF__n_estimators=1500, score=0.9186558278048909, total=   8.4s\n",
      "[CV] RF__max_features=0.25, RF__min_samples_leaf=500, RF__n_estimators=1500 \n",
      "[CV]  RF__max_features=0.25, RF__min_samples_leaf=500, RF__n_estimators=1500, score=0.91421391987854, total=   8.3s\n",
      "[CV] RF__max_features=0.5, RF__min_samples_leaf=10, RF__n_estimators=150 \n",
      "[CV]  RF__max_features=0.5, RF__min_samples_leaf=10, RF__n_estimators=150, score=0.9377899938573689, total=   4.2s\n",
      "[CV] RF__max_features=0.5, RF__min_samples_leaf=10, RF__n_estimators=150 \n",
      "[CV]  RF__max_features=0.5, RF__min_samples_leaf=10, RF__n_estimators=150, score=0.9422735974048065, total=   4.3s\n",
      "[CV] RF__max_features=0.5, RF__min_samples_leaf=10, RF__n_estimators=150 \n",
      "[CV]  RF__max_features=0.5, RF__min_samples_leaf=10, RF__n_estimators=150, score=0.9398328170259257, total=   4.3s\n",
      "[CV] RF__max_features=0.5, RF__min_samples_leaf=10, RF__n_estimators=150 \n",
      "[CV]  RF__max_features=0.5, RF__min_samples_leaf=10, RF__n_estimators=150, score=0.9434038434354689, total=   4.3s\n",
      "[CV] RF__max_features=0.5, RF__min_samples_leaf=10, RF__n_estimators=150 \n",
      "[CV]  RF__max_features=0.5, RF__min_samples_leaf=10, RF__n_estimators=150, score=0.9416589793114052, total=   4.3s\n",
      "[CV] RF__max_features=0.5, RF__min_samples_leaf=10, RF__n_estimators=500 \n",
      "[CV]  RF__max_features=0.5, RF__min_samples_leaf=10, RF__n_estimators=500, score=0.9374433482967669, total=  14.0s\n",
      "[CV] RF__max_features=0.5, RF__min_samples_leaf=10, RF__n_estimators=500 \n",
      "[CV]  RF__max_features=0.5, RF__min_samples_leaf=10, RF__n_estimators=500, score=0.9423945882358579, total=  13.7s\n",
      "[CV] RF__max_features=0.5, RF__min_samples_leaf=10, RF__n_estimators=500 \n",
      "[CV]  RF__max_features=0.5, RF__min_samples_leaf=10, RF__n_estimators=500, score=0.9411050176454945, total=  13.4s\n",
      "[CV] RF__max_features=0.5, RF__min_samples_leaf=10, RF__n_estimators=500 \n",
      "[CV]  RF__max_features=0.5, RF__min_samples_leaf=10, RF__n_estimators=500, score=0.9429450366206902, total=  13.4s\n",
      "[CV] RF__max_features=0.5, RF__min_samples_leaf=10, RF__n_estimators=500 \n",
      "[CV]  RF__max_features=0.5, RF__min_samples_leaf=10, RF__n_estimators=500, score=0.9407743328817013, total=  13.8s\n",
      "[CV] RF__max_features=0.5, RF__min_samples_leaf=10, RF__n_estimators=1000 \n",
      "[CV]  RF__max_features=0.5, RF__min_samples_leaf=10, RF__n_estimators=1000, score=0.9369590024271175, total=  27.8s\n",
      "[CV] RF__max_features=0.5, RF__min_samples_leaf=10, RF__n_estimators=1000 \n",
      "[CV]  RF__max_features=0.5, RF__min_samples_leaf=10, RF__n_estimators=1000, score=0.9419597400014854, total=  27.6s\n",
      "[CV] RF__max_features=0.5, RF__min_samples_leaf=10, RF__n_estimators=1000 \n",
      "[CV]  RF__max_features=0.5, RF__min_samples_leaf=10, RF__n_estimators=1000, score=0.9407612120166655, total=  27.3s\n",
      "[CV] RF__max_features=0.5, RF__min_samples_leaf=10, RF__n_estimators=1000 \n",
      "[CV]  RF__max_features=0.5, RF__min_samples_leaf=10, RF__n_estimators=1000, score=0.9414116874746936, total=  26.9s\n",
      "[CV] RF__max_features=0.5, RF__min_samples_leaf=10, RF__n_estimators=1000 \n",
      "[CV]  RF__max_features=0.5, RF__min_samples_leaf=10, RF__n_estimators=1000, score=0.941845157446645, total=  27.7s\n",
      "[CV] RF__max_features=0.5, RF__min_samples_leaf=10, RF__n_estimators=1500 \n"
     ]
    },
    {
     "name": "stdout",
     "output_type": "stream",
     "text": [
      "[CV]  RF__max_features=0.5, RF__min_samples_leaf=10, RF__n_estimators=1500, score=0.9382755371210098, total=  41.6s\n",
      "[CV] RF__max_features=0.5, RF__min_samples_leaf=10, RF__n_estimators=1500 \n",
      "[CV]  RF__max_features=0.5, RF__min_samples_leaf=10, RF__n_estimators=1500, score=0.9420112509493588, total=  41.6s\n",
      "[CV] RF__max_features=0.5, RF__min_samples_leaf=10, RF__n_estimators=1500 \n",
      "[CV]  RF__max_features=0.5, RF__min_samples_leaf=10, RF__n_estimators=1500, score=0.9413901247523283, total=  41.0s\n",
      "[CV] RF__max_features=0.5, RF__min_samples_leaf=10, RF__n_estimators=1500 \n",
      "[CV]  RF__max_features=0.5, RF__min_samples_leaf=10, RF__n_estimators=1500, score=0.942290967375601, total=  40.1s\n",
      "[CV] RF__max_features=0.5, RF__min_samples_leaf=10, RF__n_estimators=1500 \n",
      "[CV]  RF__max_features=0.5, RF__min_samples_leaf=10, RF__n_estimators=1500, score=0.9398176174964207, total=  41.5s\n",
      "[CV] RF__max_features=0.5, RF__min_samples_leaf=50, RF__n_estimators=150 \n",
      "[CV]  RF__max_features=0.5, RF__min_samples_leaf=50, RF__n_estimators=150, score=0.9286880034293363, total=   3.5s\n",
      "[CV] RF__max_features=0.5, RF__min_samples_leaf=50, RF__n_estimators=150 \n",
      "[CV]  RF__max_features=0.5, RF__min_samples_leaf=50, RF__n_estimators=150, score=0.9345769034493168, total=   3.4s\n",
      "[CV] RF__max_features=0.5, RF__min_samples_leaf=50, RF__n_estimators=150 \n",
      "[CV]  RF__max_features=0.5, RF__min_samples_leaf=50, RF__n_estimators=150, score=0.9319097144855972, total=   3.4s\n",
      "[CV] RF__max_features=0.5, RF__min_samples_leaf=50, RF__n_estimators=150 \n",
      "[CV]  RF__max_features=0.5, RF__min_samples_leaf=50, RF__n_estimators=150, score=0.9352567281683425, total=   3.5s\n",
      "[CV] RF__max_features=0.5, RF__min_samples_leaf=50, RF__n_estimators=150 \n",
      "[CV]  RF__max_features=0.5, RF__min_samples_leaf=50, RF__n_estimators=150, score=0.9335410120403201, total=   3.4s\n",
      "[CV] RF__max_features=0.5, RF__min_samples_leaf=50, RF__n_estimators=500 \n",
      "[CV]  RF__max_features=0.5, RF__min_samples_leaf=50, RF__n_estimators=500, score=0.9298345081764048, total=  10.9s\n",
      "[CV] RF__max_features=0.5, RF__min_samples_leaf=50, RF__n_estimators=500 \n",
      "[CV]  RF__max_features=0.5, RF__min_samples_leaf=50, RF__n_estimators=500, score=0.935459777137285, total=  10.7s\n",
      "[CV] RF__max_features=0.5, RF__min_samples_leaf=50, RF__n_estimators=500 \n",
      "[CV]  RF__max_features=0.5, RF__min_samples_leaf=50, RF__n_estimators=500, score=0.9327386813676517, total=  10.5s\n",
      "[CV] RF__max_features=0.5, RF__min_samples_leaf=50, RF__n_estimators=500 \n",
      "[CV]  RF__max_features=0.5, RF__min_samples_leaf=50, RF__n_estimators=500, score=0.9352183944396927, total=  10.8s\n",
      "[CV] RF__max_features=0.5, RF__min_samples_leaf=50, RF__n_estimators=500 \n",
      "[CV]  RF__max_features=0.5, RF__min_samples_leaf=50, RF__n_estimators=500, score=0.9337860464892811, total=  10.9s\n",
      "[CV] RF__max_features=0.5, RF__min_samples_leaf=50, RF__n_estimators=1000 \n",
      "[CV]  RF__max_features=0.5, RF__min_samples_leaf=50, RF__n_estimators=1000, score=0.9279893240351698, total=  21.8s\n",
      "[CV] RF__max_features=0.5, RF__min_samples_leaf=50, RF__n_estimators=1000 \n",
      "[CV]  RF__max_features=0.5, RF__min_samples_leaf=50, RF__n_estimators=1000, score=0.9357364987409766, total=  21.3s\n",
      "[CV] RF__max_features=0.5, RF__min_samples_leaf=50, RF__n_estimators=1000 \n",
      "[CV]  RF__max_features=0.5, RF__min_samples_leaf=50, RF__n_estimators=1000, score=0.9329998298940791, total=  21.1s\n",
      "[CV] RF__max_features=0.5, RF__min_samples_leaf=50, RF__n_estimators=1000 \n",
      "[CV]  RF__max_features=0.5, RF__min_samples_leaf=50, RF__n_estimators=1000, score=0.9353226142644597, total=  21.1s\n",
      "[CV] RF__max_features=0.5, RF__min_samples_leaf=50, RF__n_estimators=1000 \n",
      "[CV]  RF__max_features=0.5, RF__min_samples_leaf=50, RF__n_estimators=1000, score=0.9335247965253154, total=  21.8s\n",
      "[CV] RF__max_features=0.5, RF__min_samples_leaf=50, RF__n_estimators=1500 \n",
      "[CV]  RF__max_features=0.5, RF__min_samples_leaf=50, RF__n_estimators=1500, score=0.9280497924317516, total=  32.9s\n",
      "[CV] RF__max_features=0.5, RF__min_samples_leaf=50, RF__n_estimators=1500 \n",
      "[CV]  RF__max_features=0.5, RF__min_samples_leaf=50, RF__n_estimators=1500, score=0.934071377402746, total=  31.5s\n",
      "[CV] RF__max_features=0.5, RF__min_samples_leaf=50, RF__n_estimators=1500 \n",
      "[CV]  RF__max_features=0.5, RF__min_samples_leaf=50, RF__n_estimators=1500, score=0.9339797358326923, total=  31.8s\n",
      "[CV] RF__max_features=0.5, RF__min_samples_leaf=50, RF__n_estimators=1500 \n",
      "[CV]  RF__max_features=0.5, RF__min_samples_leaf=50, RF__n_estimators=1500, score=0.9358365258141724, total=  31.3s\n",
      "[CV] RF__max_features=0.5, RF__min_samples_leaf=50, RF__n_estimators=1500 \n",
      "[CV]  RF__max_features=0.5, RF__min_samples_leaf=50, RF__n_estimators=1500, score=0.9333602390767487, total=  32.2s\n",
      "[CV] RF__max_features=0.5, RF__min_samples_leaf=100, RF__n_estimators=150 \n",
      "[CV]  RF__max_features=0.5, RF__min_samples_leaf=100, RF__n_estimators=150, score=0.9212348245278975, total=   3.0s\n",
      "[CV] RF__max_features=0.5, RF__min_samples_leaf=100, RF__n_estimators=150 \n",
      "[CV]  RF__max_features=0.5, RF__min_samples_leaf=100, RF__n_estimators=150, score=0.928469861303778, total=   3.0s\n",
      "[CV] RF__max_features=0.5, RF__min_samples_leaf=100, RF__n_estimators=150 \n",
      "[CV]  RF__max_features=0.5, RF__min_samples_leaf=100, RF__n_estimators=150, score=0.9274462309559233, total=   3.0s\n",
      "[CV] RF__max_features=0.5, RF__min_samples_leaf=100, RF__n_estimators=150 \n",
      "[CV]  RF__max_features=0.5, RF__min_samples_leaf=100, RF__n_estimators=150, score=0.9299331316020862, total=   3.0s\n",
      "[CV] RF__max_features=0.5, RF__min_samples_leaf=100, RF__n_estimators=150 \n",
      "[CV]  RF__max_features=0.5, RF__min_samples_leaf=100, RF__n_estimators=150, score=0.9266614296558949, total=   3.0s\n",
      "[CV] RF__max_features=0.5, RF__min_samples_leaf=100, RF__n_estimators=500 \n",
      "[CV]  RF__max_features=0.5, RF__min_samples_leaf=100, RF__n_estimators=500, score=0.9230782125781449, total=   9.6s\n",
      "[CV] RF__max_features=0.5, RF__min_samples_leaf=100, RF__n_estimators=500 \n",
      "[CV]  RF__max_features=0.5, RF__min_samples_leaf=100, RF__n_estimators=500, score=0.9279847000505526, total=   9.2s\n",
      "[CV] RF__max_features=0.5, RF__min_samples_leaf=100, RF__n_estimators=500 \n",
      "[CV]  RF__max_features=0.5, RF__min_samples_leaf=100, RF__n_estimators=500, score=0.9281781655873325, total=   9.4s\n",
      "[CV] RF__max_features=0.5, RF__min_samples_leaf=100, RF__n_estimators=500 \n",
      "[CV]  RF__max_features=0.5, RF__min_samples_leaf=100, RF__n_estimators=500, score=0.9292670830667941, total=   9.2s\n",
      "[CV] RF__max_features=0.5, RF__min_samples_leaf=100, RF__n_estimators=500 \n",
      "[CV]  RF__max_features=0.5, RF__min_samples_leaf=100, RF__n_estimators=500, score=0.9262746595942999, total=   9.6s\n",
      "[CV] RF__max_features=0.5, RF__min_samples_leaf=100, RF__n_estimators=1000 \n",
      "[CV]  RF__max_features=0.5, RF__min_samples_leaf=100, RF__n_estimators=1000, score=0.921899976890296, total=  18.8s\n",
      "[CV] RF__max_features=0.5, RF__min_samples_leaf=100, RF__n_estimators=1000 \n",
      "[CV]  RF__max_features=0.5, RF__min_samples_leaf=100, RF__n_estimators=1000, score=0.9296857592593923, total=  18.1s\n",
      "[CV] RF__max_features=0.5, RF__min_samples_leaf=100, RF__n_estimators=1000 \n",
      "[CV]  RF__max_features=0.5, RF__min_samples_leaf=100, RF__n_estimators=1000, score=0.9277409214949195, total=  18.6s\n",
      "[CV] RF__max_features=0.5, RF__min_samples_leaf=100, RF__n_estimators=1000 \n",
      "[CV]  RF__max_features=0.5, RF__min_samples_leaf=100, RF__n_estimators=1000, score=0.9307764736323842, total=  18.1s\n",
      "[CV] RF__max_features=0.5, RF__min_samples_leaf=100, RF__n_estimators=1000 \n",
      "[CV]  RF__max_features=0.5, RF__min_samples_leaf=100, RF__n_estimators=1000, score=0.9278625789155063, total=  18.4s\n",
      "[CV] RF__max_features=0.5, RF__min_samples_leaf=100, RF__n_estimators=1500 \n",
      "[CV]  RF__max_features=0.5, RF__min_samples_leaf=100, RF__n_estimators=1500, score=0.9231213187618468, total=  28.1s\n",
      "[CV] RF__max_features=0.5, RF__min_samples_leaf=100, RF__n_estimators=1500 \n",
      "[CV]  RF__max_features=0.5, RF__min_samples_leaf=100, RF__n_estimators=1500, score=0.9283931938464781, total=  27.2s\n",
      "[CV] RF__max_features=0.5, RF__min_samples_leaf=100, RF__n_estimators=1500 \n",
      "[CV]  RF__max_features=0.5, RF__min_samples_leaf=100, RF__n_estimators=1500, score=0.9280200389566517, total=  27.5s\n",
      "[CV] RF__max_features=0.5, RF__min_samples_leaf=100, RF__n_estimators=1500 \n"
     ]
    },
    {
     "name": "stdout",
     "output_type": "stream",
     "text": [
      "[CV]  RF__max_features=0.5, RF__min_samples_leaf=100, RF__n_estimators=1500, score=0.9297043271592069, total=  27.3s\n",
      "[CV] RF__max_features=0.5, RF__min_samples_leaf=100, RF__n_estimators=1500 \n",
      "[CV]  RF__max_features=0.5, RF__min_samples_leaf=100, RF__n_estimators=1500, score=0.9288042799350419, total=  27.7s\n",
      "[CV] RF__max_features=0.5, RF__min_samples_leaf=500, RF__n_estimators=150 \n",
      "[CV]  RF__max_features=0.5, RF__min_samples_leaf=500, RF__n_estimators=150, score=0.9067499494101038, total=   1.8s\n",
      "[CV] RF__max_features=0.5, RF__min_samples_leaf=500, RF__n_estimators=150 \n",
      "[CV]  RF__max_features=0.5, RF__min_samples_leaf=500, RF__n_estimators=150, score=0.9142013287428694, total=   1.8s\n",
      "[CV] RF__max_features=0.5, RF__min_samples_leaf=500, RF__n_estimators=150 \n",
      "[CV]  RF__max_features=0.5, RF__min_samples_leaf=500, RF__n_estimators=150, score=0.9083464506561056, total=   1.8s\n",
      "[CV] RF__max_features=0.5, RF__min_samples_leaf=500, RF__n_estimators=150 \n",
      "[CV]  RF__max_features=0.5, RF__min_samples_leaf=500, RF__n_estimators=150, score=0.9152956369029221, total=   1.8s\n",
      "[CV] RF__max_features=0.5, RF__min_samples_leaf=500, RF__n_estimators=150 \n",
      "[CV]  RF__max_features=0.5, RF__min_samples_leaf=500, RF__n_estimators=150, score=0.9140145291014443, total=   1.9s\n",
      "[CV] RF__max_features=0.5, RF__min_samples_leaf=500, RF__n_estimators=500 \n",
      "[CV]  RF__max_features=0.5, RF__min_samples_leaf=500, RF__n_estimators=500, score=0.908890291170297, total=   5.5s\n",
      "[CV] RF__max_features=0.5, RF__min_samples_leaf=500, RF__n_estimators=500 \n",
      "[CV]  RF__max_features=0.5, RF__min_samples_leaf=500, RF__n_estimators=500, score=0.9141019006341836, total=   5.4s\n",
      "[CV] RF__max_features=0.5, RF__min_samples_leaf=500, RF__n_estimators=500 \n",
      "[CV]  RF__max_features=0.5, RF__min_samples_leaf=500, RF__n_estimators=500, score=0.9102673298401723, total=   5.5s\n",
      "[CV] RF__max_features=0.5, RF__min_samples_leaf=500, RF__n_estimators=500 \n",
      "[CV]  RF__max_features=0.5, RF__min_samples_leaf=500, RF__n_estimators=500, score=0.9153537364604072, total=   5.3s\n",
      "[CV] RF__max_features=0.5, RF__min_samples_leaf=500, RF__n_estimators=500 \n",
      "[CV]  RF__max_features=0.5, RF__min_samples_leaf=500, RF__n_estimators=500, score=0.9119617650167682, total=   5.4s\n",
      "[CV] RF__max_features=0.5, RF__min_samples_leaf=500, RF__n_estimators=1000 \n",
      "[CV]  RF__max_features=0.5, RF__min_samples_leaf=500, RF__n_estimators=1000, score=0.9087813283170507, total=  10.7s\n",
      "[CV] RF__max_features=0.5, RF__min_samples_leaf=500, RF__n_estimators=1000 \n",
      "[CV]  RF__max_features=0.5, RF__min_samples_leaf=500, RF__n_estimators=1000, score=0.9155909264064286, total=  10.5s\n",
      "[CV] RF__max_features=0.5, RF__min_samples_leaf=500, RF__n_estimators=1000 \n",
      "[CV]  RF__max_features=0.5, RF__min_samples_leaf=500, RF__n_estimators=1000, score=0.9096252398852862, total=  10.6s\n",
      "[CV] RF__max_features=0.5, RF__min_samples_leaf=500, RF__n_estimators=1000 \n",
      "[CV]  RF__max_features=0.5, RF__min_samples_leaf=500, RF__n_estimators=1000, score=0.9145864629228989, total=  10.4s\n",
      "[CV] RF__max_features=0.5, RF__min_samples_leaf=500, RF__n_estimators=1000 \n",
      "[CV]  RF__max_features=0.5, RF__min_samples_leaf=500, RF__n_estimators=1000, score=0.913171322321197, total=  10.4s\n",
      "[CV] RF__max_features=0.5, RF__min_samples_leaf=500, RF__n_estimators=1500 \n",
      "[CV]  RF__max_features=0.5, RF__min_samples_leaf=500, RF__n_estimators=1500, score=0.9088723302604211, total=  15.8s\n",
      "[CV] RF__max_features=0.5, RF__min_samples_leaf=500, RF__n_estimators=1500 \n",
      "[CV]  RF__max_features=0.5, RF__min_samples_leaf=500, RF__n_estimators=1500, score=0.9155873326193676, total=  15.5s\n",
      "[CV] RF__max_features=0.5, RF__min_samples_leaf=500, RF__n_estimators=1500 \n",
      "[CV]  RF__max_features=0.5, RF__min_samples_leaf=500, RF__n_estimators=1500, score=0.9087507517004603, total=  15.6s\n",
      "[CV] RF__max_features=0.5, RF__min_samples_leaf=500, RF__n_estimators=1500 \n",
      "[CV]  RF__max_features=0.5, RF__min_samples_leaf=500, RF__n_estimators=1500, score=0.9164103098563204, total=  15.5s\n",
      "[CV] RF__max_features=0.5, RF__min_samples_leaf=500, RF__n_estimators=1500 \n",
      "[CV]  RF__max_features=0.5, RF__min_samples_leaf=500, RF__n_estimators=1500, score=0.9135244602035228, total=  15.4s\n",
      "[CV] RF__max_features=0.75, RF__min_samples_leaf=10, RF__n_estimators=150 \n",
      "[CV]  RF__max_features=0.75, RF__min_samples_leaf=10, RF__n_estimators=150, score=0.935153930984605, total=   6.4s\n",
      "[CV] RF__max_features=0.75, RF__min_samples_leaf=10, RF__n_estimators=150 \n",
      "[CV]  RF__max_features=0.75, RF__min_samples_leaf=10, RF__n_estimators=150, score=0.9416339033079612, total=   6.3s\n",
      "[CV] RF__max_features=0.75, RF__min_samples_leaf=10, RF__n_estimators=150 \n",
      "[CV]  RF__max_features=0.75, RF__min_samples_leaf=10, RF__n_estimators=150, score=0.9380850385852939, total=   6.3s\n",
      "[CV] RF__max_features=0.75, RF__min_samples_leaf=10, RF__n_estimators=150 \n",
      "[CV]  RF__max_features=0.75, RF__min_samples_leaf=10, RF__n_estimators=150, score=0.9426401636850215, total=   6.2s\n",
      "[CV] RF__max_features=0.75, RF__min_samples_leaf=10, RF__n_estimators=150 \n",
      "[CV]  RF__max_features=0.75, RF__min_samples_leaf=10, RF__n_estimators=150, score=0.9388218647602026, total=   6.3s\n",
      "[CV] RF__max_features=0.75, RF__min_samples_leaf=10, RF__n_estimators=500 \n",
      "[CV]  RF__max_features=0.75, RF__min_samples_leaf=10, RF__n_estimators=500, score=0.9364333464647541, total=  20.6s\n",
      "[CV] RF__max_features=0.75, RF__min_samples_leaf=10, RF__n_estimators=500 \n",
      "[CV]  RF__max_features=0.75, RF__min_samples_leaf=10, RF__n_estimators=500, score=0.9406228512148199, total=  20.3s\n",
      "[CV] RF__max_features=0.75, RF__min_samples_leaf=10, RF__n_estimators=500 \n",
      "[CV]  RF__max_features=0.75, RF__min_samples_leaf=10, RF__n_estimators=500, score=0.93926979038638, total=  20.3s\n",
      "[CV] RF__max_features=0.75, RF__min_samples_leaf=10, RF__n_estimators=500 \n",
      "[CV]  RF__max_features=0.75, RF__min_samples_leaf=10, RF__n_estimators=500, score=0.9417614827486241, total=  20.3s\n",
      "[CV] RF__max_features=0.75, RF__min_samples_leaf=10, RF__n_estimators=500 \n",
      "[CV]  RF__max_features=0.75, RF__min_samples_leaf=10, RF__n_estimators=500, score=0.9387900343048229, total=  20.7s\n",
      "[CV] RF__max_features=0.75, RF__min_samples_leaf=10, RF__n_estimators=1000 \n",
      "[CV]  RF__max_features=0.75, RF__min_samples_leaf=10, RF__n_estimators=1000, score=0.9369045210004945, total=  41.6s\n",
      "[CV] RF__max_features=0.75, RF__min_samples_leaf=10, RF__n_estimators=1000 \n",
      "[CV]  RF__max_features=0.75, RF__min_samples_leaf=10, RF__n_estimators=1000, score=0.9424628701900155, total=  41.6s\n",
      "[CV] RF__max_features=0.75, RF__min_samples_leaf=10, RF__n_estimators=1000 \n",
      "[CV]  RF__max_features=0.75, RF__min_samples_leaf=10, RF__n_estimators=1000, score=0.9397741185039306, total=  40.5s\n",
      "[CV] RF__max_features=0.75, RF__min_samples_leaf=10, RF__n_estimators=1000 \n",
      "[CV]  RF__max_features=0.75, RF__min_samples_leaf=10, RF__n_estimators=1000, score=0.941714763516832, total=  40.8s\n",
      "[CV] RF__max_features=0.75, RF__min_samples_leaf=10, RF__n_estimators=1000 \n",
      "[CV]  RF__max_features=0.75, RF__min_samples_leaf=10, RF__n_estimators=1000, score=0.9388609021111401, total=  40.6s\n",
      "[CV] RF__max_features=0.75, RF__min_samples_leaf=10, RF__n_estimators=1500 \n",
      "[CV]  RF__max_features=0.75, RF__min_samples_leaf=10, RF__n_estimators=1500, score=0.9373547411413801, total= 1.0min\n",
      "[CV] RF__max_features=0.75, RF__min_samples_leaf=10, RF__n_estimators=1500 \n",
      "[CV]  RF__max_features=0.75, RF__min_samples_leaf=10, RF__n_estimators=1500, score=0.9416027571534331, total= 1.0min\n",
      "[CV] RF__max_features=0.75, RF__min_samples_leaf=10, RF__n_estimators=1500 \n",
      "[CV]  RF__max_features=0.75, RF__min_samples_leaf=10, RF__n_estimators=1500, score=0.9389559329830589, total= 1.0min\n",
      "[CV] RF__max_features=0.75, RF__min_samples_leaf=10, RF__n_estimators=1500 \n",
      "[CV]  RF__max_features=0.75, RF__min_samples_leaf=10, RF__n_estimators=1500, score=0.9417674723937257, total= 1.0min\n",
      "[CV] RF__max_features=0.75, RF__min_samples_leaf=10, RF__n_estimators=1500 \n",
      "[CV]  RF__max_features=0.75, RF__min_samples_leaf=10, RF__n_estimators=1500, score=0.9391005313884325, total= 1.0min\n",
      "[CV] RF__max_features=0.75, RF__min_samples_leaf=50, RF__n_estimators=150 \n",
      "[CV]  RF__max_features=0.75, RF__min_samples_leaf=50, RF__n_estimators=150, score=0.9261680877737692, total=   5.2s\n",
      "[CV] RF__max_features=0.75, RF__min_samples_leaf=50, RF__n_estimators=150 \n"
     ]
    },
    {
     "name": "stdout",
     "output_type": "stream",
     "text": [
      "[CV]  RF__max_features=0.75, RF__min_samples_leaf=50, RF__n_estimators=150, score=0.932670998378004, total=   4.9s\n",
      "[CV] RF__max_features=0.75, RF__min_samples_leaf=50, RF__n_estimators=150 \n",
      "[CV]  RF__max_features=0.75, RF__min_samples_leaf=50, RF__n_estimators=150, score=0.9324751369831834, total=   5.0s\n",
      "[CV] RF__max_features=0.75, RF__min_samples_leaf=50, RF__n_estimators=150 \n",
      "[CV]  RF__max_features=0.75, RF__min_samples_leaf=50, RF__n_estimators=150, score=0.9323170103525026, total=   5.0s\n",
      "[CV] RF__max_features=0.75, RF__min_samples_leaf=50, RF__n_estimators=150 \n",
      "[CV]  RF__max_features=0.75, RF__min_samples_leaf=50, RF__n_estimators=150, score=0.9305303314211039, total=   5.0s\n",
      "[CV] RF__max_features=0.75, RF__min_samples_leaf=50, RF__n_estimators=500 \n",
      "[CV]  RF__max_features=0.75, RF__min_samples_leaf=50, RF__n_estimators=500, score=0.926865569773944, total=  16.4s\n",
      "[CV] RF__max_features=0.75, RF__min_samples_leaf=50, RF__n_estimators=500 \n",
      "[CV]  RF__max_features=0.75, RF__min_samples_leaf=50, RF__n_estimators=500, score=0.9335011631890787, total=  15.8s\n",
      "[CV] RF__max_features=0.75, RF__min_samples_leaf=50, RF__n_estimators=500 \n",
      "[CV]  RF__max_features=0.75, RF__min_samples_leaf=50, RF__n_estimators=500, score=0.932090601767664, total=  16.0s\n",
      "[CV] RF__max_features=0.75, RF__min_samples_leaf=50, RF__n_estimators=500 \n",
      "[CV]  RF__max_features=0.75, RF__min_samples_leaf=50, RF__n_estimators=500, score=0.9335161373018325, total=  16.1s\n",
      "[CV] RF__max_features=0.75, RF__min_samples_leaf=50, RF__n_estimators=500 \n",
      "[CV]  RF__max_features=0.75, RF__min_samples_leaf=50, RF__n_estimators=500, score=0.9321656961380649, total=  16.1s\n",
      "[CV] RF__max_features=0.75, RF__min_samples_leaf=50, RF__n_estimators=1000 \n",
      "[CV]  RF__max_features=0.75, RF__min_samples_leaf=50, RF__n_estimators=1000, score=0.9286550750945642, total=  33.2s\n",
      "[CV] RF__max_features=0.75, RF__min_samples_leaf=50, RF__n_estimators=1000 \n",
      "[CV]  RF__max_features=0.75, RF__min_samples_leaf=50, RF__n_estimators=1000, score=0.9340761691188274, total=  32.7s\n",
      "[CV] RF__max_features=0.75, RF__min_samples_leaf=50, RF__n_estimators=1000 \n",
      "[CV]  RF__max_features=0.75, RF__min_samples_leaf=50, RF__n_estimators=1000, score=0.9315036165477122, total=  32.0s\n",
      "[CV] RF__max_features=0.75, RF__min_samples_leaf=50, RF__n_estimators=1000 \n",
      "[CV]  RF__max_features=0.75, RF__min_samples_leaf=50, RF__n_estimators=1000, score=0.9329255582948198, total=  31.8s\n",
      "[CV] RF__max_features=0.75, RF__min_samples_leaf=50, RF__n_estimators=1000 \n",
      "[CV]  RF__max_features=0.75, RF__min_samples_leaf=50, RF__n_estimators=1000, score=0.9305531532570364, total=  32.8s\n",
      "[CV] RF__max_features=0.75, RF__min_samples_leaf=50, RF__n_estimators=1500 \n",
      "[CV]  RF__max_features=0.75, RF__min_samples_leaf=50, RF__n_estimators=1500, score=0.9271230094821632, total=  49.3s\n",
      "[CV] RF__max_features=0.75, RF__min_samples_leaf=50, RF__n_estimators=1500 \n",
      "[CV]  RF__max_features=0.75, RF__min_samples_leaf=50, RF__n_estimators=1500, score=0.9335227259114444, total=  48.6s\n",
      "[CV] RF__max_features=0.75, RF__min_samples_leaf=50, RF__n_estimators=1500 \n",
      "[CV]  RF__max_features=0.75, RF__min_samples_leaf=50, RF__n_estimators=1500, score=0.933664680500351, total=  46.9s\n",
      "[CV] RF__max_features=0.75, RF__min_samples_leaf=50, RF__n_estimators=1500 \n",
      "[CV]  RF__max_features=0.75, RF__min_samples_leaf=50, RF__n_estimators=1500, score=0.9321696650830045, total=  47.6s\n",
      "[CV] RF__max_features=0.75, RF__min_samples_leaf=50, RF__n_estimators=1500 \n",
      "[CV]  RF__max_features=0.75, RF__min_samples_leaf=50, RF__n_estimators=1500, score=0.9289598287641615, total=  49.7s\n",
      "[CV] RF__max_features=0.75, RF__min_samples_leaf=100, RF__n_estimators=150 \n",
      "[CV]  RF__max_features=0.75, RF__min_samples_leaf=100, RF__n_estimators=150, score=0.9208887776642913, total=   4.3s\n",
      "[CV] RF__max_features=0.75, RF__min_samples_leaf=100, RF__n_estimators=150 \n",
      "[CV]  RF__max_features=0.75, RF__min_samples_leaf=100, RF__n_estimators=150, score=0.9253372769156682, total=   4.5s\n",
      "[CV] RF__max_features=0.75, RF__min_samples_leaf=100, RF__n_estimators=150 \n",
      "[CV]  RF__max_features=0.75, RF__min_samples_leaf=100, RF__n_estimators=150, score=0.9230348573386329, total=   4.4s\n",
      "[CV] RF__max_features=0.75, RF__min_samples_leaf=100, RF__n_estimators=150 \n",
      "[CV]  RF__max_features=0.75, RF__min_samples_leaf=100, RF__n_estimators=150, score=0.9250108412576339, total=   4.3s\n",
      "[CV] RF__max_features=0.75, RF__min_samples_leaf=100, RF__n_estimators=150 \n",
      "[CV]  RF__max_features=0.75, RF__min_samples_leaf=100, RF__n_estimators=150, score=0.9249582000057656, total=   4.3s\n",
      "[CV] RF__max_features=0.75, RF__min_samples_leaf=100, RF__n_estimators=500 \n",
      "[CV]  RF__max_features=0.75, RF__min_samples_leaf=100, RF__n_estimators=500, score=0.9201050832967129, total=  14.0s\n",
      "[CV] RF__max_features=0.75, RF__min_samples_leaf=100, RF__n_estimators=500 \n",
      "[CV]  RF__max_features=0.75, RF__min_samples_leaf=100, RF__n_estimators=500, score=0.9251372227692763, total=  13.9s\n",
      "[CV] RF__max_features=0.75, RF__min_samples_leaf=100, RF__n_estimators=500 \n",
      "[CV]  RF__max_features=0.75, RF__min_samples_leaf=100, RF__n_estimators=500, score=0.9245640137330583, total=  13.6s\n",
      "[CV] RF__max_features=0.75, RF__min_samples_leaf=100, RF__n_estimators=500 \n",
      "[CV]  RF__max_features=0.75, RF__min_samples_leaf=100, RF__n_estimators=500, score=0.9270053930764495, total=  13.6s\n",
      "[CV] RF__max_features=0.75, RF__min_samples_leaf=100, RF__n_estimators=500 \n",
      "[CV]  RF__max_features=0.75, RF__min_samples_leaf=100, RF__n_estimators=500, score=0.9252981252462357, total=  14.0s\n",
      "[CV] RF__max_features=0.75, RF__min_samples_leaf=100, RF__n_estimators=1000 \n",
      "[CV]  RF__max_features=0.75, RF__min_samples_leaf=100, RF__n_estimators=1000, score=0.9213168460163299, total=  28.0s\n",
      "[CV] RF__max_features=0.75, RF__min_samples_leaf=100, RF__n_estimators=1000 \n",
      "[CV]  RF__max_features=0.75, RF__min_samples_leaf=100, RF__n_estimators=1000, score=0.926005721309001, total=  27.5s\n",
      "[CV] RF__max_features=0.75, RF__min_samples_leaf=100, RF__n_estimators=1000 \n",
      "[CV]  RF__max_features=0.75, RF__min_samples_leaf=100, RF__n_estimators=1000, score=0.924849120839892, total=  27.6s\n",
      "[CV] RF__max_features=0.75, RF__min_samples_leaf=100, RF__n_estimators=1000 \n",
      "[CV]  RF__max_features=0.75, RF__min_samples_leaf=100, RF__n_estimators=1000, score=0.927247374738552, total=  27.7s\n",
      "[CV] RF__max_features=0.75, RF__min_samples_leaf=100, RF__n_estimators=1000 \n",
      "[CV]  RF__max_features=0.75, RF__min_samples_leaf=100, RF__n_estimators=1000, score=0.9252656942162261, total=  27.7s\n",
      "[CV] RF__max_features=0.75, RF__min_samples_leaf=100, RF__n_estimators=1500 \n",
      "[CV]  RF__max_features=0.75, RF__min_samples_leaf=100, RF__n_estimators=1500, score=0.9212090805570756, total=  42.0s\n",
      "[CV] RF__max_features=0.75, RF__min_samples_leaf=100, RF__n_estimators=1500 \n",
      "[CV]  RF__max_features=0.75, RF__min_samples_leaf=100, RF__n_estimators=1500, score=0.9266238526834808, total=  41.2s\n",
      "[CV] RF__max_features=0.75, RF__min_samples_leaf=100, RF__n_estimators=1500 \n",
      "[CV]  RF__max_features=0.75, RF__min_samples_leaf=100, RF__n_estimators=1500, score=0.9258398081396882, total=  41.0s\n",
      "[CV] RF__max_features=0.75, RF__min_samples_leaf=100, RF__n_estimators=1500 \n",
      "[CV]  RF__max_features=0.75, RF__min_samples_leaf=100, RF__n_estimators=1500, score=0.9264735125914317, total=  41.3s\n",
      "[CV] RF__max_features=0.75, RF__min_samples_leaf=100, RF__n_estimators=1500 \n",
      "[CV]  RF__max_features=0.75, RF__min_samples_leaf=100, RF__n_estimators=1500, score=0.9260764699664639, total=  41.4s\n",
      "[CV] RF__max_features=0.75, RF__min_samples_leaf=500, RF__n_estimators=150 \n",
      "[CV]  RF__max_features=0.75, RF__min_samples_leaf=500, RF__n_estimators=150, score=0.901974143474143, total=   2.5s\n",
      "[CV] RF__max_features=0.75, RF__min_samples_leaf=500, RF__n_estimators=150 \n",
      "[CV]  RF__max_features=0.75, RF__min_samples_leaf=500, RF__n_estimators=150, score=0.9096959176974845, total=   2.5s\n",
      "[CV] RF__max_features=0.75, RF__min_samples_leaf=500, RF__n_estimators=150 \n",
      "[CV]  RF__max_features=0.75, RF__min_samples_leaf=500, RF__n_estimators=150, score=0.9035535366458465, total=   2.6s\n",
      "[CV] RF__max_features=0.75, RF__min_samples_leaf=500, RF__n_estimators=150 \n",
      "[CV]  RF__max_features=0.75, RF__min_samples_leaf=500, RF__n_estimators=150, score=0.9106219168301839, total=   2.6s\n",
      "[CV] RF__max_features=0.75, RF__min_samples_leaf=500, RF__n_estimators=150 \n"
     ]
    },
    {
     "name": "stdout",
     "output_type": "stream",
     "text": [
      "[CV]  RF__max_features=0.75, RF__min_samples_leaf=500, RF__n_estimators=150, score=0.9063007485562186, total=   2.6s\n",
      "[CV] RF__max_features=0.75, RF__min_samples_leaf=500, RF__n_estimators=500 \n",
      "[CV]  RF__max_features=0.75, RF__min_samples_leaf=500, RF__n_estimators=500, score=0.9011162106790782, total=   7.9s\n",
      "[CV] RF__max_features=0.75, RF__min_samples_leaf=500, RF__n_estimators=500 \n",
      "[CV]  RF__max_features=0.75, RF__min_samples_leaf=500, RF__n_estimators=500, score=0.9102194126793599, total=   7.9s\n",
      "[CV] RF__max_features=0.75, RF__min_samples_leaf=500, RF__n_estimators=500 \n",
      "[CV]  RF__max_features=0.75, RF__min_samples_leaf=500, RF__n_estimators=500, score=0.90170932491908, total=   8.1s\n",
      "[CV] RF__max_features=0.75, RF__min_samples_leaf=500, RF__n_estimators=500 \n",
      "[CV]  RF__max_features=0.75, RF__min_samples_leaf=500, RF__n_estimators=500, score=0.9103769403455307, total=   7.9s\n",
      "[CV] RF__max_features=0.75, RF__min_samples_leaf=500, RF__n_estimators=500 \n",
      "[CV]  RF__max_features=0.75, RF__min_samples_leaf=500, RF__n_estimators=500, score=0.908594343067447, total=   8.0s\n",
      "[CV] RF__max_features=0.75, RF__min_samples_leaf=500, RF__n_estimators=1000 \n",
      "[CV]  RF__max_features=0.75, RF__min_samples_leaf=500, RF__n_estimators=1000, score=0.9033349817457287, total=  15.7s\n",
      "[CV] RF__max_features=0.75, RF__min_samples_leaf=500, RF__n_estimators=1000 \n",
      "[CV]  RF__max_features=0.75, RF__min_samples_leaf=500, RF__n_estimators=1000, score=0.9099456858982192, total=  15.2s\n",
      "[CV] RF__max_features=0.75, RF__min_samples_leaf=500, RF__n_estimators=1000 \n",
      "[CV]  RF__max_features=0.75, RF__min_samples_leaf=500, RF__n_estimators=1000, score=0.9020980528861704, total=  15.6s\n",
      "[CV] RF__max_features=0.75, RF__min_samples_leaf=500, RF__n_estimators=1000 \n",
      "[CV]  RF__max_features=0.75, RF__min_samples_leaf=500, RF__n_estimators=1000, score=0.9099049563115287, total=  15.6s\n",
      "[CV] RF__max_features=0.75, RF__min_samples_leaf=500, RF__n_estimators=1000 \n",
      "[CV]  RF__max_features=0.75, RF__min_samples_leaf=500, RF__n_estimators=1000, score=0.908164331632506, total=  15.9s\n",
      "[CV] RF__max_features=0.75, RF__min_samples_leaf=500, RF__n_estimators=1500 \n",
      "[CV]  RF__max_features=0.75, RF__min_samples_leaf=500, RF__n_estimators=1500, score=0.9036995882162063, total=  23.6s\n",
      "[CV] RF__max_features=0.75, RF__min_samples_leaf=500, RF__n_estimators=1500 \n",
      "[CV]  RF__max_features=0.75, RF__min_samples_leaf=500, RF__n_estimators=1500, score=0.9104733736316656, total=  23.0s\n",
      "[CV] RF__max_features=0.75, RF__min_samples_leaf=500, RF__n_estimators=1500 \n",
      "[CV]  RF__max_features=0.75, RF__min_samples_leaf=500, RF__n_estimators=1500, score=0.9035217915268083, total=  23.2s\n",
      "[CV] RF__max_features=0.75, RF__min_samples_leaf=500, RF__n_estimators=1500 \n",
      "[CV]  RF__max_features=0.75, RF__min_samples_leaf=500, RF__n_estimators=1500, score=0.9104236595773227, total=  23.0s\n",
      "[CV] RF__max_features=0.75, RF__min_samples_leaf=500, RF__n_estimators=1500 \n",
      "[CV]  RF__max_features=0.75, RF__min_samples_leaf=500, RF__n_estimators=1500, score=0.9086550011050575, total=  23.0s\n",
      "[CV] RF__max_features=None, RF__min_samples_leaf=10, RF__n_estimators=150 \n",
      "[CV]  RF__max_features=None, RF__min_samples_leaf=10, RF__n_estimators=150, score=0.9327783013050397, total=   8.2s\n",
      "[CV] RF__max_features=None, RF__min_samples_leaf=10, RF__n_estimators=150 \n",
      "[CV]  RF__max_features=None, RF__min_samples_leaf=10, RF__n_estimators=150, score=0.9401598516484702, total=   8.4s\n",
      "[CV] RF__max_features=None, RF__min_samples_leaf=10, RF__n_estimators=150 \n",
      "[CV]  RF__max_features=None, RF__min_samples_leaf=10, RF__n_estimators=150, score=0.9379077450902878, total=   8.4s\n",
      "[CV] RF__max_features=None, RF__min_samples_leaf=10, RF__n_estimators=150 \n",
      "[CV]  RF__max_features=None, RF__min_samples_leaf=10, RF__n_estimators=150, score=0.9367763011306053, total=   8.2s\n",
      "[CV] RF__max_features=None, RF__min_samples_leaf=10, RF__n_estimators=150 \n",
      "[CV]  RF__max_features=None, RF__min_samples_leaf=10, RF__n_estimators=150, score=0.9378519367330662, total=   8.3s\n",
      "[CV] RF__max_features=None, RF__min_samples_leaf=10, RF__n_estimators=500 \n",
      "[CV]  RF__max_features=None, RF__min_samples_leaf=10, RF__n_estimators=500, score=0.9325735469324562, total=  27.8s\n",
      "[CV] RF__max_features=None, RF__min_samples_leaf=10, RF__n_estimators=500 \n",
      "[CV]  RF__max_features=None, RF__min_samples_leaf=10, RF__n_estimators=500, score=0.9380640748274383, total=  27.2s\n",
      "[CV] RF__max_features=None, RF__min_samples_leaf=10, RF__n_estimators=500 \n",
      "[CV]  RF__max_features=None, RF__min_samples_leaf=10, RF__n_estimators=500, score=0.9367409622245062, total=  27.0s\n",
      "[CV] RF__max_features=None, RF__min_samples_leaf=10, RF__n_estimators=500 \n",
      "[CV]  RF__max_features=None, RF__min_samples_leaf=10, RF__n_estimators=500, score=0.9376238359124744, total=  26.4s\n",
      "[CV] RF__max_features=None, RF__min_samples_leaf=10, RF__n_estimators=500 \n",
      "[CV]  RF__max_features=None, RF__min_samples_leaf=10, RF__n_estimators=500, score=0.9352352330710025, total=  27.4s\n",
      "[CV] RF__max_features=None, RF__min_samples_leaf=10, RF__n_estimators=1000 \n",
      "[CV]  RF__max_features=None, RF__min_samples_leaf=10, RF__n_estimators=1000, score=0.9364255634038079, total=  54.8s\n",
      "[CV] RF__max_features=None, RF__min_samples_leaf=10, RF__n_estimators=1000 \n",
      "[CV]  RF__max_features=None, RF__min_samples_leaf=10, RF__n_estimators=1000, score=0.9426114133885339, total=  53.9s\n",
      "[CV] RF__max_features=None, RF__min_samples_leaf=10, RF__n_estimators=1000 \n",
      "[CV]  RF__max_features=None, RF__min_samples_leaf=10, RF__n_estimators=1000, score=0.9347607855539344, total=  53.7s\n",
      "[CV] RF__max_features=None, RF__min_samples_leaf=10, RF__n_estimators=1000 \n",
      "[CV]  RF__max_features=None, RF__min_samples_leaf=10, RF__n_estimators=1000, score=0.9372788323546253, total=  53.8s\n",
      "[CV] RF__max_features=None, RF__min_samples_leaf=10, RF__n_estimators=1000 \n",
      "[CV]  RF__max_features=None, RF__min_samples_leaf=10, RF__n_estimators=1000, score=0.9379690487858784, total=  54.6s\n",
      "[CV] RF__max_features=None, RF__min_samples_leaf=10, RF__n_estimators=1500 \n",
      "[CV]  RF__max_features=None, RF__min_samples_leaf=10, RF__n_estimators=1500, score=0.9322550401306596, total= 1.4min\n",
      "[CV] RF__max_features=None, RF__min_samples_leaf=10, RF__n_estimators=1500 \n",
      "[CV]  RF__max_features=None, RF__min_samples_leaf=10, RF__n_estimators=1500, score=0.9392422380189128, total= 1.4min\n",
      "[CV] RF__max_features=None, RF__min_samples_leaf=10, RF__n_estimators=1500 \n",
      "[CV]  RF__max_features=None, RF__min_samples_leaf=10, RF__n_estimators=1500, score=0.9375759187516621, total= 1.4min\n",
      "[CV] RF__max_features=None, RF__min_samples_leaf=10, RF__n_estimators=1500 \n",
      "[CV]  RF__max_features=None, RF__min_samples_leaf=10, RF__n_estimators=1500, score=0.9386756175923066, total= 1.4min\n",
      "[CV] RF__max_features=None, RF__min_samples_leaf=10, RF__n_estimators=1500 \n",
      "[CV]  RF__max_features=None, RF__min_samples_leaf=10, RF__n_estimators=1500, score=0.9373600661112553, total= 1.4min\n",
      "[CV] RF__max_features=None, RF__min_samples_leaf=50, RF__n_estimators=150 \n",
      "[CV]  RF__max_features=None, RF__min_samples_leaf=50, RF__n_estimators=150, score=0.9224537716114647, total=   6.5s\n",
      "[CV] RF__max_features=None, RF__min_samples_leaf=50, RF__n_estimators=150 \n",
      "[CV]  RF__max_features=None, RF__min_samples_leaf=50, RF__n_estimators=150, score=0.9304009228845171, total=   6.7s\n",
      "[CV] RF__max_features=None, RF__min_samples_leaf=50, RF__n_estimators=150 \n",
      "[CV]  RF__max_features=None, RF__min_samples_leaf=50, RF__n_estimators=150, score=0.9298840165122535, total=   6.3s\n",
      "[CV] RF__max_features=None, RF__min_samples_leaf=50, RF__n_estimators=150 \n",
      "[CV]  RF__max_features=None, RF__min_samples_leaf=50, RF__n_estimators=150, score=0.9275324818453857, total=   6.5s\n",
      "[CV] RF__max_features=None, RF__min_samples_leaf=50, RF__n_estimators=150 \n",
      "[CV]  RF__max_features=None, RF__min_samples_leaf=50, RF__n_estimators=150, score=0.9268416020448366, total=   6.5s\n",
      "[CV] RF__max_features=None, RF__min_samples_leaf=50, RF__n_estimators=500 \n",
      "[CV]  RF__max_features=None, RF__min_samples_leaf=50, RF__n_estimators=500, score=0.9236637382400942, total=  21.4s\n",
      "[CV] RF__max_features=None, RF__min_samples_leaf=50, RF__n_estimators=500 \n",
      "[CV]  RF__max_features=None, RF__min_samples_leaf=50, RF__n_estimators=500, score=0.9339000735528417, total=  21.4s\n",
      "[CV] RF__max_features=None, RF__min_samples_leaf=50, RF__n_estimators=500 \n"
     ]
    },
    {
     "name": "stdout",
     "output_type": "stream",
     "text": [
      "[CV]  RF__max_features=None, RF__min_samples_leaf=50, RF__n_estimators=500, score=0.9296671913595774, total=  20.9s\n",
      "[CV] RF__max_features=None, RF__min_samples_leaf=50, RF__n_estimators=500 \n",
      "[CV]  RF__max_features=None, RF__min_samples_leaf=50, RF__n_estimators=500, score=0.9266723688088033, total=  21.1s\n",
      "[CV] RF__max_features=None, RF__min_samples_leaf=50, RF__n_estimators=500 \n",
      "[CV]  RF__max_features=None, RF__min_samples_leaf=50, RF__n_estimators=500, score=0.9267346997607312, total=  21.4s\n",
      "[CV] RF__max_features=None, RF__min_samples_leaf=50, RF__n_estimators=1000 \n",
      "[CV]  RF__max_features=None, RF__min_samples_leaf=50, RF__n_estimators=1000, score=0.9232230972511425, total=  41.7s\n",
      "[CV] RF__max_features=None, RF__min_samples_leaf=50, RF__n_estimators=1000 \n",
      "[CV]  RF__max_features=None, RF__min_samples_leaf=50, RF__n_estimators=1000, score=0.9306417066175995, total=  42.6s\n",
      "[CV] RF__max_features=None, RF__min_samples_leaf=50, RF__n_estimators=1000 \n",
      "[CV]  RF__max_features=None, RF__min_samples_leaf=50, RF__n_estimators=1000, score=0.9285087939969381, total=  41.1s\n",
      "[CV] RF__max_features=None, RF__min_samples_leaf=50, RF__n_estimators=1000 \n",
      "[CV]  RF__max_features=None, RF__min_samples_leaf=50, RF__n_estimators=1000, score=0.9284548871910242, total=  42.2s\n",
      "[CV] RF__max_features=None, RF__min_samples_leaf=50, RF__n_estimators=1000 \n",
      "[CV]  RF__max_features=None, RF__min_samples_leaf=50, RF__n_estimators=1000, score=0.9281364409466979, total=  42.5s\n",
      "[CV] RF__max_features=None, RF__min_samples_leaf=50, RF__n_estimators=1500 \n",
      "[CV]  RF__max_features=None, RF__min_samples_leaf=50, RF__n_estimators=1500, score=0.9230710282141945, total= 1.1min\n",
      "[CV] RF__max_features=None, RF__min_samples_leaf=50, RF__n_estimators=1500 \n",
      "[CV]  RF__max_features=None, RF__min_samples_leaf=50, RF__n_estimators=1500, score=0.9318659900763561, total= 1.1min\n",
      "[CV] RF__max_features=None, RF__min_samples_leaf=50, RF__n_estimators=1500 \n",
      "[CV]  RF__max_features=None, RF__min_samples_leaf=50, RF__n_estimators=1500, score=0.9232235311593316, total= 1.1min\n",
      "[CV] RF__max_features=None, RF__min_samples_leaf=50, RF__n_estimators=1500 \n",
      "[CV]  RF__max_features=None, RF__min_samples_leaf=50, RF__n_estimators=1500, score=0.9292419265573677, total= 1.1min\n",
      "[CV] RF__max_features=None, RF__min_samples_leaf=50, RF__n_estimators=1500 \n",
      "[CV]  RF__max_features=None, RF__min_samples_leaf=50, RF__n_estimators=1500, score=0.9279358490203428, total= 1.1min\n",
      "[CV] RF__max_features=None, RF__min_samples_leaf=100, RF__n_estimators=150 \n",
      "[CV]  RF__max_features=None, RF__min_samples_leaf=100, RF__n_estimators=150, score=0.9151287138671396, total=   5.8s\n",
      "[CV] RF__max_features=None, RF__min_samples_leaf=100, RF__n_estimators=150 \n",
      "[CV]  RF__max_features=None, RF__min_samples_leaf=100, RF__n_estimators=150, score=0.9219962528780246, total=   5.7s\n",
      "[CV] RF__max_features=None, RF__min_samples_leaf=100, RF__n_estimators=150 \n",
      "[CV]  RF__max_features=None, RF__min_samples_leaf=100, RF__n_estimators=150, score=0.9188007772163483, total=   5.5s\n",
      "[CV] RF__max_features=None, RF__min_samples_leaf=100, RF__n_estimators=150 \n",
      "[CV]  RF__max_features=None, RF__min_samples_leaf=100, RF__n_estimators=150, score=0.9225778474173849, total=   5.6s\n",
      "[CV] RF__max_features=None, RF__min_samples_leaf=100, RF__n_estimators=150 \n",
      "[CV]  RF__max_features=None, RF__min_samples_leaf=100, RF__n_estimators=150, score=0.9200533070041418, total=   5.6s\n",
      "[CV] RF__max_features=None, RF__min_samples_leaf=100, RF__n_estimators=500 \n",
      "[CV]  RF__max_features=None, RF__min_samples_leaf=100, RF__n_estimators=500, score=0.9166170745988432, total=  18.2s\n",
      "[CV] RF__max_features=None, RF__min_samples_leaf=100, RF__n_estimators=500 \n",
      "[CV]  RF__max_features=None, RF__min_samples_leaf=100, RF__n_estimators=500, score=0.9208390534444053, total=  18.1s\n",
      "[CV] RF__max_features=None, RF__min_samples_leaf=100, RF__n_estimators=500 \n",
      "[CV]  RF__max_features=None, RF__min_samples_leaf=100, RF__n_estimators=500, score=0.9175142014485359, total=  17.9s\n",
      "[CV] RF__max_features=None, RF__min_samples_leaf=100, RF__n_estimators=500 \n",
      "[CV]  RF__max_features=None, RF__min_samples_leaf=100, RF__n_estimators=500, score=0.9198968822699317, total=  17.6s\n",
      "[CV] RF__max_features=None, RF__min_samples_leaf=100, RF__n_estimators=500 \n",
      "[CV]  RF__max_features=None, RF__min_samples_leaf=100, RF__n_estimators=500, score=0.9215511401308771, total=  17.9s\n",
      "[CV] RF__max_features=None, RF__min_samples_leaf=100, RF__n_estimators=1000 \n",
      "[CV]  RF__max_features=None, RF__min_samples_leaf=100, RF__n_estimators=1000, score=0.9158531372321279, total=  35.8s\n",
      "[CV] RF__max_features=None, RF__min_samples_leaf=100, RF__n_estimators=1000 \n",
      "[CV]  RF__max_features=None, RF__min_samples_leaf=100, RF__n_estimators=1000, score=0.9220896913416087, total=  36.1s\n",
      "[CV] RF__max_features=None, RF__min_samples_leaf=100, RF__n_estimators=1000 \n",
      "[CV]  RF__max_features=None, RF__min_samples_leaf=100, RF__n_estimators=1000, score=0.9202083438152122, total=  35.7s\n",
      "[CV] RF__max_features=None, RF__min_samples_leaf=100, RF__n_estimators=1000 \n",
      "[CV]  RF__max_features=None, RF__min_samples_leaf=100, RF__n_estimators=1000, score=0.9228425897308733, total=  35.6s\n",
      "[CV] RF__max_features=None, RF__min_samples_leaf=100, RF__n_estimators=1000 \n",
      "[CV]  RF__max_features=None, RF__min_samples_leaf=100, RF__n_estimators=1000, score=0.9218298067591072, total=  36.3s\n",
      "[CV] RF__max_features=None, RF__min_samples_leaf=100, RF__n_estimators=1500 \n",
      "[CV]  RF__max_features=None, RF__min_samples_leaf=100, RF__n_estimators=1500, score=0.9150448962877195, total=  54.3s\n",
      "[CV] RF__max_features=None, RF__min_samples_leaf=100, RF__n_estimators=1500 \n",
      "[CV]  RF__max_features=None, RF__min_samples_leaf=100, RF__n_estimators=1500, score=0.9213302043427325, total=  55.1s\n",
      "[CV] RF__max_features=None, RF__min_samples_leaf=100, RF__n_estimators=1500 \n",
      "[CV]  RF__max_features=None, RF__min_samples_leaf=100, RF__n_estimators=1500, score=0.9168469549842232, total=  54.1s\n",
      "[CV] RF__max_features=None, RF__min_samples_leaf=100, RF__n_estimators=1500 \n",
      "[CV]  RF__max_features=None, RF__min_samples_leaf=100, RF__n_estimators=1500, score=0.9215332533116747, total=  54.2s\n",
      "[CV] RF__max_features=None, RF__min_samples_leaf=100, RF__n_estimators=1500 \n",
      "[CV]  RF__max_features=None, RF__min_samples_leaf=100, RF__n_estimators=1500, score=0.9210718815762924, total=  54.1s\n",
      "[CV] RF__max_features=None, RF__min_samples_leaf=500, RF__n_estimators=150 \n",
      "[CV]  RF__max_features=None, RF__min_samples_leaf=500, RF__n_estimators=150, score=0.8975174430369743, total=   3.3s\n",
      "[CV] RF__max_features=None, RF__min_samples_leaf=500, RF__n_estimators=150 \n",
      "[CV]  RF__max_features=None, RF__min_samples_leaf=500, RF__n_estimators=150, score=0.9055708491160482, total=   3.3s\n",
      "[CV] RF__max_features=None, RF__min_samples_leaf=500, RF__n_estimators=150 \n",
      "[CV]  RF__max_features=None, RF__min_samples_leaf=500, RF__n_estimators=150, score=0.8926050643647262, total=   3.3s\n",
      "[CV] RF__max_features=None, RF__min_samples_leaf=500, RF__n_estimators=150 \n",
      "[CV]  RF__max_features=None, RF__min_samples_leaf=500, RF__n_estimators=150, score=0.9024736036340375, total=   3.3s\n",
      "[CV] RF__max_features=None, RF__min_samples_leaf=500, RF__n_estimators=150 \n",
      "[CV]  RF__max_features=None, RF__min_samples_leaf=500, RF__n_estimators=150, score=0.8976008244688518, total=   3.5s\n",
      "[CV] RF__max_features=None, RF__min_samples_leaf=500, RF__n_estimators=500 \n",
      "[CV]  RF__max_features=None, RF__min_samples_leaf=500, RF__n_estimators=500, score=0.8939629789725642, total=  10.4s\n",
      "[CV] RF__max_features=None, RF__min_samples_leaf=500, RF__n_estimators=500 \n",
      "[CV]  RF__max_features=None, RF__min_samples_leaf=500, RF__n_estimators=500, score=0.9079110034572231, total=  10.4s\n",
      "[CV] RF__max_features=None, RF__min_samples_leaf=500, RF__n_estimators=500 \n",
      "[CV]  RF__max_features=None, RF__min_samples_leaf=500, RF__n_estimators=500, score=0.8930201467702635, total=  10.5s\n",
      "[CV] RF__max_features=None, RF__min_samples_leaf=500, RF__n_estimators=500 \n",
      "[CV]  RF__max_features=None, RF__min_samples_leaf=500, RF__n_estimators=500, score=0.9048095652236414, total=  10.5s\n",
      "[CV] RF__max_features=None, RF__min_samples_leaf=500, RF__n_estimators=500 \n",
      "[CV]  RF__max_features=None, RF__min_samples_leaf=500, RF__n_estimators=500, score=0.9002463557131463, total=  11.0s\n",
      "[CV] RF__max_features=None, RF__min_samples_leaf=500, RF__n_estimators=1000 \n"
     ]
    },
    {
     "name": "stdout",
     "output_type": "stream",
     "text": [
      "[CV]  RF__max_features=None, RF__min_samples_leaf=500, RF__n_estimators=1000, score=0.8972977212394944, total=  20.7s\n",
      "[CV] RF__max_features=None, RF__min_samples_leaf=500, RF__n_estimators=1000 \n",
      "[CV]  RF__max_features=None, RF__min_samples_leaf=500, RF__n_estimators=1000, score=0.9090172909074791, total=  20.2s\n",
      "[CV] RF__max_features=None, RF__min_samples_leaf=500, RF__n_estimators=1000 \n",
      "[CV]  RF__max_features=None, RF__min_samples_leaf=500, RF__n_estimators=1000, score=0.8929440782774739, total=  21.0s\n",
      "[CV] RF__max_features=None, RF__min_samples_leaf=500, RF__n_estimators=1000 \n",
      "[CV]  RF__max_features=None, RF__min_samples_leaf=500, RF__n_estimators=1000, score=0.9061332767910836, total=  20.3s\n",
      "[CV] RF__max_features=None, RF__min_samples_leaf=500, RF__n_estimators=1000 \n",
      "[CV]  RF__max_features=None, RF__min_samples_leaf=500, RF__n_estimators=1000, score=0.8999232465623108, total=  20.8s\n",
      "[CV] RF__max_features=None, RF__min_samples_leaf=500, RF__n_estimators=1500 \n",
      "[CV]  RF__max_features=None, RF__min_samples_leaf=500, RF__n_estimators=1500, score=0.8967032151226071, total=  30.8s\n",
      "[CV] RF__max_features=None, RF__min_samples_leaf=500, RF__n_estimators=1500 \n",
      "[CV]  RF__max_features=None, RF__min_samples_leaf=500, RF__n_estimators=1500, score=0.9089633841015653, total=  30.4s\n",
      "[CV] RF__max_features=None, RF__min_samples_leaf=500, RF__n_estimators=1500 \n",
      "[CV]  RF__max_features=None, RF__min_samples_leaf=500, RF__n_estimators=1500, score=0.8931944454427186, total=  30.8s\n",
      "[CV] RF__max_features=None, RF__min_samples_leaf=500, RF__n_estimators=1500 \n",
      "[CV]  RF__max_features=None, RF__min_samples_leaf=500, RF__n_estimators=1500, score=0.904877248213289, total=  30.3s\n",
      "[CV] RF__max_features=None, RF__min_samples_leaf=500, RF__n_estimators=1500 \n",
      "[CV]  RF__max_features=None, RF__min_samples_leaf=500, RF__n_estimators=1500, score=0.8992457983798898, total=  31.2s\n"
     ]
    },
    {
     "name": "stderr",
     "output_type": "stream",
     "text": [
      "[Parallel(n_jobs=1)]: Done 320 out of 320 | elapsed: 103.5min finished\n"
     ]
    },
    {
     "name": "stdout",
     "output_type": "stream",
     "text": [
      "0.9420160790494801\n",
      "{'RF__max_features': 0.25, 'RF__min_samples_leaf': 10, 'RF__n_estimators': 150}\n",
      "Fitting 5 folds for each of 64 candidates, totalling 320 fits\n",
      "[CV] RF__max_features=0.25, RF__min_samples_leaf=10, RF__n_estimators=150 \n"
     ]
    },
    {
     "name": "stderr",
     "output_type": "stream",
     "text": [
      "[Parallel(n_jobs=1)]: Using backend SequentialBackend with 1 concurrent workers.\n"
     ]
    },
    {
     "name": "stdout",
     "output_type": "stream",
     "text": [
      "[CV]  RF__max_features=0.25, RF__min_samples_leaf=10, RF__n_estimators=150, score=0.936062753024318, total=   2.8s\n",
      "[CV] RF__max_features=0.25, RF__min_samples_leaf=10, RF__n_estimators=150 \n"
     ]
    },
    {
     "name": "stderr",
     "output_type": "stream",
     "text": [
      "[Parallel(n_jobs=1)]: Done   1 out of   1 | elapsed:    2.9s remaining:    0.0s\n"
     ]
    },
    {
     "name": "stdout",
     "output_type": "stream",
     "text": [
      "[CV]  RF__max_features=0.25, RF__min_samples_leaf=10, RF__n_estimators=150, score=0.9426377678269808, total=   2.7s\n",
      "[CV] RF__max_features=0.25, RF__min_samples_leaf=10, RF__n_estimators=150 \n"
     ]
    },
    {
     "name": "stderr",
     "output_type": "stream",
     "text": [
      "[Parallel(n_jobs=1)]: Done   2 out of   2 | elapsed:    5.7s remaining:    0.0s\n"
     ]
    },
    {
     "name": "stdout",
     "output_type": "stream",
     "text": [
      "[CV]  RF__max_features=0.25, RF__min_samples_leaf=10, RF__n_estimators=150, score=0.9402652694022574, total=   2.6s\n",
      "[CV] RF__max_features=0.25, RF__min_samples_leaf=10, RF__n_estimators=150 \n"
     ]
    },
    {
     "name": "stderr",
     "output_type": "stream",
     "text": [
      "[Parallel(n_jobs=1)]: Done   3 out of   3 | elapsed:    8.4s remaining:    0.0s\n"
     ]
    },
    {
     "name": "stdout",
     "output_type": "stream",
     "text": [
      "[CV]  RF__max_features=0.25, RF__min_samples_leaf=10, RF__n_estimators=150, score=0.9423975830584086, total=   2.6s\n",
      "[CV] RF__max_features=0.25, RF__min_samples_leaf=10, RF__n_estimators=150 \n"
     ]
    },
    {
     "name": "stderr",
     "output_type": "stream",
     "text": [
      "[Parallel(n_jobs=1)]: Done   4 out of   4 | elapsed:   11.2s remaining:    0.0s\n"
     ]
    },
    {
     "name": "stdout",
     "output_type": "stream",
     "text": [
      "[CV]  RF__max_features=0.25, RF__min_samples_leaf=10, RF__n_estimators=150, score=0.9405611288881202, total=   2.7s\n",
      "[CV] RF__max_features=0.25, RF__min_samples_leaf=10, RF__n_estimators=500 \n"
     ]
    },
    {
     "name": "stderr",
     "output_type": "stream",
     "text": [
      "[Parallel(n_jobs=1)]: Done   5 out of   5 | elapsed:   14.0s remaining:    0.0s\n"
     ]
    },
    {
     "name": "stdout",
     "output_type": "stream",
     "text": [
      "[CV]  RF__max_features=0.25, RF__min_samples_leaf=10, RF__n_estimators=500, score=0.9361609393316386, total=   7.2s\n",
      "[CV] RF__max_features=0.25, RF__min_samples_leaf=10, RF__n_estimators=500 \n"
     ]
    },
    {
     "name": "stderr",
     "output_type": "stream",
     "text": [
      "[Parallel(n_jobs=1)]: Done   6 out of   6 | elapsed:   21.4s remaining:    0.0s\n"
     ]
    },
    {
     "name": "stdout",
     "output_type": "stream",
     "text": [
      "[CV]  RF__max_features=0.25, RF__min_samples_leaf=10, RF__n_estimators=500, score=0.9434379844125476, total=   7.3s\n",
      "[CV] RF__max_features=0.25, RF__min_samples_leaf=10, RF__n_estimators=500 \n"
     ]
    },
    {
     "name": "stderr",
     "output_type": "stream",
     "text": [
      "[Parallel(n_jobs=1)]: Done   7 out of   7 | elapsed:   28.9s remaining:    0.0s\n"
     ]
    },
    {
     "name": "stdout",
     "output_type": "stream",
     "text": [
      "[CV]  RF__max_features=0.25, RF__min_samples_leaf=10, RF__n_estimators=500, score=0.9407827747390312, total=   7.1s\n",
      "[CV] RF__max_features=0.25, RF__min_samples_leaf=10, RF__n_estimators=500 \n"
     ]
    },
    {
     "name": "stderr",
     "output_type": "stream",
     "text": [
      "[Parallel(n_jobs=1)]: Done   8 out of   8 | elapsed:   36.2s remaining:    0.0s\n"
     ]
    },
    {
     "name": "stdout",
     "output_type": "stream",
     "text": [
      "[CV]  RF__max_features=0.25, RF__min_samples_leaf=10, RF__n_estimators=500, score=0.9424275312839164, total=   7.1s\n",
      "[CV] RF__max_features=0.25, RF__min_samples_leaf=10, RF__n_estimators=500 \n"
     ]
    },
    {
     "name": "stderr",
     "output_type": "stream",
     "text": [
      "[Parallel(n_jobs=1)]: Done   9 out of   9 | elapsed:   43.5s remaining:    0.0s\n"
     ]
    },
    {
     "name": "stdout",
     "output_type": "stream",
     "text": [
      "[CV]  RF__max_features=0.25, RF__min_samples_leaf=10, RF__n_estimators=500, score=0.9406223875003604, total=   7.2s\n",
      "[CV] RF__max_features=0.25, RF__min_samples_leaf=10, RF__n_estimators=1000 \n",
      "[CV]  RF__max_features=0.25, RF__min_samples_leaf=10, RF__n_estimators=1000, score=0.9362094337883031, total=  13.8s\n",
      "[CV] RF__max_features=0.25, RF__min_samples_leaf=10, RF__n_estimators=1000 \n",
      "[CV]  RF__max_features=0.25, RF__min_samples_leaf=10, RF__n_estimators=1000, score=0.9438261134151279, total=  13.8s\n",
      "[CV] RF__max_features=0.25, RF__min_samples_leaf=10, RF__n_estimators=1000 \n",
      "[CV]  RF__max_features=0.25, RF__min_samples_leaf=10, RF__n_estimators=1000, score=0.9393021344699285, total=  13.2s\n",
      "[CV] RF__max_features=0.25, RF__min_samples_leaf=10, RF__n_estimators=1000 \n",
      "[CV]  RF__max_features=0.25, RF__min_samples_leaf=10, RF__n_estimators=1000, score=0.9439512969977502, total=  13.4s\n",
      "[CV] RF__max_features=0.25, RF__min_samples_leaf=10, RF__n_estimators=1000 \n",
      "[CV]  RF__max_features=0.25, RF__min_samples_leaf=10, RF__n_estimators=1000, score=0.9410890339877197, total=  13.5s\n",
      "[CV] RF__max_features=0.25, RF__min_samples_leaf=10, RF__n_estimators=1500 \n",
      "[CV]  RF__max_features=0.25, RF__min_samples_leaf=10, RF__n_estimators=1500, score=0.9365327301660665, total=  19.9s\n",
      "[CV] RF__max_features=0.25, RF__min_samples_leaf=10, RF__n_estimators=1500 \n",
      "[CV]  RF__max_features=0.25, RF__min_samples_leaf=10, RF__n_estimators=1500, score=0.9439135622336107, total=  19.9s\n",
      "[CV] RF__max_features=0.25, RF__min_samples_leaf=10, RF__n_estimators=1500 \n",
      "[CV]  RF__max_features=0.25, RF__min_samples_leaf=10, RF__n_estimators=1500, score=0.9398412025290678, total=  19.5s\n",
      "[CV] RF__max_features=0.25, RF__min_samples_leaf=10, RF__n_estimators=1500 \n",
      "[CV]  RF__max_features=0.25, RF__min_samples_leaf=10, RF__n_estimators=1500, score=0.942913890466162, total=  19.5s\n",
      "[CV] RF__max_features=0.25, RF__min_samples_leaf=10, RF__n_estimators=1500 \n",
      "[CV]  RF__max_features=0.25, RF__min_samples_leaf=10, RF__n_estimators=1500, score=0.9404740455667984, total=  19.8s\n",
      "[CV] RF__max_features=0.25, RF__min_samples_leaf=50, RF__n_estimators=150 \n",
      "[CV]  RF__max_features=0.25, RF__min_samples_leaf=50, RF__n_estimators=150, score=0.9290196815650418, total=   2.4s\n",
      "[CV] RF__max_features=0.25, RF__min_samples_leaf=50, RF__n_estimators=150 \n",
      "[CV]  RF__max_features=0.25, RF__min_samples_leaf=50, RF__n_estimators=150, score=0.9377933428688483, total=   2.3s\n",
      "[CV] RF__max_features=0.25, RF__min_samples_leaf=50, RF__n_estimators=150 \n",
      "[CV]  RF__max_features=0.25, RF__min_samples_leaf=50, RF__n_estimators=150, score=0.932465553551021, total=   2.2s\n",
      "[CV] RF__max_features=0.25, RF__min_samples_leaf=50, RF__n_estimators=150 \n",
      "[CV]  RF__max_features=0.25, RF__min_samples_leaf=50, RF__n_estimators=150, score=0.936863150984578, total=   2.2s\n",
      "[CV] RF__max_features=0.25, RF__min_samples_leaf=50, RF__n_estimators=150 \n",
      "[CV]  RF__max_features=0.25, RF__min_samples_leaf=50, RF__n_estimators=150, score=0.9321170495930508, total=   2.2s\n",
      "[CV] RF__max_features=0.25, RF__min_samples_leaf=50, RF__n_estimators=500 \n",
      "[CV]  RF__max_features=0.25, RF__min_samples_leaf=50, RF__n_estimators=500, score=0.9289921415032322, total=   5.9s\n",
      "[CV] RF__max_features=0.25, RF__min_samples_leaf=50, RF__n_estimators=500 \n",
      "[CV]  RF__max_features=0.25, RF__min_samples_leaf=50, RF__n_estimators=500, score=0.9374279745176539, total=   5.9s\n",
      "[CV] RF__max_features=0.25, RF__min_samples_leaf=50, RF__n_estimators=500 \n",
      "[CV]  RF__max_features=0.25, RF__min_samples_leaf=50, RF__n_estimators=500, score=0.9342888015199323, total=   5.7s\n",
      "[CV] RF__max_features=0.25, RF__min_samples_leaf=50, RF__n_estimators=500 \n",
      "[CV]  RF__max_features=0.25, RF__min_samples_leaf=50, RF__n_estimators=500, score=0.9366259610385566, total=   5.9s\n",
      "[CV] RF__max_features=0.25, RF__min_samples_leaf=50, RF__n_estimators=500 \n",
      "[CV]  RF__max_features=0.25, RF__min_samples_leaf=50, RF__n_estimators=500, score=0.932455773684261, total=   5.8s\n",
      "[CV] RF__max_features=0.25, RF__min_samples_leaf=50, RF__n_estimators=1000 \n",
      "[CV]  RF__max_features=0.25, RF__min_samples_leaf=50, RF__n_estimators=1000, score=0.9289813649573068, total=  11.1s\n",
      "[CV] RF__max_features=0.25, RF__min_samples_leaf=50, RF__n_estimators=1000 \n",
      "[CV]  RF__max_features=0.25, RF__min_samples_leaf=50, RF__n_estimators=1000, score=0.9385180899261356, total=  10.8s\n",
      "[CV] RF__max_features=0.25, RF__min_samples_leaf=50, RF__n_estimators=1000 \n",
      "[CV]  RF__max_features=0.25, RF__min_samples_leaf=50, RF__n_estimators=1000, score=0.9333699899613549, total=  10.9s\n",
      "[CV] RF__max_features=0.25, RF__min_samples_leaf=50, RF__n_estimators=1000 \n",
      "[CV]  RF__max_features=0.25, RF__min_samples_leaf=50, RF__n_estimators=1000, score=0.9359802772966096, total=  10.7s\n",
      "[CV] RF__max_features=0.25, RF__min_samples_leaf=50, RF__n_estimators=1000 \n",
      "[CV]  RF__max_features=0.25, RF__min_samples_leaf=50, RF__n_estimators=1000, score=0.93208822201082, total=  10.8s\n",
      "[CV] RF__max_features=0.25, RF__min_samples_leaf=50, RF__n_estimators=1500 \n",
      "[CV]  RF__max_features=0.25, RF__min_samples_leaf=50, RF__n_estimators=1500, score=0.9289478379255388, total=  16.3s\n",
      "[CV] RF__max_features=0.25, RF__min_samples_leaf=50, RF__n_estimators=1500 \n",
      "[CV]  RF__max_features=0.25, RF__min_samples_leaf=50, RF__n_estimators=1500, score=0.9381742842973069, total=  16.0s\n",
      "[CV] RF__max_features=0.25, RF__min_samples_leaf=50, RF__n_estimators=1500 \n",
      "[CV]  RF__max_features=0.25, RF__min_samples_leaf=50, RF__n_estimators=1500, score=0.9338048381957272, total=  16.1s\n",
      "[CV] RF__max_features=0.25, RF__min_samples_leaf=50, RF__n_estimators=1500 \n",
      "[CV]  RF__max_features=0.25, RF__min_samples_leaf=50, RF__n_estimators=1500, score=0.9367685145919734, total=  15.9s\n",
      "[CV] RF__max_features=0.25, RF__min_samples_leaf=50, RF__n_estimators=1500 \n",
      "[CV]  RF__max_features=0.25, RF__min_samples_leaf=50, RF__n_estimators=1500, score=0.9324449633409247, total=  15.7s\n",
      "[CV] RF__max_features=0.25, RF__min_samples_leaf=100, RF__n_estimators=150 \n",
      "[CV]  RF__max_features=0.25, RF__min_samples_leaf=100, RF__n_estimators=150, score=0.9225441748578396, total=   2.1s\n",
      "[CV] RF__max_features=0.25, RF__min_samples_leaf=100, RF__n_estimators=150 \n",
      "[CV]  RF__max_features=0.25, RF__min_samples_leaf=100, RF__n_estimators=150, score=0.9327189155388165, total=   2.1s\n",
      "[CV] RF__max_features=0.25, RF__min_samples_leaf=100, RF__n_estimators=150 \n",
      "[CV]  RF__max_features=0.25, RF__min_samples_leaf=100, RF__n_estimators=150, score=0.9280188410276314, total=   2.0s\n",
      "[CV] RF__max_features=0.25, RF__min_samples_leaf=100, RF__n_estimators=150 \n",
      "[CV]  RF__max_features=0.25, RF__min_samples_leaf=100, RF__n_estimators=150, score=0.9323745109454775, total=   2.1s\n",
      "[CV] RF__max_features=0.25, RF__min_samples_leaf=100, RF__n_estimators=150 \n",
      "[CV]  RF__max_features=0.25, RF__min_samples_leaf=100, RF__n_estimators=150, score=0.9275628921752332, total=   2.1s\n",
      "[CV] RF__max_features=0.25, RF__min_samples_leaf=100, RF__n_estimators=500 \n",
      "[CV]  RF__max_features=0.25, RF__min_samples_leaf=100, RF__n_estimators=500, score=0.9227537188063899, total=   5.2s\n",
      "[CV] RF__max_features=0.25, RF__min_samples_leaf=100, RF__n_estimators=500 \n",
      "[CV]  RF__max_features=0.25, RF__min_samples_leaf=100, RF__n_estimators=500, score=0.9329932412844673, total=   5.4s\n",
      "[CV] RF__max_features=0.25, RF__min_samples_leaf=100, RF__n_estimators=500 \n",
      "[CV]  RF__max_features=0.25, RF__min_samples_leaf=100, RF__n_estimators=500, score=0.9295473984575466, total=   5.2s\n",
      "[CV] RF__max_features=0.25, RF__min_samples_leaf=100, RF__n_estimators=500 \n",
      "[CV]  RF__max_features=0.25, RF__min_samples_leaf=100, RF__n_estimators=500, score=0.9332166550467551, total=   5.1s\n",
      "[CV] RF__max_features=0.25, RF__min_samples_leaf=100, RF__n_estimators=500 \n",
      "[CV]  RF__max_features=0.25, RF__min_samples_leaf=100, RF__n_estimators=500, score=0.928132837498919, total=   5.2s\n",
      "[CV] RF__max_features=0.25, RF__min_samples_leaf=100, RF__n_estimators=1000 \n",
      "[CV]  RF__max_features=0.25, RF__min_samples_leaf=100, RF__n_estimators=1000, score=0.924771327682432, total=   9.9s\n",
      "[CV] RF__max_features=0.25, RF__min_samples_leaf=100, RF__n_estimators=1000 \n",
      "[CV]  RF__max_features=0.25, RF__min_samples_leaf=100, RF__n_estimators=1000, score=0.9333190779779915, total=   9.6s\n",
      "[CV] RF__max_features=0.25, RF__min_samples_leaf=100, RF__n_estimators=1000 \n"
     ]
    },
    {
     "name": "stdout",
     "output_type": "stream",
     "text": [
      "[CV]  RF__max_features=0.25, RF__min_samples_leaf=100, RF__n_estimators=1000, score=0.9294587517100438, total=   9.4s\n",
      "[CV] RF__max_features=0.25, RF__min_samples_leaf=100, RF__n_estimators=1000 \n",
      "[CV]  RF__max_features=0.25, RF__min_samples_leaf=100, RF__n_estimators=1000, score=0.9313023644723003, total=   9.4s\n",
      "[CV] RF__max_features=0.25, RF__min_samples_leaf=100, RF__n_estimators=1000 \n",
      "[CV]  RF__max_features=0.25, RF__min_samples_leaf=100, RF__n_estimators=1000, score=0.9270445962697109, total=   9.4s\n",
      "[CV] RF__max_features=0.25, RF__min_samples_leaf=100, RF__n_estimators=1500 \n",
      "[CV]  RF__max_features=0.25, RF__min_samples_leaf=100, RF__n_estimators=1500, score=0.9240732469852612, total=  14.3s\n",
      "[CV] RF__max_features=0.25, RF__min_samples_leaf=100, RF__n_estimators=1500 \n",
      "[CV]  RF__max_features=0.25, RF__min_samples_leaf=100, RF__n_estimators=1500, score=0.9327512596223648, total=  14.2s\n",
      "[CV] RF__max_features=0.25, RF__min_samples_leaf=100, RF__n_estimators=1500 \n",
      "[CV]  RF__max_features=0.25, RF__min_samples_leaf=100, RF__n_estimators=1500, score=0.9291676549581085, total=  13.8s\n",
      "[CV] RF__max_features=0.25, RF__min_samples_leaf=100, RF__n_estimators=1500 \n",
      "[CV]  RF__max_features=0.25, RF__min_samples_leaf=100, RF__n_estimators=1500, score=0.9325937319561942, total=  13.9s\n",
      "[CV] RF__max_features=0.25, RF__min_samples_leaf=100, RF__n_estimators=1500 \n",
      "[CV]  RF__max_features=0.25, RF__min_samples_leaf=100, RF__n_estimators=1500, score=0.9274974295405845, total=  14.0s\n",
      "[CV] RF__max_features=0.25, RF__min_samples_leaf=500, RF__n_estimators=150 \n",
      "[CV]  RF__max_features=0.25, RF__min_samples_leaf=500, RF__n_estimators=150, score=0.9112557430009328, total=   1.6s\n",
      "[CV] RF__max_features=0.25, RF__min_samples_leaf=500, RF__n_estimators=150 \n",
      "[CV]  RF__max_features=0.25, RF__min_samples_leaf=500, RF__n_estimators=150, score=0.9205850924920996, total=   1.7s\n",
      "[CV] RF__max_features=0.25, RF__min_samples_leaf=500, RF__n_estimators=150 \n",
      "[CV]  RF__max_features=0.25, RF__min_samples_leaf=500, RF__n_estimators=150, score=0.9124619358053797, total=   1.5s\n",
      "[CV] RF__max_features=0.25, RF__min_samples_leaf=500, RF__n_estimators=150 \n",
      "[CV]  RF__max_features=0.25, RF__min_samples_leaf=500, RF__n_estimators=150, score=0.9214637734284967, total=   1.5s\n",
      "[CV] RF__max_features=0.25, RF__min_samples_leaf=500, RF__n_estimators=150 \n",
      "[CV]  RF__max_features=0.25, RF__min_samples_leaf=500, RF__n_estimators=150, score=0.9142427474607705, total=   1.7s\n",
      "[CV] RF__max_features=0.25, RF__min_samples_leaf=500, RF__n_estimators=500 \n",
      "[CV]  RF__max_features=0.25, RF__min_samples_leaf=500, RF__n_estimators=500, score=0.9097476252683658, total=   3.2s\n",
      "[CV] RF__max_features=0.25, RF__min_samples_leaf=500, RF__n_estimators=500 \n",
      "[CV]  RF__max_features=0.25, RF__min_samples_leaf=500, RF__n_estimators=500, score=0.920338319113916, total=   3.3s\n",
      "[CV] RF__max_features=0.25, RF__min_samples_leaf=500, RF__n_estimators=500 \n",
      "[CV]  RF__max_features=0.25, RF__min_samples_leaf=500, RF__n_estimators=500, score=0.9127955590375358, total=   3.4s\n",
      "[CV] RF__max_features=0.25, RF__min_samples_leaf=500, RF__n_estimators=500 \n",
      "[CV]  RF__max_features=0.25, RF__min_samples_leaf=500, RF__n_estimators=500, score=0.9212577296370035, total=   3.4s\n",
      "[CV] RF__max_features=0.25, RF__min_samples_leaf=500, RF__n_estimators=500 \n",
      "[CV]  RF__max_features=0.25, RF__min_samples_leaf=500, RF__n_estimators=500, score=0.9145952847684665, total=   3.4s\n",
      "[CV] RF__max_features=0.25, RF__min_samples_leaf=500, RF__n_estimators=1000 \n",
      "[CV]  RF__max_features=0.25, RF__min_samples_leaf=500, RF__n_estimators=1000, score=0.9108372538008279, total=   6.1s\n",
      "[CV] RF__max_features=0.25, RF__min_samples_leaf=500, RF__n_estimators=1000 \n",
      "[CV]  RF__max_features=0.25, RF__min_samples_leaf=500, RF__n_estimators=1000, score=0.9198639392218732, total=   6.0s\n",
      "[CV] RF__max_features=0.25, RF__min_samples_leaf=500, RF__n_estimators=1000 \n",
      "[CV]  RF__max_features=0.25, RF__min_samples_leaf=500, RF__n_estimators=1000, score=0.9105051187507038, total=   6.0s\n",
      "[CV] RF__max_features=0.25, RF__min_samples_leaf=500, RF__n_estimators=1000 \n",
      "[CV]  RF__max_features=0.25, RF__min_samples_leaf=500, RF__n_estimators=1000, score=0.9206767340621532, total=   6.0s\n",
      "[CV] RF__max_features=0.25, RF__min_samples_leaf=500, RF__n_estimators=1000 \n",
      "[CV]  RF__max_features=0.25, RF__min_samples_leaf=500, RF__n_estimators=1000, score=0.9133791211431097, total=   6.1s\n",
      "[CV] RF__max_features=0.25, RF__min_samples_leaf=500, RF__n_estimators=1500 \n",
      "[CV]  RF__max_features=0.25, RF__min_samples_leaf=500, RF__n_estimators=1500, score=0.9108109111330103, total=   8.7s\n",
      "[CV] RF__max_features=0.25, RF__min_samples_leaf=500, RF__n_estimators=1500 \n",
      "[CV]  RF__max_features=0.25, RF__min_samples_leaf=500, RF__n_estimators=1500, score=0.9206605620203792, total=   8.5s\n",
      "[CV] RF__max_features=0.25, RF__min_samples_leaf=500, RF__n_estimators=1500 \n",
      "[CV]  RF__max_features=0.25, RF__min_samples_leaf=500, RF__n_estimators=1500, score=0.9115305459920887, total=   8.9s\n",
      "[CV] RF__max_features=0.25, RF__min_samples_leaf=500, RF__n_estimators=1500 \n",
      "[CV]  RF__max_features=0.25, RF__min_samples_leaf=500, RF__n_estimators=1500, score=0.9213763246100143, total=   8.5s\n",
      "[CV] RF__max_features=0.25, RF__min_samples_leaf=500, RF__n_estimators=1500 \n",
      "[CV]  RF__max_features=0.25, RF__min_samples_leaf=500, RF__n_estimators=1500, score=0.9143544543419143, total=   8.7s\n",
      "[CV] RF__max_features=0.5, RF__min_samples_leaf=10, RF__n_estimators=150 \n",
      "[CV]  RF__max_features=0.5, RF__min_samples_leaf=10, RF__n_estimators=150, score=0.9371912968615106, total=   4.7s\n",
      "[CV] RF__max_features=0.5, RF__min_samples_leaf=10, RF__n_estimators=150 \n",
      "[CV]  RF__max_features=0.5, RF__min_samples_leaf=10, RF__n_estimators=150, score=0.9430678243452719, total=   4.7s\n",
      "[CV] RF__max_features=0.5, RF__min_samples_leaf=10, RF__n_estimators=150 \n",
      "[CV]  RF__max_features=0.5, RF__min_samples_leaf=10, RF__n_estimators=150, score=0.9390613507368462, total=   4.6s\n",
      "[CV] RF__max_features=0.5, RF__min_samples_leaf=10, RF__n_estimators=150 \n",
      "[CV]  RF__max_features=0.5, RF__min_samples_leaf=10, RF__n_estimators=150, score=0.9402652694022575, total=   4.5s\n",
      "[CV] RF__max_features=0.5, RF__min_samples_leaf=10, RF__n_estimators=150 \n",
      "[CV]  RF__max_features=0.5, RF__min_samples_leaf=10, RF__n_estimators=150, score=0.9382086780631709, total=   4.6s\n",
      "[CV] RF__max_features=0.5, RF__min_samples_leaf=10, RF__n_estimators=500 \n",
      "[CV]  RF__max_features=0.5, RF__min_samples_leaf=10, RF__n_estimators=500, score=0.9351323778927539, total=  13.9s\n",
      "[CV] RF__max_features=0.5, RF__min_samples_leaf=10, RF__n_estimators=500 \n",
      "[CV]  RF__max_features=0.5, RF__min_samples_leaf=10, RF__n_estimators=500, score=0.9419992716591555, total=  13.6s\n",
      "[CV] RF__max_features=0.5, RF__min_samples_leaf=10, RF__n_estimators=500 \n",
      "[CV]  RF__max_features=0.5, RF__min_samples_leaf=10, RF__n_estimators=500, score=0.9383006658089494, total=  13.5s\n",
      "[CV] RF__max_features=0.5, RF__min_samples_leaf=10, RF__n_estimators=500 \n",
      "[CV]  RF__max_features=0.5, RF__min_samples_leaf=10, RF__n_estimators=500, score=0.9422753942983371, total=  13.2s\n",
      "[CV] RF__max_features=0.5, RF__min_samples_leaf=10, RF__n_estimators=500 \n",
      "[CV]  RF__max_features=0.5, RF__min_samples_leaf=10, RF__n_estimators=500, score=0.9388512929170632, total=  13.5s\n",
      "[CV] RF__max_features=0.5, RF__min_samples_leaf=10, RF__n_estimators=1000 \n",
      "[CV]  RF__max_features=0.5, RF__min_samples_leaf=10, RF__n_estimators=1000, score=0.9342385232779377, total=  27.5s\n",
      "[CV] RF__max_features=0.5, RF__min_samples_leaf=10, RF__n_estimators=1000 \n",
      "[CV]  RF__max_features=0.5, RF__min_samples_leaf=10, RF__n_estimators=1000, score=0.9442801285138253, total=  26.2s\n",
      "[CV] RF__max_features=0.5, RF__min_samples_leaf=10, RF__n_estimators=1000 \n",
      "[CV]  RF__max_features=0.5, RF__min_samples_leaf=10, RF__n_estimators=1000, score=0.9376489924219009, total=  26.5s\n",
      "[CV] RF__max_features=0.5, RF__min_samples_leaf=10, RF__n_estimators=1000 \n",
      "[CV]  RF__max_features=0.5, RF__min_samples_leaf=10, RF__n_estimators=1000, score=0.9415698141053748, total=  26.2s\n",
      "[CV] RF__max_features=0.5, RF__min_samples_leaf=10, RF__n_estimators=1000 \n",
      "[CV]  RF__max_features=0.5, RF__min_samples_leaf=10, RF__n_estimators=1000, score=0.9393876060614798, total=  27.0s\n",
      "[CV] RF__max_features=0.5, RF__min_samples_leaf=10, RF__n_estimators=1500 \n"
     ]
    },
    {
     "name": "stdout",
     "output_type": "stream",
     "text": [
      "[CV]  RF__max_features=0.5, RF__min_samples_leaf=10, RF__n_estimators=1500, score=0.9364183790398577, total=  40.5s\n",
      "[CV] RF__max_features=0.5, RF__min_samples_leaf=10, RF__n_estimators=1500 \n",
      "[CV]  RF__max_features=0.5, RF__min_samples_leaf=10, RF__n_estimators=1500, score=0.9430630326291907, total=  39.8s\n",
      "[CV] RF__max_features=0.5, RF__min_samples_leaf=10, RF__n_estimators=1500 \n",
      "[CV]  RF__max_features=0.5, RF__min_samples_leaf=10, RF__n_estimators=1500, score=0.9387259306111595, total=  39.5s\n",
      "[CV] RF__max_features=0.5, RF__min_samples_leaf=10, RF__n_estimators=1500 \n",
      "[CV]  RF__max_features=0.5, RF__min_samples_leaf=10, RF__n_estimators=1500, score=0.9418800777216347, total=  39.4s\n",
      "[CV] RF__max_features=0.5, RF__min_samples_leaf=10, RF__n_estimators=1500 \n",
      "[CV]  RF__max_features=0.5, RF__min_samples_leaf=10, RF__n_estimators=1500, score=0.9390765084032403, total=  39.8s\n",
      "[CV] RF__max_features=0.5, RF__min_samples_leaf=50, RF__n_estimators=150 \n",
      "[CV]  RF__max_features=0.5, RF__min_samples_leaf=50, RF__n_estimators=150, score=0.9275289260453548, total=   3.8s\n",
      "[CV] RF__max_features=0.5, RF__min_samples_leaf=50, RF__n_estimators=150 \n",
      "[CV]  RF__max_features=0.5, RF__min_samples_leaf=50, RF__n_estimators=150, score=0.9355795700393159, total=   3.8s\n",
      "[CV] RF__max_features=0.5, RF__min_samples_leaf=50, RF__n_estimators=150 \n",
      "[CV]  RF__max_features=0.5, RF__min_samples_leaf=50, RF__n_estimators=150, score=0.933142383447496, total=   3.7s\n",
      "[CV] RF__max_features=0.5, RF__min_samples_leaf=50, RF__n_estimators=150 \n",
      "[CV]  RF__max_features=0.5, RF__min_samples_leaf=50, RF__n_estimators=150, score=0.9344121882090242, total=   3.8s\n",
      "[CV] RF__max_features=0.5, RF__min_samples_leaf=50, RF__n_estimators=150 \n",
      "[CV]  RF__max_features=0.5, RF__min_samples_leaf=50, RF__n_estimators=150, score=0.9297820154323658, total=   3.9s\n",
      "[CV] RF__max_features=0.5, RF__min_samples_leaf=50, RF__n_estimators=500 \n",
      "[CV]  RF__max_features=0.5, RF__min_samples_leaf=50, RF__n_estimators=500, score=0.9288987447718785, total=  11.5s\n",
      "[CV] RF__max_features=0.5, RF__min_samples_leaf=50, RF__n_estimators=500 \n",
      "[CV]  RF__max_features=0.5, RF__min_samples_leaf=50, RF__n_estimators=500, score=0.9362803585161973, total=  11.0s\n",
      "[CV] RF__max_features=0.5, RF__min_samples_leaf=50, RF__n_estimators=500 \n",
      "[CV]  RF__max_features=0.5, RF__min_samples_leaf=50, RF__n_estimators=500, score=0.9325913360981535, total=  10.9s\n",
      "[CV] RF__max_features=0.5, RF__min_samples_leaf=50, RF__n_estimators=500 \n",
      "[CV]  RF__max_features=0.5, RF__min_samples_leaf=50, RF__n_estimators=500, score=0.9337724941121789, total=  10.8s\n",
      "[CV] RF__max_features=0.5, RF__min_samples_leaf=50, RF__n_estimators=500 \n",
      "[CV]  RF__max_features=0.5, RF__min_samples_leaf=50, RF__n_estimators=500, score=0.9301976130761913, total=  10.9s\n",
      "[CV] RF__max_features=0.5, RF__min_samples_leaf=50, RF__n_estimators=1000 \n",
      "[CV]  RF__max_features=0.5, RF__min_samples_leaf=50, RF__n_estimators=1000, score=0.9276199279887253, total=  22.1s\n",
      "[CV] RF__max_features=0.5, RF__min_samples_leaf=50, RF__n_estimators=1000 \n",
      "[CV]  RF__max_features=0.5, RF__min_samples_leaf=50, RF__n_estimators=1000, score=0.9364995795269139, total=  21.0s\n",
      "[CV] RF__max_features=0.5, RF__min_samples_leaf=50, RF__n_estimators=1000 \n",
      "[CV]  RF__max_features=0.5, RF__min_samples_leaf=50, RF__n_estimators=1000, score=0.9336778577195745, total=  20.8s\n",
      "[CV] RF__max_features=0.5, RF__min_samples_leaf=50, RF__n_estimators=1000 \n",
      "[CV]  RF__max_features=0.5, RF__min_samples_leaf=50, RF__n_estimators=1000, score=0.9351237580470881, total=  20.7s\n",
      "[CV] RF__max_features=0.5, RF__min_samples_leaf=50, RF__n_estimators=1000 \n",
      "[CV]  RF__max_features=0.5, RF__min_samples_leaf=50, RF__n_estimators=1000, score=0.9298306619773801, total=  21.1s\n",
      "[CV] RF__max_features=0.5, RF__min_samples_leaf=50, RF__n_estimators=1500 \n",
      "[CV]  RF__max_features=0.5, RF__min_samples_leaf=50, RF__n_estimators=1500, score=0.9276642315664188, total=  31.8s\n",
      "[CV] RF__max_features=0.5, RF__min_samples_leaf=50, RF__n_estimators=1500 \n",
      "[CV]  RF__max_features=0.5, RF__min_samples_leaf=50, RF__n_estimators=1500, score=0.9366169765709041, total=  30.9s\n",
      "[CV] RF__max_features=0.5, RF__min_samples_leaf=50, RF__n_estimators=1500 \n",
      "[CV]  RF__max_features=0.5, RF__min_samples_leaf=50, RF__n_estimators=1500, score=0.9329938402489776, total=  31.1s\n",
      "[CV] RF__max_features=0.5, RF__min_samples_leaf=50, RF__n_estimators=1500 \n",
      "[CV]  RF__max_features=0.5, RF__min_samples_leaf=50, RF__n_estimators=1500, score=0.9353214163354394, total=  31.1s\n",
      "[CV] RF__max_features=0.5, RF__min_samples_leaf=50, RF__n_estimators=1500 \n",
      "[CV]  RF__max_features=0.5, RF__min_samples_leaf=50, RF__n_estimators=1500, score=0.9300132366648408, total=  31.2s\n",
      "[CV] RF__max_features=0.5, RF__min_samples_leaf=100, RF__n_estimators=150 \n",
      "[CV]  RF__max_features=0.5, RF__min_samples_leaf=100, RF__n_estimators=150, score=0.9215216003889136, total=   3.4s\n",
      "[CV] RF__max_features=0.5, RF__min_samples_leaf=100, RF__n_estimators=150 \n",
      "[CV]  RF__max_features=0.5, RF__min_samples_leaf=100, RF__n_estimators=150, score=0.9304176938908018, total=   3.4s\n",
      "[CV] RF__max_features=0.5, RF__min_samples_leaf=100, RF__n_estimators=150 \n",
      "[CV]  RF__max_features=0.5, RF__min_samples_leaf=100, RF__n_estimators=150, score=0.9281853531614546, total=   3.4s\n",
      "[CV] RF__max_features=0.5, RF__min_samples_leaf=100, RF__n_estimators=150 \n",
      "[CV]  RF__max_features=0.5, RF__min_samples_leaf=100, RF__n_estimators=150, score=0.9304997520286928, total=   3.6s\n",
      "[CV] RF__max_features=0.5, RF__min_samples_leaf=100, RF__n_estimators=150 \n",
      "[CV]  RF__max_features=0.5, RF__min_samples_leaf=100, RF__n_estimators=150, score=0.9245924500562139, total=   3.4s\n",
      "[CV] RF__max_features=0.5, RF__min_samples_leaf=100, RF__n_estimators=500 \n",
      "[CV]  RF__max_features=0.5, RF__min_samples_leaf=100, RF__n_estimators=500, score=0.9203852734907746, total=   9.9s\n",
      "[CV] RF__max_features=0.5, RF__min_samples_leaf=100, RF__n_estimators=500 \n",
      "[CV]  RF__max_features=0.5, RF__min_samples_leaf=100, RF__n_estimators=500, score=0.9306417066175995, total=   9.6s\n",
      "[CV] RF__max_features=0.5, RF__min_samples_leaf=100, RF__n_estimators=500 \n",
      "[CV]  RF__max_features=0.5, RF__min_samples_leaf=100, RF__n_estimators=500, score=0.9292598954926723, total=   9.5s\n",
      "[CV] RF__max_features=0.5, RF__min_samples_leaf=100, RF__n_estimators=500 \n",
      "[CV]  RF__max_features=0.5, RF__min_samples_leaf=100, RF__n_estimators=500, score=0.9297821925455272, total=   9.5s\n",
      "[CV] RF__max_features=0.5, RF__min_samples_leaf=100, RF__n_estimators=500 \n",
      "[CV]  RF__max_features=0.5, RF__min_samples_leaf=100, RF__n_estimators=500, score=0.927278820375335, total=   9.5s\n",
      "[CV] RF__max_features=0.5, RF__min_samples_leaf=100, RF__n_estimators=1000 \n",
      "[CV]  RF__max_features=0.5, RF__min_samples_leaf=100, RF__n_estimators=1000, score=0.9207253333844222, total=  18.9s\n",
      "[CV] RF__max_features=0.5, RF__min_samples_leaf=100, RF__n_estimators=1000 \n",
      "[CV]  RF__max_features=0.5, RF__min_samples_leaf=100, RF__n_estimators=1000, score=0.9301206074937649, total=  18.1s\n",
      "[CV] RF__max_features=0.5, RF__min_samples_leaf=100, RF__n_estimators=1000 \n",
      "[CV]  RF__max_features=0.5, RF__min_samples_leaf=100, RF__n_estimators=1000, score=0.9288082762520156, total=  18.0s\n",
      "[CV] RF__max_features=0.5, RF__min_samples_leaf=100, RF__n_estimators=1000 \n",
      "[CV]  RF__max_features=0.5, RF__min_samples_leaf=100, RF__n_estimators=1000, score=0.9295066688708561, total=  18.1s\n",
      "[CV] RF__max_features=0.5, RF__min_samples_leaf=100, RF__n_estimators=1000 \n",
      "[CV]  RF__max_features=0.5, RF__min_samples_leaf=100, RF__n_estimators=1000, score=0.9253221482314278, total=  18.2s\n",
      "[CV] RF__max_features=0.5, RF__min_samples_leaf=100, RF__n_estimators=1500 \n",
      "[CV]  RF__max_features=0.5, RF__min_samples_leaf=100, RF__n_estimators=1500, score=0.9209624173947821, total=  28.0s\n",
      "[CV] RF__max_features=0.5, RF__min_samples_leaf=100, RF__n_estimators=1500 \n",
      "[CV]  RF__max_features=0.5, RF__min_samples_leaf=100, RF__n_estimators=1500, score=0.9302272231765724, total=  27.0s\n",
      "[CV] RF__max_features=0.5, RF__min_samples_leaf=100, RF__n_estimators=1500 \n",
      "[CV]  RF__max_features=0.5, RF__min_samples_leaf=100, RF__n_estimators=1500, score=0.9292179679769613, total=  26.6s\n",
      "[CV] RF__max_features=0.5, RF__min_samples_leaf=100, RF__n_estimators=1500 \n"
     ]
    },
    {
     "name": "stdout",
     "output_type": "stream",
     "text": [
      "[CV]  RF__max_features=0.5, RF__min_samples_leaf=100, RF__n_estimators=1500, score=0.9300265700656705, total=  26.5s\n",
      "[CV] RF__max_features=0.5, RF__min_samples_leaf=100, RF__n_estimators=1500 \n",
      "[CV]  RF__max_features=0.5, RF__min_samples_leaf=100, RF__n_estimators=1500, score=0.925526343605562, total=  27.0s\n",
      "[CV] RF__max_features=0.5, RF__min_samples_leaf=500, RF__n_estimators=150 \n",
      "[CV]  RF__max_features=0.5, RF__min_samples_leaf=500, RF__n_estimators=150, score=0.9089333973539988, total=   2.3s\n",
      "[CV] RF__max_features=0.5, RF__min_samples_leaf=500, RF__n_estimators=150 \n",
      "[CV]  RF__max_features=0.5, RF__min_samples_leaf=500, RF__n_estimators=150, score=0.9197106043072735, total=   2.3s\n",
      "[CV] RF__max_features=0.5, RF__min_samples_leaf=500, RF__n_estimators=150 \n",
      "[CV]  RF__max_features=0.5, RF__min_samples_leaf=500, RF__n_estimators=150, score=0.9113646328227759, total=   2.3s\n",
      "[CV] RF__max_features=0.5, RF__min_samples_leaf=500, RF__n_estimators=150 \n",
      "[CV]  RF__max_features=0.5, RF__min_samples_leaf=500, RF__n_estimators=150, score=0.9199507890758456, total=   2.3s\n",
      "[CV] RF__max_features=0.5, RF__min_samples_leaf=500, RF__n_estimators=150 \n",
      "[CV]  RF__max_features=0.5, RF__min_samples_leaf=500, RF__n_estimators=150, score=0.9124206040339397, total=   2.3s\n",
      "[CV] RF__max_features=0.5, RF__min_samples_leaf=500, RF__n_estimators=500 \n",
      "[CV]  RF__max_features=0.5, RF__min_samples_leaf=500, RF__n_estimators=500, score=0.9102541229268619, total=   5.8s\n",
      "[CV] RF__max_features=0.5, RF__min_samples_leaf=500, RF__n_estimators=500 \n",
      "[CV]  RF__max_features=0.5, RF__min_samples_leaf=500, RF__n_estimators=500, score=0.9186384578340965, total=   5.8s\n",
      "[CV] RF__max_features=0.5, RF__min_samples_leaf=500, RF__n_estimators=500 \n",
      "[CV]  RF__max_features=0.5, RF__min_samples_leaf=500, RF__n_estimators=500, score=0.9120630254416165, total=   5.9s\n",
      "[CV] RF__max_features=0.5, RF__min_samples_leaf=500, RF__n_estimators=500 \n",
      "[CV]  RF__max_features=0.5, RF__min_samples_leaf=500, RF__n_estimators=500, score=0.9175579258577771, total=   5.6s\n",
      "[CV] RF__max_features=0.5, RF__min_samples_leaf=500, RF__n_estimators=500 \n",
      "[CV]  RF__max_features=0.5, RF__min_samples_leaf=500, RF__n_estimators=500, score=0.9129395005140919, total=   5.8s\n",
      "[CV] RF__max_features=0.5, RF__min_samples_leaf=500, RF__n_estimators=1000 \n",
      "[CV]  RF__max_features=0.5, RF__min_samples_leaf=500, RF__n_estimators=1000, score=0.9096434519910866, total=  11.0s\n",
      "[CV] RF__max_features=0.5, RF__min_samples_leaf=500, RF__n_estimators=1000 \n",
      "[CV]  RF__max_features=0.5, RF__min_samples_leaf=500, RF__n_estimators=1000, score=0.9193320587368556, total=  10.9s\n",
      "[CV] RF__max_features=0.5, RF__min_samples_leaf=500, RF__n_estimators=1000 \n",
      "[CV]  RF__max_features=0.5, RF__min_samples_leaf=500, RF__n_estimators=1000, score=0.9120121134582533, total=  11.0s\n",
      "[CV] RF__max_features=0.5, RF__min_samples_leaf=500, RF__n_estimators=1000 \n",
      "[CV]  RF__max_features=0.5, RF__min_samples_leaf=500, RF__n_estimators=1000, score=0.9199394087501528, total=  10.6s\n",
      "[CV] RF__max_features=0.5, RF__min_samples_leaf=500, RF__n_estimators=1000 \n",
      "[CV]  RF__max_features=0.5, RF__min_samples_leaf=500, RF__n_estimators=1000, score=0.9124452275937618, total=  11.0s\n",
      "[CV] RF__max_features=0.5, RF__min_samples_leaf=500, RF__n_estimators=1500 \n",
      "[CV]  RF__max_features=0.5, RF__min_samples_leaf=500, RF__n_estimators=1500, score=0.9086759576457796, total=  15.9s\n",
      "[CV] RF__max_features=0.5, RF__min_samples_leaf=500, RF__n_estimators=1500 \n",
      "[CV]  RF__max_features=0.5, RF__min_samples_leaf=500, RF__n_estimators=1500, score=0.9194135179102367, total=  15.9s\n",
      "[CV] RF__max_features=0.5, RF__min_samples_leaf=500, RF__n_estimators=1500 \n",
      "[CV]  RF__max_features=0.5, RF__min_samples_leaf=500, RF__n_estimators=1500, score=0.9115149729148249, total=  16.0s\n",
      "[CV] RF__max_features=0.5, RF__min_samples_leaf=500, RF__n_estimators=1500 \n",
      "[CV]  RF__max_features=0.5, RF__min_samples_leaf=500, RF__n_estimators=1500, score=0.9195183366995139, total=  15.6s\n",
      "[CV] RF__max_features=0.5, RF__min_samples_leaf=500, RF__n_estimators=1500 \n",
      "[CV]  RF__max_features=0.5, RF__min_samples_leaf=500, RF__n_estimators=1500, score=0.9123233109439113, total=  16.2s\n",
      "[CV] RF__max_features=0.75, RF__min_samples_leaf=10, RF__n_estimators=150 \n",
      "[CV]  RF__max_features=0.75, RF__min_samples_leaf=10, RF__n_estimators=150, score=0.9337481904383301, total=   6.7s\n",
      "[CV] RF__max_features=0.75, RF__min_samples_leaf=10, RF__n_estimators=150 \n",
      "[CV]  RF__max_features=0.75, RF__min_samples_leaf=10, RF__n_estimators=150, score=0.9413613744558408, total=   6.4s\n",
      "[CV] RF__max_features=0.75, RF__min_samples_leaf=10, RF__n_estimators=150 \n",
      "[CV]  RF__max_features=0.75, RF__min_samples_leaf=10, RF__n_estimators=150, score=0.9362887440193394, total=   6.4s\n",
      "[CV] RF__max_features=0.75, RF__min_samples_leaf=10, RF__n_estimators=150 \n",
      "[CV]  RF__max_features=0.75, RF__min_samples_leaf=10, RF__n_estimators=150, score=0.939483021751995, total=   6.3s\n",
      "[CV] RF__max_features=0.75, RF__min_samples_leaf=10, RF__n_estimators=150 \n",
      "[CV]  RF__max_features=0.75, RF__min_samples_leaf=10, RF__n_estimators=150, score=0.937608704007995, total=   6.5s\n",
      "[CV] RF__max_features=0.75, RF__min_samples_leaf=10, RF__n_estimators=500 \n",
      "[CV]  RF__max_features=0.75, RF__min_samples_leaf=10, RF__n_estimators=500, score=0.9353694619031141, total=  20.3s\n",
      "[CV] RF__max_features=0.75, RF__min_samples_leaf=10, RF__n_estimators=500 \n",
      "[CV]  RF__max_features=0.75, RF__min_samples_leaf=10, RF__n_estimators=500, score=0.9434128279031211, total=  20.0s\n",
      "[CV] RF__max_features=0.75, RF__min_samples_leaf=10, RF__n_estimators=500 \n",
      "[CV]  RF__max_features=0.75, RF__min_samples_leaf=10, RF__n_estimators=500, score=0.9370428403376243, total=  19.8s\n",
      "[CV] RF__max_features=0.75, RF__min_samples_leaf=10, RF__n_estimators=500 \n",
      "[CV]  RF__max_features=0.75, RF__min_samples_leaf=10, RF__n_estimators=500, score=0.9397765143619711, total=  19.9s\n",
      "[CV] RF__max_features=0.75, RF__min_samples_leaf=10, RF__n_estimators=500 \n",
      "[CV]  RF__max_features=0.75, RF__min_samples_leaf=10, RF__n_estimators=500, score=0.9375330316046394, total=  20.0s\n",
      "[CV] RF__max_features=0.75, RF__min_samples_leaf=10, RF__n_estimators=1000 \n",
      "[CV]  RF__max_features=0.75, RF__min_samples_leaf=10, RF__n_estimators=1000, score=0.9352018267442737, total=  40.7s\n",
      "[CV] RF__max_features=0.75, RF__min_samples_leaf=10, RF__n_estimators=1000 \n",
      "[CV]  RF__max_features=0.75, RF__min_samples_leaf=10, RF__n_estimators=1000, score=0.9431672524539576, total=  39.6s\n",
      "[CV] RF__max_features=0.75, RF__min_samples_leaf=10, RF__n_estimators=1000 \n",
      "[CV]  RF__max_features=0.75, RF__min_samples_leaf=10, RF__n_estimators=1000, score=0.9372141441875286, total=  39.0s\n",
      "[CV] RF__max_features=0.75, RF__min_samples_leaf=10, RF__n_estimators=1000 \n",
      "[CV]  RF__max_features=0.75, RF__min_samples_leaf=10, RF__n_estimators=1000, score=0.9411744975286724, total=  38.4s\n",
      "[CV] RF__max_features=0.75, RF__min_samples_leaf=10, RF__n_estimators=1000 \n",
      "[CV]  RF__max_features=0.75, RF__min_samples_leaf=10, RF__n_estimators=1000, score=0.9373480546186591, total=  39.2s\n",
      "[CV] RF__max_features=0.75, RF__min_samples_leaf=10, RF__n_estimators=1500 \n",
      "[CV]  RF__max_features=0.75, RF__min_samples_leaf=10, RF__n_estimators=1500, score=0.9350892717090524, total= 1.0min\n",
      "[CV] RF__max_features=0.75, RF__min_samples_leaf=10, RF__n_estimators=1500 \n",
      "[CV]  RF__max_features=0.75, RF__min_samples_leaf=10, RF__n_estimators=1500, score=0.9417381231327282, total=  58.8s\n",
      "[CV] RF__max_features=0.75, RF__min_samples_leaf=10, RF__n_estimators=1500 \n",
      "[CV]  RF__max_features=0.75, RF__min_samples_leaf=10, RF__n_estimators=1500, score=0.9364019483117586, total=  59.0s\n",
      "[CV] RF__max_features=0.75, RF__min_samples_leaf=10, RF__n_estimators=1500 \n",
      "[CV]  RF__max_features=0.75, RF__min_samples_leaf=10, RF__n_estimators=1500, score=0.9407061072817313, total=  58.7s\n",
      "[CV] RF__max_features=0.75, RF__min_samples_leaf=10, RF__n_estimators=1500 \n",
      "[CV]  RF__max_features=0.75, RF__min_samples_leaf=10, RF__n_estimators=1500, score=0.9366988334438391, total=  58.4s\n",
      "[CV] RF__max_features=0.75, RF__min_samples_leaf=50, RF__n_estimators=150 \n",
      "[CV]  RF__max_features=0.75, RF__min_samples_leaf=50, RF__n_estimators=150, score=0.9267679821636189, total=   5.2s\n",
      "[CV] RF__max_features=0.75, RF__min_samples_leaf=50, RF__n_estimators=150 \n"
     ]
    },
    {
     "name": "stdout",
     "output_type": "stream",
     "text": [
      "[CV]  RF__max_features=0.75, RF__min_samples_leaf=50, RF__n_estimators=150, score=0.9345361738626263, total=   5.2s\n",
      "[CV] RF__max_features=0.75, RF__min_samples_leaf=50, RF__n_estimators=150 \n",
      "[CV]  RF__max_features=0.75, RF__min_samples_leaf=50, RF__n_estimators=150, score=0.9285159815710597, total=   5.2s\n",
      "[CV] RF__max_features=0.75, RF__min_samples_leaf=50, RF__n_estimators=150 \n",
      "[CV]  RF__max_features=0.75, RF__min_samples_leaf=50, RF__n_estimators=150, score=0.931974402652694, total=   5.2s\n",
      "[CV] RF__max_features=0.75, RF__min_samples_leaf=50, RF__n_estimators=150 \n",
      "[CV]  RF__max_features=0.75, RF__min_samples_leaf=50, RF__n_estimators=150, score=0.9284571477990141, total=   5.2s\n",
      "[CV] RF__max_features=0.75, RF__min_samples_leaf=50, RF__n_estimators=500 \n",
      "[CV]  RF__max_features=0.75, RF__min_samples_leaf=50, RF__n_estimators=500, score=0.9259555503402394, total=  16.3s\n",
      "[CV] RF__max_features=0.75, RF__min_samples_leaf=50, RF__n_estimators=500 \n",
      "[CV]  RF__max_features=0.75, RF__min_samples_leaf=50, RF__n_estimators=500, score=0.9342822129103207, total=  15.4s\n",
      "[CV] RF__max_features=0.75, RF__min_samples_leaf=50, RF__n_estimators=500 \n",
      "[CV]  RF__max_features=0.75, RF__min_samples_leaf=50, RF__n_estimators=500, score=0.9315730964308903, total=  15.6s\n",
      "[CV] RF__max_features=0.75, RF__min_samples_leaf=50, RF__n_estimators=500 \n",
      "[CV]  RF__max_features=0.75, RF__min_samples_leaf=50, RF__n_estimators=500, score=0.9328129529669108, total=  15.6s\n",
      "[CV] RF__max_features=0.75, RF__min_samples_leaf=50, RF__n_estimators=500 \n",
      "[CV]  RF__max_features=0.75, RF__min_samples_leaf=50, RF__n_estimators=500, score=0.9277358576686173, total=  15.9s\n",
      "[CV] RF__max_features=0.75, RF__min_samples_leaf=50, RF__n_estimators=1000 \n",
      "[CV]  RF__max_features=0.75, RF__min_samples_leaf=50, RF__n_estimators=1000, score=0.925459829227669, total=  32.1s\n",
      "[CV] RF__max_features=0.75, RF__min_samples_leaf=50, RF__n_estimators=1000 \n",
      "[CV]  RF__max_features=0.75, RF__min_samples_leaf=50, RF__n_estimators=1000, score=0.9346439874744543, total=  31.4s\n",
      "[CV] RF__max_features=0.75, RF__min_samples_leaf=50, RF__n_estimators=1000 \n",
      "[CV]  RF__max_features=0.75, RF__min_samples_leaf=50, RF__n_estimators=1000, score=0.9317611712870789, total=  30.4s\n",
      "[CV] RF__max_features=0.75, RF__min_samples_leaf=50, RF__n_estimators=1000 \n",
      "[CV]  RF__max_features=0.75, RF__min_samples_leaf=50, RF__n_estimators=1000, score=0.9311454357706397, total=  30.9s\n",
      "[CV] RF__max_features=0.75, RF__min_samples_leaf=50, RF__n_estimators=1000 \n",
      "[CV]  RF__max_features=0.75, RF__min_samples_leaf=50, RF__n_estimators=1000, score=0.928905777047479, total=  30.8s\n",
      "[CV] RF__max_features=0.75, RF__min_samples_leaf=50, RF__n_estimators=1500 \n",
      "[CV]  RF__max_features=0.75, RF__min_samples_leaf=50, RF__n_estimators=1500, score=0.926244720989239, total=  47.5s\n",
      "[CV] RF__max_features=0.75, RF__min_samples_leaf=50, RF__n_estimators=1500 \n",
      "[CV]  RF__max_features=0.75, RF__min_samples_leaf=50, RF__n_estimators=1500, score=0.9342690356910972, total=  46.4s\n",
      "[CV] RF__max_features=0.75, RF__min_samples_leaf=50, RF__n_estimators=1500 \n",
      "[CV]  RF__max_features=0.75, RF__min_samples_leaf=50, RF__n_estimators=1500, score=0.9314149698002094, total=  45.4s\n",
      "[CV] RF__max_features=0.75, RF__min_samples_leaf=50, RF__n_estimators=1500 \n",
      "[CV]  RF__max_features=0.75, RF__min_samples_leaf=50, RF__n_estimators=1500, score=0.9315120020508545, total=  46.3s\n",
      "[CV] RF__max_features=0.75, RF__min_samples_leaf=50, RF__n_estimators=1500 \n",
      "[CV]  RF__max_features=0.75, RF__min_samples_leaf=50, RF__n_estimators=1500, score=0.9276709956085983, total=  46.3s\n",
      "[CV] RF__max_features=0.75, RF__min_samples_leaf=100, RF__n_estimators=150 \n",
      "[CV]  RF__max_features=0.75, RF__min_samples_leaf=100, RF__n_estimators=150, score=0.9189687563985741, total=   4.6s\n",
      "[CV] RF__max_features=0.75, RF__min_samples_leaf=100, RF__n_estimators=150 \n",
      "[CV]  RF__max_features=0.75, RF__min_samples_leaf=100, RF__n_estimators=150, score=0.9260165026701838, total=   4.6s\n",
      "[CV] RF__max_features=0.75, RF__min_samples_leaf=100, RF__n_estimators=150 \n",
      "[CV]  RF__max_features=0.75, RF__min_samples_leaf=100, RF__n_estimators=150, score=0.9265166380361631, total=   4.6s\n",
      "[CV] RF__max_features=0.75, RF__min_samples_leaf=100, RF__n_estimators=150 \n",
      "[CV]  RF__max_features=0.75, RF__min_samples_leaf=100, RF__n_estimators=150, score=0.9240357270351018, total=   4.7s\n",
      "[CV] RF__max_features=0.75, RF__min_samples_leaf=100, RF__n_estimators=150 \n",
      "[CV]  RF__max_features=0.75, RF__min_samples_leaf=100, RF__n_estimators=150, score=0.9247564069301507, total=   4.7s\n",
      "[CV] RF__max_features=0.75, RF__min_samples_leaf=100, RF__n_estimators=500 \n",
      "[CV]  RF__max_features=0.75, RF__min_samples_leaf=100, RF__n_estimators=500, score=0.9185059636207757, total=  14.1s\n",
      "[CV] RF__max_features=0.75, RF__min_samples_leaf=100, RF__n_estimators=500 \n",
      "[CV]  RF__max_features=0.75, RF__min_samples_leaf=100, RF__n_estimators=500, score=0.9264705177688812, total=  13.8s\n",
      "[CV] RF__max_features=0.75, RF__min_samples_leaf=100, RF__n_estimators=500 \n",
      "[CV]  RF__max_features=0.75, RF__min_samples_leaf=100, RF__n_estimators=500, score=0.9260470498602017, total=  13.5s\n",
      "[CV] RF__max_features=0.75, RF__min_samples_leaf=100, RF__n_estimators=500 \n",
      "[CV]  RF__max_features=0.75, RF__min_samples_leaf=100, RF__n_estimators=500, score=0.9266591915895799, total=  13.6s\n",
      "[CV] RF__max_features=0.75, RF__min_samples_leaf=100, RF__n_estimators=500 \n",
      "[CV]  RF__max_features=0.75, RF__min_samples_leaf=100, RF__n_estimators=500, score=0.923775067985048, total=  14.2s\n",
      "[CV] RF__max_features=0.75, RF__min_samples_leaf=100, RF__n_estimators=1000 \n",
      "[CV]  RF__max_features=0.75, RF__min_samples_leaf=100, RF__n_estimators=1000, score=0.9196824032176372, total=  27.9s\n",
      "[CV] RF__max_features=0.75, RF__min_samples_leaf=100, RF__n_estimators=1000 \n",
      "[CV]  RF__max_features=0.75, RF__min_samples_leaf=100, RF__n_estimators=1000, score=0.9270766698531578, total=  26.8s\n",
      "[CV] RF__max_features=0.75, RF__min_samples_leaf=100, RF__n_estimators=1000 \n",
      "[CV]  RF__max_features=0.75, RF__min_samples_leaf=100, RF__n_estimators=1000, score=0.9266388267962347, total=  26.2s\n",
      "[CV] RF__max_features=0.75, RF__min_samples_leaf=100, RF__n_estimators=1000 \n",
      "[CV]  RF__max_features=0.75, RF__min_samples_leaf=100, RF__n_estimators=1000, score=0.9262123640650043, total=  26.5s\n",
      "[CV] RF__max_features=0.75, RF__min_samples_leaf=100, RF__n_estimators=1000 \n",
      "[CV]  RF__max_features=0.75, RF__min_samples_leaf=100, RF__n_estimators=1000, score=0.9241774529870179, total=  26.8s\n",
      "[CV] RF__max_features=0.75, RF__min_samples_leaf=100, RF__n_estimators=1500 \n",
      "[CV]  RF__max_features=0.75, RF__min_samples_leaf=100, RF__n_estimators=1500, score=0.9177977050746755, total=  40.7s\n",
      "[CV] RF__max_features=0.75, RF__min_samples_leaf=100, RF__n_estimators=1500 \n",
      "[CV]  RF__max_features=0.75, RF__min_samples_leaf=100, RF__n_estimators=1500, score=0.9274324547721897, total=  40.3s\n",
      "[CV] RF__max_features=0.75, RF__min_samples_leaf=100, RF__n_estimators=1500 \n",
      "[CV]  RF__max_features=0.75, RF__min_samples_leaf=100, RF__n_estimators=1500, score=0.9258014744110381, total=  39.6s\n",
      "[CV] RF__max_features=0.75, RF__min_samples_leaf=100, RF__n_estimators=1500 \n",
      "[CV]  RF__max_features=0.75, RF__min_samples_leaf=100, RF__n_estimators=1500, score=0.9270904460368914, total=  39.6s\n",
      "[CV] RF__max_features=0.75, RF__min_samples_leaf=100, RF__n_estimators=1500 \n",
      "[CV]  RF__max_features=0.75, RF__min_samples_leaf=100, RF__n_estimators=1500, score=0.9226730135393545, total=  40.3s\n",
      "[CV] RF__max_features=0.75, RF__min_samples_leaf=500, RF__n_estimators=150 \n",
      "[CV]  RF__max_features=0.75, RF__min_samples_leaf=500, RF__n_estimators=150, score=0.9063338549979824, total=   3.0s\n",
      "[CV] RF__max_features=0.75, RF__min_samples_leaf=500, RF__n_estimators=150 \n",
      "[CV]  RF__max_features=0.75, RF__min_samples_leaf=500, RF__n_estimators=150, score=0.9138629137946319, total=   2.9s\n",
      "[CV] RF__max_features=0.75, RF__min_samples_leaf=500, RF__n_estimators=150 \n",
      "[CV]  RF__max_features=0.75, RF__min_samples_leaf=500, RF__n_estimators=150, score=0.9088280181222703, total=   2.9s\n",
      "[CV] RF__max_features=0.75, RF__min_samples_leaf=500, RF__n_estimators=150 \n",
      "[CV]  RF__max_features=0.75, RF__min_samples_leaf=500, RF__n_estimators=150, score=0.9133561898190408, total=   2.9s\n",
      "[CV] RF__max_features=0.75, RF__min_samples_leaf=500, RF__n_estimators=150 \n"
     ]
    },
    {
     "name": "stdout",
     "output_type": "stream",
     "text": [
      "[CV]  RF__max_features=0.75, RF__min_samples_leaf=500, RF__n_estimators=150, score=0.9088706073971575, total=   3.0s\n",
      "[CV] RF__max_features=0.75, RF__min_samples_leaf=500, RF__n_estimators=500 \n",
      "[CV]  RF__max_features=0.75, RF__min_samples_leaf=500, RF__n_estimators=500, score=0.90411388653734, total=   8.3s\n",
      "[CV] RF__max_features=0.75, RF__min_samples_leaf=500, RF__n_estimators=500 \n",
      "[CV]  RF__max_features=0.75, RF__min_samples_leaf=500, RF__n_estimators=500, score=0.9152662876419246, total=   8.1s\n",
      "[CV] RF__max_features=0.75, RF__min_samples_leaf=500, RF__n_estimators=500 \n",
      "[CV]  RF__max_features=0.75, RF__min_samples_leaf=500, RF__n_estimators=500, score=0.9081547820128562, total=   8.4s\n",
      "[CV] RF__max_features=0.75, RF__min_samples_leaf=500, RF__n_estimators=500 \n",
      "[CV]  RF__max_features=0.75, RF__min_samples_leaf=500, RF__n_estimators=500, score=0.913852132433449, total=   8.0s\n",
      "[CV] RF__max_features=0.75, RF__min_samples_leaf=500, RF__n_estimators=500 \n",
      "[CV]  RF__max_features=0.75, RF__min_samples_leaf=500, RF__n_estimators=500, score=0.9072202283144514, total=   8.2s\n",
      "[CV] RF__max_features=0.75, RF__min_samples_leaf=500, RF__n_estimators=1000 \n",
      "[CV]  RF__max_features=0.75, RF__min_samples_leaf=500, RF__n_estimators=1000, score=0.905626195148878, total=  15.6s\n",
      "[CV] RF__max_features=0.75, RF__min_samples_leaf=500, RF__n_estimators=1000 \n",
      "[CV]  RF__max_features=0.75, RF__min_samples_leaf=500, RF__n_estimators=1000, score=0.9142372666134787, total=  15.4s\n",
      "[CV] RF__max_features=0.75, RF__min_samples_leaf=500, RF__n_estimators=1000 \n",
      "[CV]  RF__max_features=0.75, RF__min_samples_leaf=500, RF__n_estimators=1000, score=0.9063974201400619, total=  15.5s\n",
      "[CV] RF__max_features=0.75, RF__min_samples_leaf=500, RF__n_estimators=1000 \n",
      "[CV]  RF__max_features=0.75, RF__min_samples_leaf=500, RF__n_estimators=1000, score=0.914950633345073, total=  15.3s\n",
      "[CV] RF__max_features=0.75, RF__min_samples_leaf=500, RF__n_estimators=1000 \n",
      "[CV]  RF__max_features=0.75, RF__min_samples_leaf=500, RF__n_estimators=1000, score=0.9081138833636023, total=  15.7s\n",
      "[CV] RF__max_features=0.75, RF__min_samples_leaf=500, RF__n_estimators=1500 \n",
      "[CV]  RF__max_features=0.75, RF__min_samples_leaf=500, RF__n_estimators=1500, score=0.9054849026578554, total=  23.3s\n",
      "[CV] RF__max_features=0.75, RF__min_samples_leaf=500, RF__n_estimators=1500 \n",
      "[CV]  RF__max_features=0.75, RF__min_samples_leaf=500, RF__n_estimators=1500, score=0.9159311382481965, total=  23.1s\n",
      "[CV] RF__max_features=0.75, RF__min_samples_leaf=500, RF__n_estimators=1500 \n",
      "[CV]  RF__max_features=0.75, RF__min_samples_leaf=500, RF__n_estimators=1500, score=0.9077570695781133, total=  23.4s\n",
      "[CV] RF__max_features=0.75, RF__min_samples_leaf=500, RF__n_estimators=1500 \n",
      "[CV]  RF__max_features=0.75, RF__min_samples_leaf=500, RF__n_estimators=1500, score=0.9147607615953539, total=  22.6s\n",
      "[CV] RF__max_features=0.75, RF__min_samples_leaf=500, RF__n_estimators=1500 \n",
      "[CV]  RF__max_features=0.75, RF__min_samples_leaf=500, RF__n_estimators=1500, score=0.9081991649610347, total=  23.0s\n",
      "[CV] RF__max_features=None, RF__min_samples_leaf=10, RF__n_estimators=150 \n",
      "[CV]  RF__max_features=None, RF__min_samples_leaf=10, RF__n_estimators=150, score=0.9302039042228492, total=   8.5s\n",
      "[CV] RF__max_features=None, RF__min_samples_leaf=10, RF__n_estimators=150 \n",
      "[CV]  RF__max_features=None, RF__min_samples_leaf=10, RF__n_estimators=150, score=0.9362252537812631, total=   8.3s\n",
      "[CV] RF__max_features=None, RF__min_samples_leaf=10, RF__n_estimators=150 \n",
      "[CV]  RF__max_features=None, RF__min_samples_leaf=10, RF__n_estimators=150, score=0.9341624200082898, total=   8.3s\n",
      "[CV] RF__max_features=None, RF__min_samples_leaf=10, RF__n_estimators=150 \n",
      "[CV]  RF__max_features=None, RF__min_samples_leaf=10, RF__n_estimators=150, score=0.9363408539317231, total=   8.1s\n",
      "[CV] RF__max_features=None, RF__min_samples_leaf=10, RF__n_estimators=150 \n",
      "[CV]  RF__max_features=None, RF__min_samples_leaf=10, RF__n_estimators=150, score=0.9315368945006582, total=   8.4s\n",
      "[CV] RF__max_features=None, RF__min_samples_leaf=10, RF__n_estimators=500 \n",
      "[CV]  RF__max_features=None, RF__min_samples_leaf=10, RF__n_estimators=500, score=0.932155656429347, total=  26.4s\n",
      "[CV] RF__max_features=None, RF__min_samples_leaf=10, RF__n_estimators=500 \n",
      "[CV]  RF__max_features=None, RF__min_samples_leaf=10, RF__n_estimators=500, score=0.9404389691102024, total=  25.8s\n",
      "[CV] RF__max_features=None, RF__min_samples_leaf=10, RF__n_estimators=500 \n",
      "[CV]  RF__max_features=None, RF__min_samples_leaf=10, RF__n_estimators=500, score=0.9343522917580087, total=  26.1s\n",
      "[CV] RF__max_features=None, RF__min_samples_leaf=10, RF__n_estimators=500 \n",
      "[CV]  RF__max_features=None, RF__min_samples_leaf=10, RF__n_estimators=500, score=0.9371997690392848, total=  25.6s\n",
      "[CV] RF__max_features=None, RF__min_samples_leaf=10, RF__n_estimators=500 \n",
      "[CV]  RF__max_features=None, RF__min_samples_leaf=10, RF__n_estimators=500, score=0.9302949061662199, total=  26.7s\n",
      "[CV] RF__max_features=None, RF__min_samples_leaf=10, RF__n_estimators=1000 \n",
      "[CV]  RF__max_features=None, RF__min_samples_leaf=10, RF__n_estimators=1000, score=0.9305451615104884, total=  53.1s\n",
      "[CV] RF__max_features=None, RF__min_samples_leaf=10, RF__n_estimators=1000 \n",
      "[CV]  RF__max_features=None, RF__min_samples_leaf=10, RF__n_estimators=1000, score=0.9393027334344386, total=  51.6s\n",
      "[CV] RF__max_features=None, RF__min_samples_leaf=10, RF__n_estimators=1000 \n",
      "[CV]  RF__max_features=None, RF__min_samples_leaf=10, RF__n_estimators=1000, score=0.9362534051132402, total=  51.9s\n",
      "[CV] RF__max_features=None, RF__min_samples_leaf=10, RF__n_estimators=1000 \n",
      "[CV]  RF__max_features=None, RF__min_samples_leaf=10, RF__n_estimators=1000, score=0.9353699324607617, total=  51.0s\n",
      "[CV] RF__max_features=None, RF__min_samples_leaf=10, RF__n_estimators=1000 \n",
      "[CV]  RF__max_features=None, RF__min_samples_leaf=10, RF__n_estimators=1000, score=0.9295039493787657, total=  52.9s\n",
      "[CV] RF__max_features=None, RF__min_samples_leaf=10, RF__n_estimators=1500 \n",
      "[CV]  RF__max_features=None, RF__min_samples_leaf=10, RF__n_estimators=1500, score=0.9322921593444029, total= 1.3min\n",
      "[CV] RF__max_features=None, RF__min_samples_leaf=10, RF__n_estimators=1500 \n",
      "[CV]  RF__max_features=None, RF__min_samples_leaf=10, RF__n_estimators=1500, score=0.941494344577095, total= 1.3min\n",
      "[CV] RF__max_features=None, RF__min_samples_leaf=10, RF__n_estimators=1500 \n",
      "[CV]  RF__max_features=None, RF__min_samples_leaf=10, RF__n_estimators=1500, score=0.9335281165920356, total= 1.3min\n",
      "[CV] RF__max_features=None, RF__min_samples_leaf=10, RF__n_estimators=1500 \n",
      "[CV]  RF__max_features=None, RF__min_samples_leaf=10, RF__n_estimators=1500, score=0.9348158902888686, total= 1.3min\n",
      "[CV] RF__max_features=None, RF__min_samples_leaf=10, RF__n_estimators=1500 \n",
      "[CV]  RF__max_features=None, RF__min_samples_leaf=10, RF__n_estimators=1500, score=0.9345758021274754, total= 1.3min\n",
      "[CV] RF__max_features=None, RF__min_samples_leaf=50, RF__n_estimators=150 \n",
      "[CV]  RF__max_features=None, RF__min_samples_leaf=50, RF__n_estimators=150, score=0.9202918767594207, total=   6.7s\n",
      "[CV] RF__max_features=None, RF__min_samples_leaf=50, RF__n_estimators=150 \n",
      "[CV]  RF__max_features=None, RF__min_samples_leaf=50, RF__n_estimators=150, score=0.9308920737828441, total=   6.7s\n",
      "[CV] RF__max_features=None, RF__min_samples_leaf=50, RF__n_estimators=150 \n",
      "[CV]  RF__max_features=None, RF__min_samples_leaf=50, RF__n_estimators=150, score=0.9262638750128778, total=   6.5s\n",
      "[CV] RF__max_features=None, RF__min_samples_leaf=50, RF__n_estimators=150 \n",
      "[CV]  RF__max_features=None, RF__min_samples_leaf=50, RF__n_estimators=150, score=0.9287369994753071, total=   6.5s\n",
      "[CV] RF__max_features=None, RF__min_samples_leaf=50, RF__n_estimators=150 \n",
      "[CV]  RF__max_features=None, RF__min_samples_leaf=50, RF__n_estimators=150, score=0.9258746768908493, total=   6.7s\n",
      "[CV] RF__max_features=None, RF__min_samples_leaf=50, RF__n_estimators=500 \n",
      "[CV]  RF__max_features=None, RF__min_samples_leaf=50, RF__n_estimators=500, score=0.9220215123804552, total=  20.9s\n",
      "[CV] RF__max_features=None, RF__min_samples_leaf=50, RF__n_estimators=500 \n",
      "[CV]  RF__max_features=None, RF__min_samples_leaf=50, RF__n_estimators=500, score=0.9292676820313042, total=  21.0s\n",
      "[CV] RF__max_features=None, RF__min_samples_leaf=50, RF__n_estimators=500 \n"
     ]
    },
    {
     "name": "stdout",
     "output_type": "stream",
     "text": [
      "[CV]  RF__max_features=None, RF__min_samples_leaf=50, RF__n_estimators=500, score=0.9274055013692328, total=  20.5s\n",
      "[CV] RF__max_features=None, RF__min_samples_leaf=50, RF__n_estimators=500 \n",
      "[CV]  RF__max_features=None, RF__min_samples_leaf=50, RF__n_estimators=500, score=0.9289903614631024, total=  20.4s\n",
      "[CV] RF__max_features=None, RF__min_samples_leaf=50, RF__n_estimators=500 \n",
      "[CV]  RF__max_features=None, RF__min_samples_leaf=50, RF__n_estimators=500, score=0.9256308435911481, total=  20.3s\n",
      "[CV] RF__max_features=None, RF__min_samples_leaf=50, RF__n_estimators=1000 \n",
      "[CV]  RF__max_features=None, RF__min_samples_leaf=50, RF__n_estimators=1000, score=0.9205157894358716, total=  41.9s\n",
      "[CV] RF__max_features=None, RF__min_samples_leaf=50, RF__n_estimators=1000 \n",
      "[CV]  RF__max_features=None, RF__min_samples_leaf=50, RF__n_estimators=1000, score=0.9303530057237048, total=  40.7s\n",
      "[CV] RF__max_features=None, RF__min_samples_leaf=50, RF__n_estimators=1000 \n",
      "[CV]  RF__max_features=None, RF__min_samples_leaf=50, RF__n_estimators=1000, score=0.9268472664457686, total=  39.5s\n",
      "[CV] RF__max_features=None, RF__min_samples_leaf=50, RF__n_estimators=1000 \n",
      "[CV]  RF__max_features=None, RF__min_samples_leaf=50, RF__n_estimators=1000, score=0.9288585892708685, total=  40.3s\n",
      "[CV] RF__max_features=None, RF__min_samples_leaf=50, RF__n_estimators=1000 \n",
      "[CV]  RF__max_features=None, RF__min_samples_leaf=50, RF__n_estimators=1000, score=0.9251407746932265, total=  41.0s\n",
      "[CV] RF__max_features=None, RF__min_samples_leaf=50, RF__n_estimators=1500 \n",
      "[CV]  RF__max_features=None, RF__min_samples_leaf=50, RF__n_estimators=1500, score=0.9203242063971973, total= 1.0min\n",
      "[CV] RF__max_features=None, RF__min_samples_leaf=50, RF__n_estimators=1500 \n",
      "[CV]  RF__max_features=None, RF__min_samples_leaf=50, RF__n_estimators=1500, score=0.9326805818101666, total= 1.0min\n",
      "[CV] RF__max_features=None, RF__min_samples_leaf=50, RF__n_estimators=1500 \n",
      "[CV]  RF__max_features=None, RF__min_samples_leaf=50, RF__n_estimators=1500, score=0.926473512591432, total= 1.0min\n",
      "[CV] RF__max_features=None, RF__min_samples_leaf=50, RF__n_estimators=1500 \n",
      "[CV]  RF__max_features=None, RF__min_samples_leaf=50, RF__n_estimators=1500, score=0.9272318016612879, total= 1.0min\n",
      "[CV] RF__max_features=None, RF__min_samples_leaf=50, RF__n_estimators=1500 \n",
      "[CV]  RF__max_features=None, RF__min_samples_leaf=50, RF__n_estimators=1500, score=0.9242885592935322, total= 1.0min\n",
      "[CV] RF__max_features=None, RF__min_samples_leaf=100, RF__n_estimators=150 \n",
      "[CV]  RF__max_features=None, RF__min_samples_leaf=100, RF__n_estimators=150, score=0.9120615891573579, total=   5.7s\n",
      "[CV] RF__max_features=None, RF__min_samples_leaf=100, RF__n_estimators=150 \n",
      "[CV]  RF__max_features=None, RF__min_samples_leaf=100, RF__n_estimators=150, score=0.9218267459216506, total=   5.9s\n",
      "[CV] RF__max_features=None, RF__min_samples_leaf=100, RF__n_estimators=150 \n",
      "[CV]  RF__max_features=None, RF__min_samples_leaf=100, RF__n_estimators=150, score=0.9191308066614438, total=   5.6s\n",
      "[CV] RF__max_features=None, RF__min_samples_leaf=100, RF__n_estimators=150 \n",
      "[CV]  RF__max_features=None, RF__min_samples_leaf=100, RF__n_estimators=150, score=0.9228653503822593, total=   5.7s\n",
      "[CV] RF__max_features=None, RF__min_samples_leaf=100, RF__n_estimators=150 \n",
      "[CV]  RF__max_features=None, RF__min_samples_leaf=100, RF__n_estimators=150, score=0.9184677899814544, total=   5.9s\n",
      "[CV] RF__max_features=None, RF__min_samples_leaf=100, RF__n_estimators=500 \n",
      "[CV]  RF__max_features=None, RF__min_samples_leaf=100, RF__n_estimators=500, score=0.9093710448579712, total=  17.9s\n",
      "[CV] RF__max_features=None, RF__min_samples_leaf=100, RF__n_estimators=500 \n",
      "[CV]  RF__max_features=None, RF__min_samples_leaf=100, RF__n_estimators=500, score=0.9207276460455166, total=  17.7s\n",
      "[CV] RF__max_features=None, RF__min_samples_leaf=100, RF__n_estimators=500 \n",
      "[CV]  RF__max_features=None, RF__min_samples_leaf=100, RF__n_estimators=500, score=0.9175860771897544, total=  17.1s\n",
      "[CV] RF__max_features=None, RF__min_samples_leaf=100, RF__n_estimators=500 \n",
      "[CV]  RF__max_features=None, RF__min_samples_leaf=100, RF__n_estimators=500, score=0.9205066281412693, total=  17.4s\n",
      "[CV] RF__max_features=None, RF__min_samples_leaf=100, RF__n_estimators=500 \n",
      "[CV]  RF__max_features=None, RF__min_samples_leaf=100, RF__n_estimators=500, score=0.9193380226200429, total=  17.9s\n",
      "[CV] RF__max_features=None, RF__min_samples_leaf=100, RF__n_estimators=1000 \n",
      "[CV]  RF__max_features=None, RF__min_samples_leaf=100, RF__n_estimators=1000, score=0.9109953098077344, total=  35.5s\n",
      "[CV] RF__max_features=None, RF__min_samples_leaf=100, RF__n_estimators=1000 \n",
      "[CV]  RF__max_features=None, RF__min_samples_leaf=100, RF__n_estimators=1000, score=0.9204772788802719, total=  35.4s\n",
      "[CV] RF__max_features=None, RF__min_samples_leaf=100, RF__n_estimators=1000 \n",
      "[CV]  RF__max_features=None, RF__min_samples_leaf=100, RF__n_estimators=1000, score=0.919070311245918, total=  34.0s\n",
      "[CV] RF__max_features=None, RF__min_samples_leaf=100, RF__n_estimators=1000 \n",
      "[CV]  RF__max_features=None, RF__min_samples_leaf=100, RF__n_estimators=1000, score=0.9222196666403123, total=  34.1s\n",
      "[CV] RF__max_features=None, RF__min_samples_leaf=100, RF__n_estimators=1000 \n",
      "[CV]  RF__max_features=None, RF__min_samples_leaf=100, RF__n_estimators=1000, score=0.9203283701845928, total=  34.7s\n",
      "[CV] RF__max_features=None, RF__min_samples_leaf=100, RF__n_estimators=1500 \n",
      "[CV]  RF__max_features=None, RF__min_samples_leaf=100, RF__n_estimators=1500, score=0.9122549682870202, total=  52.8s\n",
      "[CV] RF__max_features=None, RF__min_samples_leaf=100, RF__n_estimators=1500 \n",
      "[CV]  RF__max_features=None, RF__min_samples_leaf=100, RF__n_estimators=1500, score=0.922698239283926, total=  53.3s\n",
      "[CV] RF__max_features=None, RF__min_samples_leaf=100, RF__n_estimators=1500 \n",
      "[CV]  RF__max_features=None, RF__min_samples_leaf=100, RF__n_estimators=1500, score=0.9169990919698026, total=  51.2s\n",
      "[CV] RF__max_features=None, RF__min_samples_leaf=100, RF__n_estimators=1500 \n",
      "[CV]  RF__max_features=None, RF__min_samples_leaf=100, RF__n_estimators=1500, score=0.9221981039179465, total=  51.8s\n",
      "[CV] RF__max_features=None, RF__min_samples_leaf=100, RF__n_estimators=1500 \n",
      "[CV]  RF__max_features=None, RF__min_samples_leaf=100, RF__n_estimators=1500, score=0.9185296491683244, total=  52.0s\n",
      "[CV] RF__max_features=None, RF__min_samples_leaf=500, RF__n_estimators=150 \n",
      "[CV]  RF__max_features=None, RF__min_samples_leaf=500, RF__n_estimators=150, score=0.8986932839368398, total=   3.7s\n",
      "[CV] RF__max_features=None, RF__min_samples_leaf=500, RF__n_estimators=150 \n",
      "[CV]  RF__max_features=None, RF__min_samples_leaf=500, RF__n_estimators=150, score=0.9069514623119551, total=   3.6s\n",
      "[CV] RF__max_features=None, RF__min_samples_leaf=500, RF__n_estimators=150 \n",
      "[CV]  RF__max_features=None, RF__min_samples_leaf=500, RF__n_estimators=150, score=0.8978945199539037, total=   3.6s\n",
      "[CV] RF__max_features=None, RF__min_samples_leaf=500, RF__n_estimators=150 \n",
      "[CV]  RF__max_features=None, RF__min_samples_leaf=500, RF__n_estimators=150, score=0.906858622812881, total=   3.6s\n",
      "[CV] RF__max_features=None, RF__min_samples_leaf=500, RF__n_estimators=150 \n",
      "[CV]  RF__max_features=None, RF__min_samples_leaf=500, RF__n_estimators=150, score=0.9000938097571756, total=   3.7s\n",
      "[CV] RF__max_features=None, RF__min_samples_leaf=500, RF__n_estimators=500 \n",
      "[CV]  RF__max_features=None, RF__min_samples_leaf=500, RF__n_estimators=500, score=0.8995194857911243, total=  10.5s\n",
      "[CV] RF__max_features=None, RF__min_samples_leaf=500, RF__n_estimators=500 \n",
      "[CV]  RF__max_features=None, RF__min_samples_leaf=500, RF__n_estimators=500, score=0.9070712552139861, total=  10.3s\n",
      "[CV] RF__max_features=None, RF__min_samples_leaf=500, RF__n_estimators=500 \n",
      "[CV]  RF__max_features=None, RF__min_samples_leaf=500, RF__n_estimators=500, score=0.8983934573908626, total=  10.3s\n",
      "[CV] RF__max_features=None, RF__min_samples_leaf=500, RF__n_estimators=500 \n",
      "[CV]  RF__max_features=None, RF__min_samples_leaf=500, RF__n_estimators=500, score=0.90623569972232, total=  10.0s\n",
      "[CV] RF__max_features=None, RF__min_samples_leaf=500, RF__n_estimators=500 \n",
      "[CV]  RF__max_features=None, RF__min_samples_leaf=500, RF__n_estimators=500, score=0.9030204099282192, total=  10.4s\n",
      "[CV] RF__max_features=None, RF__min_samples_leaf=500, RF__n_estimators=1000 \n"
     ]
    },
    {
     "name": "stdout",
     "output_type": "stream",
     "text": [
      "[CV]  RF__max_features=None, RF__min_samples_leaf=500, RF__n_estimators=1000, score=0.8998080577431278, total=  20.1s\n",
      "[CV] RF__max_features=None, RF__min_samples_leaf=500, RF__n_estimators=1000 \n",
      "[CV]  RF__max_features=None, RF__min_samples_leaf=500, RF__n_estimators=1000, score=0.9077331109977071, total=  20.0s\n",
      "[CV] RF__max_features=None, RF__min_samples_leaf=500, RF__n_estimators=1000 \n",
      "[CV]  RF__max_features=None, RF__min_samples_leaf=500, RF__n_estimators=1000, score=0.9011241365926586, total=  20.2s\n",
      "[CV] RF__max_features=None, RF__min_samples_leaf=500, RF__n_estimators=1000 \n",
      "[CV]  RF__max_features=None, RF__min_samples_leaf=500, RF__n_estimators=1000, score=0.9074372225296906, total=  19.5s\n",
      "[CV] RF__max_features=None, RF__min_samples_leaf=500, RF__n_estimators=1000 \n",
      "[CV]  RF__max_features=None, RF__min_samples_leaf=500, RF__n_estimators=1000, score=0.9016751227574544, total=  20.2s\n",
      "[CV] RF__max_features=None, RF__min_samples_leaf=500, RF__n_estimators=1500 \n",
      "[CV]  RF__max_features=None, RF__min_samples_leaf=500, RF__n_estimators=1500, score=0.8990566930133257, total=  29.7s\n",
      "[CV] RF__max_features=None, RF__min_samples_leaf=500, RF__n_estimators=1500 \n",
      "[CV]  RF__max_features=None, RF__min_samples_leaf=500, RF__n_estimators=1500, score=0.9100445150423947, total=  29.7s\n",
      "[CV] RF__max_features=None, RF__min_samples_leaf=500, RF__n_estimators=1500 \n",
      "[CV]  RF__max_features=None, RF__min_samples_leaf=500, RF__n_estimators=1500, score=0.8957616073332424, total=  29.7s\n",
      "[CV] RF__max_features=None, RF__min_samples_leaf=500, RF__n_estimators=1500 \n",
      "[CV]  RF__max_features=None, RF__min_samples_leaf=500, RF__n_estimators=1500, score=0.9055163433456239, total=  29.1s\n",
      "[CV] RF__max_features=None, RF__min_samples_leaf=500, RF__n_estimators=1500 \n",
      "[CV]  RF__max_features=None, RF__min_samples_leaf=500, RF__n_estimators=1500, score=0.9020901198266501, total=  29.9s\n"
     ]
    },
    {
     "name": "stderr",
     "output_type": "stream",
     "text": [
      "[Parallel(n_jobs=1)]: Done 320 out of 320 | elapsed: 101.5min finished\n"
     ]
    },
    {
     "name": "stdout",
     "output_type": "stream",
     "text": [
      "0.9408752287592497\n",
      "{'RF__max_features': 0.25, 'RF__min_samples_leaf': 10, 'RF__n_estimators': 1000}\n",
      "Fitting 5 folds for each of 64 candidates, totalling 320 fits\n",
      "[CV] RF__max_features=0.25, RF__min_samples_leaf=10, RF__n_estimators=150 \n"
     ]
    },
    {
     "name": "stderr",
     "output_type": "stream",
     "text": [
      "[Parallel(n_jobs=1)]: Using backend SequentialBackend with 1 concurrent workers.\n"
     ]
    },
    {
     "name": "stdout",
     "output_type": "stream",
     "text": [
      "[CV]  RF__max_features=0.25, RF__min_samples_leaf=10, RF__n_estimators=150, score=0.9316898701665692, total=   0.5s\n",
      "[CV] RF__max_features=0.25, RF__min_samples_leaf=10, RF__n_estimators=150 \n"
     ]
    },
    {
     "name": "stderr",
     "output_type": "stream",
     "text": [
      "[Parallel(n_jobs=1)]: Done   1 out of   1 | elapsed:    0.6s remaining:    0.0s\n"
     ]
    },
    {
     "name": "stdout",
     "output_type": "stream",
     "text": [
      "[CV]  RF__max_features=0.25, RF__min_samples_leaf=10, RF__n_estimators=150, score=0.939865760073984, total=   0.5s\n",
      "[CV] RF__max_features=0.25, RF__min_samples_leaf=10, RF__n_estimators=150 \n"
     ]
    },
    {
     "name": "stderr",
     "output_type": "stream",
     "text": [
      "[Parallel(n_jobs=1)]: Done   2 out of   2 | elapsed:    1.2s remaining:    0.0s\n"
     ]
    },
    {
     "name": "stdout",
     "output_type": "stream",
     "text": [
      "[CV]  RF__max_features=0.25, RF__min_samples_leaf=10, RF__n_estimators=150, score=0.9351620917757381, total=   0.5s\n",
      "[CV] RF__max_features=0.25, RF__min_samples_leaf=10, RF__n_estimators=150 \n"
     ]
    },
    {
     "name": "stderr",
     "output_type": "stream",
     "text": [
      "[Parallel(n_jobs=1)]: Done   3 out of   3 | elapsed:    1.8s remaining:    0.0s\n"
     ]
    },
    {
     "name": "stdout",
     "output_type": "stream",
     "text": [
      "[CV]  RF__max_features=0.25, RF__min_samples_leaf=10, RF__n_estimators=150, score=0.9394854176100358, total=   0.5s\n",
      "[CV] RF__max_features=0.25, RF__min_samples_leaf=10, RF__n_estimators=150 \n"
     ]
    },
    {
     "name": "stderr",
     "output_type": "stream",
     "text": [
      "[Parallel(n_jobs=1)]: Done   4 out of   4 | elapsed:    2.4s remaining:    0.0s\n"
     ]
    },
    {
     "name": "stdout",
     "output_type": "stream",
     "text": [
      "[CV]  RF__max_features=0.25, RF__min_samples_leaf=10, RF__n_estimators=150, score=0.937833919494172, total=   0.5s\n",
      "[CV] RF__max_features=0.25, RF__min_samples_leaf=10, RF__n_estimators=500 \n"
     ]
    },
    {
     "name": "stderr",
     "output_type": "stream",
     "text": [
      "[Parallel(n_jobs=1)]: Done   5 out of   5 | elapsed:    3.0s remaining:    0.0s\n"
     ]
    },
    {
     "name": "stdout",
     "output_type": "stream",
     "text": [
      "[CV]  RF__max_features=0.25, RF__min_samples_leaf=10, RF__n_estimators=500, score=0.9323927404397071, total=   0.9s\n",
      "[CV] RF__max_features=0.25, RF__min_samples_leaf=10, RF__n_estimators=500 \n"
     ]
    },
    {
     "name": "stderr",
     "output_type": "stream",
     "text": [
      "[Parallel(n_jobs=1)]: Done   6 out of   6 | elapsed:    4.2s remaining:    0.0s\n"
     ]
    },
    {
     "name": "stdout",
     "output_type": "stream",
     "text": [
      "[CV]  RF__max_features=0.25, RF__min_samples_leaf=10, RF__n_estimators=500, score=0.938576788448131, total=   0.9s\n",
      "[CV] RF__max_features=0.25, RF__min_samples_leaf=10, RF__n_estimators=500 \n"
     ]
    },
    {
     "name": "stderr",
     "output_type": "stream",
     "text": [
      "[Parallel(n_jobs=1)]: Done   7 out of   7 | elapsed:    5.3s remaining:    0.0s\n"
     ]
    },
    {
     "name": "stdout",
     "output_type": "stream",
     "text": [
      "[CV]  RF__max_features=0.25, RF__min_samples_leaf=10, RF__n_estimators=500, score=0.9340372364256674, total=   0.9s\n",
      "[CV] RF__max_features=0.25, RF__min_samples_leaf=10, RF__n_estimators=500 \n"
     ]
    },
    {
     "name": "stderr",
     "output_type": "stream",
     "text": [
      "[Parallel(n_jobs=1)]: Done   8 out of   8 | elapsed:    6.5s remaining:    0.0s\n"
     ]
    },
    {
     "name": "stdout",
     "output_type": "stream",
     "text": [
      "[CV]  RF__max_features=0.25, RF__min_samples_leaf=10, RF__n_estimators=500, score=0.9383545726148634, total=   0.9s\n",
      "[CV] RF__max_features=0.25, RF__min_samples_leaf=10, RF__n_estimators=500 \n"
     ]
    },
    {
     "name": "stderr",
     "output_type": "stream",
     "text": [
      "[Parallel(n_jobs=1)]: Done   9 out of   9 | elapsed:    7.6s remaining:    0.0s\n"
     ]
    },
    {
     "name": "stdout",
     "output_type": "stream",
     "text": [
      "[CV]  RF__max_features=0.25, RF__min_samples_leaf=10, RF__n_estimators=500, score=0.9368291581385069, total=   0.9s\n",
      "[CV] RF__max_features=0.25, RF__min_samples_leaf=10, RF__n_estimators=1000 \n",
      "[CV]  RF__max_features=0.25, RF__min_samples_leaf=10, RF__n_estimators=1000, score=0.9328369736106339, total=   1.8s\n",
      "[CV] RF__max_features=0.25, RF__min_samples_leaf=10, RF__n_estimators=1000 \n",
      "[CV]  RF__max_features=0.25, RF__min_samples_leaf=10, RF__n_estimators=1000, score=0.9393566402403525, total=   1.8s\n",
      "[CV] RF__max_features=0.25, RF__min_samples_leaf=10, RF__n_estimators=1000 \n",
      "[CV]  RF__max_features=0.25, RF__min_samples_leaf=10, RF__n_estimators=1000, score=0.9364127296729414, total=   1.7s\n",
      "[CV] RF__max_features=0.25, RF__min_samples_leaf=10, RF__n_estimators=1000 \n",
      "[CV]  RF__max_features=0.25, RF__min_samples_leaf=10, RF__n_estimators=1000, score=0.9390290066532977, total=   1.7s\n",
      "[CV] RF__max_features=0.25, RF__min_samples_leaf=10, RF__n_estimators=1000 \n",
      "[CV]  RF__max_features=0.25, RF__min_samples_leaf=10, RF__n_estimators=1000, score=0.9386404912220013, total=   1.6s\n",
      "[CV] RF__max_features=0.25, RF__min_samples_leaf=10, RF__n_estimators=1500 \n",
      "[CV]  RF__max_features=0.25, RF__min_samples_leaf=10, RF__n_estimators=1500, score=0.9300889543996447, total=   2.5s\n",
      "[CV] RF__max_features=0.25, RF__min_samples_leaf=10, RF__n_estimators=1500 \n",
      "[CV]  RF__max_features=0.25, RF__min_samples_leaf=10, RF__n_estimators=1500, score=0.939277576925012, total=   2.5s\n",
      "[CV] RF__max_features=0.25, RF__min_samples_leaf=10, RF__n_estimators=1500 \n",
      "[CV]  RF__max_features=0.25, RF__min_samples_leaf=10, RF__n_estimators=1500, score=0.9370560175568479, total=   2.5s\n",
      "[CV] RF__max_features=0.25, RF__min_samples_leaf=10, RF__n_estimators=1500 \n",
      "[CV]  RF__max_features=0.25, RF__min_samples_leaf=10, RF__n_estimators=1500, score=0.9370632051309695, total=   2.5s\n",
      "[CV] RF__max_features=0.25, RF__min_samples_leaf=10, RF__n_estimators=1500 \n",
      "[CV]  RF__max_features=0.25, RF__min_samples_leaf=10, RF__n_estimators=1500, score=0.9389900256565481, total=   2.5s\n",
      "[CV] RF__max_features=0.25, RF__min_samples_leaf=50, RF__n_estimators=150 \n",
      "[CV]  RF__max_features=0.25, RF__min_samples_leaf=50, RF__n_estimators=150, score=0.9202212305139095, total=   0.4s\n",
      "[CV] RF__max_features=0.25, RF__min_samples_leaf=50, RF__n_estimators=150 \n",
      "[CV]  RF__max_features=0.25, RF__min_samples_leaf=50, RF__n_estimators=150, score=0.928048190288629, total=   0.4s\n",
      "[CV] RF__max_features=0.25, RF__min_samples_leaf=50, RF__n_estimators=150 \n",
      "[CV]  RF__max_features=0.25, RF__min_samples_leaf=50, RF__n_estimators=150, score=0.9223298761101807, total=   0.4s\n",
      "[CV] RF__max_features=0.25, RF__min_samples_leaf=50, RF__n_estimators=150 \n",
      "[CV]  RF__max_features=0.25, RF__min_samples_leaf=50, RF__n_estimators=150, score=0.9269359131932714, total=   0.4s\n",
      "[CV] RF__max_features=0.25, RF__min_samples_leaf=50, RF__n_estimators=150 \n",
      "[CV]  RF__max_features=0.25, RF__min_samples_leaf=50, RF__n_estimators=150, score=0.9214400338243632, total=   0.4s\n",
      "[CV] RF__max_features=0.25, RF__min_samples_leaf=50, RF__n_estimators=500 \n",
      "[CV]  RF__max_features=0.25, RF__min_samples_leaf=50, RF__n_estimators=500, score=0.9190801140398038, total=   0.7s\n",
      "[CV] RF__max_features=0.25, RF__min_samples_leaf=50, RF__n_estimators=500 \n",
      "[CV]  RF__max_features=0.25, RF__min_samples_leaf=50, RF__n_estimators=500, score=0.9253839961474604, total=   0.7s\n",
      "[CV] RF__max_features=0.25, RF__min_samples_leaf=50, RF__n_estimators=500 \n",
      "[CV]  RF__max_features=0.25, RF__min_samples_leaf=50, RF__n_estimators=500, score=0.9226736817390095, total=   0.9s\n",
      "[CV] RF__max_features=0.25, RF__min_samples_leaf=50, RF__n_estimators=500 \n",
      "[CV]  RF__max_features=0.25, RF__min_samples_leaf=50, RF__n_estimators=500, score=0.9241902598787215, total=   0.7s\n",
      "[CV] RF__max_features=0.25, RF__min_samples_leaf=50, RF__n_estimators=500 \n",
      "[CV]  RF__max_features=0.25, RF__min_samples_leaf=50, RF__n_estimators=500, score=0.9231300508326368, total=   0.7s\n",
      "[CV] RF__max_features=0.25, RF__min_samples_leaf=50, RF__n_estimators=1000 \n",
      "[CV]  RF__max_features=0.25, RF__min_samples_leaf=50, RF__n_estimators=1000, score=0.9204798676161203, total=   1.4s\n",
      "[CV] RF__max_features=0.25, RF__min_samples_leaf=50, RF__n_estimators=1000 \n",
      "[CV]  RF__max_features=0.25, RF__min_samples_leaf=50, RF__n_estimators=1000, score=0.9273737562501946, total=   1.4s\n",
      "[CV] RF__max_features=0.25, RF__min_samples_leaf=50, RF__n_estimators=1000 \n",
      "[CV]  RF__max_features=0.25, RF__min_samples_leaf=50, RF__n_estimators=1000, score=0.9227551409123906, total=   1.4s\n",
      "[CV] RF__max_features=0.25, RF__min_samples_leaf=50, RF__n_estimators=1000 \n",
      "[CV]  RF__max_features=0.25, RF__min_samples_leaf=50, RF__n_estimators=1000, score=0.9261333007496639, total=   1.3s\n",
      "[CV] RF__max_features=0.25, RF__min_samples_leaf=50, RF__n_estimators=1000 \n",
      "[CV]  RF__max_features=0.25, RF__min_samples_leaf=50, RF__n_estimators=1000, score=0.9240741541506916, total=   1.3s\n",
      "[CV] RF__max_features=0.25, RF__min_samples_leaf=50, RF__n_estimators=1500 \n",
      "[CV]  RF__max_features=0.25, RF__min_samples_leaf=50, RF__n_estimators=1500, score=0.9202846923954705, total=   2.0s\n",
      "[CV] RF__max_features=0.25, RF__min_samples_leaf=50, RF__n_estimators=1500 \n",
      "[CV]  RF__max_features=0.25, RF__min_samples_leaf=50, RF__n_estimators=1500, score=0.9275786021126676, total=   1.9s\n",
      "[CV] RF__max_features=0.25, RF__min_samples_leaf=50, RF__n_estimators=1500 \n",
      "[CV]  RF__max_features=0.25, RF__min_samples_leaf=50, RF__n_estimators=1500, score=0.9223035216717339, total=   1.9s\n",
      "[CV] RF__max_features=0.25, RF__min_samples_leaf=50, RF__n_estimators=1500 \n",
      "[CV]  RF__max_features=0.25, RF__min_samples_leaf=50, RF__n_estimators=1500, score=0.924972507528984, total=   2.0s\n",
      "[CV] RF__max_features=0.25, RF__min_samples_leaf=50, RF__n_estimators=1500 \n",
      "[CV]  RF__max_features=0.25, RF__min_samples_leaf=50, RF__n_estimators=1500, score=0.9263251078632037, total=   1.9s\n",
      "[CV] RF__max_features=0.25, RF__min_samples_leaf=100, RF__n_estimators=150 \n",
      "[CV]  RF__max_features=0.25, RF__min_samples_leaf=100, RF__n_estimators=150, score=0.9093955914348012, total=   0.4s\n",
      "[CV] RF__max_features=0.25, RF__min_samples_leaf=100, RF__n_estimators=150 \n",
      "[CV]  RF__max_features=0.25, RF__min_samples_leaf=100, RF__n_estimators=150, score=0.9141378385047929, total=   0.4s\n",
      "[CV] RF__max_features=0.25, RF__min_samples_leaf=100, RF__n_estimators=150 \n",
      "[CV]  RF__max_features=0.25, RF__min_samples_leaf=100, RF__n_estimators=150, score=0.912575739062309, total=   0.4s\n",
      "[CV] RF__max_features=0.25, RF__min_samples_leaf=100, RF__n_estimators=150 \n",
      "[CV]  RF__max_features=0.25, RF__min_samples_leaf=100, RF__n_estimators=150, score=0.9164312736141759, total=   0.4s\n",
      "[CV] RF__max_features=0.25, RF__min_samples_leaf=100, RF__n_estimators=150 \n",
      "[CV]  RF__max_features=0.25, RF__min_samples_leaf=100, RF__n_estimators=150, score=0.9124968770119251, total=   0.4s\n",
      "[CV] RF__max_features=0.25, RF__min_samples_leaf=100, RF__n_estimators=500 \n",
      "[CV]  RF__max_features=0.25, RF__min_samples_leaf=100, RF__n_estimators=500, score=0.9098661672735459, total=   0.7s\n",
      "[CV] RF__max_features=0.25, RF__min_samples_leaf=100, RF__n_estimators=500 \n",
      "[CV]  RF__max_features=0.25, RF__min_samples_leaf=100, RF__n_estimators=500, score=0.9178526163967734, total=   0.6s\n",
      "[CV] RF__max_features=0.25, RF__min_samples_leaf=100, RF__n_estimators=500 \n",
      "[CV]  RF__max_features=0.25, RF__min_samples_leaf=100, RF__n_estimators=500, score=0.911558697324066, total=   0.7s\n",
      "[CV] RF__max_features=0.25, RF__min_samples_leaf=100, RF__n_estimators=500 \n",
      "[CV]  RF__max_features=0.25, RF__min_samples_leaf=100, RF__n_estimators=500, score=0.9173944085465048, total=   0.7s\n",
      "[CV] RF__max_features=0.25, RF__min_samples_leaf=100, RF__n_estimators=500 \n",
      "[CV]  RF__max_features=0.25, RF__min_samples_leaf=100, RF__n_estimators=500, score=0.9115461673729425, total=   0.8s\n",
      "[CV] RF__max_features=0.25, RF__min_samples_leaf=100, RF__n_estimators=1000 \n",
      "[CV]  RF__max_features=0.25, RF__min_samples_leaf=100, RF__n_estimators=1000, score=0.9101978454092514, total=   1.2s\n",
      "[CV] RF__max_features=0.25, RF__min_samples_leaf=100, RF__n_estimators=1000 \n",
      "[CV]  RF__max_features=0.25, RF__min_samples_leaf=100, RF__n_estimators=1000, score=0.9189319504440724, total=   1.2s\n",
      "[CV] RF__max_features=0.25, RF__min_samples_leaf=100, RF__n_estimators=1000 \n"
     ]
    },
    {
     "name": "stdout",
     "output_type": "stream",
     "text": [
      "[CV]  RF__max_features=0.25, RF__min_samples_leaf=100, RF__n_estimators=1000, score=0.9107776476028242, total=   1.2s\n",
      "[CV] RF__max_features=0.25, RF__min_samples_leaf=100, RF__n_estimators=1000 \n",
      "[CV]  RF__max_features=0.25, RF__min_samples_leaf=100, RF__n_estimators=1000, score=0.9162863242027185, total=   1.2s\n",
      "[CV] RF__max_features=0.25, RF__min_samples_leaf=100, RF__n_estimators=1000 \n",
      "[CV]  RF__max_features=0.25, RF__min_samples_leaf=100, RF__n_estimators=1000, score=0.9142439486100301, total=   1.2s\n",
      "[CV] RF__max_features=0.25, RF__min_samples_leaf=100, RF__n_estimators=1500 \n",
      "[CV]  RF__max_features=0.25, RF__min_samples_leaf=100, RF__n_estimators=1500, score=0.9112862765477214, total=   1.8s\n",
      "[CV] RF__max_features=0.25, RF__min_samples_leaf=100, RF__n_estimators=1500 \n",
      "[CV]  RF__max_features=0.25, RF__min_samples_leaf=100, RF__n_estimators=1500, score=0.9168739083871803, total=   1.7s\n",
      "[CV] RF__max_features=0.25, RF__min_samples_leaf=100, RF__n_estimators=1500 \n",
      "[CV]  RF__max_features=0.25, RF__min_samples_leaf=100, RF__n_estimators=1500, score=0.9091322920934287, total=   1.7s\n",
      "[CV] RF__max_features=0.25, RF__min_samples_leaf=100, RF__n_estimators=1500 \n",
      "[CV]  RF__max_features=0.25, RF__min_samples_leaf=100, RF__n_estimators=1500, score=0.9160659052629813, total=   1.7s\n",
      "[CV] RF__max_features=0.25, RF__min_samples_leaf=100, RF__n_estimators=1500 \n",
      "[CV]  RF__max_features=0.25, RF__min_samples_leaf=100, RF__n_estimators=1500, score=0.9130992533656203, total=   1.7s\n",
      "[CV] RF__max_features=0.25, RF__min_samples_leaf=500, RF__n_estimators=150 \n",
      "[CV]  RF__max_features=0.25, RF__min_samples_leaf=500, RF__n_estimators=150, score=0.8626337638762998, total=   0.4s\n",
      "[CV] RF__max_features=0.25, RF__min_samples_leaf=500, RF__n_estimators=150 \n",
      "[CV]  RF__max_features=0.25, RF__min_samples_leaf=500, RF__n_estimators=150, score=0.8614097947468417, total=   0.3s\n",
      "[CV] RF__max_features=0.25, RF__min_samples_leaf=500, RF__n_estimators=150 \n",
      "[CV]  RF__max_features=0.25, RF__min_samples_leaf=500, RF__n_estimators=150, score=0.8641272967294142, total=   0.3s\n",
      "[CV] RF__max_features=0.25, RF__min_samples_leaf=500, RF__n_estimators=150 \n",
      "[CV]  RF__max_features=0.25, RF__min_samples_leaf=500, RF__n_estimators=150, score=0.8679696540620575, total=   0.3s\n",
      "[CV] RF__max_features=0.25, RF__min_samples_leaf=500, RF__n_estimators=150 \n",
      "[CV]  RF__max_features=0.25, RF__min_samples_leaf=500, RF__n_estimators=150, score=0.8632677746067438, total=   0.3s\n",
      "[CV] RF__max_features=0.25, RF__min_samples_leaf=500, RF__n_estimators=500 \n",
      "[CV]  RF__max_features=0.25, RF__min_samples_leaf=500, RF__n_estimators=500, score=0.8591828743921729, total=   0.5s\n",
      "[CV] RF__max_features=0.25, RF__min_samples_leaf=500, RF__n_estimators=500 \n",
      "[CV]  RF__max_features=0.25, RF__min_samples_leaf=500, RF__n_estimators=500, score=0.8683200483004982, total=   0.5s\n",
      "[CV] RF__max_features=0.25, RF__min_samples_leaf=500, RF__n_estimators=500 \n",
      "[CV]  RF__max_features=0.25, RF__min_samples_leaf=500, RF__n_estimators=500, score=0.8602603818518545, total=   0.5s\n",
      "[CV] RF__max_features=0.25, RF__min_samples_leaf=500, RF__n_estimators=500 \n",
      "[CV]  RF__max_features=0.25, RF__min_samples_leaf=500, RF__n_estimators=500, score=0.861685318421513, total=   0.5s\n",
      "[CV] RF__max_features=0.25, RF__min_samples_leaf=500, RF__n_estimators=500 \n",
      "[CV]  RF__max_features=0.25, RF__min_samples_leaf=500, RF__n_estimators=500, score=0.8635368320408967, total=   0.5s\n",
      "[CV] RF__max_features=0.25, RF__min_samples_leaf=500, RF__n_estimators=1000 \n",
      "[CV]  RF__max_features=0.25, RF__min_samples_leaf=500, RF__n_estimators=1000, score=0.8614393633695625, total=   0.9s\n",
      "[CV] RF__max_features=0.25, RF__min_samples_leaf=500, RF__n_estimators=1000 \n",
      "[CV]  RF__max_features=0.25, RF__min_samples_leaf=500, RF__n_estimators=1000, score=0.8650760565134994, total=   0.9s\n",
      "[CV] RF__max_features=0.25, RF__min_samples_leaf=500, RF__n_estimators=1000 \n",
      "[CV]  RF__max_features=0.25, RF__min_samples_leaf=500, RF__n_estimators=1000, score=0.8598183460433603, total=   0.9s\n",
      "[CV] RF__max_features=0.25, RF__min_samples_leaf=500, RF__n_estimators=1000 \n",
      "[CV]  RF__max_features=0.25, RF__min_samples_leaf=500, RF__n_estimators=1000, score=0.8685644258206412, total=   0.9s\n",
      "[CV] RF__max_features=0.25, RF__min_samples_leaf=500, RF__n_estimators=1000 \n",
      "[CV]  RF__max_features=0.25, RF__min_samples_leaf=500, RF__n_estimators=1000, score=0.8613669559034084, total=   0.9s\n",
      "[CV] RF__max_features=0.25, RF__min_samples_leaf=500, RF__n_estimators=1500 \n",
      "[CV]  RF__max_features=0.25, RF__min_samples_leaf=500, RF__n_estimators=1500, score=0.859136176026496, total=   1.2s\n",
      "[CV] RF__max_features=0.25, RF__min_samples_leaf=500, RF__n_estimators=1500 \n",
      "[CV]  RF__max_features=0.25, RF__min_samples_leaf=500, RF__n_estimators=1500, score=0.8607269752052651, total=   1.3s\n",
      "[CV] RF__max_features=0.25, RF__min_samples_leaf=500, RF__n_estimators=1500 \n",
      "[CV]  RF__max_features=0.25, RF__min_samples_leaf=500, RF__n_estimators=1500, score=0.8603640027121111, total=   1.3s\n",
      "[CV] RF__max_features=0.25, RF__min_samples_leaf=500, RF__n_estimators=1500 \n",
      "[CV]  RF__max_features=0.25, RF__min_samples_leaf=500, RF__n_estimators=1500, score=0.8656846044558169, total=   1.2s\n",
      "[CV] RF__max_features=0.25, RF__min_samples_leaf=500, RF__n_estimators=1500 \n",
      "[CV]  RF__max_features=0.25, RF__min_samples_leaf=500, RF__n_estimators=1500, score=0.8676417596356193, total=   1.2s\n",
      "[CV] RF__max_features=0.5, RF__min_samples_leaf=10, RF__n_estimators=150 \n",
      "[CV]  RF__max_features=0.5, RF__min_samples_leaf=10, RF__n_estimators=150, score=0.9326537723299012, total=   0.6s\n",
      "[CV] RF__max_features=0.5, RF__min_samples_leaf=10, RF__n_estimators=150 \n",
      "[CV]  RF__max_features=0.5, RF__min_samples_leaf=10, RF__n_estimators=150, score=0.9418615098218199, total=   0.6s\n",
      "[CV] RF__max_features=0.5, RF__min_samples_leaf=10, RF__n_estimators=150 \n",
      "[CV]  RF__max_features=0.5, RF__min_samples_leaf=10, RF__n_estimators=150, score=0.9363672083701696, total=   0.6s\n",
      "[CV] RF__max_features=0.5, RF__min_samples_leaf=10, RF__n_estimators=150 \n",
      "[CV]  RF__max_features=0.5, RF__min_samples_leaf=10, RF__n_estimators=150, score=0.93400848612918, total=   0.6s\n",
      "[CV] RF__max_features=0.5, RF__min_samples_leaf=10, RF__n_estimators=150 \n",
      "[CV]  RF__max_features=0.5, RF__min_samples_leaf=10, RF__n_estimators=150, score=0.9387101578790586, total=   0.6s\n",
      "[CV] RF__max_features=0.5, RF__min_samples_leaf=10, RF__n_estimators=500 \n",
      "[CV]  RF__max_features=0.5, RF__min_samples_leaf=10, RF__n_estimators=500, score=0.9315946773442281, total=   1.5s\n",
      "[CV] RF__max_features=0.5, RF__min_samples_leaf=10, RF__n_estimators=500 \n",
      "[CV]  RF__max_features=0.5, RF__min_samples_leaf=10, RF__n_estimators=500, score=0.9370925543919671, total=   1.6s\n",
      "[CV] RF__max_features=0.5, RF__min_samples_leaf=10, RF__n_estimators=500 \n",
      "[CV]  RF__max_features=0.5, RF__min_samples_leaf=10, RF__n_estimators=500, score=0.9354855326112217, total=   1.4s\n",
      "[CV] RF__max_features=0.5, RF__min_samples_leaf=10, RF__n_estimators=500 \n",
      "[CV]  RF__max_features=0.5, RF__min_samples_leaf=10, RF__n_estimators=500, score=0.9378250879878866, total=   1.5s\n",
      "[CV] RF__max_features=0.5, RF__min_samples_leaf=10, RF__n_estimators=500 \n",
      "[CV]  RF__max_features=0.5, RF__min_samples_leaf=10, RF__n_estimators=500, score=0.9353925836240116, total=   1.5s\n",
      "[CV] RF__max_features=0.5, RF__min_samples_leaf=10, RF__n_estimators=1000 \n",
      "[CV]  RF__max_features=0.5, RF__min_samples_leaf=10, RF__n_estimators=1000, score=0.9320442987881175, total=   2.9s\n",
      "[CV] RF__max_features=0.5, RF__min_samples_leaf=10, RF__n_estimators=1000 \n",
      "[CV]  RF__max_features=0.5, RF__min_samples_leaf=10, RF__n_estimators=1000, score=0.9399148751638168, total=   2.8s\n",
      "[CV] RF__max_features=0.5, RF__min_samples_leaf=10, RF__n_estimators=1000 \n",
      "[CV]  RF__max_features=0.5, RF__min_samples_leaf=10, RF__n_estimators=1000, score=0.9378610258584958, total=   2.9s\n",
      "[CV] RF__max_features=0.5, RF__min_samples_leaf=10, RF__n_estimators=1000 \n",
      "[CV]  RF__max_features=0.5, RF__min_samples_leaf=10, RF__n_estimators=1000, score=0.9387642643398093, total=   2.8s\n",
      "[CV] RF__max_features=0.5, RF__min_samples_leaf=10, RF__n_estimators=1000 \n",
      "[CV]  RF__max_features=0.5, RF__min_samples_leaf=10, RF__n_estimators=1000, score=0.9370597787963525, total=   2.7s\n",
      "[CV] RF__max_features=0.5, RF__min_samples_leaf=10, RF__n_estimators=1500 \n"
     ]
    },
    {
     "name": "stdout",
     "output_type": "stream",
     "text": [
      "[CV]  RF__max_features=0.5, RF__min_samples_leaf=10, RF__n_estimators=1500, score=0.934427711528629, total=   4.1s\n",
      "[CV] RF__max_features=0.5, RF__min_samples_leaf=10, RF__n_estimators=1500 \n",
      "[CV]  RF__max_features=0.5, RF__min_samples_leaf=10, RF__n_estimators=1500, score=0.9377466236370562, total=   4.0s\n",
      "[CV] RF__max_features=0.5, RF__min_samples_leaf=10, RF__n_estimators=1500 \n",
      "[CV]  RF__max_features=0.5, RF__min_samples_leaf=10, RF__n_estimators=1500, score=0.9363037181320933, total=   4.1s\n",
      "[CV] RF__max_features=0.5, RF__min_samples_leaf=10, RF__n_estimators=1500 \n",
      "[CV]  RF__max_features=0.5, RF__min_samples_leaf=10, RF__n_estimators=1500, score=0.9391416119812069, total=   4.0s\n",
      "[CV] RF__max_features=0.5, RF__min_samples_leaf=10, RF__n_estimators=1500 \n",
      "[CV]  RF__max_features=0.5, RF__min_samples_leaf=10, RF__n_estimators=1500, score=0.9393419623896144, total=   4.2s\n",
      "[CV] RF__max_features=0.5, RF__min_samples_leaf=50, RF__n_estimators=150 \n",
      "[CV]  RF__max_features=0.5, RF__min_samples_leaf=50, RF__n_estimators=150, score=0.9185436815315148, total=   0.5s\n",
      "[CV] RF__max_features=0.5, RF__min_samples_leaf=50, RF__n_estimators=150 \n",
      "[CV]  RF__max_features=0.5, RF__min_samples_leaf=50, RF__n_estimators=150, score=0.9291167429747453, total=   0.5s\n",
      "[CV] RF__max_features=0.5, RF__min_samples_leaf=50, RF__n_estimators=150 \n",
      "[CV]  RF__max_features=0.5, RF__min_samples_leaf=50, RF__n_estimators=150, score=0.9195135449834327, total=   0.5s\n",
      "[CV] RF__max_features=0.5, RF__min_samples_leaf=50, RF__n_estimators=150 \n",
      "[CV]  RF__max_features=0.5, RF__min_samples_leaf=50, RF__n_estimators=150, score=0.9261692386202733, total=   0.5s\n",
      "[CV] RF__max_features=0.5, RF__min_samples_leaf=50, RF__n_estimators=150 \n",
      "[CV]  RF__max_features=0.5, RF__min_samples_leaf=50, RF__n_estimators=150, score=0.9224898382772638, total=   0.5s\n",
      "[CV] RF__max_features=0.5, RF__min_samples_leaf=50, RF__n_estimators=500 \n",
      "[CV]  RF__max_features=0.5, RF__min_samples_leaf=50, RF__n_estimators=500, score=0.9209516408488566, total=   1.1s\n",
      "[CV] RF__max_features=0.5, RF__min_samples_leaf=50, RF__n_estimators=500 \n",
      "[CV]  RF__max_features=0.5, RF__min_samples_leaf=50, RF__n_estimators=500, score=0.9266262485415213, total=   1.2s\n",
      "[CV] RF__max_features=0.5, RF__min_samples_leaf=50, RF__n_estimators=500 \n",
      "[CV]  RF__max_features=0.5, RF__min_samples_leaf=50, RF__n_estimators=500, score=0.9255427217426513, total=   1.2s\n",
      "[CV] RF__max_features=0.5, RF__min_samples_leaf=50, RF__n_estimators=500 \n",
      "[CV]  RF__max_features=0.5, RF__min_samples_leaf=50, RF__n_estimators=500, score=0.9266999211762704, total=   1.2s\n",
      "[CV] RF__max_features=0.5, RF__min_samples_leaf=50, RF__n_estimators=500 \n",
      "[CV]  RF__max_features=0.5, RF__min_samples_leaf=50, RF__n_estimators=500, score=0.9225450911432059, total=   1.2s\n",
      "[CV] RF__max_features=0.5, RF__min_samples_leaf=50, RF__n_estimators=1000 \n",
      "[CV]  RF__max_features=0.5, RF__min_samples_leaf=50, RF__n_estimators=1000, score=0.9205984096213004, total=   2.1s\n",
      "[CV] RF__max_features=0.5, RF__min_samples_leaf=50, RF__n_estimators=1000 \n",
      "[CV]  RF__max_features=0.5, RF__min_samples_leaf=50, RF__n_estimators=1000, score=0.9267999482494663, total=   2.0s\n",
      "[CV] RF__max_features=0.5, RF__min_samples_leaf=50, RF__n_estimators=1000 \n",
      "[CV]  RF__max_features=0.5, RF__min_samples_leaf=50, RF__n_estimators=1000, score=0.9250803211408117, total=   2.1s\n",
      "[CV] RF__max_features=0.5, RF__min_samples_leaf=50, RF__n_estimators=1000 \n",
      "[CV]  RF__max_features=0.5, RF__min_samples_leaf=50, RF__n_estimators=1000, score=0.9250791232117914, total=   2.2s\n",
      "[CV] RF__max_features=0.5, RF__min_samples_leaf=50, RF__n_estimators=1000 \n",
      "[CV]  RF__max_features=0.5, RF__min_samples_leaf=50, RF__n_estimators=1000, score=0.9263647457887706, total=   2.1s\n",
      "[CV] RF__max_features=0.5, RF__min_samples_leaf=50, RF__n_estimators=1500 \n",
      "[CV]  RF__max_features=0.5, RF__min_samples_leaf=50, RF__n_estimators=1500, score=0.9200595823250279, total=   3.0s\n",
      "[CV] RF__max_features=0.5, RF__min_samples_leaf=50, RF__n_estimators=1500 \n",
      "[CV]  RF__max_features=0.5, RF__min_samples_leaf=50, RF__n_estimators=1500, score=0.9272024524002904, total=   3.1s\n",
      "[CV] RF__max_features=0.5, RF__min_samples_leaf=50, RF__n_estimators=1500 \n",
      "[CV]  RF__max_features=0.5, RF__min_samples_leaf=50, RF__n_estimators=1500, score=0.9213763246100142, total=   3.1s\n",
      "[CV] RF__max_features=0.5, RF__min_samples_leaf=50, RF__n_estimators=1500 \n",
      "[CV]  RF__max_features=0.5, RF__min_samples_leaf=50, RF__n_estimators=1500, score=0.9246574521966424, total=   3.0s\n",
      "[CV] RF__max_features=0.5, RF__min_samples_leaf=50, RF__n_estimators=1500 \n",
      "[CV]  RF__max_features=0.5, RF__min_samples_leaf=50, RF__n_estimators=1500, score=0.9234111197593858, total=   3.0s\n",
      "[CV] RF__max_features=0.5, RF__min_samples_leaf=100, RF__n_estimators=150 \n",
      "[CV]  RF__max_features=0.5, RF__min_samples_leaf=100, RF__n_estimators=150, score=0.9115532954078742, total=   0.5s\n",
      "[CV] RF__max_features=0.5, RF__min_samples_leaf=100, RF__n_estimators=150 \n",
      "[CV]  RF__max_features=0.5, RF__min_samples_leaf=100, RF__n_estimators=150, score=0.9181982189191326, total=   0.4s\n",
      "[CV] RF__max_features=0.5, RF__min_samples_leaf=100, RF__n_estimators=150 \n",
      "[CV]  RF__max_features=0.5, RF__min_samples_leaf=100, RF__n_estimators=150, score=0.9103332159362895, total=   0.5s\n",
      "[CV] RF__max_features=0.5, RF__min_samples_leaf=100, RF__n_estimators=150 \n",
      "[CV]  RF__max_features=0.5, RF__min_samples_leaf=100, RF__n_estimators=150, score=0.9147421936955391, total=   0.5s\n",
      "[CV] RF__max_features=0.5, RF__min_samples_leaf=100, RF__n_estimators=150 \n",
      "[CV]  RF__max_features=0.5, RF__min_samples_leaf=100, RF__n_estimators=150, score=0.9129569171783563, total=   0.5s\n",
      "[CV] RF__max_features=0.5, RF__min_samples_leaf=100, RF__n_estimators=500 \n",
      "[CV]  RF__max_features=0.5, RF__min_samples_leaf=100, RF__n_estimators=500, score=0.9096278858691943, total=   0.9s\n",
      "[CV] RF__max_features=0.5, RF__min_samples_leaf=100, RF__n_estimators=500 \n",
      "[CV]  RF__max_features=0.5, RF__min_samples_leaf=100, RF__n_estimators=500, score=0.920582696634059, total=   1.0s\n",
      "[CV] RF__max_features=0.5, RF__min_samples_leaf=100, RF__n_estimators=500 \n",
      "[CV]  RF__max_features=0.5, RF__min_samples_leaf=100, RF__n_estimators=500, score=0.9131237915891007, total=   1.0s\n",
      "[CV] RF__max_features=0.5, RF__min_samples_leaf=100, RF__n_estimators=500 \n",
      "[CV]  RF__max_features=0.5, RF__min_samples_leaf=100, RF__n_estimators=500, score=0.9145229726848224, total=   1.0s\n",
      "[CV] RF__max_features=0.5, RF__min_samples_leaf=100, RF__n_estimators=500 \n",
      "[CV]  RF__max_features=0.5, RF__min_samples_leaf=100, RF__n_estimators=500, score=0.9135304659498208, total=   1.0s\n",
      "[CV] RF__max_features=0.5, RF__min_samples_leaf=100, RF__n_estimators=1000 \n",
      "[CV]  RF__max_features=0.5, RF__min_samples_leaf=100, RF__n_estimators=1000, score=0.9067553376830666, total=   1.8s\n",
      "[CV] RF__max_features=0.5, RF__min_samples_leaf=100, RF__n_estimators=1000 \n",
      "[CV]  RF__max_features=0.5, RF__min_samples_leaf=100, RF__n_estimators=1000, score=0.9167361465498445, total=   1.7s\n",
      "[CV] RF__max_features=0.5, RF__min_samples_leaf=100, RF__n_estimators=1000 \n",
      "[CV]  RF__max_features=0.5, RF__min_samples_leaf=100, RF__n_estimators=1000, score=0.9110387961292519, total=   1.8s\n",
      "[CV] RF__max_features=0.5, RF__min_samples_leaf=100, RF__n_estimators=1000 \n",
      "[CV]  RF__max_features=0.5, RF__min_samples_leaf=100, RF__n_estimators=1000, score=0.9114646598959718, total=   1.8s\n",
      "[CV] RF__max_features=0.5, RF__min_samples_leaf=100, RF__n_estimators=1000 \n",
      "[CV]  RF__max_features=0.5, RF__min_samples_leaf=100, RF__n_estimators=1000, score=0.912187581077575, total=   1.8s\n",
      "[CV] RF__max_features=0.5, RF__min_samples_leaf=100, RF__n_estimators=1500 \n",
      "[CV]  RF__max_features=0.5, RF__min_samples_leaf=100, RF__n_estimators=1500, score=0.9093009973094557, total=   2.6s\n",
      "[CV] RF__max_features=0.5, RF__min_samples_leaf=100, RF__n_estimators=1500 \n",
      "[CV]  RF__max_features=0.5, RF__min_samples_leaf=100, RF__n_estimators=1500, score=0.9152015994748279, total=   2.5s\n",
      "[CV] RF__max_features=0.5, RF__min_samples_leaf=100, RF__n_estimators=1500 \n",
      "[CV]  RF__max_features=0.5, RF__min_samples_leaf=100, RF__n_estimators=1500, score=0.9144882327432334, total=   2.6s\n",
      "[CV] RF__max_features=0.5, RF__min_samples_leaf=100, RF__n_estimators=1500 \n"
     ]
    },
    {
     "name": "stdout",
     "output_type": "stream",
     "text": [
      "[CV]  RF__max_features=0.5, RF__min_samples_leaf=100, RF__n_estimators=1500, score=0.9162168443195404, total=   2.6s\n",
      "[CV] RF__max_features=0.5, RF__min_samples_leaf=100, RF__n_estimators=1500 \n",
      "[CV]  RF__max_features=0.5, RF__min_samples_leaf=100, RF__n_estimators=1500, score=0.9113738024541882, total=   2.6s\n",
      "[CV] RF__max_features=0.5, RF__min_samples_leaf=500, RF__n_estimators=150 \n",
      "[CV]  RF__max_features=0.5, RF__min_samples_leaf=500, RF__n_estimators=150, score=0.8685931937730723, total=   0.4s\n",
      "[CV] RF__max_features=0.5, RF__min_samples_leaf=500, RF__n_estimators=150 \n",
      "[CV]  RF__max_features=0.5, RF__min_samples_leaf=500, RF__n_estimators=150, score=0.8625939475834179, total=   0.4s\n",
      "[CV] RF__max_features=0.5, RF__min_samples_leaf=500, RF__n_estimators=150 \n",
      "[CV]  RF__max_features=0.5, RF__min_samples_leaf=500, RF__n_estimators=150, score=0.8563090129783629, total=   0.4s\n",
      "[CV] RF__max_features=0.5, RF__min_samples_leaf=500, RF__n_estimators=150 \n",
      "[CV]  RF__max_features=0.5, RF__min_samples_leaf=500, RF__n_estimators=150, score=0.8513441961536895, total=   0.4s\n",
      "[CV] RF__max_features=0.5, RF__min_samples_leaf=500, RF__n_estimators=150 \n",
      "[CV]  RF__max_features=0.5, RF__min_samples_leaf=500, RF__n_estimators=150, score=0.85492939644652, total=   0.4s\n",
      "[CV] RF__max_features=0.5, RF__min_samples_leaf=500, RF__n_estimators=500 \n",
      "[CV]  RF__max_features=0.5, RF__min_samples_leaf=500, RF__n_estimators=500, score=0.8624775039603807, total=   0.6s\n",
      "[CV] RF__max_features=0.5, RF__min_samples_leaf=500, RF__n_estimators=500 \n",
      "[CV]  RF__max_features=0.5, RF__min_samples_leaf=500, RF__n_estimators=500, score=0.8626490523183521, total=   0.6s\n",
      "[CV] RF__max_features=0.5, RF__min_samples_leaf=500, RF__n_estimators=500 \n",
      "[CV]  RF__max_features=0.5, RF__min_samples_leaf=500, RF__n_estimators=500, score=0.8581083023668681, total=   0.6s\n",
      "[CV] RF__max_features=0.5, RF__min_samples_leaf=500, RF__n_estimators=500 \n",
      "[CV]  RF__max_features=0.5, RF__min_samples_leaf=500, RF__n_estimators=500, score=0.8603789768248651, total=   0.6s\n",
      "[CV] RF__max_features=0.5, RF__min_samples_leaf=500, RF__n_estimators=500 \n",
      "[CV]  RF__max_features=0.5, RF__min_samples_leaf=500, RF__n_estimators=500, score=0.8626371712454478, total=   0.6s\n",
      "[CV] RF__max_features=0.5, RF__min_samples_leaf=500, RF__n_estimators=1000 \n",
      "[CV]  RF__max_features=0.5, RF__min_samples_leaf=500, RF__n_estimators=1000, score=0.8658224240762404, total=   1.0s\n",
      "[CV] RF__max_features=0.5, RF__min_samples_leaf=500, RF__n_estimators=1000 \n",
      "[CV]  RF__max_features=0.5, RF__min_samples_leaf=500, RF__n_estimators=1000, score=0.8624567847105924, total=   1.0s\n",
      "[CV] RF__max_features=0.5, RF__min_samples_leaf=500, RF__n_estimators=1000 \n",
      "[CV]  RF__max_features=0.5, RF__min_samples_leaf=500, RF__n_estimators=1000, score=0.8586371880293349, total=   1.0s\n",
      "[CV] RF__max_features=0.5, RF__min_samples_leaf=500, RF__n_estimators=1000 \n",
      "[CV]  RF__max_features=0.5, RF__min_samples_leaf=500, RF__n_estimators=1000, score=0.8527912944102236, total=   1.1s\n",
      "[CV] RF__max_features=0.5, RF__min_samples_leaf=500, RF__n_estimators=1000 \n",
      "[CV]  RF__max_features=0.5, RF__min_samples_leaf=500, RF__n_estimators=1000, score=0.8590733613921802, total=   1.0s\n",
      "[CV] RF__max_features=0.5, RF__min_samples_leaf=500, RF__n_estimators=1500 \n",
      "[CV]  RF__max_features=0.5, RF__min_samples_leaf=500, RF__n_estimators=1500, score=0.863514447157207, total=   1.5s\n",
      "[CV] RF__max_features=0.5, RF__min_samples_leaf=500, RF__n_estimators=1500 \n",
      "[CV]  RF__max_features=0.5, RF__min_samples_leaf=500, RF__n_estimators=1500, score=0.8664147421936955, total=   1.5s\n",
      "[CV] RF__max_features=0.5, RF__min_samples_leaf=500, RF__n_estimators=1500 \n",
      "[CV]  RF__max_features=0.5, RF__min_samples_leaf=500, RF__n_estimators=1500, score=0.8571643342988641, total=   1.5s\n",
      "[CV] RF__max_features=0.5, RF__min_samples_leaf=500, RF__n_estimators=1500 \n",
      "[CV]  RF__max_features=0.5, RF__min_samples_leaf=500, RF__n_estimators=1500, score=0.8578046273602196, total=   1.5s\n",
      "[CV] RF__max_features=0.5, RF__min_samples_leaf=500, RF__n_estimators=1500 \n",
      "[CV]  RF__max_features=0.5, RF__min_samples_leaf=500, RF__n_estimators=1500, score=0.8662220012107584, total=   1.5s\n",
      "[CV] RF__max_features=0.75, RF__min_samples_leaf=10, RF__n_estimators=150 \n",
      "[CV]  RF__max_features=0.75, RF__min_samples_leaf=10, RF__n_estimators=150, score=0.9292896939101738, total=   0.7s\n",
      "[CV] RF__max_features=0.75, RF__min_samples_leaf=10, RF__n_estimators=150 \n",
      "[CV]  RF__max_features=0.75, RF__min_samples_leaf=10, RF__n_estimators=150, score=0.9380652727564587, total=   0.6s\n",
      "[CV] RF__max_features=0.75, RF__min_samples_leaf=10, RF__n_estimators=150 \n",
      "[CV]  RF__max_features=0.75, RF__min_samples_leaf=10, RF__n_estimators=150, score=0.9338491615694787, total=   0.7s\n",
      "[CV] RF__max_features=0.75, RF__min_samples_leaf=10, RF__n_estimators=150 \n",
      "[CV]  RF__max_features=0.75, RF__min_samples_leaf=10, RF__n_estimators=150, score=0.9345283873239943, total=   0.7s\n",
      "[CV] RF__max_features=0.75, RF__min_samples_leaf=10, RF__n_estimators=150 \n",
      "[CV]  RF__max_features=0.75, RF__min_samples_leaf=10, RF__n_estimators=150, score=0.9382561234589255, total=   0.7s\n",
      "[CV] RF__max_features=0.75, RF__min_samples_leaf=10, RF__n_estimators=500 \n",
      "[CV]  RF__max_features=0.75, RF__min_samples_leaf=10, RF__n_estimators=500, score=0.9342516946118469, total=   2.0s\n",
      "[CV] RF__max_features=0.75, RF__min_samples_leaf=10, RF__n_estimators=500 \n",
      "[CV]  RF__max_features=0.75, RF__min_samples_leaf=10, RF__n_estimators=500, score=0.9392320556222403, total=   2.0s\n",
      "[CV] RF__max_features=0.75, RF__min_samples_leaf=10, RF__n_estimators=500 \n",
      "[CV]  RF__max_features=0.75, RF__min_samples_leaf=10, RF__n_estimators=500, score=0.9377783687560945, total=   2.1s\n",
      "[CV] RF__max_features=0.75, RF__min_samples_leaf=10, RF__n_estimators=500 \n",
      "[CV]  RF__max_features=0.75, RF__min_samples_leaf=10, RF__n_estimators=500, score=0.9366391382577798, total=   2.0s\n",
      "[CV] RF__max_features=0.75, RF__min_samples_leaf=10, RF__n_estimators=500 \n",
      "[CV]  RF__max_features=0.75, RF__min_samples_leaf=10, RF__n_estimators=500, score=0.936878405258151, total=   1.9s\n",
      "[CV] RF__max_features=0.75, RF__min_samples_leaf=10, RF__n_estimators=1000 \n",
      "[CV]  RF__max_features=0.75, RF__min_samples_leaf=10, RF__n_estimators=1000, score=0.9323017384963365, total=   3.8s\n",
      "[CV] RF__max_features=0.75, RF__min_samples_leaf=10, RF__n_estimators=1000 \n",
      "[CV]  RF__max_features=0.75, RF__min_samples_leaf=10, RF__n_estimators=1000, score=0.9367188005376306, total=   3.8s\n",
      "[CV] RF__max_features=0.75, RF__min_samples_leaf=10, RF__n_estimators=1000 \n",
      "[CV]  RF__max_features=0.75, RF__min_samples_leaf=10, RF__n_estimators=1000, score=0.9372500820581381, total=   3.6s\n",
      "[CV] RF__max_features=0.75, RF__min_samples_leaf=10, RF__n_estimators=1000 \n",
      "[CV]  RF__max_features=0.75, RF__min_samples_leaf=10, RF__n_estimators=1000, score=0.93578860865336, total=   3.7s\n",
      "[CV] RF__max_features=0.75, RF__min_samples_leaf=10, RF__n_estimators=1000 \n",
      "[CV]  RF__max_features=0.75, RF__min_samples_leaf=10, RF__n_estimators=1000, score=0.9373000086482747, total=   3.7s\n",
      "[CV] RF__max_features=0.75, RF__min_samples_leaf=10, RF__n_estimators=1500 \n",
      "[CV]  RF__max_features=0.75, RF__min_samples_leaf=10, RF__n_estimators=1500, score=0.9342744450976893, total=   5.6s\n",
      "[CV] RF__max_features=0.75, RF__min_samples_leaf=10, RF__n_estimators=1500 \n",
      "[CV]  RF__max_features=0.75, RF__min_samples_leaf=10, RF__n_estimators=1500, score=0.9372123472939982, total=   5.5s\n",
      "[CV] RF__max_features=0.75, RF__min_samples_leaf=10, RF__n_estimators=1500 \n",
      "[CV]  RF__max_features=0.75, RF__min_samples_leaf=10, RF__n_estimators=1500, score=0.9354951160433841, total=   5.4s\n",
      "[CV] RF__max_features=0.75, RF__min_samples_leaf=10, RF__n_estimators=1500 \n",
      "[CV]  RF__max_features=0.75, RF__min_samples_leaf=10, RF__n_estimators=1500, score=0.9348398488692747, total=   5.6s\n",
      "[CV] RF__max_features=0.75, RF__min_samples_leaf=10, RF__n_estimators=1500 \n",
      "[CV]  RF__max_features=0.75, RF__min_samples_leaf=10, RF__n_estimators=1500, score=0.9372183304986211, total=   5.6s\n",
      "[CV] RF__max_features=0.75, RF__min_samples_leaf=50, RF__n_estimators=150 \n",
      "[CV]  RF__max_features=0.75, RF__min_samples_leaf=50, RF__n_estimators=150, score=0.9156136584337845, total=   0.6s\n",
      "[CV] RF__max_features=0.75, RF__min_samples_leaf=50, RF__n_estimators=150 \n"
     ]
    },
    {
     "name": "stdout",
     "output_type": "stream",
     "text": [
      "[CV]  RF__max_features=0.75, RF__min_samples_leaf=50, RF__n_estimators=150, score=0.9239345020328856, total=   0.6s\n",
      "[CV] RF__max_features=0.75, RF__min_samples_leaf=50, RF__n_estimators=150 \n",
      "[CV]  RF__max_features=0.75, RF__min_samples_leaf=50, RF__n_estimators=150, score=0.9196668798980321, total=   0.6s\n",
      "[CV] RF__max_features=0.75, RF__min_samples_leaf=50, RF__n_estimators=150 \n",
      "[CV]  RF__max_features=0.75, RF__min_samples_leaf=50, RF__n_estimators=150, score=0.9210840299290586, total=   0.6s\n",
      "[CV] RF__max_features=0.75, RF__min_samples_leaf=50, RF__n_estimators=150 \n",
      "[CV]  RF__max_features=0.75, RF__min_samples_leaf=50, RF__n_estimators=150, score=0.9205187523422411, total=   0.6s\n",
      "[CV] RF__max_features=0.75, RF__min_samples_leaf=50, RF__n_estimators=500 \n",
      "[CV]  RF__max_features=0.75, RF__min_samples_leaf=50, RF__n_estimators=500, score=0.9161872101558168, total=   1.6s\n",
      "[CV] RF__max_features=0.75, RF__min_samples_leaf=50, RF__n_estimators=500 \n",
      "[CV]  RF__max_features=0.75, RF__min_samples_leaf=50, RF__n_estimators=500, score=0.9243202351774253, total=   1.4s\n",
      "[CV] RF__max_features=0.75, RF__min_samples_leaf=50, RF__n_estimators=500 \n",
      "[CV]  RF__max_features=0.75, RF__min_samples_leaf=50, RF__n_estimators=500, score=0.9188696581350161, total=   1.6s\n",
      "[CV] RF__max_features=0.75, RF__min_samples_leaf=50, RF__n_estimators=500 \n",
      "[CV]  RF__max_features=0.75, RF__min_samples_leaf=50, RF__n_estimators=500, score=0.9224340959349477, total=   1.3s\n",
      "[CV] RF__max_features=0.75, RF__min_samples_leaf=50, RF__n_estimators=500 \n",
      "[CV]  RF__max_features=0.75, RF__min_samples_leaf=50, RF__n_estimators=500, score=0.9225426888446866, total=   1.6s\n",
      "[CV] RF__max_features=0.75, RF__min_samples_leaf=50, RF__n_estimators=1000 \n",
      "[CV]  RF__max_features=0.75, RF__min_samples_leaf=50, RF__n_estimators=1000, score=0.9159884427531919, total=   2.8s\n",
      "[CV] RF__max_features=0.75, RF__min_samples_leaf=50, RF__n_estimators=1000 \n",
      "[CV]  RF__max_features=0.75, RF__min_samples_leaf=50, RF__n_estimators=1000, score=0.9254654553208413, total=   2.8s\n",
      "[CV] RF__max_features=0.75, RF__min_samples_leaf=50, RF__n_estimators=1000 \n",
      "[CV]  RF__max_features=0.75, RF__min_samples_leaf=50, RF__n_estimators=1000, score=0.9232630628170019, total=   2.8s\n",
      "[CV] RF__max_features=0.75, RF__min_samples_leaf=50, RF__n_estimators=1000 \n",
      "[CV]  RF__max_features=0.75, RF__min_samples_leaf=50, RF__n_estimators=1000, score=0.9249784971740855, total=   2.9s\n",
      "[CV] RF__max_features=0.75, RF__min_samples_leaf=50, RF__n_estimators=1000 \n",
      "[CV]  RF__max_features=0.75, RF__min_samples_leaf=50, RF__n_estimators=1000, score=0.9217607406766795, total=   2.8s\n",
      "[CV] RF__max_features=0.75, RF__min_samples_leaf=50, RF__n_estimators=1500 \n",
      "[CV]  RF__max_features=0.75, RF__min_samples_leaf=50, RF__n_estimators=1500, score=0.9193423433239898, total=   4.0s\n",
      "[CV] RF__max_features=0.75, RF__min_samples_leaf=50, RF__n_estimators=1500 \n",
      "[CV]  RF__max_features=0.75, RF__min_samples_leaf=50, RF__n_estimators=1500, score=0.9225221437179405, total=   4.2s\n",
      "[CV] RF__max_features=0.75, RF__min_samples_leaf=50, RF__n_estimators=1500 \n",
      "[CV]  RF__max_features=0.75, RF__min_samples_leaf=50, RF__n_estimators=1500, score=0.9209534556658449, total=   4.0s\n",
      "[CV] RF__max_features=0.75, RF__min_samples_leaf=50, RF__n_estimators=1500 \n",
      "[CV]  RF__max_features=0.75, RF__min_samples_leaf=50, RF__n_estimators=1500, score=0.9226856610292128, total=   4.0s\n",
      "[CV] RF__max_features=0.75, RF__min_samples_leaf=50, RF__n_estimators=1500 \n",
      "[CV]  RF__max_features=0.75, RF__min_samples_leaf=50, RF__n_estimators=1500, score=0.9206088385367119, total=   4.1s\n",
      "[CV] RF__max_features=0.75, RF__min_samples_leaf=100, RF__n_estimators=150 \n",
      "[CV]  RF__max_features=0.75, RF__min_samples_leaf=100, RF__n_estimators=150, score=0.905841726067387, total=   0.6s\n",
      "[CV] RF__max_features=0.75, RF__min_samples_leaf=100, RF__n_estimators=150 \n",
      "[CV]  RF__max_features=0.75, RF__min_samples_leaf=100, RF__n_estimators=150, score=0.9127518346282946, total=   0.5s\n",
      "[CV] RF__max_features=0.75, RF__min_samples_leaf=100, RF__n_estimators=150 \n",
      "[CV]  RF__max_features=0.75, RF__min_samples_leaf=100, RF__n_estimators=150, score=0.9063165599311911, total=   0.5s\n",
      "[CV] RF__max_features=0.75, RF__min_samples_leaf=100, RF__n_estimators=150 \n",
      "[CV]  RF__max_features=0.75, RF__min_samples_leaf=100, RF__n_estimators=150, score=0.9125026653920703, total=   0.5s\n",
      "[CV] RF__max_features=0.75, RF__min_samples_leaf=100, RF__n_estimators=150 \n",
      "[CV]  RF__max_features=0.75, RF__min_samples_leaf=100, RF__n_estimators=150, score=0.908984116002191, total=   0.5s\n",
      "[CV] RF__max_features=0.75, RF__min_samples_leaf=100, RF__n_estimators=500 \n",
      "[CV]  RF__max_features=0.75, RF__min_samples_leaf=100, RF__n_estimators=500, score=0.9089836879016508, total=   1.2s\n",
      "[CV] RF__max_features=0.75, RF__min_samples_leaf=100, RF__n_estimators=500 \n",
      "[CV]  RF__max_features=0.75, RF__min_samples_leaf=100, RF__n_estimators=500, score=0.912978243213133, total=   1.2s\n",
      "[CV] RF__max_features=0.75, RF__min_samples_leaf=100, RF__n_estimators=500 \n",
      "[CV]  RF__max_features=0.75, RF__min_samples_leaf=100, RF__n_estimators=500, score=0.9092658611791934, total=   1.3s\n",
      "[CV] RF__max_features=0.75, RF__min_samples_leaf=100, RF__n_estimators=500 \n",
      "[CV]  RF__max_features=0.75, RF__min_samples_leaf=100, RF__n_estimators=500, score=0.9117857048734148, total=   1.2s\n",
      "[CV] RF__max_features=0.75, RF__min_samples_leaf=100, RF__n_estimators=500 \n",
      "[CV]  RF__max_features=0.75, RF__min_samples_leaf=100, RF__n_estimators=500, score=0.909215937809296, total=   1.3s\n",
      "[CV] RF__max_features=0.75, RF__min_samples_leaf=100, RF__n_estimators=1000 \n",
      "[CV]  RF__max_features=0.75, RF__min_samples_leaf=100, RF__n_estimators=1000, score=0.9057519215180082, total=   2.5s\n",
      "[CV] RF__max_features=0.75, RF__min_samples_leaf=100, RF__n_estimators=1000 \n",
      "[CV]  RF__max_features=0.75, RF__min_samples_leaf=100, RF__n_estimators=1000, score=0.9107488973063368, total=   2.4s\n",
      "[CV] RF__max_features=0.75, RF__min_samples_leaf=100, RF__n_estimators=1000 \n",
      "[CV]  RF__max_features=0.75, RF__min_samples_leaf=100, RF__n_estimators=1000, score=0.9104410295481173, total=   2.3s\n",
      "[CV] RF__max_features=0.75, RF__min_samples_leaf=100, RF__n_estimators=1000 \n",
      "[CV]  RF__max_features=0.75, RF__min_samples_leaf=100, RF__n_estimators=1000, score=0.9131046247247759, total=   2.4s\n",
      "[CV] RF__max_features=0.75, RF__min_samples_leaf=100, RF__n_estimators=1000 \n",
      "[CV]  RF__max_features=0.75, RF__min_samples_leaf=100, RF__n_estimators=1000, score=0.9097024032594385, total=   2.4s\n",
      "[CV] RF__max_features=0.75, RF__min_samples_leaf=100, RF__n_estimators=1500 \n",
      "[CV]  RF__max_features=0.75, RF__min_samples_leaf=100, RF__n_estimators=1500, score=0.9041917171468017, total=   3.4s\n",
      "[CV] RF__max_features=0.75, RF__min_samples_leaf=100, RF__n_estimators=1500 \n",
      "[CV]  RF__max_features=0.75, RF__min_samples_leaf=100, RF__n_estimators=1500, score=0.9124403730830141, total=   3.3s\n",
      "[CV] RF__max_features=0.75, RF__min_samples_leaf=100, RF__n_estimators=1500 \n",
      "[CV]  RF__max_features=0.75, RF__min_samples_leaf=100, RF__n_estimators=1500, score=0.9068454455936578, total=   3.5s\n",
      "[CV] RF__max_features=0.75, RF__min_samples_leaf=100, RF__n_estimators=1500 \n",
      "[CV]  RF__max_features=0.75, RF__min_samples_leaf=100, RF__n_estimators=1500, score=0.9132004590464005, total=   3.4s\n",
      "[CV] RF__max_features=0.75, RF__min_samples_leaf=100, RF__n_estimators=1500 \n",
      "[CV]  RF__max_features=0.75, RF__min_samples_leaf=100, RF__n_estimators=1500, score=0.9091030297788925, total=   3.3s\n",
      "[CV] RF__max_features=0.75, RF__min_samples_leaf=500, RF__n_estimators=150 \n",
      "[CV]  RF__max_features=0.75, RF__min_samples_leaf=500, RF__n_estimators=150, score=0.8591403669054669, total=   0.4s\n",
      "[CV] RF__max_features=0.75, RF__min_samples_leaf=500, RF__n_estimators=150 \n",
      "[CV]  RF__max_features=0.75, RF__min_samples_leaf=500, RF__n_estimators=150, score=0.8637601314846891, total=   0.4s\n",
      "[CV] RF__max_features=0.75, RF__min_samples_leaf=500, RF__n_estimators=150 \n",
      "[CV]  RF__max_features=0.75, RF__min_samples_leaf=500, RF__n_estimators=150, score=0.8529949423436762, total=   0.4s\n",
      "[CV] RF__max_features=0.75, RF__min_samples_leaf=500, RF__n_estimators=150 \n",
      "[CV]  RF__max_features=0.75, RF__min_samples_leaf=500, RF__n_estimators=150, score=0.850468510039843, total=   0.4s\n",
      "[CV] RF__max_features=0.75, RF__min_samples_leaf=500, RF__n_estimators=150 \n"
     ]
    },
    {
     "name": "stdout",
     "output_type": "stream",
     "text": [
      "[CV]  RF__max_features=0.75, RF__min_samples_leaf=500, RF__n_estimators=150, score=0.8549516177078228, total=   0.4s\n",
      "[CV] RF__max_features=0.75, RF__min_samples_leaf=500, RF__n_estimators=500 \n",
      "[CV]  RF__max_features=0.75, RF__min_samples_leaf=500, RF__n_estimators=500, score=0.8612938799995689, total=   0.6s\n",
      "[CV] RF__max_features=0.75, RF__min_samples_leaf=500, RF__n_estimators=500 \n",
      "[CV]  RF__max_features=0.75, RF__min_samples_leaf=500, RF__n_estimators=500, score=0.8628257468488477, total=   0.6s\n",
      "[CV] RF__max_features=0.75, RF__min_samples_leaf=500, RF__n_estimators=500 \n",
      "[CV]  RF__max_features=0.75, RF__min_samples_leaf=500, RF__n_estimators=500, score=0.8549110298116614, total=   0.6s\n",
      "[CV] RF__max_features=0.75, RF__min_samples_leaf=500, RF__n_estimators=500 \n",
      "[CV]  RF__max_features=0.75, RF__min_samples_leaf=500, RF__n_estimators=500, score=0.8526487408568068, total=   0.8s\n",
      "[CV] RF__max_features=0.75, RF__min_samples_leaf=500, RF__n_estimators=500 \n",
      "[CV]  RF__max_features=0.75, RF__min_samples_leaf=500, RF__n_estimators=500, score=0.8545276120191799, total=   0.7s\n",
      "[CV] RF__max_features=0.75, RF__min_samples_leaf=500, RF__n_estimators=1000 \n",
      "[CV]  RF__max_features=0.75, RF__min_samples_leaf=500, RF__n_estimators=1000, score=0.8623679424101386, total=   1.2s\n",
      "[CV] RF__max_features=0.75, RF__min_samples_leaf=500, RF__n_estimators=1000 \n",
      "[CV]  RF__max_features=0.75, RF__min_samples_leaf=500, RF__n_estimators=1000, score=0.8634456751168578, total=   1.2s\n",
      "[CV] RF__max_features=0.75, RF__min_samples_leaf=500, RF__n_estimators=1000 \n",
      "[CV]  RF__max_features=0.75, RF__min_samples_leaf=500, RF__n_estimators=1000, score=0.8516969862501709, total=   1.2s\n",
      "[CV] RF__max_features=0.75, RF__min_samples_leaf=500, RF__n_estimators=1000 \n",
      "[CV]  RF__max_features=0.75, RF__min_samples_leaf=500, RF__n_estimators=1000, score=0.8566330527783568, total=   1.3s\n",
      "[CV] RF__max_features=0.75, RF__min_samples_leaf=500, RF__n_estimators=1000 \n",
      "[CV]  RF__max_features=0.75, RF__min_samples_leaf=500, RF__n_estimators=1000, score=0.851264690055445, total=   1.2s\n",
      "[CV] RF__max_features=0.75, RF__min_samples_leaf=500, RF__n_estimators=1500 \n",
      "[CV]  RF__max_features=0.75, RF__min_samples_leaf=500, RF__n_estimators=1500, score=0.8630474635004377, total=   1.8s\n",
      "[CV] RF__max_features=0.75, RF__min_samples_leaf=500, RF__n_estimators=1500 \n",
      "[CV]  RF__max_features=0.75, RF__min_samples_leaf=500, RF__n_estimators=1500, score=0.8618260750813993, total=   1.7s\n",
      "[CV] RF__max_features=0.75, RF__min_samples_leaf=500, RF__n_estimators=1500 \n",
      "[CV]  RF__max_features=0.75, RF__min_samples_leaf=500, RF__n_estimators=1500, score=0.8562293506985124, total=   1.8s\n",
      "[CV] RF__max_features=0.75, RF__min_samples_leaf=500, RF__n_estimators=1500 \n",
      "[CV]  RF__max_features=0.75, RF__min_samples_leaf=500, RF__n_estimators=1500, score=0.8549715252271872, total=   1.8s\n",
      "[CV] RF__max_features=0.75, RF__min_samples_leaf=500, RF__n_estimators=1500 \n",
      "[CV]  RF__max_features=0.75, RF__min_samples_leaf=500, RF__n_estimators=1500, score=0.8568548387096775, total=   1.7s\n",
      "[CV] RF__max_features=None, RF__min_samples_leaf=10, RF__n_estimators=150 \n",
      "[CV]  RF__max_features=None, RF__min_samples_leaf=10, RF__n_estimators=150, score=0.9307223758212626, total=   0.9s\n",
      "[CV] RF__max_features=None, RF__min_samples_leaf=10, RF__n_estimators=150 \n",
      "[CV]  RF__max_features=None, RF__min_samples_leaf=10, RF__n_estimators=150, score=0.9289646059891659, total=   0.9s\n",
      "[CV] RF__max_features=None, RF__min_samples_leaf=10, RF__n_estimators=150 \n",
      "[CV]  RF__max_features=None, RF__min_samples_leaf=10, RF__n_estimators=150, score=0.9311741860671272, total=   0.9s\n",
      "[CV] RF__max_features=None, RF__min_samples_leaf=10, RF__n_estimators=150 \n",
      "[CV]  RF__max_features=None, RF__min_samples_leaf=10, RF__n_estimators=150, score=0.9355046994755466, total=   0.9s\n",
      "[CV] RF__max_features=None, RF__min_samples_leaf=10, RF__n_estimators=150 \n",
      "[CV]  RF__max_features=None, RF__min_samples_leaf=10, RF__n_estimators=150, score=0.9375138132164856, total=   0.9s\n",
      "[CV] RF__max_features=None, RF__min_samples_leaf=10, RF__n_estimators=500 \n",
      "[CV]  RF__max_features=None, RF__min_samples_leaf=10, RF__n_estimators=500, score=0.928364707051573, total=   2.4s\n",
      "[CV] RF__max_features=None, RF__min_samples_leaf=10, RF__n_estimators=500 \n",
      "[CV]  RF__max_features=None, RF__min_samples_leaf=10, RF__n_estimators=500, score=0.9349314904393284, total=   2.5s\n",
      "[CV] RF__max_features=None, RF__min_samples_leaf=10, RF__n_estimators=500 \n",
      "[CV]  RF__max_features=None, RF__min_samples_leaf=10, RF__n_estimators=500, score=0.9349452666230621, total=   2.4s\n",
      "[CV] RF__max_features=None, RF__min_samples_leaf=10, RF__n_estimators=500 \n",
      "[CV]  RF__max_features=None, RF__min_samples_leaf=10, RF__n_estimators=500, score=0.9358856409040052, total=   2.5s\n",
      "[CV] RF__max_features=None, RF__min_samples_leaf=10, RF__n_estimators=500 \n",
      "[CV]  RF__max_features=None, RF__min_samples_leaf=10, RF__n_estimators=500, score=0.9350766813687336, total=   2.5s\n",
      "[CV] RF__max_features=None, RF__min_samples_leaf=10, RF__n_estimators=1000 \n",
      "[CV]  RF__max_features=None, RF__min_samples_leaf=10, RF__n_estimators=1000, score=0.9313390337269964, total=   4.7s\n",
      "[CV] RF__max_features=None, RF__min_samples_leaf=10, RF__n_estimators=1000 \n",
      "[CV]  RF__max_features=None, RF__min_samples_leaf=10, RF__n_estimators=1000, score=0.9333789744290072, total=   4.8s\n",
      "[CV] RF__max_features=None, RF__min_samples_leaf=10, RF__n_estimators=1000 \n",
      "[CV]  RF__max_features=None, RF__min_samples_leaf=10, RF__n_estimators=1000, score=0.932179248515167, total=   4.8s\n",
      "[CV] RF__max_features=None, RF__min_samples_leaf=10, RF__n_estimators=1000 \n",
      "[CV]  RF__max_features=None, RF__min_samples_leaf=10, RF__n_estimators=1000, score=0.9349368811199199, total=   4.8s\n",
      "[CV] RF__max_features=None, RF__min_samples_leaf=10, RF__n_estimators=1000 \n",
      "[CV]  RF__max_features=None, RF__min_samples_leaf=10, RF__n_estimators=1000, score=0.9352064054887717, total=   4.5s\n",
      "[CV] RF__max_features=None, RF__min_samples_leaf=10, RF__n_estimators=1500 \n",
      "[CV]  RF__max_features=None, RF__min_samples_leaf=10, RF__n_estimators=1500, score=0.9287963675855867, total=   7.0s\n",
      "[CV] RF__max_features=None, RF__min_samples_leaf=10, RF__n_estimators=1500 \n",
      "[CV]  RF__max_features=None, RF__min_samples_leaf=10, RF__n_estimators=1500, score=0.9335969975107035, total=   6.9s\n",
      "[CV] RF__max_features=None, RF__min_samples_leaf=10, RF__n_estimators=1500 \n",
      "[CV]  RF__max_features=None, RF__min_samples_leaf=10, RF__n_estimators=1500, score=0.9364103338149008, total=   7.2s\n",
      "[CV] RF__max_features=None, RF__min_samples_leaf=10, RF__n_estimators=1500 \n",
      "[CV]  RF__max_features=None, RF__min_samples_leaf=10, RF__n_estimators=1500, score=0.9378813906518411, total=   7.2s\n",
      "[CV] RF__max_features=None, RF__min_samples_leaf=10, RF__n_estimators=1500 \n",
      "[CV]  RF__max_features=None, RF__min_samples_leaf=10, RF__n_estimators=1500, score=0.9353901813254923, total=   7.3s\n",
      "[CV] RF__max_features=None, RF__min_samples_leaf=50, RF__n_estimators=150 \n",
      "[CV]  RF__max_features=None, RF__min_samples_leaf=50, RF__n_estimators=150, score=0.9156388037076106, total=   0.7s\n",
      "[CV] RF__max_features=None, RF__min_samples_leaf=50, RF__n_estimators=150 \n",
      "[CV]  RF__max_features=None, RF__min_samples_leaf=50, RF__n_estimators=150, score=0.9247413072280641, total=   0.6s\n",
      "[CV] RF__max_features=None, RF__min_samples_leaf=50, RF__n_estimators=150 \n",
      "[CV]  RF__max_features=None, RF__min_samples_leaf=50, RF__n_estimators=150, score=0.916892476286995, total=   0.7s\n",
      "[CV] RF__max_features=None, RF__min_samples_leaf=50, RF__n_estimators=150 \n",
      "[CV]  RF__max_features=None, RF__min_samples_leaf=50, RF__n_estimators=150, score=0.9226425355844815, total=   0.7s\n",
      "[CV] RF__max_features=None, RF__min_samples_leaf=50, RF__n_estimators=150 \n",
      "[CV]  RF__max_features=None, RF__min_samples_leaf=50, RF__n_estimators=150, score=0.9181993331219312, total=   0.7s\n",
      "[CV] RF__max_features=None, RF__min_samples_leaf=50, RF__n_estimators=500 \n",
      "[CV]  RF__max_features=None, RF__min_samples_leaf=50, RF__n_estimators=500, score=0.9174528556050612, total=   1.8s\n",
      "[CV] RF__max_features=None, RF__min_samples_leaf=50, RF__n_estimators=500 \n",
      "[CV]  RF__max_features=None, RF__min_samples_leaf=50, RF__n_estimators=500, score=0.9225868318850372, total=   1.9s\n",
      "[CV] RF__max_features=None, RF__min_samples_leaf=50, RF__n_estimators=500 \n"
     ]
    },
    {
     "name": "stdout",
     "output_type": "stream",
     "text": [
      "[CV]  RF__max_features=None, RF__min_samples_leaf=50, RF__n_estimators=500, score=0.9176962866596229, total=   1.8s\n",
      "[CV] RF__max_features=None, RF__min_samples_leaf=50, RF__n_estimators=500 \n",
      "[CV]  RF__max_features=None, RF__min_samples_leaf=50, RF__n_estimators=500, score=0.9231229051216256, total=   1.8s\n",
      "[CV] RF__max_features=None, RF__min_samples_leaf=50, RF__n_estimators=500 \n",
      "[CV]  RF__max_features=None, RF__min_samples_leaf=50, RF__n_estimators=500, score=0.9201920397436266, total=   1.8s\n",
      "[CV] RF__max_features=None, RF__min_samples_leaf=50, RF__n_estimators=1000 \n",
      "[CV]  RF__max_features=None, RF__min_samples_leaf=50, RF__n_estimators=1000, score=0.9165512179292987, total=   3.5s\n",
      "[CV] RF__max_features=None, RF__min_samples_leaf=50, RF__n_estimators=1000 \n",
      "[CV]  RF__max_features=None, RF__min_samples_leaf=50, RF__n_estimators=1000, score=0.9160940565949586, total=   3.4s\n",
      "[CV] RF__max_features=None, RF__min_samples_leaf=50, RF__n_estimators=1000 \n",
      "[CV]  RF__max_features=None, RF__min_samples_leaf=50, RF__n_estimators=1000, score=0.9201891769508872, total=   3.5s\n",
      "[CV] RF__max_features=None, RF__min_samples_leaf=50, RF__n_estimators=1000 \n",
      "[CV]  RF__max_features=None, RF__min_samples_leaf=50, RF__n_estimators=1000, score=0.9222172707822716, total=   3.6s\n",
      "[CV] RF__max_features=None, RF__min_samples_leaf=50, RF__n_estimators=1000 \n",
      "[CV]  RF__max_features=None, RF__min_samples_leaf=50, RF__n_estimators=1000, score=0.9181933273756331, total=   3.6s\n",
      "[CV] RF__max_features=None, RF__min_samples_leaf=50, RF__n_estimators=1500 \n",
      "[CV]  RF__max_features=None, RF__min_samples_leaf=50, RF__n_estimators=1500, score=0.9181617128481573, total=   5.0s\n",
      "[CV] RF__max_features=None, RF__min_samples_leaf=50, RF__n_estimators=1500 \n",
      "[CV]  RF__max_features=None, RF__min_samples_leaf=50, RF__n_estimators=1500, score=0.9239261165297434, total=   5.0s\n",
      "[CV] RF__max_features=None, RF__min_samples_leaf=50, RF__n_estimators=1500 \n",
      "[CV]  RF__max_features=None, RF__min_samples_leaf=50, RF__n_estimators=1500, score=0.9238224956694865, total=   5.0s\n",
      "[CV] RF__max_features=None, RF__min_samples_leaf=50, RF__n_estimators=1500 \n",
      "[CV]  RF__max_features=None, RF__min_samples_leaf=50, RF__n_estimators=1500, score=0.9169966961117619, total=   5.0s\n",
      "[CV] RF__max_features=None, RF__min_samples_leaf=50, RF__n_estimators=1500 \n",
      "[CV]  RF__max_features=None, RF__min_samples_leaf=50, RF__n_estimators=1500, score=0.9196611317708784, total=   5.1s\n",
      "[CV] RF__max_features=None, RF__min_samples_leaf=100, RF__n_estimators=150 \n",
      "[CV]  RF__max_features=None, RF__min_samples_leaf=100, RF__n_estimators=150, score=0.9000846557552145, total=   0.6s\n",
      "[CV] RF__max_features=None, RF__min_samples_leaf=100, RF__n_estimators=150 \n",
      "[CV]  RF__max_features=None, RF__min_samples_leaf=100, RF__n_estimators=150, score=0.9056954337341605, total=   0.6s\n",
      "[CV] RF__max_features=None, RF__min_samples_leaf=100, RF__n_estimators=150 \n",
      "[CV]  RF__max_features=None, RF__min_samples_leaf=100, RF__n_estimators=150, score=0.9001777726666138, total=   0.6s\n",
      "[CV] RF__max_features=None, RF__min_samples_leaf=100, RF__n_estimators=150 \n",
      "[CV]  RF__max_features=None, RF__min_samples_leaf=100, RF__n_estimators=150, score=0.9074018836235916, total=   0.6s\n",
      "[CV] RF__max_features=None, RF__min_samples_leaf=100, RF__n_estimators=150 \n",
      "[CV]  RF__max_features=None, RF__min_samples_leaf=100, RF__n_estimators=150, score=0.9047939068100359, total=   0.6s\n",
      "[CV] RF__max_features=None, RF__min_samples_leaf=100, RF__n_estimators=500 \n",
      "[CV]  RF__max_features=None, RF__min_samples_leaf=100, RF__n_estimators=500, score=0.9040121080480441, total=   1.6s\n",
      "[CV] RF__max_features=None, RF__min_samples_leaf=100, RF__n_estimators=500 \n",
      "[CV]  RF__max_features=None, RF__min_samples_leaf=100, RF__n_estimators=500, score=0.9080805104135969, total=   1.6s\n",
      "[CV] RF__max_features=None, RF__min_samples_leaf=100, RF__n_estimators=500 \n",
      "[CV]  RF__max_features=None, RF__min_samples_leaf=100, RF__n_estimators=500, score=0.9049389415578348, total=   1.6s\n",
      "[CV] RF__max_features=None, RF__min_samples_leaf=100, RF__n_estimators=500 \n",
      "[CV]  RF__max_features=None, RF__min_samples_leaf=100, RF__n_estimators=500, score=0.9050371717375002, total=   1.6s\n",
      "[CV] RF__max_features=None, RF__min_samples_leaf=100, RF__n_estimators=500 \n",
      "[CV]  RF__max_features=None, RF__min_samples_leaf=100, RF__n_estimators=500, score=0.9060701278983733, total=   1.4s\n",
      "[CV] RF__max_features=None, RF__min_samples_leaf=100, RF__n_estimators=1000 \n",
      "[CV]  RF__max_features=None, RF__min_samples_leaf=100, RF__n_estimators=1000, score=0.9028961368477646, total=   2.8s\n",
      "[CV] RF__max_features=None, RF__min_samples_leaf=100, RF__n_estimators=1000 \n",
      "[CV]  RF__max_features=None, RF__min_samples_leaf=100, RF__n_estimators=1000, score=0.9091173179806751, total=   2.8s\n",
      "[CV] RF__max_features=None, RF__min_samples_leaf=100, RF__n_estimators=1000 \n",
      "[CV]  RF__max_features=None, RF__min_samples_leaf=100, RF__n_estimators=1000, score=0.9052294393452599, total=   2.9s\n",
      "[CV] RF__max_features=None, RF__min_samples_leaf=100, RF__n_estimators=1000 \n",
      "[CV]  RF__max_features=None, RF__min_samples_leaf=100, RF__n_estimators=1000, score=0.9032510595682185, total=   2.9s\n",
      "[CV] RF__max_features=None, RF__min_samples_leaf=100, RF__n_estimators=1000 \n",
      "[CV]  RF__max_features=None, RF__min_samples_leaf=100, RF__n_estimators=1000, score=0.9045698924731184, total=   2.8s\n",
      "[CV] RF__max_features=None, RF__min_samples_leaf=100, RF__n_estimators=1500 \n",
      "[CV]  RF__max_features=None, RF__min_samples_leaf=100, RF__n_estimators=1500, score=0.8999170205963741, total=   4.3s\n",
      "[CV] RF__max_features=None, RF__min_samples_leaf=100, RF__n_estimators=1500 \n",
      "[CV]  RF__max_features=None, RF__min_samples_leaf=100, RF__n_estimators=1500, score=0.9089855457884409, total=   4.2s\n",
      "[CV] RF__max_features=None, RF__min_samples_leaf=100, RF__n_estimators=1500 \n",
      "[CV]  RF__max_features=None, RF__min_samples_leaf=100, RF__n_estimators=1500, score=0.8967744563199141, total=   4.0s\n",
      "[CV] RF__max_features=None, RF__min_samples_leaf=100, RF__n_estimators=1500 \n",
      "[CV]  RF__max_features=None, RF__min_samples_leaf=100, RF__n_estimators=1500, score=0.9058206173167828, total=   4.2s\n",
      "[CV] RF__max_features=None, RF__min_samples_leaf=100, RF__n_estimators=1500 \n",
      "[CV]  RF__max_features=None, RF__min_samples_leaf=100, RF__n_estimators=1500, score=0.9061506048987672, total=   4.2s\n",
      "[CV] RF__max_features=None, RF__min_samples_leaf=500, RF__n_estimators=150 \n",
      "[CV]  RF__max_features=None, RF__min_samples_leaf=500, RF__n_estimators=150, score=0.8541592078999265, total=   0.5s\n",
      "[CV] RF__max_features=None, RF__min_samples_leaf=500, RF__n_estimators=150 \n",
      "[CV]  RF__max_features=None, RF__min_samples_leaf=500, RF__n_estimators=150, score=0.8533824723817465, total=   0.4s\n",
      "[CV] RF__max_features=None, RF__min_samples_leaf=500, RF__n_estimators=150 \n",
      "[CV]  RF__max_features=None, RF__min_samples_leaf=500, RF__n_estimators=150, score=0.8495161564686969, total=   0.4s\n",
      "[CV] RF__max_features=None, RF__min_samples_leaf=500, RF__n_estimators=150 \n",
      "[CV]  RF__max_features=None, RF__min_samples_leaf=500, RF__n_estimators=150, score=0.8485877614779569, total=   0.4s\n",
      "[CV] RF__max_features=None, RF__min_samples_leaf=500, RF__n_estimators=150 \n",
      "[CV]  RF__max_features=None, RF__min_samples_leaf=500, RF__n_estimators=150, score=0.8440842197814868, total=   0.4s\n",
      "[CV] RF__max_features=None, RF__min_samples_leaf=500, RF__n_estimators=500 \n",
      "[CV]  RF__max_features=None, RF__min_samples_leaf=500, RF__n_estimators=500, score=0.8531282516730586, total=   0.7s\n",
      "[CV] RF__max_features=None, RF__min_samples_leaf=500, RF__n_estimators=500 \n",
      "[CV]  RF__max_features=None, RF__min_samples_leaf=500, RF__n_estimators=500, score=0.8600333743025057, total=   0.7s\n",
      "[CV] RF__max_features=None, RF__min_samples_leaf=500, RF__n_estimators=500 \n",
      "[CV]  RF__max_features=None, RF__min_samples_leaf=500, RF__n_estimators=500, score=0.8507943467333673, total=   0.8s\n",
      "[CV] RF__max_features=None, RF__min_samples_leaf=500, RF__n_estimators=500 \n",
      "[CV]  RF__max_features=None, RF__min_samples_leaf=500, RF__n_estimators=500, score=0.8463955513707901, total=   0.8s\n",
      "[CV] RF__max_features=None, RF__min_samples_leaf=500, RF__n_estimators=500 \n",
      "[CV]  RF__max_features=None, RF__min_samples_leaf=500, RF__n_estimators=500, score=0.8529631151085358, total=   0.8s\n",
      "[CV] RF__max_features=None, RF__min_samples_leaf=500, RF__n_estimators=1000 \n"
     ]
    },
    {
     "name": "stdout",
     "output_type": "stream",
     "text": [
      "[CV]  RF__max_features=None, RF__min_samples_leaf=500, RF__n_estimators=1000, score=0.8595379017107168, total=   1.4s\n",
      "[CV] RF__max_features=None, RF__min_samples_leaf=500, RF__n_estimators=1000 \n",
      "[CV]  RF__max_features=None, RF__min_samples_leaf=500, RF__n_estimators=1000, score=0.8630982757009682, total=   1.4s\n",
      "[CV] RF__max_features=None, RF__min_samples_leaf=500, RF__n_estimators=1000 \n",
      "[CV]  RF__max_features=None, RF__min_samples_leaf=500, RF__n_estimators=1000, score=0.8505655422904882, total=   1.5s\n",
      "[CV] RF__max_features=None, RF__min_samples_leaf=500, RF__n_estimators=1000 \n",
      "[CV]  RF__max_features=None, RF__min_samples_leaf=500, RF__n_estimators=1000, score=0.8500779851792222, total=   1.3s\n",
      "[CV] RF__max_features=None, RF__min_samples_leaf=500, RF__n_estimators=1000 \n",
      "[CV]  RF__max_features=None, RF__min_samples_leaf=500, RF__n_estimators=1000, score=0.8515769888629441, total=   1.4s\n",
      "[CV] RF__max_features=None, RF__min_samples_leaf=500, RF__n_estimators=1500 \n",
      "[CV]  RF__max_features=None, RF__min_samples_leaf=500, RF__n_estimators=1500, score=0.8546291850416752, total=   2.0s\n",
      "[CV] RF__max_features=None, RF__min_samples_leaf=500, RF__n_estimators=1500 \n",
      "[CV]  RF__max_features=None, RF__min_samples_leaf=500, RF__n_estimators=1500, score=0.8651066037035174, total=   2.0s\n",
      "[CV] RF__max_features=None, RF__min_samples_leaf=500, RF__n_estimators=1500 \n",
      "[CV]  RF__max_features=None, RF__min_samples_leaf=500, RF__n_estimators=1500, score=0.8514358377237432, total=   2.0s\n",
      "[CV] RF__max_features=None, RF__min_samples_leaf=500, RF__n_estimators=1500 \n",
      "[CV]  RF__max_features=None, RF__min_samples_leaf=500, RF__n_estimators=1500, score=0.8504247856306018, total=   2.1s\n",
      "[CV] RF__max_features=None, RF__min_samples_leaf=500, RF__n_estimators=1500 \n",
      "[CV]  RF__max_features=None, RF__min_samples_leaf=500, RF__n_estimators=1500, score=0.8470426504079103, total=   2.1s\n"
     ]
    },
    {
     "name": "stderr",
     "output_type": "stream",
     "text": [
      "[Parallel(n_jobs=1)]: Done 320 out of 320 | elapsed: 11.1min finished\n"
     ]
    },
    {
     "name": "stdout",
     "output_type": "stream",
     "text": [
      "0.9373919491069976\n",
      "{'RF__max_features': 0.5, 'RF__min_samples_leaf': 10, 'RF__n_estimators': 1500}\n"
     ]
    }
   ],
   "source": [
    "rf_grid_search_results = complete_grid_search(X_train, y_train, rf_steps_list, rf_parameters)"
   ]
  },
  {
   "cell_type": "code",
   "execution_count": 50,
   "metadata": {},
   "outputs": [
    {
     "name": "stdout",
     "output_type": "stream",
     "text": [
      "Hyperparameters: {'RF__max_features': 0.25, 'RF__min_samples_leaf': 10, 'RF__n_estimators': 1000}\n",
      "Tranformations/Resampling: [('scaler', StandardScaler(copy=True, with_mean=True, with_std=True)), ('ros', RandomOverSampler(random_state=None, ratio=None, return_indices=False,\n",
      "         sampling_strategy='auto')), ('RF', RandomForestClassifier(bootstrap=True, class_weight=None, criterion='gini',\n",
      "            max_depth=None, max_features='auto', max_leaf_nodes=None,\n",
      "            min_impurity_decrease=0.0, min_impurity_split=None,\n",
      "            min_samples_leaf=1, min_samples_split=2,\n",
      "            min_weight_fraction_leaf=0.0, n_estimators='warn', n_jobs=-1,\n",
      "            oob_score=False, random_state=None, verbose=0,\n",
      "            warm_start=False))]\n"
     ]
    }
   ],
   "source": [
    "rf_best_model = best_model_finder(rf_grid_search_results, rf_steps_list)"
   ]
  },
  {
   "cell_type": "code",
   "execution_count": 51,
   "metadata": {},
   "outputs": [
    {
     "name": "stdout",
     "output_type": "stream",
     "text": [
      "ROC AUC Score on Unseen Data: 0.9415140125686405\n"
     ]
    }
   ],
   "source": [
    "rf_fpr, rf_tpr, rf_val_score = roc_curve_calculator(rf_best_model, X_val, y_val)"
   ]
  },
  {
   "cell_type": "code",
   "execution_count": null,
   "metadata": {},
   "outputs": [],
   "source": []
  }
 ],
 "metadata": {
  "kernelspec": {
   "display_name": "Python 3",
   "language": "python",
   "name": "python3"
  },
  "language_info": {
   "codemirror_mode": {
    "name": "ipython",
    "version": 3
   },
   "file_extension": ".py",
   "mimetype": "text/x-python",
   "name": "python",
   "nbconvert_exporter": "python",
   "pygments_lexer": "ipython3",
   "version": "3.7.2"
  }
 },
 "nbformat": 4,
 "nbformat_minor": 2
}
